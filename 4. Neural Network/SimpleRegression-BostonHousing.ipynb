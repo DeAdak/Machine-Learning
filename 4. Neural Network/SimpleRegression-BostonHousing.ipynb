{
 "cells": [
  {
   "cell_type": "markdown",
   "metadata": {
    "id": "9zu21feszoYn"
   },
   "source": [
    "#  Keras for Simple Regression"
   ]
  },
  {
   "cell_type": "code",
   "execution_count": 1,
   "metadata": {
    "colab": {
     "base_uri": "https://localhost:8080/"
    },
    "executionInfo": {
     "elapsed": 23151,
     "status": "ok",
     "timestamp": 1644207401058,
     "user": {
      "displayName": "Sanjay Sane",
      "photoUrl": "https://lh3.googleusercontent.com/a-/AOh14GjJl7nlouqFRBHjWKoRQtpGZ1O7Nhx1ylIkeFUEvg=s64",
      "userId": "14183293780199581235"
     },
     "user_tz": -330
    },
    "id": "6bCAH_W-ztGs",
    "outputId": "3c74b7cc-0551-47bd-c551-017829851cf6"
   },
   "outputs": [
    {
     "name": "stdout",
     "output_type": "stream",
     "text": [
      "Mounted at /content/drive\n"
     ]
    }
   ],
   "source": [
    "from google.colab import drive\n",
    "drive.mount('/content/drive')"
   ]
  },
  {
   "cell_type": "markdown",
   "metadata": {
    "id": "MLcRRO3VzoYs"
   },
   "source": [
    "This notebook demonstrates the use of keras functions for simple regression problem, *Boston Housing*. The Boston Housing Dataset is a derived from information collected by the U.S. Census Service concerning housing in the area of Boston MA."
   ]
  },
  {
   "cell_type": "markdown",
   "metadata": {
    "id": "MIvyjPw0zoYt"
   },
   "source": [
    "Necessary Imports "
   ]
  },
  {
   "cell_type": "code",
   "execution_count": 1,
   "metadata": {
    "executionInfo": {
     "elapsed": 2851,
     "status": "ok",
     "timestamp": 1644207403906,
     "user": {
      "displayName": "Sanjay Sane",
      "photoUrl": "https://lh3.googleusercontent.com/a-/AOh14GjJl7nlouqFRBHjWKoRQtpGZ1O7Nhx1ylIkeFUEvg=s64",
      "userId": "14183293780199581235"
     },
     "user_tz": -330
    },
    "id": "76aA1Nl4zoYu"
   },
   "outputs": [],
   "source": [
    "import pandas as pd\n",
    "import tensorflow as tf\n",
    "import numpy as np"
   ]
  },
  {
   "cell_type": "markdown",
   "metadata": {
    "id": "NZLf1shyzoYx"
   },
   "source": [
    "Importing the file into **pandas** dataframe"
   ]
  },
  {
   "cell_type": "code",
   "execution_count": 2,
   "metadata": {
    "colab": {
     "base_uri": "https://localhost:8080/",
     "height": 206
    },
    "executionInfo": {
     "elapsed": 26,
     "status": "ok",
     "timestamp": 1644207403907,
     "user": {
      "displayName": "Sanjay Sane",
      "photoUrl": "https://lh3.googleusercontent.com/a-/AOh14GjJl7nlouqFRBHjWKoRQtpGZ1O7Nhx1ylIkeFUEvg=s64",
      "userId": "14183293780199581235"
     },
     "user_tz": -330
    },
    "id": "ew-hbd9NzoYy",
    "outputId": "9cc6b98f-3d91-4e7f-9864-ed6b6b51c0ae"
   },
   "outputs": [
    {
     "data": {
      "text/html": [
       "<div>\n",
       "<style scoped>\n",
       "    .dataframe tbody tr th:only-of-type {\n",
       "        vertical-align: middle;\n",
       "    }\n",
       "\n",
       "    .dataframe tbody tr th {\n",
       "        vertical-align: top;\n",
       "    }\n",
       "\n",
       "    .dataframe thead th {\n",
       "        text-align: right;\n",
       "    }\n",
       "</style>\n",
       "<table border=\"1\" class=\"dataframe\">\n",
       "  <thead>\n",
       "    <tr style=\"text-align: right;\">\n",
       "      <th></th>\n",
       "      <th>crim</th>\n",
       "      <th>zn</th>\n",
       "      <th>indus</th>\n",
       "      <th>chas</th>\n",
       "      <th>nox</th>\n",
       "      <th>rm</th>\n",
       "      <th>age</th>\n",
       "      <th>dis</th>\n",
       "      <th>rad</th>\n",
       "      <th>tax</th>\n",
       "      <th>ptratio</th>\n",
       "      <th>black</th>\n",
       "      <th>lstat</th>\n",
       "      <th>medv</th>\n",
       "    </tr>\n",
       "  </thead>\n",
       "  <tbody>\n",
       "    <tr>\n",
       "      <th>0</th>\n",
       "      <td>0.00632</td>\n",
       "      <td>18.0</td>\n",
       "      <td>2.31</td>\n",
       "      <td>0</td>\n",
       "      <td>0.538</td>\n",
       "      <td>6.575</td>\n",
       "      <td>65.2</td>\n",
       "      <td>4.0900</td>\n",
       "      <td>1</td>\n",
       "      <td>296</td>\n",
       "      <td>15.3</td>\n",
       "      <td>396.90</td>\n",
       "      <td>4.98</td>\n",
       "      <td>24.0</td>\n",
       "    </tr>\n",
       "    <tr>\n",
       "      <th>1</th>\n",
       "      <td>0.02731</td>\n",
       "      <td>0.0</td>\n",
       "      <td>7.07</td>\n",
       "      <td>0</td>\n",
       "      <td>0.469</td>\n",
       "      <td>6.421</td>\n",
       "      <td>78.9</td>\n",
       "      <td>4.9671</td>\n",
       "      <td>2</td>\n",
       "      <td>242</td>\n",
       "      <td>17.8</td>\n",
       "      <td>396.90</td>\n",
       "      <td>9.14</td>\n",
       "      <td>21.6</td>\n",
       "    </tr>\n",
       "    <tr>\n",
       "      <th>2</th>\n",
       "      <td>0.02729</td>\n",
       "      <td>0.0</td>\n",
       "      <td>7.07</td>\n",
       "      <td>0</td>\n",
       "      <td>0.469</td>\n",
       "      <td>7.185</td>\n",
       "      <td>61.1</td>\n",
       "      <td>4.9671</td>\n",
       "      <td>2</td>\n",
       "      <td>242</td>\n",
       "      <td>17.8</td>\n",
       "      <td>392.83</td>\n",
       "      <td>4.03</td>\n",
       "      <td>34.7</td>\n",
       "    </tr>\n",
       "    <tr>\n",
       "      <th>3</th>\n",
       "      <td>0.03237</td>\n",
       "      <td>0.0</td>\n",
       "      <td>2.18</td>\n",
       "      <td>0</td>\n",
       "      <td>0.458</td>\n",
       "      <td>6.998</td>\n",
       "      <td>45.8</td>\n",
       "      <td>6.0622</td>\n",
       "      <td>3</td>\n",
       "      <td>222</td>\n",
       "      <td>18.7</td>\n",
       "      <td>394.63</td>\n",
       "      <td>2.94</td>\n",
       "      <td>33.4</td>\n",
       "    </tr>\n",
       "    <tr>\n",
       "      <th>4</th>\n",
       "      <td>0.06905</td>\n",
       "      <td>0.0</td>\n",
       "      <td>2.18</td>\n",
       "      <td>0</td>\n",
       "      <td>0.458</td>\n",
       "      <td>7.147</td>\n",
       "      <td>54.2</td>\n",
       "      <td>6.0622</td>\n",
       "      <td>3</td>\n",
       "      <td>222</td>\n",
       "      <td>18.7</td>\n",
       "      <td>396.90</td>\n",
       "      <td>5.33</td>\n",
       "      <td>36.2</td>\n",
       "    </tr>\n",
       "  </tbody>\n",
       "</table>\n",
       "</div>"
      ],
      "text/plain": [
       "      crim    zn  indus  chas    nox     rm   age     dis  rad  tax  ptratio  \\\n",
       "0  0.00632  18.0   2.31     0  0.538  6.575  65.2  4.0900    1  296     15.3   \n",
       "1  0.02731   0.0   7.07     0  0.469  6.421  78.9  4.9671    2  242     17.8   \n",
       "2  0.02729   0.0   7.07     0  0.469  7.185  61.1  4.9671    2  242     17.8   \n",
       "3  0.03237   0.0   2.18     0  0.458  6.998  45.8  6.0622    3  222     18.7   \n",
       "4  0.06905   0.0   2.18     0  0.458  7.147  54.2  6.0622    3  222     18.7   \n",
       "\n",
       "    black  lstat  medv  \n",
       "0  396.90   4.98  24.0  \n",
       "1  396.90   9.14  21.6  \n",
       "2  392.83   4.03  34.7  \n",
       "3  394.63   2.94  33.4  \n",
       "4  396.90   5.33  36.2  "
      ]
     },
     "execution_count": 2,
     "metadata": {},
     "output_type": "execute_result"
    }
   ],
   "source": [
    "Boston = pd.read_csv(r\"G:\\Ddrive\\PG DBDA\\12 Practical Machine Learning_\\Datasets/Boston.csv\")\n",
    "Boston.head()"
   ]
  },
  {
   "cell_type": "markdown",
   "metadata": {
    "id": "b93iv5_HzoYz"
   },
   "source": [
    "For the column **Boston** which is a response variable, the hot encoding / dummying needs to be done."
   ]
  },
  {
   "cell_type": "code",
   "execution_count": 4,
   "metadata": {
    "colab": {
     "base_uri": "https://localhost:8080/"
    },
    "executionInfo": {
     "elapsed": 15,
     "status": "ok",
     "timestamp": 1644207403908,
     "user": {
      "displayName": "Sanjay Sane",
      "photoUrl": "https://lh3.googleusercontent.com/a-/AOh14GjJl7nlouqFRBHjWKoRQtpGZ1O7Nhx1ylIkeFUEvg=s64",
      "userId": "14183293780199581235"
     },
     "user_tz": -330
    },
    "id": "0hXGvuc7zoY0",
    "outputId": "099c20a8-4915-4026-c1c3-092e786ea332"
   },
   "outputs": [
    {
     "data": {
      "text/plain": [
       "(506, 14)"
      ]
     },
     "execution_count": 4,
     "metadata": {},
     "output_type": "execute_result"
    }
   ],
   "source": [
    "Boston.shape"
   ]
  },
  {
   "cell_type": "code",
   "execution_count": 10,
   "metadata": {
    "executionInfo": {
     "elapsed": 13,
     "status": "ok",
     "timestamp": 1644207403909,
     "user": {
      "displayName": "Sanjay Sane",
      "photoUrl": "https://lh3.googleusercontent.com/a-/AOh14GjJl7nlouqFRBHjWKoRQtpGZ1O7Nhx1ylIkeFUEvg=s64",
      "userId": "14183293780199581235"
     },
     "user_tz": -330
    },
    "id": "tko9P1D80hVM"
   },
   "outputs": [],
   "source": [
    "X = Boston.drop(\"medv\",axis=1)\n",
    "y = Boston[\"medv\"]"
   ]
  },
  {
   "cell_type": "code",
   "execution_count": 11,
   "metadata": {},
   "outputs": [
    {
     "data": {
      "text/html": [
       "<div>\n",
       "<style scoped>\n",
       "    .dataframe tbody tr th:only-of-type {\n",
       "        vertical-align: middle;\n",
       "    }\n",
       "\n",
       "    .dataframe tbody tr th {\n",
       "        vertical-align: top;\n",
       "    }\n",
       "\n",
       "    .dataframe thead th {\n",
       "        text-align: right;\n",
       "    }\n",
       "</style>\n",
       "<table border=\"1\" class=\"dataframe\">\n",
       "  <thead>\n",
       "    <tr style=\"text-align: right;\">\n",
       "      <th></th>\n",
       "      <th>crim</th>\n",
       "      <th>zn</th>\n",
       "      <th>indus</th>\n",
       "      <th>chas</th>\n",
       "      <th>nox</th>\n",
       "      <th>rm</th>\n",
       "      <th>age</th>\n",
       "      <th>dis</th>\n",
       "      <th>rad</th>\n",
       "      <th>tax</th>\n",
       "      <th>ptratio</th>\n",
       "      <th>black</th>\n",
       "      <th>lstat</th>\n",
       "    </tr>\n",
       "  </thead>\n",
       "  <tbody>\n",
       "    <tr>\n",
       "      <th>0</th>\n",
       "      <td>0.00632</td>\n",
       "      <td>18.0</td>\n",
       "      <td>2.31</td>\n",
       "      <td>0</td>\n",
       "      <td>0.538</td>\n",
       "      <td>6.575</td>\n",
       "      <td>65.2</td>\n",
       "      <td>4.0900</td>\n",
       "      <td>1</td>\n",
       "      <td>296</td>\n",
       "      <td>15.3</td>\n",
       "      <td>396.90</td>\n",
       "      <td>4.98</td>\n",
       "    </tr>\n",
       "    <tr>\n",
       "      <th>1</th>\n",
       "      <td>0.02731</td>\n",
       "      <td>0.0</td>\n",
       "      <td>7.07</td>\n",
       "      <td>0</td>\n",
       "      <td>0.469</td>\n",
       "      <td>6.421</td>\n",
       "      <td>78.9</td>\n",
       "      <td>4.9671</td>\n",
       "      <td>2</td>\n",
       "      <td>242</td>\n",
       "      <td>17.8</td>\n",
       "      <td>396.90</td>\n",
       "      <td>9.14</td>\n",
       "    </tr>\n",
       "    <tr>\n",
       "      <th>2</th>\n",
       "      <td>0.02729</td>\n",
       "      <td>0.0</td>\n",
       "      <td>7.07</td>\n",
       "      <td>0</td>\n",
       "      <td>0.469</td>\n",
       "      <td>7.185</td>\n",
       "      <td>61.1</td>\n",
       "      <td>4.9671</td>\n",
       "      <td>2</td>\n",
       "      <td>242</td>\n",
       "      <td>17.8</td>\n",
       "      <td>392.83</td>\n",
       "      <td>4.03</td>\n",
       "    </tr>\n",
       "    <tr>\n",
       "      <th>3</th>\n",
       "      <td>0.03237</td>\n",
       "      <td>0.0</td>\n",
       "      <td>2.18</td>\n",
       "      <td>0</td>\n",
       "      <td>0.458</td>\n",
       "      <td>6.998</td>\n",
       "      <td>45.8</td>\n",
       "      <td>6.0622</td>\n",
       "      <td>3</td>\n",
       "      <td>222</td>\n",
       "      <td>18.7</td>\n",
       "      <td>394.63</td>\n",
       "      <td>2.94</td>\n",
       "    </tr>\n",
       "    <tr>\n",
       "      <th>4</th>\n",
       "      <td>0.06905</td>\n",
       "      <td>0.0</td>\n",
       "      <td>2.18</td>\n",
       "      <td>0</td>\n",
       "      <td>0.458</td>\n",
       "      <td>7.147</td>\n",
       "      <td>54.2</td>\n",
       "      <td>6.0622</td>\n",
       "      <td>3</td>\n",
       "      <td>222</td>\n",
       "      <td>18.7</td>\n",
       "      <td>396.90</td>\n",
       "      <td>5.33</td>\n",
       "    </tr>\n",
       "  </tbody>\n",
       "</table>\n",
       "</div>"
      ],
      "text/plain": [
       "      crim    zn  indus  chas    nox     rm   age     dis  rad  tax  ptratio  \\\n",
       "0  0.00632  18.0   2.31     0  0.538  6.575  65.2  4.0900    1  296     15.3   \n",
       "1  0.02731   0.0   7.07     0  0.469  6.421  78.9  4.9671    2  242     17.8   \n",
       "2  0.02729   0.0   7.07     0  0.469  7.185  61.1  4.9671    2  242     17.8   \n",
       "3  0.03237   0.0   2.18     0  0.458  6.998  45.8  6.0622    3  222     18.7   \n",
       "4  0.06905   0.0   2.18     0  0.458  7.147  54.2  6.0622    3  222     18.7   \n",
       "\n",
       "    black  lstat  \n",
       "0  396.90   4.98  \n",
       "1  396.90   9.14  \n",
       "2  392.83   4.03  \n",
       "3  394.63   2.94  \n",
       "4  396.90   5.33  "
      ]
     },
     "execution_count": 11,
     "metadata": {},
     "output_type": "execute_result"
    }
   ],
   "source": [
    "X.head()"
   ]
  },
  {
   "cell_type": "code",
   "execution_count": 12,
   "metadata": {},
   "outputs": [
    {
     "data": {
      "text/plain": [
       "0    24.0\n",
       "1    21.6\n",
       "2    34.7\n",
       "3    33.4\n",
       "4    36.2\n",
       "Name: medv, dtype: float64"
      ]
     },
     "execution_count": 12,
     "metadata": {},
     "output_type": "execute_result"
    }
   ],
   "source": [
    "y.head()"
   ]
  },
  {
   "cell_type": "code",
   "execution_count": 13,
   "metadata": {
    "executionInfo": {
     "elapsed": 12,
     "status": "ok",
     "timestamp": 1644207403909,
     "user": {
      "displayName": "Sanjay Sane",
      "photoUrl": "https://lh3.googleusercontent.com/a-/AOh14GjJl7nlouqFRBHjWKoRQtpGZ1O7Nhx1ylIkeFUEvg=s64",
      "userId": "14183293780199581235"
     },
     "user_tz": -330
    },
    "id": "P1M02Wq_0qfH"
   },
   "outputs": [],
   "source": [
    "X = X.values\n",
    "y = y.values"
   ]
  },
  {
   "cell_type": "markdown",
   "metadata": {
    "id": "z3aTYuJhzoY2"
   },
   "source": [
    "We now, split the data into train and test"
   ]
  },
  {
   "cell_type": "code",
   "execution_count": 14,
   "metadata": {
    "executionInfo": {
     "elapsed": 637,
     "status": "ok",
     "timestamp": 1644207404534,
     "user": {
      "displayName": "Sanjay Sane",
      "photoUrl": "https://lh3.googleusercontent.com/a-/AOh14GjJl7nlouqFRBHjWKoRQtpGZ1O7Nhx1ylIkeFUEvg=s64",
      "userId": "14183293780199581235"
     },
     "user_tz": -330
    },
    "id": "DZmdHgghzoY3"
   },
   "outputs": [],
   "source": [
    "from sklearn.model_selection import train_test_split \n",
    "X_train, X_test, y_train, y_test = train_test_split(X, y, test_size = 0.3, \n",
    "                                                    random_state=2024)"
   ]
  },
  {
   "cell_type": "markdown",
   "metadata": {
    "id": "4_1eXtD3zoY0"
   },
   "source": [
    "Scaling the data"
   ]
  },
  {
   "cell_type": "code",
   "execution_count": 15,
   "metadata": {
    "executionInfo": {
     "elapsed": 16,
     "status": "ok",
     "timestamp": 1644207404535,
     "user": {
      "displayName": "Sanjay Sane",
      "photoUrl": "https://lh3.googleusercontent.com/a-/AOh14GjJl7nlouqFRBHjWKoRQtpGZ1O7Nhx1ylIkeFUEvg=s64",
      "userId": "14183293780199581235"
     },
     "user_tz": -330
    },
    "id": "1cQJquELzoY0"
   },
   "outputs": [],
   "source": [
    "from sklearn.preprocessing import MinMaxScaler\n",
    "scaler_X = MinMaxScaler()\n",
    "scaler_y = MinMaxScaler()"
   ]
  },
  {
   "cell_type": "code",
   "execution_count": 16,
   "metadata": {
    "executionInfo": {
     "elapsed": 16,
     "status": "ok",
     "timestamp": 1644207404536,
     "user": {
      "displayName": "Sanjay Sane",
      "photoUrl": "https://lh3.googleusercontent.com/a-/AOh14GjJl7nlouqFRBHjWKoRQtpGZ1O7Nhx1ylIkeFUEvg=s64",
      "userId": "14183293780199581235"
     },
     "user_tz": -330
    },
    "id": "_ePhOW6ZzoY1"
   },
   "outputs": [],
   "source": [
    "X_trn_scaled = scaler_X.fit_transform(X_train)\n",
    "y_trn_scaled = scaler_y.fit_transform(y_train.reshape(-1, 1))"
   ]
  },
  {
   "cell_type": "code",
   "execution_count": 17,
   "metadata": {
    "executionInfo": {
     "elapsed": 15,
     "status": "ok",
     "timestamp": 1644207404536,
     "user": {
      "displayName": "Sanjay Sane",
      "photoUrl": "https://lh3.googleusercontent.com/a-/AOh14GjJl7nlouqFRBHjWKoRQtpGZ1O7Nhx1ylIkeFUEvg=s64",
      "userId": "14183293780199581235"
     },
     "user_tz": -330
    },
    "id": "B_iDKJr83qdA"
   },
   "outputs": [],
   "source": [
    "X_tst_scaled = scaler_X.transform(X_test)\n",
    "y_tst_scaled = scaler_y.transform(y_test.reshape(-1, 1))"
   ]
  },
  {
   "cell_type": "code",
   "execution_count": 18,
   "metadata": {
    "colab": {
     "base_uri": "https://localhost:8080/"
    },
    "executionInfo": {
     "elapsed": 16,
     "status": "ok",
     "timestamp": 1644207404537,
     "user": {
      "displayName": "Sanjay Sane",
      "photoUrl": "https://lh3.googleusercontent.com/a-/AOh14GjJl7nlouqFRBHjWKoRQtpGZ1O7Nhx1ylIkeFUEvg=s64",
      "userId": "14183293780199581235"
     },
     "user_tz": -330
    },
    "id": "j7zkkxfvzoY1",
    "outputId": "79f33074-0373-45c8-c6ee-5405483b9b82"
   },
   "outputs": [
    {
     "data": {
      "text/plain": [
       "((354, 13), (354, 1))"
      ]
     },
     "execution_count": 18,
     "metadata": {},
     "output_type": "execute_result"
    }
   ],
   "source": [
    "(X_trn_scaled.shape,y_trn_scaled.shape)"
   ]
  },
  {
   "cell_type": "code",
   "execution_count": 19,
   "metadata": {
    "colab": {
     "base_uri": "https://localhost:8080/"
    },
    "executionInfo": {
     "elapsed": 15,
     "status": "ok",
     "timestamp": 1644207404538,
     "user": {
      "displayName": "Sanjay Sane",
      "photoUrl": "https://lh3.googleusercontent.com/a-/AOh14GjJl7nlouqFRBHjWKoRQtpGZ1O7Nhx1ylIkeFUEvg=s64",
      "userId": "14183293780199581235"
     },
     "user_tz": -330
    },
    "id": "uVqXsAgfzoY3",
    "outputId": "fc37b34f-251b-4148-8cfa-fd24cc2f40d7"
   },
   "outputs": [
    {
     "data": {
      "text/plain": [
       "((354, 13), (354,))"
      ]
     },
     "execution_count": 19,
     "metadata": {},
     "output_type": "execute_result"
    }
   ],
   "source": [
    "(X_train.shape, y_train.shape)"
   ]
  },
  {
   "cell_type": "markdown",
   "metadata": {
    "id": "2l3bpMcQzoY4"
   },
   "source": [
    "Let us now define the neural network through which we plan to build the MLP model"
   ]
  },
  {
   "cell_type": "markdown",
   "metadata": {
    "id": "_qOlyqRszoY4"
   },
   "source": [
    "For getting reproducible results, we set random number seed and do necessary imports"
   ]
  },
  {
   "cell_type": "code",
   "execution_count": 20,
   "metadata": {
    "executionInfo": {
     "elapsed": 12,
     "status": "ok",
     "timestamp": 1644207404539,
     "user": {
      "displayName": "Sanjay Sane",
      "photoUrl": "https://lh3.googleusercontent.com/a-/AOh14GjJl7nlouqFRBHjWKoRQtpGZ1O7Nhx1ylIkeFUEvg=s64",
      "userId": "14183293780199581235"
     },
     "user_tz": -330
    },
    "id": "7qRJs-N3zoY4"
   },
   "outputs": [],
   "source": [
    "import numpy as np\n",
    "from tensorflow.keras.models import Sequential\n",
    "from tensorflow.keras.layers import Dense, Activation\n",
    "from tensorflow.keras import metrics"
   ]
  },
  {
   "cell_type": "markdown",
   "metadata": {
    "id": "fN5oizkjzoY4"
   },
   "source": [
    "**Model Definition:**"
   ]
  },
  {
   "cell_type": "code",
   "execution_count": 21,
   "metadata": {
    "executionInfo": {
     "elapsed": 2870,
     "status": "ok",
     "timestamp": 1644207407398,
     "user": {
      "displayName": "Sanjay Sane",
      "photoUrl": "https://lh3.googleusercontent.com/a-/AOh14GjJl7nlouqFRBHjWKoRQtpGZ1O7Nhx1ylIkeFUEvg=s64",
      "userId": "14183293780199581235"
     },
     "user_tz": -330
    },
    "id": "DQTPbjm3zoY5"
   },
   "outputs": [],
   "source": [
    "tf.random.set_seed(2022)\n",
    "model = tf.keras.models.Sequential([\n",
    "    tf.keras.layers.Dense(8, activation='relu',input_shape=(X_train.shape[1], )), \n",
    "    tf.keras.layers.Dense(6, activation='relu'),\n",
    "    tf.keras.layers.Dense(3, activation='relu'), \n",
    "    tf.keras.layers.Dense(1, activation='relu')  \n",
    "])"
   ]
  },
  {
   "cell_type": "markdown",
   "metadata": {
    "id": "oQZDEhoXzoY5"
   },
   "source": [
    "OR"
   ]
  },
  {
   "cell_type": "code",
   "execution_count": 22,
   "metadata": {
    "executionInfo": {
     "elapsed": 10,
     "status": "ok",
     "timestamp": 1644207407399,
     "user": {
      "displayName": "Sanjay Sane",
      "photoUrl": "https://lh3.googleusercontent.com/a-/AOh14GjJl7nlouqFRBHjWKoRQtpGZ1O7Nhx1ylIkeFUEvg=s64",
      "userId": "14183293780199581235"
     },
     "user_tz": -330
    },
    "id": "M0JqFp1wzoY5"
   },
   "outputs": [],
   "source": [
    "#model = Sequential()\n",
    "#model.add(Dense(8, input_dim=X_train.shape[1], activation='relu'))\n",
    "#model.add(Dense(6, activation='relu'))\n",
    "#model.add(Dense(3, activation='relu'))\n",
    "#model.add(Dense(1,activation='relu')) # Output"
   ]
  },
  {
   "cell_type": "code",
   "execution_count": 23,
   "metadata": {
    "executionInfo": {
     "elapsed": 9,
     "status": "ok",
     "timestamp": 1644207407399,
     "user": {
      "displayName": "Sanjay Sane",
      "photoUrl": "https://lh3.googleusercontent.com/a-/AOh14GjJl7nlouqFRBHjWKoRQtpGZ1O7Nhx1ylIkeFUEvg=s64",
      "userId": "14183293780199581235"
     },
     "user_tz": -330
    },
    "id": "-jRpe3h4zoY6"
   },
   "outputs": [],
   "source": [
    "model.compile(optimizer='sgd', loss='mean_squared_error',metrics=['mae'])"
   ]
  },
  {
   "cell_type": "code",
   "execution_count": 24,
   "metadata": {
    "colab": {
     "base_uri": "https://localhost:8080/"
    },
    "executionInfo": {
     "elapsed": 9,
     "status": "ok",
     "timestamp": 1644207407400,
     "user": {
      "displayName": "Sanjay Sane",
      "photoUrl": "https://lh3.googleusercontent.com/a-/AOh14GjJl7nlouqFRBHjWKoRQtpGZ1O7Nhx1ylIkeFUEvg=s64",
      "userId": "14183293780199581235"
     },
     "user_tz": -330
    },
    "id": "R7NH0ZTtzoY6",
    "outputId": "d3ce5b65-40be-42cf-d45c-082afd6331c4"
   },
   "outputs": [
    {
     "name": "stdout",
     "output_type": "stream",
     "text": [
      "Model: \"sequential\"\n",
      "_________________________________________________________________\n",
      " Layer (type)                Output Shape              Param #   \n",
      "=================================================================\n",
      " dense (Dense)               (None, 8)                 112       \n",
      "                                                                 \n",
      " dense_1 (Dense)             (None, 6)                 54        \n",
      "                                                                 \n",
      " dense_2 (Dense)             (None, 3)                 21        \n",
      "                                                                 \n",
      " dense_3 (Dense)             (None, 1)                 4         \n",
      "                                                                 \n",
      "=================================================================\n",
      "Total params: 191\n",
      "Trainable params: 191\n",
      "Non-trainable params: 0\n",
      "_________________________________________________________________\n",
      "None\n"
     ]
    }
   ],
   "source": [
    "print(model.summary())"
   ]
  },
  {
   "cell_type": "markdown",
   "metadata": {
    "id": "H2C2syUYzoY7"
   },
   "source": [
    "**Model Fitting:**"
   ]
  },
  {
   "cell_type": "code",
   "execution_count": 25,
   "metadata": {
    "colab": {
     "base_uri": "https://localhost:8080/"
    },
    "executionInfo": {
     "elapsed": 82858,
     "status": "ok",
     "timestamp": 1644207490252,
     "user": {
      "displayName": "Sanjay Sane",
      "photoUrl": "https://lh3.googleusercontent.com/a-/AOh14GjJl7nlouqFRBHjWKoRQtpGZ1O7Nhx1ylIkeFUEvg=s64",
      "userId": "14183293780199581235"
     },
     "user_tz": -330
    },
    "id": "aXCiIhVqzoY7",
    "outputId": "88a2d3ac-0083-45e7-cb8c-3bcf6edc9e75"
   },
   "outputs": [
    {
     "name": "stdout",
     "output_type": "stream",
     "text": [
      "Epoch 1/500\n",
      "12/12 - 4s - loss: 0.1182 - mae: 0.2805 - val_loss: 0.1094 - val_mae: 0.2551 - 4s/epoch - 312ms/step\n",
      "Epoch 2/500\n",
      "12/12 - 0s - loss: 0.0655 - mae: 0.1964 - val_loss: 0.0768 - val_mae: 0.2019 - 183ms/epoch - 15ms/step\n",
      "Epoch 3/500\n",
      "12/12 - 0s - loss: 0.0508 - mae: 0.1684 - val_loss: 0.0668 - val_mae: 0.1828 - 217ms/epoch - 18ms/step\n",
      "Epoch 4/500\n",
      "12/12 - 0s - loss: 0.0468 - mae: 0.1617 - val_loss: 0.0620 - val_mae: 0.1740 - 173ms/epoch - 14ms/step\n",
      "Epoch 5/500\n",
      "12/12 - 0s - loss: 0.0451 - mae: 0.1589 - val_loss: 0.0603 - val_mae: 0.1712 - 171ms/epoch - 14ms/step\n",
      "Epoch 6/500\n",
      "12/12 - 0s - loss: 0.0444 - mae: 0.1573 - val_loss: 0.0587 - val_mae: 0.1686 - 162ms/epoch - 13ms/step\n",
      "Epoch 7/500\n",
      "12/12 - 0s - loss: 0.0436 - mae: 0.1561 - val_loss: 0.0566 - val_mae: 0.1660 - 169ms/epoch - 14ms/step\n",
      "Epoch 8/500\n",
      "12/12 - 0s - loss: 0.0430 - mae: 0.1555 - val_loss: 0.0562 - val_mae: 0.1647 - 173ms/epoch - 14ms/step\n",
      "Epoch 9/500\n",
      "12/12 - 0s - loss: 0.0425 - mae: 0.1545 - val_loss: 0.0558 - val_mae: 0.1634 - 163ms/epoch - 14ms/step\n",
      "Epoch 10/500\n",
      "12/12 - 0s - loss: 0.0419 - mae: 0.1530 - val_loss: 0.0555 - val_mae: 0.1622 - 169ms/epoch - 14ms/step\n",
      "Epoch 11/500\n",
      "12/12 - 0s - loss: 0.0414 - mae: 0.1516 - val_loss: 0.0547 - val_mae: 0.1609 - 173ms/epoch - 14ms/step\n",
      "Epoch 12/500\n",
      "12/12 - 0s - loss: 0.0408 - mae: 0.1504 - val_loss: 0.0529 - val_mae: 0.1608 - 191ms/epoch - 16ms/step\n",
      "Epoch 13/500\n",
      "12/12 - 0s - loss: 0.0404 - mae: 0.1516 - val_loss: 0.0534 - val_mae: 0.1585 - 192ms/epoch - 16ms/step\n",
      "Epoch 14/500\n",
      "12/12 - 0s - loss: 0.0398 - mae: 0.1485 - val_loss: 0.0542 - val_mae: 0.1579 - 202ms/epoch - 17ms/step\n",
      "Epoch 15/500\n",
      "12/12 - 0s - loss: 0.0393 - mae: 0.1464 - val_loss: 0.0528 - val_mae: 0.1561 - 162ms/epoch - 13ms/step\n",
      "Epoch 16/500\n",
      "12/12 - 0s - loss: 0.0388 - mae: 0.1451 - val_loss: 0.0522 - val_mae: 0.1550 - 174ms/epoch - 15ms/step\n",
      "Epoch 17/500\n",
      "12/12 - 0s - loss: 0.0384 - mae: 0.1441 - val_loss: 0.0505 - val_mae: 0.1548 - 331ms/epoch - 28ms/step\n",
      "Epoch 18/500\n",
      "12/12 - 0s - loss: 0.0380 - mae: 0.1454 - val_loss: 0.0503 - val_mae: 0.1535 - 175ms/epoch - 15ms/step\n",
      "Epoch 19/500\n",
      "12/12 - 0s - loss: 0.0375 - mae: 0.1439 - val_loss: 0.0504 - val_mae: 0.1519 - 169ms/epoch - 14ms/step\n",
      "Epoch 20/500\n",
      "12/12 - 0s - loss: 0.0372 - mae: 0.1424 - val_loss: 0.0487 - val_mae: 0.1532 - 177ms/epoch - 15ms/step\n",
      "Epoch 21/500\n",
      "12/12 - 0s - loss: 0.0368 - mae: 0.1440 - val_loss: 0.0492 - val_mae: 0.1505 - 281ms/epoch - 23ms/step\n",
      "Epoch 22/500\n",
      "12/12 - 0s - loss: 0.0363 - mae: 0.1409 - val_loss: 0.0493 - val_mae: 0.1491 - 210ms/epoch - 17ms/step\n",
      "Epoch 23/500\n",
      "12/12 - 0s - loss: 0.0360 - mae: 0.1395 - val_loss: 0.0492 - val_mae: 0.1481 - 177ms/epoch - 15ms/step\n",
      "Epoch 24/500\n",
      "12/12 - 0s - loss: 0.0356 - mae: 0.1379 - val_loss: 0.0494 - val_mae: 0.1473 - 168ms/epoch - 14ms/step\n",
      "Epoch 25/500\n",
      "12/12 - 0s - loss: 0.0353 - mae: 0.1365 - val_loss: 0.0474 - val_mae: 0.1467 - 238ms/epoch - 20ms/step\n",
      "Epoch 26/500\n",
      "12/12 - 0s - loss: 0.0347 - mae: 0.1368 - val_loss: 0.0472 - val_mae: 0.1459 - 252ms/epoch - 21ms/step\n",
      "Epoch 27/500\n",
      "12/12 - 0s - loss: 0.0344 - mae: 0.1363 - val_loss: 0.0468 - val_mae: 0.1452 - 259ms/epoch - 22ms/step\n",
      "Epoch 28/500\n",
      "12/12 - 0s - loss: 0.0341 - mae: 0.1356 - val_loss: 0.0463 - val_mae: 0.1449 - 237ms/epoch - 20ms/step\n",
      "Epoch 29/500\n",
      "12/12 - 0s - loss: 0.0338 - mae: 0.1351 - val_loss: 0.0453 - val_mae: 0.1468 - 234ms/epoch - 20ms/step\n",
      "Epoch 30/500\n",
      "12/12 - 0s - loss: 0.0337 - mae: 0.1366 - val_loss: 0.0458 - val_mae: 0.1436 - 224ms/epoch - 19ms/step\n",
      "Epoch 31/500\n",
      "12/12 - 0s - loss: 0.0332 - mae: 0.1333 - val_loss: 0.0452 - val_mae: 0.1435 - 197ms/epoch - 16ms/step\n",
      "Epoch 32/500\n",
      "12/12 - 0s - loss: 0.0329 - mae: 0.1336 - val_loss: 0.0455 - val_mae: 0.1420 - 189ms/epoch - 16ms/step\n",
      "Epoch 33/500\n",
      "12/12 - 0s - loss: 0.0326 - mae: 0.1315 - val_loss: 0.0453 - val_mae: 0.1413 - 204ms/epoch - 17ms/step\n",
      "Epoch 34/500\n",
      "12/12 - 0s - loss: 0.0324 - mae: 0.1306 - val_loss: 0.0437 - val_mae: 0.1459 - 269ms/epoch - 22ms/step\n",
      "Epoch 35/500\n",
      "12/12 - 0s - loss: 0.0324 - mae: 0.1347 - val_loss: 0.0441 - val_mae: 0.1421 - 214ms/epoch - 18ms/step\n",
      "Epoch 36/500\n",
      "12/12 - 0s - loss: 0.0320 - mae: 0.1316 - val_loss: 0.0439 - val_mae: 0.1415 - 216ms/epoch - 18ms/step\n",
      "Epoch 37/500\n",
      "12/12 - 0s - loss: 0.0318 - mae: 0.1304 - val_loss: 0.0433 - val_mae: 0.1424 - 172ms/epoch - 14ms/step\n",
      "Epoch 38/500\n",
      "12/12 - 0s - loss: 0.0316 - mae: 0.1318 - val_loss: 0.0435 - val_mae: 0.1404 - 202ms/epoch - 17ms/step\n",
      "Epoch 39/500\n",
      "12/12 - 0s - loss: 0.0313 - mae: 0.1296 - val_loss: 0.0434 - val_mae: 0.1398 - 171ms/epoch - 14ms/step\n",
      "Epoch 40/500\n",
      "12/12 - 0s - loss: 0.0311 - mae: 0.1288 - val_loss: 0.0432 - val_mae: 0.1395 - 182ms/epoch - 15ms/step\n",
      "Epoch 41/500\n",
      "12/12 - 0s - loss: 0.0309 - mae: 0.1283 - val_loss: 0.0435 - val_mae: 0.1381 - 185ms/epoch - 15ms/step\n",
      "Epoch 42/500\n",
      "12/12 - 0s - loss: 0.0307 - mae: 0.1264 - val_loss: 0.0424 - val_mae: 0.1399 - 180ms/epoch - 15ms/step\n",
      "Epoch 43/500\n",
      "12/12 - 0s - loss: 0.0305 - mae: 0.1283 - val_loss: 0.0423 - val_mae: 0.1397 - 182ms/epoch - 15ms/step\n",
      "Epoch 44/500\n",
      "12/12 - 0s - loss: 0.0303 - mae: 0.1280 - val_loss: 0.0424 - val_mae: 0.1384 - 198ms/epoch - 16ms/step\n",
      "Epoch 45/500\n",
      "12/12 - 0s - loss: 0.0302 - mae: 0.1266 - val_loss: 0.0423 - val_mae: 0.1378 - 142ms/epoch - 12ms/step\n",
      "Epoch 46/500\n",
      "12/12 - 0s - loss: 0.0300 - mae: 0.1261 - val_loss: 0.0414 - val_mae: 0.1420 - 152ms/epoch - 13ms/step\n",
      "Epoch 47/500\n",
      "12/12 - 0s - loss: 0.0301 - mae: 0.1296 - val_loss: 0.0416 - val_mae: 0.1387 - 154ms/epoch - 13ms/step\n",
      "Epoch 48/500\n",
      "12/12 - 0s - loss: 0.0297 - mae: 0.1267 - val_loss: 0.0421 - val_mae: 0.1364 - 191ms/epoch - 16ms/step\n",
      "Epoch 49/500\n",
      "12/12 - 0s - loss: 0.0296 - mae: 0.1246 - val_loss: 0.0422 - val_mae: 0.1357 - 156ms/epoch - 13ms/step\n",
      "Epoch 50/500\n",
      "12/12 - 0s - loss: 0.0295 - mae: 0.1233 - val_loss: 0.0419 - val_mae: 0.1357 - 151ms/epoch - 13ms/step\n",
      "Epoch 51/500\n",
      "12/12 - 0s - loss: 0.0293 - mae: 0.1242 - val_loss: 0.0421 - val_mae: 0.1350 - 153ms/epoch - 13ms/step\n",
      "Epoch 52/500\n",
      "12/12 - 0s - loss: 0.0292 - mae: 0.1227 - val_loss: 0.0417 - val_mae: 0.1352 - 147ms/epoch - 12ms/step\n",
      "Epoch 53/500\n",
      "12/12 - 0s - loss: 0.0291 - mae: 0.1230 - val_loss: 0.0416 - val_mae: 0.1348 - 150ms/epoch - 12ms/step\n",
      "Epoch 54/500\n",
      "12/12 - 0s - loss: 0.0290 - mae: 0.1225 - val_loss: 0.0417 - val_mae: 0.1343 - 155ms/epoch - 13ms/step\n",
      "Epoch 55/500\n",
      "12/12 - 0s - loss: 0.0289 - mae: 0.1221 - val_loss: 0.0407 - val_mae: 0.1353 - 158ms/epoch - 13ms/step\n",
      "Epoch 56/500\n",
      "12/12 - 0s - loss: 0.0286 - mae: 0.1229 - val_loss: 0.0407 - val_mae: 0.1348 - 150ms/epoch - 12ms/step\n",
      "Epoch 57/500\n",
      "12/12 - 0s - loss: 0.0285 - mae: 0.1222 - val_loss: 0.0400 - val_mae: 0.1375 - 139ms/epoch - 12ms/step\n",
      "Epoch 58/500\n",
      "12/12 - 0s - loss: 0.0285 - mae: 0.1241 - val_loss: 0.0404 - val_mae: 0.1347 - 142ms/epoch - 12ms/step\n",
      "Epoch 59/500\n",
      "12/12 - 0s - loss: 0.0283 - mae: 0.1221 - val_loss: 0.0402 - val_mae: 0.1345 - 139ms/epoch - 12ms/step\n",
      "Epoch 60/500\n",
      "12/12 - 0s - loss: 0.0281 - mae: 0.1211 - val_loss: 0.0399 - val_mae: 0.1352 - 141ms/epoch - 12ms/step\n",
      "Epoch 61/500\n",
      "12/12 - 0s - loss: 0.0281 - mae: 0.1219 - val_loss: 0.0401 - val_mae: 0.1337 - 140ms/epoch - 12ms/step\n",
      "Epoch 62/500\n",
      "12/12 - 0s - loss: 0.0280 - mae: 0.1203 - val_loss: 0.0395 - val_mae: 0.1370 - 142ms/epoch - 12ms/step\n",
      "Epoch 63/500\n",
      "12/12 - 0s - loss: 0.0280 - mae: 0.1232 - val_loss: 0.0396 - val_mae: 0.1356 - 149ms/epoch - 12ms/step\n",
      "Epoch 64/500\n",
      "12/12 - 0s - loss: 0.0278 - mae: 0.1221 - val_loss: 0.0399 - val_mae: 0.1335 - 146ms/epoch - 12ms/step\n",
      "Epoch 65/500\n",
      "12/12 - 0s - loss: 0.0277 - mae: 0.1203 - val_loss: 0.0393 - val_mae: 0.1352 - 141ms/epoch - 12ms/step\n",
      "Epoch 66/500\n",
      "12/12 - 0s - loss: 0.0276 - mae: 0.1216 - val_loss: 0.0396 - val_mae: 0.1333 - 144ms/epoch - 12ms/step\n",
      "Epoch 67/500\n",
      "12/12 - 0s - loss: 0.0275 - mae: 0.1197 - val_loss: 0.0395 - val_mae: 0.1332 - 143ms/epoch - 12ms/step\n",
      "Epoch 68/500\n",
      "12/12 - 0s - loss: 0.0274 - mae: 0.1196 - val_loss: 0.0400 - val_mae: 0.1315 - 142ms/epoch - 12ms/step\n",
      "Epoch 69/500\n",
      "12/12 - 0s - loss: 0.0274 - mae: 0.1180 - val_loss: 0.0396 - val_mae: 0.1317 - 144ms/epoch - 12ms/step\n",
      "Epoch 70/500\n",
      "12/12 - 0s - loss: 0.0272 - mae: 0.1178 - val_loss: 0.0394 - val_mae: 0.1317 - 142ms/epoch - 12ms/step\n",
      "Epoch 71/500\n",
      "12/12 - 0s - loss: 0.0272 - mae: 0.1178 - val_loss: 0.0394 - val_mae: 0.1315 - 174ms/epoch - 15ms/step\n",
      "Epoch 72/500\n",
      "12/12 - 0s - loss: 0.0271 - mae: 0.1176 - val_loss: 0.0392 - val_mae: 0.1315 - 151ms/epoch - 13ms/step\n",
      "Epoch 73/500\n",
      "12/12 - 0s - loss: 0.0270 - mae: 0.1177 - val_loss: 0.0393 - val_mae: 0.1310 - 139ms/epoch - 12ms/step\n",
      "Epoch 74/500\n",
      "12/12 - 0s - loss: 0.0270 - mae: 0.1173 - val_loss: 0.0393 - val_mae: 0.1307 - 143ms/epoch - 12ms/step\n",
      "Epoch 75/500\n",
      "12/12 - 0s - loss: 0.0269 - mae: 0.1163 - val_loss: 0.0392 - val_mae: 0.1307 - 144ms/epoch - 12ms/step\n",
      "Epoch 76/500\n",
      "12/12 - 0s - loss: 0.0269 - mae: 0.1168 - val_loss: 0.0390 - val_mae: 0.1307 - 150ms/epoch - 12ms/step\n",
      "Epoch 77/500\n",
      "12/12 - 0s - loss: 0.0268 - mae: 0.1163 - val_loss: 0.0389 - val_mae: 0.1307 - 154ms/epoch - 13ms/step\n",
      "Epoch 78/500\n",
      "12/12 - 0s - loss: 0.0267 - mae: 0.1166 - val_loss: 0.0390 - val_mae: 0.1301 - 167ms/epoch - 14ms/step\n",
      "Epoch 79/500\n",
      "12/12 - 0s - loss: 0.0267 - mae: 0.1159 - val_loss: 0.0389 - val_mae: 0.1299 - 198ms/epoch - 17ms/step\n",
      "Epoch 80/500\n",
      "12/12 - 0s - loss: 0.0266 - mae: 0.1150 - val_loss: 0.0378 - val_mae: 0.1344 - 194ms/epoch - 16ms/step\n",
      "Epoch 81/500\n",
      "12/12 - 0s - loss: 0.0266 - mae: 0.1184 - val_loss: 0.0377 - val_mae: 0.1346 - 170ms/epoch - 14ms/step\n",
      "Epoch 82/500\n",
      "12/12 - 0s - loss: 0.0265 - mae: 0.1186 - val_loss: 0.0375 - val_mae: 0.1376 - 156ms/epoch - 13ms/step\n",
      "Epoch 83/500\n",
      "12/12 - 0s - loss: 0.0266 - mae: 0.1208 - val_loss: 0.0375 - val_mae: 0.1353 - 147ms/epoch - 12ms/step\n",
      "Epoch 84/500\n",
      "12/12 - 0s - loss: 0.0264 - mae: 0.1190 - val_loss: 0.0377 - val_mae: 0.1327 - 142ms/epoch - 12ms/step\n",
      "Epoch 85/500\n",
      "12/12 - 0s - loss: 0.0262 - mae: 0.1173 - val_loss: 0.0375 - val_mae: 0.1335 - 156ms/epoch - 13ms/step\n",
      "Epoch 86/500\n",
      "12/12 - 0s - loss: 0.0262 - mae: 0.1177 - val_loss: 0.0376 - val_mae: 0.1321 - 154ms/epoch - 13ms/step\n",
      "Epoch 87/500\n",
      "12/12 - 0s - loss: 0.0261 - mae: 0.1164 - val_loss: 0.0375 - val_mae: 0.1322 - 150ms/epoch - 12ms/step\n",
      "Epoch 88/500\n",
      "12/12 - 0s - loss: 0.0260 - mae: 0.1160 - val_loss: 0.0375 - val_mae: 0.1316 - 136ms/epoch - 11ms/step\n",
      "Epoch 89/500\n",
      "12/12 - 0s - loss: 0.0259 - mae: 0.1154 - val_loss: 0.0376 - val_mae: 0.1308 - 150ms/epoch - 13ms/step\n",
      "Epoch 90/500\n",
      "12/12 - 0s - loss: 0.0259 - mae: 0.1149 - val_loss: 0.0379 - val_mae: 0.1294 - 200ms/epoch - 17ms/step\n",
      "Epoch 91/500\n",
      "12/12 - 0s - loss: 0.0259 - mae: 0.1136 - val_loss: 0.0378 - val_mae: 0.1294 - 154ms/epoch - 13ms/step\n",
      "Epoch 92/500\n",
      "12/12 - 0s - loss: 0.0259 - mae: 0.1135 - val_loss: 0.0376 - val_mae: 0.1296 - 150ms/epoch - 12ms/step\n",
      "Epoch 93/500\n",
      "12/12 - 0s - loss: 0.0258 - mae: 0.1139 - val_loss: 0.0376 - val_mae: 0.1295 - 151ms/epoch - 13ms/step\n",
      "Epoch 94/500\n",
      "12/12 - 0s - loss: 0.0257 - mae: 0.1139 - val_loss: 0.0372 - val_mae: 0.1313 - 143ms/epoch - 12ms/step\n",
      "Epoch 95/500\n",
      "12/12 - 0s - loss: 0.0257 - mae: 0.1148 - val_loss: 0.0376 - val_mae: 0.1291 - 158ms/epoch - 13ms/step\n",
      "Epoch 96/500\n",
      "12/12 - 0s - loss: 0.0256 - mae: 0.1131 - val_loss: 0.0375 - val_mae: 0.1291 - 184ms/epoch - 15ms/step\n",
      "Epoch 97/500\n",
      "12/12 - 0s - loss: 0.0256 - mae: 0.1130 - val_loss: 0.0375 - val_mae: 0.1289 - 164ms/epoch - 14ms/step\n",
      "Epoch 98/500\n",
      "12/12 - 0s - loss: 0.0256 - mae: 0.1127 - val_loss: 0.0372 - val_mae: 0.1294 - 171ms/epoch - 14ms/step\n",
      "Epoch 99/500\n",
      "12/12 - 0s - loss: 0.0255 - mae: 0.1133 - val_loss: 0.0372 - val_mae: 0.1292 - 145ms/epoch - 12ms/step\n",
      "Epoch 100/500\n",
      "12/12 - 0s - loss: 0.0255 - mae: 0.1127 - val_loss: 0.0367 - val_mae: 0.1334 - 182ms/epoch - 15ms/step\n",
      "Epoch 101/500\n",
      "12/12 - 0s - loss: 0.0255 - mae: 0.1171 - val_loss: 0.0366 - val_mae: 0.1337 - 164ms/epoch - 14ms/step\n",
      "Epoch 102/500\n",
      "12/12 - 0s - loss: 0.0255 - mae: 0.1164 - val_loss: 0.0370 - val_mae: 0.1298 - 155ms/epoch - 13ms/step\n",
      "Epoch 103/500\n",
      "12/12 - 0s - loss: 0.0254 - mae: 0.1133 - val_loss: 0.0371 - val_mae: 0.1290 - 142ms/epoch - 12ms/step\n",
      "Epoch 104/500\n",
      "12/12 - 0s - loss: 0.0253 - mae: 0.1126 - val_loss: 0.0372 - val_mae: 0.1285 - 142ms/epoch - 12ms/step\n",
      "Epoch 105/500\n",
      "12/12 - 0s - loss: 0.0253 - mae: 0.1122 - val_loss: 0.0367 - val_mae: 0.1303 - 143ms/epoch - 12ms/step\n",
      "Epoch 106/500\n",
      "12/12 - 0s - loss: 0.0252 - mae: 0.1137 - val_loss: 0.0365 - val_mae: 0.1309 - 140ms/epoch - 12ms/step\n",
      "Epoch 107/500\n",
      "12/12 - 0s - loss: 0.0252 - mae: 0.1138 - val_loss: 0.0366 - val_mae: 0.1300 - 141ms/epoch - 12ms/step\n",
      "Epoch 108/500\n",
      "12/12 - 0s - loss: 0.0251 - mae: 0.1126 - val_loss: 0.0365 - val_mae: 0.1302 - 143ms/epoch - 12ms/step\n",
      "Epoch 109/500\n",
      "12/12 - 0s - loss: 0.0251 - mae: 0.1139 - val_loss: 0.0363 - val_mae: 0.1310 - 145ms/epoch - 12ms/step\n",
      "Epoch 110/500\n",
      "12/12 - 0s - loss: 0.0251 - mae: 0.1132 - val_loss: 0.0364 - val_mae: 0.1301 - 141ms/epoch - 12ms/step\n",
      "Epoch 111/500\n",
      "12/12 - 0s - loss: 0.0250 - mae: 0.1130 - val_loss: 0.0360 - val_mae: 0.1335 - 141ms/epoch - 12ms/step\n",
      "Epoch 112/500\n",
      "12/12 - 0s - loss: 0.0251 - mae: 0.1152 - val_loss: 0.0362 - val_mae: 0.1304 - 141ms/epoch - 12ms/step\n",
      "Epoch 113/500\n",
      "12/12 - 0s - loss: 0.0249 - mae: 0.1130 - val_loss: 0.0366 - val_mae: 0.1283 - 140ms/epoch - 12ms/step\n",
      "Epoch 114/500\n",
      "12/12 - 0s - loss: 0.0249 - mae: 0.1114 - val_loss: 0.0366 - val_mae: 0.1281 - 178ms/epoch - 15ms/step\n",
      "Epoch 115/500\n",
      "12/12 - 0s - loss: 0.0249 - mae: 0.1107 - val_loss: 0.0364 - val_mae: 0.1287 - 141ms/epoch - 12ms/step\n",
      "Epoch 116/500\n",
      "12/12 - 0s - loss: 0.0248 - mae: 0.1119 - val_loss: 0.0365 - val_mae: 0.1280 - 147ms/epoch - 12ms/step\n",
      "Epoch 117/500\n",
      "12/12 - 0s - loss: 0.0248 - mae: 0.1114 - val_loss: 0.0360 - val_mae: 0.1304 - 152ms/epoch - 13ms/step\n",
      "Epoch 118/500\n",
      "12/12 - 0s - loss: 0.0248 - mae: 0.1130 - val_loss: 0.0362 - val_mae: 0.1287 - 153ms/epoch - 13ms/step\n",
      "Epoch 119/500\n",
      "12/12 - 0s - loss: 0.0247 - mae: 0.1116 - val_loss: 0.0365 - val_mae: 0.1274 - 150ms/epoch - 12ms/step\n",
      "Epoch 120/500\n",
      "12/12 - 0s - loss: 0.0247 - mae: 0.1099 - val_loss: 0.0362 - val_mae: 0.1278 - 152ms/epoch - 13ms/step\n",
      "Epoch 121/500\n",
      "12/12 - 0s - loss: 0.0246 - mae: 0.1113 - val_loss: 0.0365 - val_mae: 0.1270 - 137ms/epoch - 11ms/step\n",
      "Epoch 122/500\n",
      "12/12 - 0s - loss: 0.0247 - mae: 0.1096 - val_loss: 0.0361 - val_mae: 0.1278 - 192ms/epoch - 16ms/step\n",
      "Epoch 123/500\n",
      "12/12 - 0s - loss: 0.0246 - mae: 0.1108 - val_loss: 0.0360 - val_mae: 0.1281 - 151ms/epoch - 13ms/step\n",
      "Epoch 124/500\n",
      "12/12 - 0s - loss: 0.0245 - mae: 0.1112 - val_loss: 0.0359 - val_mae: 0.1279 - 154ms/epoch - 13ms/step\n",
      "Epoch 125/500\n",
      "12/12 - 0s - loss: 0.0245 - mae: 0.1107 - val_loss: 0.0359 - val_mae: 0.1280 - 212ms/epoch - 18ms/step\n",
      "Epoch 126/500\n",
      "12/12 - 0s - loss: 0.0244 - mae: 0.1105 - val_loss: 0.0352 - val_mae: 0.1342 - 163ms/epoch - 14ms/step\n",
      "Epoch 127/500\n",
      "12/12 - 0s - loss: 0.0245 - mae: 0.1155 - val_loss: 0.0352 - val_mae: 0.1315 - 150ms/epoch - 12ms/step\n",
      "Epoch 128/500\n",
      "12/12 - 0s - loss: 0.0243 - mae: 0.1133 - val_loss: 0.0354 - val_mae: 0.1287 - 139ms/epoch - 12ms/step\n",
      "Epoch 129/500\n",
      "12/12 - 0s - loss: 0.0243 - mae: 0.1114 - val_loss: 0.0358 - val_mae: 0.1269 - 141ms/epoch - 12ms/step\n",
      "Epoch 130/500\n",
      "12/12 - 0s - loss: 0.0243 - mae: 0.1094 - val_loss: 0.0356 - val_mae: 0.1271 - 142ms/epoch - 12ms/step\n",
      "Epoch 131/500\n",
      "12/12 - 0s - loss: 0.0242 - mae: 0.1096 - val_loss: 0.0356 - val_mae: 0.1270 - 141ms/epoch - 12ms/step\n",
      "Epoch 132/500\n",
      "12/12 - 0s - loss: 0.0242 - mae: 0.1100 - val_loss: 0.0353 - val_mae: 0.1280 - 142ms/epoch - 12ms/step\n",
      "Epoch 133/500\n",
      "12/12 - 0s - loss: 0.0241 - mae: 0.1100 - val_loss: 0.0351 - val_mae: 0.1293 - 148ms/epoch - 12ms/step\n",
      "Epoch 134/500\n",
      "12/12 - 0s - loss: 0.0240 - mae: 0.1111 - val_loss: 0.0350 - val_mae: 0.1291 - 142ms/epoch - 12ms/step\n",
      "Epoch 135/500\n",
      "12/12 - 0s - loss: 0.0240 - mae: 0.1112 - val_loss: 0.0348 - val_mae: 0.1305 - 144ms/epoch - 12ms/step\n",
      "Epoch 136/500\n",
      "12/12 - 0s - loss: 0.0240 - mae: 0.1133 - val_loss: 0.0350 - val_mae: 0.1282 - 149ms/epoch - 12ms/step\n",
      "Epoch 137/500\n",
      "12/12 - 0s - loss: 0.0239 - mae: 0.1109 - val_loss: 0.0348 - val_mae: 0.1290 - 139ms/epoch - 12ms/step\n",
      "Epoch 138/500\n",
      "12/12 - 0s - loss: 0.0239 - mae: 0.1112 - val_loss: 0.0352 - val_mae: 0.1270 - 140ms/epoch - 12ms/step\n",
      "Epoch 139/500\n",
      "12/12 - 0s - loss: 0.0239 - mae: 0.1096 - val_loss: 0.0349 - val_mae: 0.1281 - 142ms/epoch - 12ms/step\n",
      "Epoch 140/500\n",
      "12/12 - 0s - loss: 0.0238 - mae: 0.1100 - val_loss: 0.0347 - val_mae: 0.1292 - 143ms/epoch - 12ms/step\n",
      "Epoch 141/500\n",
      "12/12 - 0s - loss: 0.0238 - mae: 0.1113 - val_loss: 0.0348 - val_mae: 0.1278 - 143ms/epoch - 12ms/step\n",
      "Epoch 142/500\n",
      "12/12 - 0s - loss: 0.0237 - mae: 0.1101 - val_loss: 0.0348 - val_mae: 0.1272 - 141ms/epoch - 12ms/step\n",
      "Epoch 143/500\n",
      "12/12 - 0s - loss: 0.0237 - mae: 0.1088 - val_loss: 0.0347 - val_mae: 0.1277 - 140ms/epoch - 12ms/step\n",
      "Epoch 144/500\n",
      "12/12 - 0s - loss: 0.0236 - mae: 0.1100 - val_loss: 0.0345 - val_mae: 0.1286 - 142ms/epoch - 12ms/step\n",
      "Epoch 145/500\n",
      "12/12 - 0s - loss: 0.0236 - mae: 0.1105 - val_loss: 0.0348 - val_mae: 0.1268 - 156ms/epoch - 13ms/step\n",
      "Epoch 146/500\n",
      "12/12 - 0s - loss: 0.0236 - mae: 0.1087 - val_loss: 0.0343 - val_mae: 0.1310 - 140ms/epoch - 12ms/step\n",
      "Epoch 147/500\n",
      "12/12 - 0s - loss: 0.0236 - mae: 0.1121 - val_loss: 0.0345 - val_mae: 0.1274 - 145ms/epoch - 12ms/step\n",
      "Epoch 148/500\n",
      "12/12 - 0s - loss: 0.0234 - mae: 0.1086 - val_loss: 0.0345 - val_mae: 0.1270 - 142ms/epoch - 12ms/step\n",
      "Epoch 149/500\n",
      "12/12 - 0s - loss: 0.0234 - mae: 0.1083 - val_loss: 0.0342 - val_mae: 0.1303 - 142ms/epoch - 12ms/step\n",
      "Epoch 150/500\n",
      "12/12 - 0s - loss: 0.0235 - mae: 0.1117 - val_loss: 0.0342 - val_mae: 0.1292 - 145ms/epoch - 12ms/step\n",
      "Epoch 151/500\n",
      "12/12 - 0s - loss: 0.0233 - mae: 0.1103 - val_loss: 0.0342 - val_mae: 0.1280 - 143ms/epoch - 12ms/step\n",
      "Epoch 152/500\n",
      "12/12 - 0s - loss: 0.0233 - mae: 0.1097 - val_loss: 0.0344 - val_mae: 0.1268 - 167ms/epoch - 14ms/step\n",
      "Epoch 153/500\n",
      "12/12 - 0s - loss: 0.0233 - mae: 0.1088 - val_loss: 0.0343 - val_mae: 0.1268 - 147ms/epoch - 12ms/step\n",
      "Epoch 154/500\n",
      "12/12 - 0s - loss: 0.0232 - mae: 0.1085 - val_loss: 0.0345 - val_mae: 0.1262 - 148ms/epoch - 12ms/step\n",
      "Epoch 155/500\n",
      "12/12 - 0s - loss: 0.0232 - mae: 0.1071 - val_loss: 0.0341 - val_mae: 0.1273 - 141ms/epoch - 12ms/step\n",
      "Epoch 156/500\n",
      "12/12 - 0s - loss: 0.0231 - mae: 0.1096 - val_loss: 0.0341 - val_mae: 0.1273 - 141ms/epoch - 12ms/step\n",
      "Epoch 157/500\n",
      "12/12 - 0s - loss: 0.0231 - mae: 0.1087 - val_loss: 0.0340 - val_mae: 0.1275 - 141ms/epoch - 12ms/step\n",
      "Epoch 158/500\n",
      "12/12 - 0s - loss: 0.0230 - mae: 0.1090 - val_loss: 0.0340 - val_mae: 0.1277 - 146ms/epoch - 12ms/step\n",
      "Epoch 159/500\n",
      "12/12 - 0s - loss: 0.0230 - mae: 0.1092 - val_loss: 0.0342 - val_mae: 0.1261 - 154ms/epoch - 13ms/step\n",
      "Epoch 160/500\n",
      "12/12 - 0s - loss: 0.0230 - mae: 0.1071 - val_loss: 0.0343 - val_mae: 0.1258 - 140ms/epoch - 12ms/step\n",
      "Epoch 161/500\n",
      "12/12 - 0s - loss: 0.0229 - mae: 0.1066 - val_loss: 0.0342 - val_mae: 0.1258 - 144ms/epoch - 12ms/step\n",
      "Epoch 162/500\n",
      "12/12 - 0s - loss: 0.0229 - mae: 0.1068 - val_loss: 0.0337 - val_mae: 0.1286 - 153ms/epoch - 13ms/step\n",
      "Epoch 163/500\n",
      "12/12 - 0s - loss: 0.0229 - mae: 0.1091 - val_loss: 0.0338 - val_mae: 0.1277 - 191ms/epoch - 16ms/step\n",
      "Epoch 164/500\n",
      "12/12 - 0s - loss: 0.0228 - mae: 0.1089 - val_loss: 0.0336 - val_mae: 0.1325 - 142ms/epoch - 12ms/step\n",
      "Epoch 165/500\n",
      "12/12 - 0s - loss: 0.0229 - mae: 0.1126 - val_loss: 0.0335 - val_mae: 0.1318 - 143ms/epoch - 12ms/step\n",
      "Epoch 166/500\n",
      "12/12 - 0s - loss: 0.0229 - mae: 0.1115 - val_loss: 0.0334 - val_mae: 0.1309 - 146ms/epoch - 12ms/step\n",
      "Epoch 167/500\n",
      "12/12 - 0s - loss: 0.0227 - mae: 0.1120 - val_loss: 0.0336 - val_mae: 0.1270 - 142ms/epoch - 12ms/step\n",
      "Epoch 168/500\n",
      "12/12 - 0s - loss: 0.0226 - mae: 0.1084 - val_loss: 0.0337 - val_mae: 0.1260 - 142ms/epoch - 12ms/step\n",
      "Epoch 169/500\n",
      "12/12 - 0s - loss: 0.0226 - mae: 0.1077 - val_loss: 0.0336 - val_mae: 0.1261 - 143ms/epoch - 12ms/step\n",
      "Epoch 170/500\n",
      "12/12 - 0s - loss: 0.0225 - mae: 0.1071 - val_loss: 0.0335 - val_mae: 0.1260 - 144ms/epoch - 12ms/step\n",
      "Epoch 171/500\n",
      "12/12 - 0s - loss: 0.0224 - mae: 0.1073 - val_loss: 0.0336 - val_mae: 0.1257 - 145ms/epoch - 12ms/step\n",
      "Epoch 172/500\n",
      "12/12 - 0s - loss: 0.0224 - mae: 0.1068 - val_loss: 0.0335 - val_mae: 0.1257 - 139ms/epoch - 12ms/step\n",
      "Epoch 173/500\n",
      "12/12 - 0s - loss: 0.0223 - mae: 0.1067 - val_loss: 0.0336 - val_mae: 0.1251 - 145ms/epoch - 12ms/step\n",
      "Epoch 174/500\n",
      "12/12 - 0s - loss: 0.0224 - mae: 0.1065 - val_loss: 0.0336 - val_mae: 0.1251 - 143ms/epoch - 12ms/step\n",
      "Epoch 175/500\n",
      "12/12 - 0s - loss: 0.0223 - mae: 0.1064 - val_loss: 0.0334 - val_mae: 0.1253 - 150ms/epoch - 12ms/step\n",
      "Epoch 176/500\n",
      "12/12 - 0s - loss: 0.0223 - mae: 0.1064 - val_loss: 0.0335 - val_mae: 0.1249 - 145ms/epoch - 12ms/step\n",
      "Epoch 177/500\n",
      "12/12 - 0s - loss: 0.0222 - mae: 0.1058 - val_loss: 0.0329 - val_mae: 0.1285 - 142ms/epoch - 12ms/step\n",
      "Epoch 178/500\n",
      "12/12 - 0s - loss: 0.0222 - mae: 0.1085 - val_loss: 0.0330 - val_mae: 0.1265 - 141ms/epoch - 12ms/step\n",
      "Epoch 179/500\n",
      "12/12 - 0s - loss: 0.0220 - mae: 0.1073 - val_loss: 0.0331 - val_mae: 0.1253 - 147ms/epoch - 12ms/step\n",
      "Epoch 180/500\n",
      "12/12 - 0s - loss: 0.0220 - mae: 0.1058 - val_loss: 0.0331 - val_mae: 0.1251 - 151ms/epoch - 13ms/step\n",
      "Epoch 181/500\n",
      "12/12 - 0s - loss: 0.0219 - mae: 0.1063 - val_loss: 0.0331 - val_mae: 0.1248 - 153ms/epoch - 13ms/step\n",
      "Epoch 182/500\n",
      "12/12 - 0s - loss: 0.0219 - mae: 0.1046 - val_loss: 0.0330 - val_mae: 0.1249 - 185ms/epoch - 15ms/step\n",
      "Epoch 183/500\n",
      "12/12 - 0s - loss: 0.0219 - mae: 0.1059 - val_loss: 0.0328 - val_mae: 0.1254 - 211ms/epoch - 18ms/step\n",
      "Epoch 184/500\n",
      "12/12 - 0s - loss: 0.0218 - mae: 0.1056 - val_loss: 0.0328 - val_mae: 0.1250 - 151ms/epoch - 13ms/step\n",
      "Epoch 185/500\n",
      "12/12 - 0s - loss: 0.0217 - mae: 0.1054 - val_loss: 0.0328 - val_mae: 0.1246 - 144ms/epoch - 12ms/step\n",
      "Epoch 186/500\n",
      "12/12 - 0s - loss: 0.0217 - mae: 0.1048 - val_loss: 0.0327 - val_mae: 0.1246 - 152ms/epoch - 13ms/step\n",
      "Epoch 187/500\n",
      "12/12 - 0s - loss: 0.0216 - mae: 0.1043 - val_loss: 0.0324 - val_mae: 0.1259 - 197ms/epoch - 16ms/step\n",
      "Epoch 188/500\n",
      "12/12 - 0s - loss: 0.0216 - mae: 0.1056 - val_loss: 0.0324 - val_mae: 0.1250 - 173ms/epoch - 14ms/step\n",
      "Epoch 189/500\n",
      "12/12 - 0s - loss: 0.0215 - mae: 0.1054 - val_loss: 0.0324 - val_mae: 0.1246 - 145ms/epoch - 12ms/step\n",
      "Epoch 190/500\n",
      "12/12 - 0s - loss: 0.0214 - mae: 0.1046 - val_loss: 0.0325 - val_mae: 0.1243 - 146ms/epoch - 12ms/step\n",
      "Epoch 191/500\n",
      "12/12 - 0s - loss: 0.0214 - mae: 0.1043 - val_loss: 0.0322 - val_mae: 0.1254 - 144ms/epoch - 12ms/step\n",
      "Epoch 192/500\n",
      "12/12 - 0s - loss: 0.0213 - mae: 0.1051 - val_loss: 0.0324 - val_mae: 0.1242 - 142ms/epoch - 12ms/step\n",
      "Epoch 193/500\n",
      "12/12 - 0s - loss: 0.0213 - mae: 0.1032 - val_loss: 0.0322 - val_mae: 0.1246 - 144ms/epoch - 12ms/step\n",
      "Epoch 194/500\n",
      "12/12 - 0s - loss: 0.0212 - mae: 0.1045 - val_loss: 0.0320 - val_mae: 0.1250 - 156ms/epoch - 13ms/step\n",
      "Epoch 195/500\n",
      "12/12 - 0s - loss: 0.0212 - mae: 0.1048 - val_loss: 0.0321 - val_mae: 0.1243 - 144ms/epoch - 12ms/step\n",
      "Epoch 196/500\n",
      "12/12 - 0s - loss: 0.0211 - mae: 0.1040 - val_loss: 0.0319 - val_mae: 0.1247 - 198ms/epoch - 16ms/step\n",
      "Epoch 197/500\n",
      "12/12 - 0s - loss: 0.0211 - mae: 0.1047 - val_loss: 0.0318 - val_mae: 0.1246 - 151ms/epoch - 13ms/step\n",
      "Epoch 198/500\n",
      "12/12 - 0s - loss: 0.0210 - mae: 0.1044 - val_loss: 0.0320 - val_mae: 0.1237 - 153ms/epoch - 13ms/step\n",
      "Epoch 199/500\n",
      "12/12 - 0s - loss: 0.0210 - mae: 0.1028 - val_loss: 0.0318 - val_mae: 0.1241 - 154ms/epoch - 13ms/step\n",
      "Epoch 200/500\n",
      "12/12 - 0s - loss: 0.0209 - mae: 0.1036 - val_loss: 0.0317 - val_mae: 0.1240 - 195ms/epoch - 16ms/step\n",
      "Epoch 201/500\n",
      "12/12 - 0s - loss: 0.0208 - mae: 0.1039 - val_loss: 0.0321 - val_mae: 0.1232 - 203ms/epoch - 17ms/step\n",
      "Epoch 202/500\n",
      "12/12 - 0s - loss: 0.0209 - mae: 0.1021 - val_loss: 0.0320 - val_mae: 0.1230 - 223ms/epoch - 19ms/step\n",
      "Epoch 203/500\n",
      "12/12 - 0s - loss: 0.0208 - mae: 0.1016 - val_loss: 0.0318 - val_mae: 0.1232 - 207ms/epoch - 17ms/step\n",
      "Epoch 204/500\n",
      "12/12 - 0s - loss: 0.0207 - mae: 0.1020 - val_loss: 0.0315 - val_mae: 0.1233 - 152ms/epoch - 13ms/step\n",
      "Epoch 205/500\n",
      "12/12 - 0s - loss: 0.0207 - mae: 0.1028 - val_loss: 0.0314 - val_mae: 0.1234 - 170ms/epoch - 14ms/step\n",
      "Epoch 206/500\n",
      "12/12 - 0s - loss: 0.0206 - mae: 0.1022 - val_loss: 0.0314 - val_mae: 0.1231 - 147ms/epoch - 12ms/step\n",
      "Epoch 207/500\n",
      "12/12 - 0s - loss: 0.0206 - mae: 0.1024 - val_loss: 0.0312 - val_mae: 0.1235 - 145ms/epoch - 12ms/step\n",
      "Epoch 208/500\n",
      "12/12 - 0s - loss: 0.0205 - mae: 0.1027 - val_loss: 0.0313 - val_mae: 0.1228 - 150ms/epoch - 12ms/step\n",
      "Epoch 209/500\n",
      "12/12 - 0s - loss: 0.0205 - mae: 0.1020 - val_loss: 0.0310 - val_mae: 0.1233 - 152ms/epoch - 13ms/step\n",
      "Epoch 210/500\n",
      "12/12 - 0s - loss: 0.0204 - mae: 0.1021 - val_loss: 0.0309 - val_mae: 0.1233 - 201ms/epoch - 17ms/step\n",
      "Epoch 211/500\n",
      "12/12 - 0s - loss: 0.0203 - mae: 0.1018 - val_loss: 0.0311 - val_mae: 0.1226 - 175ms/epoch - 15ms/step\n",
      "Epoch 212/500\n",
      "12/12 - 0s - loss: 0.0203 - mae: 0.1021 - val_loss: 0.0312 - val_mae: 0.1224 - 146ms/epoch - 12ms/step\n",
      "Epoch 213/500\n",
      "12/12 - 0s - loss: 0.0203 - mae: 0.1008 - val_loss: 0.0307 - val_mae: 0.1232 - 145ms/epoch - 12ms/step\n",
      "Epoch 214/500\n",
      "12/12 - 0s - loss: 0.0202 - mae: 0.1016 - val_loss: 0.0308 - val_mae: 0.1226 - 147ms/epoch - 12ms/step\n",
      "Epoch 215/500\n",
      "12/12 - 0s - loss: 0.0202 - mae: 0.1013 - val_loss: 0.0305 - val_mae: 0.1237 - 165ms/epoch - 14ms/step\n",
      "Epoch 216/500\n",
      "12/12 - 0s - loss: 0.0201 - mae: 0.1028 - val_loss: 0.0304 - val_mae: 0.1237 - 171ms/epoch - 14ms/step\n",
      "Epoch 217/500\n",
      "12/12 - 0s - loss: 0.0201 - mae: 0.1027 - val_loss: 0.0305 - val_mae: 0.1228 - 161ms/epoch - 13ms/step\n",
      "Epoch 218/500\n",
      "12/12 - 0s - loss: 0.0200 - mae: 0.1014 - val_loss: 0.0305 - val_mae: 0.1225 - 190ms/epoch - 16ms/step\n",
      "Epoch 219/500\n",
      "12/12 - 0s - loss: 0.0200 - mae: 0.1010 - val_loss: 0.0304 - val_mae: 0.1225 - 207ms/epoch - 17ms/step\n",
      "Epoch 220/500\n",
      "12/12 - 0s - loss: 0.0200 - mae: 0.1009 - val_loss: 0.0303 - val_mae: 0.1223 - 175ms/epoch - 15ms/step\n",
      "Epoch 221/500\n",
      "12/12 - 0s - loss: 0.0199 - mae: 0.1008 - val_loss: 0.0303 - val_mae: 0.1220 - 182ms/epoch - 15ms/step\n",
      "Epoch 222/500\n",
      "12/12 - 0s - loss: 0.0199 - mae: 0.1001 - val_loss: 0.0304 - val_mae: 0.1217 - 171ms/epoch - 14ms/step\n",
      "Epoch 223/500\n",
      "12/12 - 0s - loss: 0.0198 - mae: 0.0995 - val_loss: 0.0300 - val_mae: 0.1225 - 170ms/epoch - 14ms/step\n",
      "Epoch 224/500\n",
      "12/12 - 0s - loss: 0.0197 - mae: 0.1003 - val_loss: 0.0304 - val_mae: 0.1213 - 161ms/epoch - 13ms/step\n",
      "Epoch 225/500\n",
      "12/12 - 0s - loss: 0.0198 - mae: 0.0992 - val_loss: 0.0303 - val_mae: 0.1213 - 172ms/epoch - 14ms/step\n",
      "Epoch 226/500\n",
      "12/12 - 0s - loss: 0.0197 - mae: 0.0989 - val_loss: 0.0304 - val_mae: 0.1211 - 152ms/epoch - 13ms/step\n",
      "Epoch 227/500\n",
      "12/12 - 0s - loss: 0.0198 - mae: 0.0986 - val_loss: 0.0301 - val_mae: 0.1211 - 185ms/epoch - 15ms/step\n",
      "Epoch 228/500\n",
      "12/12 - 0s - loss: 0.0197 - mae: 0.0988 - val_loss: 0.0294 - val_mae: 0.1227 - 155ms/epoch - 13ms/step\n",
      "Epoch 229/500\n",
      "12/12 - 0s - loss: 0.0195 - mae: 0.1004 - val_loss: 0.0295 - val_mae: 0.1216 - 153ms/epoch - 13ms/step\n",
      "Epoch 230/500\n",
      "12/12 - 0s - loss: 0.0194 - mae: 0.0994 - val_loss: 0.0294 - val_mae: 0.1220 - 153ms/epoch - 13ms/step\n",
      "Epoch 231/500\n",
      "12/12 - 0s - loss: 0.0194 - mae: 0.0998 - val_loss: 0.0292 - val_mae: 0.1227 - 157ms/epoch - 13ms/step\n",
      "Epoch 232/500\n",
      "12/12 - 0s - loss: 0.0193 - mae: 0.1005 - val_loss: 0.0292 - val_mae: 0.1216 - 156ms/epoch - 13ms/step\n",
      "Epoch 233/500\n",
      "12/12 - 0s - loss: 0.0193 - mae: 0.0995 - val_loss: 0.0293 - val_mae: 0.1209 - 151ms/epoch - 13ms/step\n",
      "Epoch 234/500\n",
      "12/12 - 0s - loss: 0.0192 - mae: 0.0985 - val_loss: 0.0293 - val_mae: 0.1208 - 176ms/epoch - 15ms/step\n",
      "Epoch 235/500\n",
      "12/12 - 0s - loss: 0.0192 - mae: 0.0985 - val_loss: 0.0290 - val_mae: 0.1212 - 163ms/epoch - 14ms/step\n",
      "Epoch 236/500\n",
      "12/12 - 0s - loss: 0.0191 - mae: 0.0991 - val_loss: 0.0288 - val_mae: 0.1216 - 160ms/epoch - 13ms/step\n",
      "Epoch 237/500\n",
      "12/12 - 0s - loss: 0.0191 - mae: 0.0986 - val_loss: 0.0287 - val_mae: 0.1216 - 151ms/epoch - 13ms/step\n",
      "Epoch 238/500\n",
      "12/12 - 0s - loss: 0.0191 - mae: 0.0998 - val_loss: 0.0290 - val_mae: 0.1199 - 178ms/epoch - 15ms/step\n",
      "Epoch 239/500\n",
      "12/12 - 0s - loss: 0.0190 - mae: 0.0971 - val_loss: 0.0286 - val_mae: 0.1212 - 142ms/epoch - 12ms/step\n",
      "Epoch 240/500\n",
      "12/12 - 0s - loss: 0.0189 - mae: 0.0993 - val_loss: 0.0284 - val_mae: 0.1219 - 149ms/epoch - 12ms/step\n",
      "Epoch 241/500\n",
      "12/12 - 0s - loss: 0.0189 - mae: 0.0999 - val_loss: 0.0285 - val_mae: 0.1203 - 185ms/epoch - 15ms/step\n",
      "Epoch 242/500\n",
      "12/12 - 0s - loss: 0.0188 - mae: 0.0974 - val_loss: 0.0283 - val_mae: 0.1211 - 143ms/epoch - 12ms/step\n",
      "Epoch 243/500\n",
      "12/12 - 0s - loss: 0.0188 - mae: 0.0985 - val_loss: 0.0284 - val_mae: 0.1200 - 144ms/epoch - 12ms/step\n",
      "Epoch 244/500\n",
      "12/12 - 0s - loss: 0.0187 - mae: 0.0971 - val_loss: 0.0282 - val_mae: 0.1201 - 141ms/epoch - 12ms/step\n",
      "Epoch 245/500\n",
      "12/12 - 0s - loss: 0.0186 - mae: 0.0977 - val_loss: 0.0284 - val_mae: 0.1192 - 147ms/epoch - 12ms/step\n",
      "Epoch 246/500\n",
      "12/12 - 0s - loss: 0.0186 - mae: 0.0965 - val_loss: 0.0282 - val_mae: 0.1193 - 141ms/epoch - 12ms/step\n",
      "Epoch 247/500\n",
      "12/12 - 0s - loss: 0.0186 - mae: 0.0965 - val_loss: 0.0279 - val_mae: 0.1204 - 146ms/epoch - 12ms/step\n",
      "Epoch 248/500\n",
      "12/12 - 0s - loss: 0.0185 - mae: 0.0980 - val_loss: 0.0284 - val_mae: 0.1184 - 150ms/epoch - 12ms/step\n",
      "Epoch 249/500\n",
      "12/12 - 0s - loss: 0.0186 - mae: 0.0955 - val_loss: 0.0281 - val_mae: 0.1185 - 139ms/epoch - 12ms/step\n",
      "Epoch 250/500\n",
      "12/12 - 0s - loss: 0.0184 - mae: 0.0961 - val_loss: 0.0284 - val_mae: 0.1179 - 157ms/epoch - 13ms/step\n",
      "Epoch 251/500\n",
      "12/12 - 0s - loss: 0.0185 - mae: 0.0946 - val_loss: 0.0277 - val_mae: 0.1187 - 154ms/epoch - 13ms/step\n",
      "Epoch 252/500\n",
      "12/12 - 0s - loss: 0.0183 - mae: 0.0960 - val_loss: 0.0277 - val_mae: 0.1182 - 151ms/epoch - 13ms/step\n",
      "Epoch 253/500\n",
      "12/12 - 0s - loss: 0.0183 - mae: 0.0956 - val_loss: 0.0277 - val_mae: 0.1179 - 154ms/epoch - 13ms/step\n",
      "Epoch 254/500\n",
      "12/12 - 0s - loss: 0.0182 - mae: 0.0951 - val_loss: 0.0276 - val_mae: 0.1180 - 192ms/epoch - 16ms/step\n",
      "Epoch 255/500\n",
      "12/12 - 0s - loss: 0.0181 - mae: 0.0944 - val_loss: 0.0276 - val_mae: 0.1259 - 211ms/epoch - 18ms/step\n",
      "Epoch 256/500\n",
      "12/12 - 0s - loss: 0.0186 - mae: 0.1028 - val_loss: 0.0271 - val_mae: 0.1200 - 145ms/epoch - 12ms/step\n",
      "Epoch 257/500\n",
      "12/12 - 0s - loss: 0.0180 - mae: 0.0967 - val_loss: 0.0271 - val_mae: 0.1184 - 144ms/epoch - 12ms/step\n",
      "Epoch 258/500\n",
      "12/12 - 0s - loss: 0.0179 - mae: 0.0957 - val_loss: 0.0273 - val_mae: 0.1173 - 145ms/epoch - 12ms/step\n",
      "Epoch 259/500\n",
      "12/12 - 0s - loss: 0.0179 - mae: 0.0943 - val_loss: 0.0268 - val_mae: 0.1191 - 165ms/epoch - 14ms/step\n",
      "Epoch 260/500\n",
      "12/12 - 0s - loss: 0.0179 - mae: 0.0963 - val_loss: 0.0267 - val_mae: 0.1194 - 146ms/epoch - 12ms/step\n",
      "Epoch 261/500\n",
      "12/12 - 0s - loss: 0.0179 - mae: 0.0961 - val_loss: 0.0266 - val_mae: 0.1198 - 152ms/epoch - 13ms/step\n",
      "Epoch 262/500\n",
      "12/12 - 0s - loss: 0.0178 - mae: 0.0968 - val_loss: 0.0265 - val_mae: 0.1188 - 167ms/epoch - 14ms/step\n",
      "Epoch 263/500\n",
      "12/12 - 0s - loss: 0.0177 - mae: 0.0961 - val_loss: 0.0265 - val_mae: 0.1176 - 163ms/epoch - 14ms/step\n",
      "Epoch 264/500\n",
      "12/12 - 0s - loss: 0.0176 - mae: 0.0949 - val_loss: 0.0265 - val_mae: 0.1174 - 201ms/epoch - 17ms/step\n",
      "Epoch 265/500\n",
      "12/12 - 0s - loss: 0.0176 - mae: 0.0941 - val_loss: 0.0262 - val_mae: 0.1186 - 144ms/epoch - 12ms/step\n",
      "Epoch 266/500\n",
      "12/12 - 0s - loss: 0.0176 - mae: 0.0952 - val_loss: 0.0263 - val_mae: 0.1165 - 150ms/epoch - 13ms/step\n",
      "Epoch 267/500\n",
      "12/12 - 0s - loss: 0.0174 - mae: 0.0934 - val_loss: 0.0263 - val_mae: 0.1162 - 193ms/epoch - 16ms/step\n",
      "Epoch 268/500\n",
      "12/12 - 0s - loss: 0.0174 - mae: 0.0928 - val_loss: 0.0261 - val_mae: 0.1169 - 149ms/epoch - 12ms/step\n",
      "Epoch 269/500\n",
      "12/12 - 0s - loss: 0.0173 - mae: 0.0936 - val_loss: 0.0260 - val_mae: 0.1162 - 160ms/epoch - 13ms/step\n",
      "Epoch 270/500\n",
      "12/12 - 0s - loss: 0.0173 - mae: 0.0933 - val_loss: 0.0257 - val_mae: 0.1174 - 152ms/epoch - 13ms/step\n",
      "Epoch 271/500\n",
      "12/12 - 0s - loss: 0.0172 - mae: 0.0937 - val_loss: 0.0259 - val_mae: 0.1152 - 148ms/epoch - 12ms/step\n",
      "Epoch 272/500\n",
      "12/12 - 0s - loss: 0.0172 - mae: 0.0920 - val_loss: 0.0258 - val_mae: 0.1150 - 144ms/epoch - 12ms/step\n",
      "Epoch 273/500\n",
      "12/12 - 0s - loss: 0.0171 - mae: 0.0918 - val_loss: 0.0258 - val_mae: 0.1149 - 145ms/epoch - 12ms/step\n",
      "Epoch 274/500\n",
      "12/12 - 0s - loss: 0.0171 - mae: 0.0916 - val_loss: 0.0262 - val_mae: 0.1142 - 217ms/epoch - 18ms/step\n",
      "Epoch 275/500\n",
      "12/12 - 0s - loss: 0.0172 - mae: 0.0909 - val_loss: 0.0263 - val_mae: 0.1140 - 157ms/epoch - 13ms/step\n",
      "Epoch 276/500\n",
      "12/12 - 0s - loss: 0.0171 - mae: 0.0901 - val_loss: 0.0255 - val_mae: 0.1145 - 153ms/epoch - 13ms/step\n",
      "Epoch 277/500\n",
      "12/12 - 0s - loss: 0.0169 - mae: 0.0909 - val_loss: 0.0255 - val_mae: 0.1141 - 160ms/epoch - 13ms/step\n",
      "Epoch 278/500\n",
      "12/12 - 0s - loss: 0.0169 - mae: 0.0910 - val_loss: 0.0255 - val_mae: 0.1139 - 146ms/epoch - 12ms/step\n",
      "Epoch 279/500\n",
      "12/12 - 0s - loss: 0.0169 - mae: 0.0907 - val_loss: 0.0253 - val_mae: 0.1139 - 153ms/epoch - 13ms/step\n",
      "Epoch 280/500\n",
      "12/12 - 0s - loss: 0.0168 - mae: 0.0904 - val_loss: 0.0249 - val_mae: 0.1162 - 160ms/epoch - 13ms/step\n",
      "Epoch 281/500\n",
      "12/12 - 0s - loss: 0.0168 - mae: 0.0939 - val_loss: 0.0249 - val_mae: 0.1144 - 151ms/epoch - 13ms/step\n",
      "Epoch 282/500\n",
      "12/12 - 0s - loss: 0.0166 - mae: 0.0911 - val_loss: 0.0248 - val_mae: 0.1177 - 162ms/epoch - 14ms/step\n",
      "Epoch 283/500\n",
      "12/12 - 0s - loss: 0.0167 - mae: 0.0948 - val_loss: 0.0247 - val_mae: 0.1156 - 156ms/epoch - 13ms/step\n",
      "Epoch 284/500\n",
      "12/12 - 0s - loss: 0.0166 - mae: 0.0925 - val_loss: 0.0248 - val_mae: 0.1138 - 144ms/epoch - 12ms/step\n",
      "Epoch 285/500\n",
      "12/12 - 0s - loss: 0.0165 - mae: 0.0909 - val_loss: 0.0250 - val_mae: 0.1130 - 144ms/epoch - 12ms/step\n",
      "Epoch 286/500\n",
      "12/12 - 0s - loss: 0.0165 - mae: 0.0892 - val_loss: 0.0247 - val_mae: 0.1132 - 155ms/epoch - 13ms/step\n",
      "Epoch 287/500\n",
      "12/12 - 0s - loss: 0.0164 - mae: 0.0898 - val_loss: 0.0246 - val_mae: 0.1131 - 151ms/epoch - 13ms/step\n",
      "Epoch 288/500\n",
      "12/12 - 0s - loss: 0.0164 - mae: 0.0898 - val_loss: 0.0244 - val_mae: 0.1137 - 155ms/epoch - 13ms/step\n",
      "Epoch 289/500\n",
      "12/12 - 0s - loss: 0.0163 - mae: 0.0903 - val_loss: 0.0243 - val_mae: 0.1137 - 150ms/epoch - 12ms/step\n",
      "Epoch 290/500\n",
      "12/12 - 0s - loss: 0.0163 - mae: 0.0899 - val_loss: 0.0246 - val_mae: 0.1123 - 151ms/epoch - 13ms/step\n",
      "Epoch 291/500\n",
      "12/12 - 0s - loss: 0.0163 - mae: 0.0891 - val_loss: 0.0243 - val_mae: 0.1125 - 179ms/epoch - 15ms/step\n",
      "Epoch 292/500\n",
      "12/12 - 0s - loss: 0.0162 - mae: 0.0890 - val_loss: 0.0245 - val_mae: 0.1119 - 202ms/epoch - 17ms/step\n",
      "Epoch 293/500\n",
      "12/12 - 0s - loss: 0.0162 - mae: 0.0879 - val_loss: 0.0241 - val_mae: 0.1123 - 177ms/epoch - 15ms/step\n",
      "Epoch 294/500\n",
      "12/12 - 0s - loss: 0.0161 - mae: 0.0889 - val_loss: 0.0242 - val_mae: 0.1117 - 144ms/epoch - 12ms/step\n",
      "Epoch 295/500\n",
      "12/12 - 0s - loss: 0.0161 - mae: 0.0880 - val_loss: 0.0239 - val_mae: 0.1122 - 170ms/epoch - 14ms/step\n",
      "Epoch 296/500\n",
      "12/12 - 0s - loss: 0.0160 - mae: 0.0888 - val_loss: 0.0237 - val_mae: 0.1123 - 151ms/epoch - 13ms/step\n",
      "Epoch 297/500\n",
      "12/12 - 0s - loss: 0.0159 - mae: 0.0892 - val_loss: 0.0236 - val_mae: 0.1121 - 145ms/epoch - 12ms/step\n",
      "Epoch 298/500\n",
      "12/12 - 0s - loss: 0.0159 - mae: 0.0892 - val_loss: 0.0235 - val_mae: 0.1123 - 177ms/epoch - 15ms/step\n",
      "Epoch 299/500\n",
      "12/12 - 0s - loss: 0.0158 - mae: 0.0890 - val_loss: 0.0237 - val_mae: 0.1109 - 154ms/epoch - 13ms/step\n",
      "Epoch 300/500\n",
      "12/12 - 0s - loss: 0.0158 - mae: 0.0879 - val_loss: 0.0234 - val_mae: 0.1113 - 152ms/epoch - 13ms/step\n",
      "Epoch 301/500\n",
      "12/12 - 0s - loss: 0.0157 - mae: 0.0885 - val_loss: 0.0233 - val_mae: 0.1113 - 159ms/epoch - 13ms/step\n",
      "Epoch 302/500\n",
      "12/12 - 0s - loss: 0.0157 - mae: 0.0879 - val_loss: 0.0233 - val_mae: 0.1108 - 151ms/epoch - 13ms/step\n",
      "Epoch 303/500\n",
      "12/12 - 0s - loss: 0.0156 - mae: 0.0877 - val_loss: 0.0235 - val_mae: 0.1101 - 169ms/epoch - 14ms/step\n",
      "Epoch 304/500\n",
      "12/12 - 0s - loss: 0.0156 - mae: 0.0867 - val_loss: 0.0231 - val_mae: 0.1108 - 143ms/epoch - 12ms/step\n",
      "Epoch 305/500\n",
      "12/12 - 0s - loss: 0.0155 - mae: 0.0878 - val_loss: 0.0229 - val_mae: 0.1119 - 145ms/epoch - 12ms/step\n",
      "Epoch 306/500\n",
      "12/12 - 0s - loss: 0.0155 - mae: 0.0891 - val_loss: 0.0230 - val_mae: 0.1105 - 144ms/epoch - 12ms/step\n",
      "Epoch 307/500\n",
      "12/12 - 0s - loss: 0.0154 - mae: 0.0878 - val_loss: 0.0232 - val_mae: 0.1097 - 140ms/epoch - 12ms/step\n",
      "Epoch 308/500\n",
      "12/12 - 0s - loss: 0.0155 - mae: 0.0863 - val_loss: 0.0231 - val_mae: 0.1097 - 143ms/epoch - 12ms/step\n",
      "Epoch 309/500\n",
      "12/12 - 0s - loss: 0.0154 - mae: 0.0868 - val_loss: 0.0226 - val_mae: 0.1111 - 141ms/epoch - 12ms/step\n",
      "Epoch 310/500\n",
      "12/12 - 0s - loss: 0.0153 - mae: 0.0884 - val_loss: 0.0226 - val_mae: 0.1106 - 144ms/epoch - 12ms/step\n",
      "Epoch 311/500\n",
      "12/12 - 0s - loss: 0.0153 - mae: 0.0878 - val_loss: 0.0226 - val_mae: 0.1099 - 144ms/epoch - 12ms/step\n",
      "Epoch 312/500\n",
      "12/12 - 0s - loss: 0.0152 - mae: 0.0871 - val_loss: 0.0226 - val_mae: 0.1095 - 143ms/epoch - 12ms/step\n",
      "Epoch 313/500\n",
      "12/12 - 0s - loss: 0.0151 - mae: 0.0865 - val_loss: 0.0225 - val_mae: 0.1093 - 179ms/epoch - 15ms/step\n",
      "Epoch 314/500\n",
      "12/12 - 0s - loss: 0.0151 - mae: 0.0862 - val_loss: 0.0223 - val_mae: 0.1119 - 143ms/epoch - 12ms/step\n",
      "Epoch 315/500\n",
      "12/12 - 0s - loss: 0.0152 - mae: 0.0887 - val_loss: 0.0221 - val_mae: 0.1096 - 143ms/epoch - 12ms/step\n",
      "Epoch 316/500\n",
      "12/12 - 0s - loss: 0.0150 - mae: 0.0864 - val_loss: 0.0221 - val_mae: 0.1088 - 141ms/epoch - 12ms/step\n",
      "Epoch 317/500\n",
      "12/12 - 0s - loss: 0.0149 - mae: 0.0849 - val_loss: 0.0219 - val_mae: 0.1094 - 143ms/epoch - 12ms/step\n",
      "Epoch 318/500\n",
      "12/12 - 0s - loss: 0.0149 - mae: 0.0862 - val_loss: 0.0221 - val_mae: 0.1083 - 151ms/epoch - 13ms/step\n",
      "Epoch 319/500\n",
      "12/12 - 0s - loss: 0.0148 - mae: 0.0843 - val_loss: 0.0219 - val_mae: 0.1115 - 162ms/epoch - 13ms/step\n",
      "Epoch 320/500\n",
      "12/12 - 0s - loss: 0.0149 - mae: 0.0879 - val_loss: 0.0218 - val_mae: 0.1083 - 165ms/epoch - 14ms/step\n",
      "Epoch 321/500\n",
      "12/12 - 0s - loss: 0.0147 - mae: 0.0852 - val_loss: 0.0218 - val_mae: 0.1080 - 169ms/epoch - 14ms/step\n",
      "Epoch 322/500\n",
      "12/12 - 0s - loss: 0.0147 - mae: 0.0842 - val_loss: 0.0216 - val_mae: 0.1083 - 222ms/epoch - 18ms/step\n",
      "Epoch 323/500\n",
      "12/12 - 0s - loss: 0.0147 - mae: 0.0850 - val_loss: 0.0218 - val_mae: 0.1075 - 158ms/epoch - 13ms/step\n",
      "Epoch 324/500\n",
      "12/12 - 0s - loss: 0.0146 - mae: 0.0836 - val_loss: 0.0215 - val_mae: 0.1078 - 170ms/epoch - 14ms/step\n",
      "Epoch 325/500\n",
      "12/12 - 0s - loss: 0.0146 - mae: 0.0848 - val_loss: 0.0214 - val_mae: 0.1081 - 188ms/epoch - 16ms/step\n",
      "Epoch 326/500\n",
      "12/12 - 0s - loss: 0.0145 - mae: 0.0854 - val_loss: 0.0215 - val_mae: 0.1072 - 154ms/epoch - 13ms/step\n",
      "Epoch 327/500\n",
      "12/12 - 0s - loss: 0.0145 - mae: 0.0835 - val_loss: 0.0213 - val_mae: 0.1074 - 212ms/epoch - 18ms/step\n",
      "Epoch 328/500\n",
      "12/12 - 0s - loss: 0.0144 - mae: 0.0845 - val_loss: 0.0215 - val_mae: 0.1069 - 143ms/epoch - 12ms/step\n",
      "Epoch 329/500\n",
      "12/12 - 0s - loss: 0.0145 - mae: 0.0828 - val_loss: 0.0212 - val_mae: 0.1072 - 153ms/epoch - 13ms/step\n",
      "Epoch 330/500\n",
      "12/12 - 0s - loss: 0.0144 - mae: 0.0842 - val_loss: 0.0211 - val_mae: 0.1071 - 148ms/epoch - 12ms/step\n",
      "Epoch 331/500\n",
      "12/12 - 0s - loss: 0.0143 - mae: 0.0838 - val_loss: 0.0213 - val_mae: 0.1065 - 156ms/epoch - 13ms/step\n",
      "Epoch 332/500\n",
      "12/12 - 0s - loss: 0.0143 - mae: 0.0826 - val_loss: 0.0209 - val_mae: 0.1075 - 170ms/epoch - 14ms/step\n",
      "Epoch 333/500\n",
      "12/12 - 0s - loss: 0.0143 - mae: 0.0841 - val_loss: 0.0209 - val_mae: 0.1071 - 161ms/epoch - 13ms/step\n",
      "Epoch 334/500\n",
      "12/12 - 0s - loss: 0.0142 - mae: 0.0842 - val_loss: 0.0208 - val_mae: 0.1074 - 162ms/epoch - 14ms/step\n",
      "Epoch 335/500\n",
      "12/12 - 0s - loss: 0.0142 - mae: 0.0842 - val_loss: 0.0210 - val_mae: 0.1061 - 155ms/epoch - 13ms/step\n",
      "Epoch 336/500\n",
      "12/12 - 0s - loss: 0.0142 - mae: 0.0826 - val_loss: 0.0208 - val_mae: 0.1061 - 158ms/epoch - 13ms/step\n",
      "Epoch 337/500\n",
      "12/12 - 0s - loss: 0.0141 - mae: 0.0825 - val_loss: 0.0206 - val_mae: 0.1074 - 150ms/epoch - 12ms/step\n",
      "Epoch 338/500\n",
      "12/12 - 0s - loss: 0.0141 - mae: 0.0845 - val_loss: 0.0206 - val_mae: 0.1065 - 145ms/epoch - 12ms/step\n",
      "Epoch 339/500\n",
      "12/12 - 0s - loss: 0.0141 - mae: 0.0836 - val_loss: 0.0206 - val_mae: 0.1058 - 249ms/epoch - 21ms/step\n",
      "Epoch 340/500\n",
      "12/12 - 0s - loss: 0.0140 - mae: 0.0829 - val_loss: 0.0208 - val_mae: 0.1055 - 242ms/epoch - 20ms/step\n",
      "Epoch 341/500\n",
      "12/12 - 0s - loss: 0.0140 - mae: 0.0819 - val_loss: 0.0204 - val_mae: 0.1058 - 209ms/epoch - 17ms/step\n",
      "Epoch 342/500\n",
      "12/12 - 0s - loss: 0.0139 - mae: 0.0828 - val_loss: 0.0204 - val_mae: 0.1056 - 154ms/epoch - 13ms/step\n",
      "Epoch 343/500\n",
      "12/12 - 0s - loss: 0.0139 - mae: 0.0828 - val_loss: 0.0203 - val_mae: 0.1054 - 147ms/epoch - 12ms/step\n",
      "Epoch 344/500\n",
      "12/12 - 0s - loss: 0.0139 - mae: 0.0826 - val_loss: 0.0205 - val_mae: 0.1050 - 187ms/epoch - 16ms/step\n",
      "Epoch 345/500\n",
      "12/12 - 0s - loss: 0.0139 - mae: 0.0815 - val_loss: 0.0205 - val_mae: 0.1049 - 202ms/epoch - 17ms/step\n",
      "Epoch 346/500\n",
      "12/12 - 0s - loss: 0.0139 - mae: 0.0812 - val_loss: 0.0204 - val_mae: 0.1047 - 156ms/epoch - 13ms/step\n",
      "Epoch 347/500\n",
      "12/12 - 0s - loss: 0.0138 - mae: 0.0812 - val_loss: 0.0205 - val_mae: 0.1046 - 262ms/epoch - 22ms/step\n",
      "Epoch 348/500\n",
      "12/12 - 0s - loss: 0.0138 - mae: 0.0806 - val_loss: 0.0201 - val_mae: 0.1051 - 154ms/epoch - 13ms/step\n",
      "Epoch 349/500\n",
      "12/12 - 0s - loss: 0.0137 - mae: 0.0820 - val_loss: 0.0201 - val_mae: 0.1047 - 253ms/epoch - 21ms/step\n",
      "Epoch 350/500\n",
      "12/12 - 0s - loss: 0.0137 - mae: 0.0818 - val_loss: 0.0200 - val_mae: 0.1045 - 201ms/epoch - 17ms/step\n",
      "Epoch 351/500\n",
      "12/12 - 0s - loss: 0.0136 - mae: 0.0809 - val_loss: 0.0198 - val_mae: 0.1054 - 212ms/epoch - 18ms/step\n",
      "Epoch 352/500\n",
      "12/12 - 0s - loss: 0.0136 - mae: 0.0825 - val_loss: 0.0199 - val_mae: 0.1042 - 164ms/epoch - 14ms/step\n",
      "Epoch 353/500\n",
      "12/12 - 0s - loss: 0.0136 - mae: 0.0811 - val_loss: 0.0197 - val_mae: 0.1047 - 192ms/epoch - 16ms/step\n",
      "Epoch 354/500\n",
      "12/12 - 0s - loss: 0.0136 - mae: 0.0817 - val_loss: 0.0197 - val_mae: 0.1043 - 164ms/epoch - 14ms/step\n",
      "Epoch 355/500\n",
      "12/12 - 0s - loss: 0.0135 - mae: 0.0816 - val_loss: 0.0197 - val_mae: 0.1041 - 200ms/epoch - 17ms/step\n",
      "Epoch 356/500\n",
      "12/12 - 0s - loss: 0.0135 - mae: 0.0812 - val_loss: 0.0199 - val_mae: 0.1036 - 167ms/epoch - 14ms/step\n",
      "Epoch 357/500\n",
      "12/12 - 0s - loss: 0.0135 - mae: 0.0802 - val_loss: 0.0199 - val_mae: 0.1035 - 172ms/epoch - 14ms/step\n",
      "Epoch 358/500\n",
      "12/12 - 0s - loss: 0.0135 - mae: 0.0802 - val_loss: 0.0197 - val_mae: 0.1034 - 165ms/epoch - 14ms/step\n",
      "Epoch 359/500\n",
      "12/12 - 0s - loss: 0.0134 - mae: 0.0800 - val_loss: 0.0196 - val_mae: 0.1034 - 163ms/epoch - 14ms/step\n",
      "Epoch 360/500\n",
      "12/12 - 0s - loss: 0.0135 - mae: 0.0806 - val_loss: 0.0194 - val_mae: 0.1038 - 164ms/epoch - 14ms/step\n",
      "Epoch 361/500\n",
      "12/12 - 0s - loss: 0.0133 - mae: 0.0809 - val_loss: 0.0195 - val_mae: 0.1031 - 168ms/epoch - 14ms/step\n",
      "Epoch 362/500\n",
      "12/12 - 0s - loss: 0.0134 - mae: 0.0800 - val_loss: 0.0194 - val_mae: 0.1031 - 161ms/epoch - 13ms/step\n",
      "Epoch 363/500\n",
      "12/12 - 0s - loss: 0.0133 - mae: 0.0798 - val_loss: 0.0193 - val_mae: 0.1052 - 166ms/epoch - 14ms/step\n",
      "Epoch 364/500\n",
      "12/12 - 0s - loss: 0.0134 - mae: 0.0820 - val_loss: 0.0192 - val_mae: 0.1050 - 167ms/epoch - 14ms/step\n",
      "Epoch 365/500\n",
      "12/12 - 0s - loss: 0.0133 - mae: 0.0824 - val_loss: 0.0191 - val_mae: 0.1028 - 165ms/epoch - 14ms/step\n",
      "Epoch 366/500\n",
      "12/12 - 0s - loss: 0.0132 - mae: 0.0796 - val_loss: 0.0191 - val_mae: 0.1041 - 161ms/epoch - 13ms/step\n",
      "Epoch 367/500\n",
      "12/12 - 0s - loss: 0.0133 - mae: 0.0812 - val_loss: 0.0191 - val_mae: 0.1027 - 165ms/epoch - 14ms/step\n",
      "Epoch 368/500\n",
      "12/12 - 0s - loss: 0.0131 - mae: 0.0800 - val_loss: 0.0191 - val_mae: 0.1023 - 166ms/epoch - 14ms/step\n",
      "Epoch 369/500\n",
      "12/12 - 0s - loss: 0.0131 - mae: 0.0789 - val_loss: 0.0189 - val_mae: 0.1025 - 163ms/epoch - 14ms/step\n",
      "Epoch 370/500\n",
      "12/12 - 0s - loss: 0.0131 - mae: 0.0800 - val_loss: 0.0192 - val_mae: 0.1021 - 162ms/epoch - 14ms/step\n",
      "Epoch 371/500\n",
      "12/12 - 0s - loss: 0.0131 - mae: 0.0784 - val_loss: 0.0188 - val_mae: 0.1022 - 199ms/epoch - 17ms/step\n",
      "Epoch 372/500\n",
      "12/12 - 0s - loss: 0.0131 - mae: 0.0795 - val_loss: 0.0189 - val_mae: 0.1019 - 164ms/epoch - 14ms/step\n",
      "Epoch 373/500\n",
      "12/12 - 0s - loss: 0.0130 - mae: 0.0790 - val_loss: 0.0190 - val_mae: 0.1017 - 154ms/epoch - 13ms/step\n",
      "Epoch 374/500\n",
      "12/12 - 0s - loss: 0.0130 - mae: 0.0782 - val_loss: 0.0186 - val_mae: 0.1021 - 184ms/epoch - 15ms/step\n",
      "Epoch 375/500\n",
      "12/12 - 0s - loss: 0.0129 - mae: 0.0797 - val_loss: 0.0187 - val_mae: 0.1016 - 166ms/epoch - 14ms/step\n",
      "Epoch 376/500\n",
      "12/12 - 0s - loss: 0.0129 - mae: 0.0787 - val_loss: 0.0186 - val_mae: 0.1018 - 170ms/epoch - 14ms/step\n",
      "Epoch 377/500\n",
      "12/12 - 0s - loss: 0.0129 - mae: 0.0791 - val_loss: 0.0187 - val_mae: 0.1013 - 175ms/epoch - 15ms/step\n",
      "Epoch 378/500\n",
      "12/12 - 0s - loss: 0.0129 - mae: 0.0784 - val_loss: 0.0193 - val_mae: 0.1016 - 169ms/epoch - 14ms/step\n",
      "Epoch 379/500\n",
      "12/12 - 0s - loss: 0.0130 - mae: 0.0776 - val_loss: 0.0188 - val_mae: 0.1011 - 164ms/epoch - 14ms/step\n",
      "Epoch 380/500\n",
      "12/12 - 0s - loss: 0.0129 - mae: 0.0783 - val_loss: 0.0183 - val_mae: 0.1014 - 160ms/epoch - 13ms/step\n",
      "Epoch 381/500\n",
      "12/12 - 0s - loss: 0.0128 - mae: 0.0789 - val_loss: 0.0183 - val_mae: 0.1012 - 165ms/epoch - 14ms/step\n",
      "Epoch 382/500\n",
      "12/12 - 0s - loss: 0.0127 - mae: 0.0784 - val_loss: 0.0182 - val_mae: 0.1011 - 161ms/epoch - 13ms/step\n",
      "Epoch 383/500\n",
      "12/12 - 0s - loss: 0.0127 - mae: 0.0784 - val_loss: 0.0182 - val_mae: 0.1006 - 165ms/epoch - 14ms/step\n",
      "Epoch 384/500\n",
      "12/12 - 0s - loss: 0.0127 - mae: 0.0778 - val_loss: 0.0182 - val_mae: 0.1005 - 166ms/epoch - 14ms/step\n",
      "Epoch 385/500\n",
      "12/12 - 0s - loss: 0.0127 - mae: 0.0780 - val_loss: 0.0181 - val_mae: 0.1005 - 158ms/epoch - 13ms/step\n",
      "Epoch 386/500\n",
      "12/12 - 0s - loss: 0.0126 - mae: 0.0777 - val_loss: 0.0181 - val_mae: 0.1003 - 166ms/epoch - 14ms/step\n",
      "Epoch 387/500\n",
      "12/12 - 0s - loss: 0.0126 - mae: 0.0774 - val_loss: 0.0181 - val_mae: 0.1002 - 180ms/epoch - 15ms/step\n",
      "Epoch 388/500\n",
      "12/12 - 0s - loss: 0.0126 - mae: 0.0773 - val_loss: 0.0181 - val_mae: 0.1001 - 184ms/epoch - 15ms/step\n",
      "Epoch 389/500\n",
      "12/12 - 0s - loss: 0.0126 - mae: 0.0774 - val_loss: 0.0178 - val_mae: 0.1005 - 164ms/epoch - 14ms/step\n",
      "Epoch 390/500\n",
      "12/12 - 0s - loss: 0.0125 - mae: 0.0780 - val_loss: 0.0178 - val_mae: 0.1013 - 165ms/epoch - 14ms/step\n",
      "Epoch 391/500\n",
      "12/12 - 0s - loss: 0.0126 - mae: 0.0791 - val_loss: 0.0177 - val_mae: 0.1000 - 184ms/epoch - 15ms/step\n",
      "Epoch 392/500\n",
      "12/12 - 0s - loss: 0.0125 - mae: 0.0776 - val_loss: 0.0178 - val_mae: 0.0997 - 164ms/epoch - 14ms/step\n",
      "Epoch 393/500\n",
      "12/12 - 0s - loss: 0.0124 - mae: 0.0772 - val_loss: 0.0177 - val_mae: 0.0996 - 165ms/epoch - 14ms/step\n",
      "Epoch 394/500\n",
      "12/12 - 0s - loss: 0.0124 - mae: 0.0770 - val_loss: 0.0177 - val_mae: 0.0994 - 167ms/epoch - 14ms/step\n",
      "Epoch 395/500\n",
      "12/12 - 0s - loss: 0.0124 - mae: 0.0766 - val_loss: 0.0177 - val_mae: 0.0993 - 172ms/epoch - 14ms/step\n",
      "Epoch 396/500\n",
      "12/12 - 0s - loss: 0.0123 - mae: 0.0761 - val_loss: 0.0176 - val_mae: 0.1001 - 215ms/epoch - 18ms/step\n",
      "Epoch 397/500\n",
      "12/12 - 0s - loss: 0.0124 - mae: 0.0783 - val_loss: 0.0175 - val_mae: 0.0994 - 180ms/epoch - 15ms/step\n",
      "Epoch 398/500\n",
      "12/12 - 0s - loss: 0.0123 - mae: 0.0773 - val_loss: 0.0175 - val_mae: 0.0998 - 153ms/epoch - 13ms/step\n",
      "Epoch 399/500\n",
      "12/12 - 0s - loss: 0.0123 - mae: 0.0782 - val_loss: 0.0176 - val_mae: 0.0990 - 144ms/epoch - 12ms/step\n",
      "Epoch 400/500\n",
      "12/12 - 0s - loss: 0.0123 - mae: 0.0765 - val_loss: 0.0176 - val_mae: 0.0989 - 193ms/epoch - 16ms/step\n",
      "Epoch 401/500\n",
      "12/12 - 0s - loss: 0.0123 - mae: 0.0768 - val_loss: 0.0175 - val_mae: 0.0987 - 152ms/epoch - 13ms/step\n",
      "Epoch 402/500\n",
      "12/12 - 0s - loss: 0.0122 - mae: 0.0763 - val_loss: 0.0174 - val_mae: 0.0986 - 211ms/epoch - 18ms/step\n",
      "Epoch 403/500\n",
      "12/12 - 0s - loss: 0.0122 - mae: 0.0765 - val_loss: 0.0172 - val_mae: 0.0994 - 153ms/epoch - 13ms/step\n",
      "Epoch 404/500\n",
      "12/12 - 0s - loss: 0.0122 - mae: 0.0780 - val_loss: 0.0172 - val_mae: 0.0992 - 148ms/epoch - 12ms/step\n",
      "Epoch 405/500\n",
      "12/12 - 0s - loss: 0.0122 - mae: 0.0772 - val_loss: 0.0172 - val_mae: 0.0983 - 148ms/epoch - 12ms/step\n",
      "Epoch 406/500\n",
      "12/12 - 0s - loss: 0.0121 - mae: 0.0763 - val_loss: 0.0171 - val_mae: 0.0985 - 151ms/epoch - 13ms/step\n",
      "Epoch 407/500\n",
      "12/12 - 0s - loss: 0.0121 - mae: 0.0771 - val_loss: 0.0171 - val_mae: 0.0980 - 188ms/epoch - 16ms/step\n",
      "Epoch 408/500\n",
      "12/12 - 0s - loss: 0.0120 - mae: 0.0758 - val_loss: 0.0170 - val_mae: 0.0981 - 198ms/epoch - 16ms/step\n",
      "Epoch 409/500\n",
      "12/12 - 0s - loss: 0.0120 - mae: 0.0763 - val_loss: 0.0171 - val_mae: 0.0978 - 158ms/epoch - 13ms/step\n",
      "Epoch 410/500\n",
      "12/12 - 0s - loss: 0.0120 - mae: 0.0758 - val_loss: 0.0170 - val_mae: 0.0978 - 150ms/epoch - 13ms/step\n",
      "Epoch 411/500\n",
      "12/12 - 0s - loss: 0.0120 - mae: 0.0758 - val_loss: 0.0171 - val_mae: 0.0976 - 142ms/epoch - 12ms/step\n",
      "Epoch 412/500\n",
      "12/12 - 0s - loss: 0.0120 - mae: 0.0751 - val_loss: 0.0169 - val_mae: 0.0975 - 172ms/epoch - 14ms/step\n",
      "Epoch 413/500\n",
      "12/12 - 0s - loss: 0.0120 - mae: 0.0759 - val_loss: 0.0170 - val_mae: 0.0974 - 198ms/epoch - 16ms/step\n",
      "Epoch 414/500\n",
      "12/12 - 0s - loss: 0.0120 - mae: 0.0754 - val_loss: 0.0171 - val_mae: 0.0974 - 181ms/epoch - 15ms/step\n",
      "Epoch 415/500\n",
      "12/12 - 0s - loss: 0.0120 - mae: 0.0747 - val_loss: 0.0168 - val_mae: 0.0972 - 148ms/epoch - 12ms/step\n",
      "Epoch 416/500\n",
      "12/12 - 0s - loss: 0.0119 - mae: 0.0755 - val_loss: 0.0167 - val_mae: 0.0971 - 150ms/epoch - 12ms/step\n",
      "Epoch 417/500\n",
      "12/12 - 0s - loss: 0.0119 - mae: 0.0756 - val_loss: 0.0167 - val_mae: 0.0970 - 150ms/epoch - 12ms/step\n",
      "Epoch 418/500\n",
      "12/12 - 0s - loss: 0.0118 - mae: 0.0754 - val_loss: 0.0167 - val_mae: 0.0969 - 149ms/epoch - 12ms/step\n",
      "Epoch 419/500\n",
      "12/12 - 0s - loss: 0.0118 - mae: 0.0749 - val_loss: 0.0167 - val_mae: 0.0968 - 149ms/epoch - 12ms/step\n",
      "Epoch 420/500\n",
      "12/12 - 0s - loss: 0.0118 - mae: 0.0750 - val_loss: 0.0166 - val_mae: 0.0969 - 151ms/epoch - 13ms/step\n",
      "Epoch 421/500\n",
      "12/12 - 0s - loss: 0.0117 - mae: 0.0757 - val_loss: 0.0169 - val_mae: 0.0967 - 150ms/epoch - 12ms/step\n",
      "Epoch 422/500\n",
      "12/12 - 0s - loss: 0.0118 - mae: 0.0741 - val_loss: 0.0166 - val_mae: 0.0965 - 150ms/epoch - 12ms/step\n",
      "Epoch 423/500\n",
      "12/12 - 0s - loss: 0.0117 - mae: 0.0745 - val_loss: 0.0165 - val_mae: 0.0969 - 149ms/epoch - 12ms/step\n",
      "Epoch 424/500\n",
      "12/12 - 0s - loss: 0.0117 - mae: 0.0759 - val_loss: 0.0164 - val_mae: 0.0965 - 194ms/epoch - 16ms/step\n",
      "Epoch 425/500\n",
      "12/12 - 0s - loss: 0.0117 - mae: 0.0751 - val_loss: 0.0164 - val_mae: 0.0963 - 149ms/epoch - 12ms/step\n",
      "Epoch 426/500\n",
      "12/12 - 0s - loss: 0.0116 - mae: 0.0746 - val_loss: 0.0164 - val_mae: 0.0962 - 148ms/epoch - 12ms/step\n",
      "Epoch 427/500\n",
      "12/12 - 0s - loss: 0.0117 - mae: 0.0749 - val_loss: 0.0163 - val_mae: 0.0963 - 143ms/epoch - 12ms/step\n",
      "Epoch 428/500\n",
      "12/12 - 0s - loss: 0.0116 - mae: 0.0753 - val_loss: 0.0163 - val_mae: 0.0959 - 146ms/epoch - 12ms/step\n",
      "Epoch 429/500\n",
      "12/12 - 0s - loss: 0.0116 - mae: 0.0743 - val_loss: 0.0162 - val_mae: 0.0960 - 146ms/epoch - 12ms/step\n",
      "Epoch 430/500\n",
      "12/12 - 0s - loss: 0.0116 - mae: 0.0748 - val_loss: 0.0162 - val_mae: 0.0959 - 148ms/epoch - 12ms/step\n",
      "Epoch 431/500\n",
      "12/12 - 0s - loss: 0.0116 - mae: 0.0746 - val_loss: 0.0161 - val_mae: 0.0960 - 146ms/epoch - 12ms/step\n",
      "Epoch 432/500\n",
      "12/12 - 0s - loss: 0.0116 - mae: 0.0749 - val_loss: 0.0161 - val_mae: 0.0956 - 145ms/epoch - 12ms/step\n",
      "Epoch 433/500\n",
      "12/12 - 0s - loss: 0.0115 - mae: 0.0745 - val_loss: 0.0161 - val_mae: 0.0955 - 143ms/epoch - 12ms/step\n",
      "Epoch 434/500\n",
      "12/12 - 0s - loss: 0.0115 - mae: 0.0737 - val_loss: 0.0162 - val_mae: 0.0953 - 146ms/epoch - 12ms/step\n",
      "Epoch 435/500\n",
      "12/12 - 0s - loss: 0.0115 - mae: 0.0738 - val_loss: 0.0160 - val_mae: 0.0955 - 144ms/epoch - 12ms/step\n",
      "Epoch 436/500\n",
      "12/12 - 0s - loss: 0.0115 - mae: 0.0743 - val_loss: 0.0160 - val_mae: 0.0955 - 157ms/epoch - 13ms/step\n",
      "Epoch 437/500\n",
      "12/12 - 0s - loss: 0.0115 - mae: 0.0745 - val_loss: 0.0159 - val_mae: 0.0952 - 148ms/epoch - 12ms/step\n",
      "Epoch 438/500\n",
      "12/12 - 0s - loss: 0.0114 - mae: 0.0740 - val_loss: 0.0159 - val_mae: 0.0951 - 147ms/epoch - 12ms/step\n",
      "Epoch 439/500\n",
      "12/12 - 0s - loss: 0.0114 - mae: 0.0735 - val_loss: 0.0160 - val_mae: 0.0949 - 146ms/epoch - 12ms/step\n",
      "Epoch 440/500\n",
      "12/12 - 0s - loss: 0.0114 - mae: 0.0737 - val_loss: 0.0161 - val_mae: 0.0948 - 145ms/epoch - 12ms/step\n",
      "Epoch 441/500\n",
      "12/12 - 0s - loss: 0.0114 - mae: 0.0731 - val_loss: 0.0159 - val_mae: 0.0957 - 145ms/epoch - 12ms/step\n",
      "Epoch 442/500\n",
      "12/12 - 0s - loss: 0.0115 - mae: 0.0749 - val_loss: 0.0157 - val_mae: 0.0950 - 146ms/epoch - 12ms/step\n",
      "Epoch 443/500\n",
      "12/12 - 0s - loss: 0.0113 - mae: 0.0744 - val_loss: 0.0158 - val_mae: 0.0945 - 146ms/epoch - 12ms/step\n",
      "Epoch 444/500\n",
      "12/12 - 0s - loss: 0.0114 - mae: 0.0740 - val_loss: 0.0159 - val_mae: 0.0944 - 145ms/epoch - 12ms/step\n",
      "Epoch 445/500\n",
      "12/12 - 0s - loss: 0.0113 - mae: 0.0725 - val_loss: 0.0162 - val_mae: 0.0946 - 147ms/epoch - 12ms/step\n",
      "Epoch 446/500\n",
      "12/12 - 0s - loss: 0.0114 - mae: 0.0724 - val_loss: 0.0155 - val_mae: 0.0946 - 156ms/epoch - 13ms/step\n",
      "Epoch 447/500\n",
      "12/12 - 0s - loss: 0.0114 - mae: 0.0740 - val_loss: 0.0156 - val_mae: 0.0941 - 175ms/epoch - 15ms/step\n",
      "Epoch 448/500\n",
      "12/12 - 0s - loss: 0.0113 - mae: 0.0731 - val_loss: 0.0160 - val_mae: 0.0940 - 216ms/epoch - 18ms/step\n",
      "Epoch 449/500\n",
      "12/12 - 0s - loss: 0.0114 - mae: 0.0724 - val_loss: 0.0156 - val_mae: 0.0938 - 146ms/epoch - 12ms/step\n",
      "Epoch 450/500\n",
      "12/12 - 0s - loss: 0.0112 - mae: 0.0728 - val_loss: 0.0156 - val_mae: 0.0937 - 144ms/epoch - 12ms/step\n",
      "Epoch 451/500\n",
      "12/12 - 0s - loss: 0.0112 - mae: 0.0726 - val_loss: 0.0154 - val_mae: 0.0937 - 146ms/epoch - 12ms/step\n",
      "Epoch 452/500\n",
      "12/12 - 0s - loss: 0.0112 - mae: 0.0728 - val_loss: 0.0155 - val_mae: 0.0934 - 162ms/epoch - 14ms/step\n",
      "Epoch 453/500\n",
      "12/12 - 0s - loss: 0.0112 - mae: 0.0720 - val_loss: 0.0154 - val_mae: 0.0948 - 174ms/epoch - 14ms/step\n",
      "Epoch 454/500\n",
      "12/12 - 0s - loss: 0.0112 - mae: 0.0749 - val_loss: 0.0153 - val_mae: 0.0934 - 157ms/epoch - 13ms/step\n",
      "Epoch 455/500\n",
      "12/12 - 0s - loss: 0.0111 - mae: 0.0730 - val_loss: 0.0153 - val_mae: 0.0935 - 143ms/epoch - 12ms/step\n",
      "Epoch 456/500\n",
      "12/12 - 0s - loss: 0.0111 - mae: 0.0733 - val_loss: 0.0153 - val_mae: 0.0931 - 153ms/epoch - 13ms/step\n",
      "Epoch 457/500\n",
      "12/12 - 0s - loss: 0.0111 - mae: 0.0727 - val_loss: 0.0154 - val_mae: 0.0930 - 156ms/epoch - 13ms/step\n",
      "Epoch 458/500\n",
      "12/12 - 0s - loss: 0.0111 - mae: 0.0721 - val_loss: 0.0155 - val_mae: 0.0929 - 162ms/epoch - 13ms/step\n",
      "Epoch 459/500\n",
      "12/12 - 0s - loss: 0.0111 - mae: 0.0722 - val_loss: 0.0152 - val_mae: 0.0928 - 157ms/epoch - 13ms/step\n",
      "Epoch 460/500\n",
      "12/12 - 0s - loss: 0.0110 - mae: 0.0726 - val_loss: 0.0152 - val_mae: 0.0934 - 163ms/epoch - 14ms/step\n",
      "Epoch 461/500\n",
      "12/12 - 0s - loss: 0.0111 - mae: 0.0735 - val_loss: 0.0151 - val_mae: 0.0930 - 150ms/epoch - 13ms/step\n",
      "Epoch 462/500\n",
      "12/12 - 0s - loss: 0.0110 - mae: 0.0731 - val_loss: 0.0152 - val_mae: 0.0925 - 162ms/epoch - 13ms/step\n",
      "Epoch 463/500\n",
      "12/12 - 0s - loss: 0.0110 - mae: 0.0724 - val_loss: 0.0151 - val_mae: 0.0926 - 144ms/epoch - 12ms/step\n",
      "Epoch 464/500\n",
      "12/12 - 0s - loss: 0.0110 - mae: 0.0724 - val_loss: 0.0151 - val_mae: 0.0923 - 163ms/epoch - 14ms/step\n",
      "Epoch 465/500\n",
      "12/12 - 0s - loss: 0.0110 - mae: 0.0718 - val_loss: 0.0150 - val_mae: 0.0927 - 146ms/epoch - 12ms/step\n",
      "Epoch 466/500\n",
      "12/12 - 0s - loss: 0.0110 - mae: 0.0729 - val_loss: 0.0150 - val_mae: 0.0921 - 143ms/epoch - 12ms/step\n",
      "Epoch 467/500\n",
      "12/12 - 0s - loss: 0.0109 - mae: 0.0721 - val_loss: 0.0151 - val_mae: 0.0920 - 147ms/epoch - 12ms/step\n",
      "Epoch 468/500\n",
      "12/12 - 0s - loss: 0.0109 - mae: 0.0717 - val_loss: 0.0150 - val_mae: 0.0919 - 152ms/epoch - 13ms/step\n",
      "Epoch 469/500\n",
      "12/12 - 0s - loss: 0.0109 - mae: 0.0718 - val_loss: 0.0149 - val_mae: 0.0923 - 146ms/epoch - 12ms/step\n",
      "Epoch 470/500\n",
      "12/12 - 0s - loss: 0.0109 - mae: 0.0727 - val_loss: 0.0149 - val_mae: 0.0920 - 154ms/epoch - 13ms/step\n",
      "Epoch 471/500\n",
      "12/12 - 0s - loss: 0.0109 - mae: 0.0721 - val_loss: 0.0149 - val_mae: 0.0926 - 145ms/epoch - 12ms/step\n",
      "Epoch 472/500\n",
      "12/12 - 0s - loss: 0.0109 - mae: 0.0731 - val_loss: 0.0148 - val_mae: 0.0919 - 147ms/epoch - 12ms/step\n",
      "Epoch 473/500\n",
      "12/12 - 0s - loss: 0.0108 - mae: 0.0722 - val_loss: 0.0148 - val_mae: 0.0917 - 199ms/epoch - 17ms/step\n",
      "Epoch 474/500\n",
      "12/12 - 0s - loss: 0.0108 - mae: 0.0718 - val_loss: 0.0148 - val_mae: 0.0916 - 202ms/epoch - 17ms/step\n",
      "Epoch 475/500\n",
      "12/12 - 0s - loss: 0.0108 - mae: 0.0717 - val_loss: 0.0148 - val_mae: 0.0915 - 188ms/epoch - 16ms/step\n",
      "Epoch 476/500\n",
      "12/12 - 0s - loss: 0.0108 - mae: 0.0712 - val_loss: 0.0157 - val_mae: 0.0984 - 146ms/epoch - 12ms/step\n",
      "Epoch 477/500\n",
      "12/12 - 0s - loss: 0.0114 - mae: 0.0762 - val_loss: 0.0152 - val_mae: 0.0952 - 145ms/epoch - 12ms/step\n",
      "Epoch 478/500\n",
      "12/12 - 0s - loss: 0.0110 - mae: 0.0747 - val_loss: 0.0148 - val_mae: 0.0918 - 148ms/epoch - 12ms/step\n",
      "Epoch 479/500\n",
      "12/12 - 0s - loss: 0.0108 - mae: 0.0724 - val_loss: 0.0147 - val_mae: 0.0915 - 146ms/epoch - 12ms/step\n",
      "Epoch 480/500\n",
      "12/12 - 0s - loss: 0.0108 - mae: 0.0716 - val_loss: 0.0147 - val_mae: 0.0915 - 146ms/epoch - 12ms/step\n",
      "Epoch 481/500\n",
      "12/12 - 0s - loss: 0.0107 - mae: 0.0718 - val_loss: 0.0148 - val_mae: 0.0928 - 145ms/epoch - 12ms/step\n",
      "Epoch 482/500\n",
      "12/12 - 0s - loss: 0.0108 - mae: 0.0732 - val_loss: 0.0146 - val_mae: 0.0913 - 159ms/epoch - 13ms/step\n",
      "Epoch 483/500\n",
      "12/12 - 0s - loss: 0.0107 - mae: 0.0717 - val_loss: 0.0146 - val_mae: 0.0910 - 146ms/epoch - 12ms/step\n",
      "Epoch 484/500\n",
      "12/12 - 0s - loss: 0.0107 - mae: 0.0714 - val_loss: 0.0146 - val_mae: 0.0918 - 148ms/epoch - 12ms/step\n",
      "Epoch 485/500\n",
      "12/12 - 0s - loss: 0.0107 - mae: 0.0723 - val_loss: 0.0145 - val_mae: 0.0908 - 157ms/epoch - 13ms/step\n",
      "Epoch 486/500\n",
      "12/12 - 0s - loss: 0.0107 - mae: 0.0719 - val_loss: 0.0145 - val_mae: 0.0906 - 144ms/epoch - 12ms/step\n",
      "Epoch 487/500\n",
      "12/12 - 0s - loss: 0.0106 - mae: 0.0713 - val_loss: 0.0146 - val_mae: 0.0904 - 147ms/epoch - 12ms/step\n",
      "Epoch 488/500\n",
      "12/12 - 0s - loss: 0.0106 - mae: 0.0706 - val_loss: 0.0145 - val_mae: 0.0903 - 154ms/epoch - 13ms/step\n",
      "Epoch 489/500\n",
      "12/12 - 0s - loss: 0.0106 - mae: 0.0707 - val_loss: 0.0144 - val_mae: 0.0903 - 155ms/epoch - 13ms/step\n",
      "Epoch 490/500\n",
      "12/12 - 0s - loss: 0.0106 - mae: 0.0709 - val_loss: 0.0144 - val_mae: 0.0902 - 163ms/epoch - 14ms/step\n",
      "Epoch 491/500\n",
      "12/12 - 0s - loss: 0.0106 - mae: 0.0709 - val_loss: 0.0143 - val_mae: 0.0904 - 152ms/epoch - 13ms/step\n",
      "Epoch 492/500\n",
      "12/12 - 0s - loss: 0.0106 - mae: 0.0714 - val_loss: 0.0143 - val_mae: 0.0903 - 167ms/epoch - 14ms/step\n",
      "Epoch 493/500\n",
      "12/12 - 0s - loss: 0.0105 - mae: 0.0713 - val_loss: 0.0144 - val_mae: 0.0898 - 196ms/epoch - 16ms/step\n",
      "Epoch 494/500\n",
      "12/12 - 0s - loss: 0.0105 - mae: 0.0710 - val_loss: 0.0143 - val_mae: 0.0898 - 182ms/epoch - 15ms/step\n",
      "Epoch 495/500\n",
      "12/12 - 0s - loss: 0.0105 - mae: 0.0708 - val_loss: 0.0144 - val_mae: 0.0896 - 155ms/epoch - 13ms/step\n",
      "Epoch 496/500\n",
      "12/12 - 0s - loss: 0.0105 - mae: 0.0706 - val_loss: 0.0143 - val_mae: 0.0895 - 166ms/epoch - 14ms/step\n",
      "Epoch 497/500\n",
      "12/12 - 0s - loss: 0.0105 - mae: 0.0708 - val_loss: 0.0147 - val_mae: 0.0935 - 148ms/epoch - 12ms/step\n",
      "Epoch 498/500\n",
      "12/12 - 0s - loss: 0.0107 - mae: 0.0737 - val_loss: 0.0143 - val_mae: 0.0906 - 146ms/epoch - 12ms/step\n",
      "Epoch 499/500\n",
      "12/12 - 0s - loss: 0.0106 - mae: 0.0721 - val_loss: 0.0142 - val_mae: 0.0896 - 158ms/epoch - 13ms/step\n",
      "Epoch 500/500\n",
      "12/12 - 0s - loss: 0.0105 - mae: 0.0706 - val_loss: 0.0142 - val_mae: 0.0896 - 163ms/epoch - 14ms/step\n"
     ]
    }
   ],
   "source": [
    "history = model.fit( X_trn_scaled,y_trn_scaled,validation_data=(X_tst_scaled,y_tst_scaled),verbose=2,epochs=500)"
   ]
  },
  {
   "cell_type": "code",
   "execution_count": 26,
   "metadata": {
    "executionInfo": {
     "elapsed": 22,
     "status": "ok",
     "timestamp": 1644207490258,
     "user": {
      "displayName": "Sanjay Sane",
      "photoUrl": "https://lh3.googleusercontent.com/a-/AOh14GjJl7nlouqFRBHjWKoRQtpGZ1O7Nhx1ylIkeFUEvg=s64",
      "userId": "14183293780199581235"
     },
     "user_tz": -330
    },
    "id": "DxciVvvXzoY7"
   },
   "outputs": [],
   "source": [
    "%matplotlib inline"
   ]
  },
  {
   "cell_type": "code",
   "execution_count": 27,
   "metadata": {
    "colab": {
     "base_uri": "https://localhost:8080/",
     "height": 295
    },
    "executionInfo": {
     "elapsed": 21,
     "status": "ok",
     "timestamp": 1644207490259,
     "user": {
      "displayName": "Sanjay Sane",
      "photoUrl": "https://lh3.googleusercontent.com/a-/AOh14GjJl7nlouqFRBHjWKoRQtpGZ1O7Nhx1ylIkeFUEvg=s64",
      "userId": "14183293780199581235"
     },
     "user_tz": -330
    },
    "id": "cZq1pjdDzoY8",
    "outputId": "c38a7ba1-0900-4a22-c518-4f0f7091082f"
   },
   "outputs": [
    {
     "data": {
      "image/png": "[encoded data removed]",
      "text/plain": [
       "<Figure size 640x480 with 1 Axes>"
      ]
     },
     "metadata": {},
     "output_type": "display_data"
    }
   ],
   "source": [
    "import matplotlib.pyplot as plt\n",
    "plt.plot(history.history['loss'])\n",
    "plt.plot(history.history['val_loss'])\n",
    "plt.title('model loss')\n",
    "plt.ylabel('loss')\n",
    "plt.xlabel('epoch')\n",
    "plt.legend(['train', 'test'], loc='upper right')\n",
    "plt.show()"
   ]
  },
  {
   "cell_type": "code",
   "execution_count": 24,
   "metadata": {},
   "outputs": [
    {
     "data": {
      "text/plain": [
       "array([20.1, 11.9, 20.6, 33.2, 20.8, 13.5, 24.7, 13.9, 10.4, 19.7, 21.4,\n",
       "       20.3, 18.5, 12.7, 22. , 36.2,  7.4, 16.3, 23.3, 17.5, 21.5, 19.5,\n",
       "        8.8, 31.5, 50. , 50. , 23.7, 22.5, 18. , 27.9, 21.7, 28.6, 20. ,\n",
       "       17.5,  8.3, 12.1, 13.8, 27.1, 14.9, 21.9,  8.3, 15.1, 20.4,  8.5,\n",
       "       14.1, 37.9, 16.2, 13.9, 12.5, 15. , 22.3, 11.3, 32.2, 28.2, 23.8,\n",
       "       15.3, 24.3, 25. , 27.5, 19.4, 16.1, 27.5, 13.1, 30.1, 27.1, 18.9,\n",
       "       32.9, 21.2, 36.2, 18.1, 10.2, 23.1,  7.5, 20.1, 23.3, 14.4,  8.1,\n",
       "       10.2,  6.3, 29. , 16.2, 22. , 20.5, 22.8, 23.2,  9.7, 26.6, 27.9,\n",
       "        7.2, 36.5, 22.1, 25. , 23.9, 13.2, 16.7, 22. , 22.8, 19.4, 13.8,\n",
       "       23. , 33.1, 11.7, 44. , 22.3, 23.1, 17.4, 48.3, 29.1,  7. , 37.3,\n",
       "       14.1,  9.5,  5. , 20.6, 31.1, 24.1, 25. , 21.5, 20.6, 29. , 39.8,\n",
       "       23.3, 25.1, 22.9, 26.5, 19.6,  8.7, 23.1, 13.4, 14.9, 19.1, 14. ,\n",
       "       21.1, 22.6, 25. , 42.3, 25. ,  8.4, 29.9,  9.6, 35.2, 46.7, 33.1,\n",
       "       18.9,  7.2, 29.8, 17.5,  8.4, 15.2, 18.5, 18.4, 34.9])"
      ]
     },
     "execution_count": 24,
     "metadata": {},
     "output_type": "execute_result"
    }
   ],
   "source": [
    "y_test"
   ]
  },
  {
   "cell_type": "code",
   "execution_count": 25,
   "metadata": {},
   "outputs": [
    {
     "data": {
      "text/plain": [
       "array([[1.39600e-01, 0.00000e+00, 8.56000e+00, ..., 2.09000e+01,\n",
       "        3.92690e+02, 1.23300e+01],\n",
       "       [2.07162e+01, 0.00000e+00, 1.81000e+01, ..., 2.02000e+01,\n",
       "        3.70220e+02, 2.33400e+01],\n",
       "       [4.83567e+00, 0.00000e+00, 1.81000e+01, ..., 2.02000e+01,\n",
       "        3.88220e+02, 1.14500e+01],\n",
       "       ...,\n",
       "       [3.04100e-02, 0.00000e+00, 5.19000e+00, ..., 2.02000e+01,\n",
       "        3.94810e+02, 1.05600e+01],\n",
       "       [5.66637e+00, 0.00000e+00, 1.81000e+01, ..., 2.02000e+01,\n",
       "        3.95690e+02, 1.65900e+01],\n",
       "       [3.35900e-02, 7.50000e+01, 2.95000e+00, ..., 1.83000e+01,\n",
       "        3.95620e+02, 1.98000e+00]])"
      ]
     },
     "execution_count": 25,
     "metadata": {},
     "output_type": "execute_result"
    }
   ],
   "source": [
    "X_test"
   ]
  },
  {
   "cell_type": "code",
   "execution_count": 28,
   "metadata": {
    "colab": {
     "base_uri": "https://localhost:8080/"
    },
    "executionInfo": {
     "elapsed": 647,
     "status": "ok",
     "timestamp": 1644207490887,
     "user": {
      "displayName": "Sanjay Sane",
      "photoUrl": "https://lh3.googleusercontent.com/a-/AOh14GjJl7nlouqFRBHjWKoRQtpGZ1O7Nhx1ylIkeFUEvg=s64",
      "userId": "14183293780199581235"
     },
     "user_tz": -330
    },
    "id": "YL66ttJHzoY8",
    "outputId": "3e1503e5-c1ef-4c7c-df03-f7e0f311c112"
   },
   "outputs": [
    {
     "name": "stdout",
     "output_type": "stream",
     "text": [
      "5/5 [==============================] - 0s 5ms/step\n",
      "RMSE: 30.371443936499254\n"
     ]
    }
   ],
   "source": [
    "from sklearn.metrics import mean_squared_error\n",
    "y_pred_ = model.predict(X_test)\n",
    "RMSE = np.sqrt(mean_squared_error(y_true=y_test,y_pred=y_pred_))\n",
    "print(f\"RMSE: {RMSE}\")"
   ]
  },
  {
   "cell_type": "code",
   "execution_count": 32,
   "metadata": {},
   "outputs": [
    {
     "data": {
      "text/plain": [
       "array([[141.46297 ],\n",
       "       [245.42963 ],\n",
       "       [239.11604 ],\n",
       "       [115.074715],\n",
       "       [248.0495  ],\n",
       "       [108.62582 ],\n",
       "       [111.95262 ],\n",
       "       [111.18263 ],\n",
       "       [221.23225 ],\n",
       "       [137.48628 ],\n",
       "       [242.53534 ],\n",
       "       [133.80652 ],\n",
       "       [150.9989  ],\n",
       "       [219.42912 ],\n",
       "       [108.24178 ],\n",
       "       [120.1675  ],\n",
       "       [242.32858 ],\n",
       "       [238.55127 ],\n",
       "       [139.4848  ],\n",
       "       [131.26102 ],\n",
       "       [120.18572 ],\n",
       "       [141.76807 ],\n",
       "       [239.54576 ],\n",
       "       [126.302864],\n",
       "       [241.60599 ],\n",
       "       [118.61262 ],\n",
       "       [112.52986 ],\n",
       "       [115.97233 ],\n",
       "       [151.80304 ],\n",
       "       [114.04103 ],\n",
       "       [112.955086],\n",
       "       [117.56091 ],\n",
       "       [119.585396],\n",
       "       [137.64565 ],\n",
       "       [243.59723 ],\n",
       "       [244.60577 ],\n",
       "       [240.31526 ],\n",
       "       [122.7723  ],\n",
       "       [247.41646 ],\n",
       "       [242.66202 ],\n",
       "       [215.64339 ],\n",
       "       [242.48277 ],\n",
       "       [154.01357 ],\n",
       "       [245.52475 ],\n",
       "       [242.91576 ],\n",
       "       [122.99754 ],\n",
       "       [121.77676 ],\n",
       "       [245.76093 ],\n",
       "       [242.68481 ],\n",
       "       [121.67434 ],\n",
       "       [142.02078 ],\n",
       "       [243.55453 ],\n",
       "       [117.212425],\n",
       "       [118.825165],\n",
       "       [123.63736 ],\n",
       "       [140.12012 ],\n",
       "       [125.50452 ],\n",
       "       [114.08751 ],\n",
       "       [242.03836 ],\n",
       "       [116.763275],\n",
       "       [242.83398 ],\n",
       "       [234.81467 ],\n",
       "       [115.896835],\n",
       "       [106.055305],\n",
       "       [118.22566 ],\n",
       "       [122.17799 ],\n",
       "       [125.62981 ],\n",
       "       [150.20126 ],\n",
       "       [118.39153 ],\n",
       "       [152.17137 ],\n",
       "       [242.16074 ],\n",
       "       [124.06075 ],\n",
       "       [214.57497 ],\n",
       "       [105.39665 ],\n",
       "       [119.419464],\n",
       "       [151.50919 ],\n",
       "       [257.78958 ],\n",
       "       [244.14708 ],\n",
       "       [243.01218 ],\n",
       "       [121.49447 ],\n",
       "       [151.97719 ],\n",
       "       [120.877106],\n",
       "       [131.33762 ],\n",
       "       [118.62293 ],\n",
       "       [242.75299 ],\n",
       "       [243.7021  ],\n",
       "       [110.0236  ],\n",
       "       [245.9722  ],\n",
       "       [243.57059 ],\n",
       "       [122.046   ],\n",
       "       [123.52548 ],\n",
       "       [240.05215 ],\n",
       "       [115.67791 ],\n",
       "       [105.385666],\n",
       "       [247.4741  ],\n",
       "       [121.81027 ],\n",
       "       [125.60173 ],\n",
       "       [146.80208 ],\n",
       "       [241.93965 ],\n",
       "       [117.90356 ],\n",
       "       [119.83916 ],\n",
       "       [227.0194  ],\n",
       "       [115.53676 ],\n",
       "       [126.0287  ],\n",
       "       [121.6898  ],\n",
       "       [152.71524 ],\n",
       "       [126.1417  ],\n",
       "       [112.21417 ],\n",
       "       [258.57413 ],\n",
       "       [115.36892 ],\n",
       "       [219.5556  ],\n",
       "       [213.5958  ],\n",
       "       [247.7106  ],\n",
       "       [239.63734 ],\n",
       "       [113.835464],\n",
       "       [126.633286],\n",
       "       [147.1559  ],\n",
       "       [139.67984 ],\n",
       "       [119.30452 ],\n",
       "       [116.3399  ],\n",
       "       [121.60787 ],\n",
       "       [123.49562 ],\n",
       "       [123.59328 ],\n",
       "       [124.79317 ],\n",
       "       [137.77408 ],\n",
       "       [119.586205],\n",
       "       [213.1891  ],\n",
       "       [120.64284 ],\n",
       "       [221.44815 ],\n",
       "       [248.67715 ],\n",
       "       [141.02667 ],\n",
       "       [153.22046 ],\n",
       "       [110.3659  ],\n",
       "       [147.52844 ],\n",
       "       [119.21657 ],\n",
       "       [121.53487 ],\n",
       "       [116.113205],\n",
       "       [206.31375 ],\n",
       "       [123.61177 ],\n",
       "       [220.96259 ],\n",
       "       [114.35113 ],\n",
       "       [115.96139 ],\n",
       "       [115.31941 ],\n",
       "       [156.14484 ],\n",
       "       [242.54883 ],\n",
       "       [129.95291 ],\n",
       "       [119.837685],\n",
       "       [218.52243 ],\n",
       "       [121.45576 ],\n",
       "       [117.595   ],\n",
       "       [242.59467 ],\n",
       "       [113.854324]], dtype=float32)"
      ]
     },
     "execution_count": 32,
     "metadata": {},
     "output_type": "execute_result"
    }
   ],
   "source": [
    "y_pred_"
   ]
  },
  {
   "cell_type": "code",
   "execution_count": 29,
   "metadata": {
    "colab": {
     "base_uri": "https://localhost:8080/"
    },
    "executionInfo": {
     "elapsed": 12,
     "status": "ok",
     "timestamp": 1644207490888,
     "user": {
      "displayName": "Sanjay Sane",
      "photoUrl": "https://lh3.googleusercontent.com/a-/AOh14GjJl7nlouqFRBHjWKoRQtpGZ1O7Nhx1ylIkeFUEvg=s64",
      "userId": "14183293780199581235"
     },
     "user_tz": -330
    },
    "id": "Ud7hHj7nzoY9",
    "outputId": "93bf6d49-b73f-457d-f2a8-14a443c34731"
   },
   "outputs": [
    {
     "name": "stdout",
     "output_type": "stream",
     "text": [
      "MAE: 22.775639231581437\n"
     ]
    }
   ],
   "source": [
    "from sklearn.metrics import mean_absolute_error\n",
    "MAE = mean_absolute_error(y_true=y_test,y_pred=y_pred_)\n",
    "print(f\"MAE: {MAE}\")"
   ]
  },
  {
   "cell_type": "markdown",
   "metadata": {
    "id": "J68DAGEzzoY9"
   },
   "source": [
    "# Early Stopping"
   ]
  },
  {
   "cell_type": "markdown",
   "metadata": {
    "id": "EQXNDrKNzoY-"
   },
   "source": [
    "If we continue to train the network, it may overfit. We can have a stop point where the accuracy may start falling."
   ]
  },
  {
   "cell_type": "markdown",
   "metadata": {
    "id": "68RPHsVnzoY-"
   },
   "source": [
    "For getting reproducible results, we set random number seed "
   ]
  },
  {
   "cell_type": "markdown",
   "metadata": {
    "id": "dIpeeE_1zoY-"
   },
   "source": [
    "**Model Definition:**"
   ]
  },
  {
   "cell_type": "code",
   "execution_count": 37,
   "metadata": {
    "executionInfo": {
     "elapsed": 10,
     "status": "ok",
     "timestamp": 1644207490888,
     "user": {
      "displayName": "Sanjay Sane",
      "photoUrl": "https://lh3.googleusercontent.com/a-/AOh14GjJl7nlouqFRBHjWKoRQtpGZ1O7Nhx1ylIkeFUEvg=s64",
      "userId": "14183293780199581235"
     },
     "user_tz": -330
    },
    "id": "TGEd1787zoY_"
   },
   "outputs": [],
   "source": [
    "tf.random.set_seed(2021)\n",
    "model = tf.keras.models.Sequential([\n",
    "    tf.keras.layers.Dense(8, activation='relu',input_shape=(X_train.shape[1], )), \n",
    "    tf.keras.layers.Dense(6, activation='relu'),\n",
    "    tf.keras.layers.Dense(3, activation='relu'), \n",
    "    tf.keras.layers.Dense(1, activation='relu')  \n",
    "])\n",
    "model.compile(optimizer='sgd', loss='mean_squared_error',metrics=['mae'])"
   ]
  },
  {
   "cell_type": "code",
   "execution_count": 38,
   "metadata": {
    "colab": {
     "base_uri": "https://localhost:8080/"
    },
    "executionInfo": {
     "elapsed": 1419,
     "status": "ok",
     "timestamp": 1644207492298,
     "user": {
      "displayName": "Sanjay Sane",
      "photoUrl": "https://lh3.googleusercontent.com/a-/AOh14GjJl7nlouqFRBHjWKoRQtpGZ1O7Nhx1ylIkeFUEvg=s64",
      "userId": "14183293780199581235"
     },
     "user_tz": -330
    },
    "id": "xQV6SGHazoY_",
    "outputId": "f411f227-ca93-4eda-8f4a-1e13d70084ef"
   },
   "outputs": [
    {
     "name": "stdout",
     "output_type": "stream",
     "text": [
      "Epoch 1/500\n",
      "12/12 - 3s - loss: 0.1786 - mae: 0.3742 - val_loss: 0.2177 - val_mae: 0.4136 - 3s/epoch - 279ms/step\n",
      "Epoch 2/500\n",
      "12/12 - 0s - loss: 0.1693 - mae: 0.3617 - val_loss: 0.2003 - val_mae: 0.3922 - 157ms/epoch - 13ms/step\n",
      "Epoch 3/500\n",
      "12/12 - 0s - loss: 0.1475 - mae: 0.3280 - val_loss: 0.1626 - val_mae: 0.3370 - 173ms/epoch - 14ms/step\n",
      "Epoch 4/500\n",
      "12/12 - 0s - loss: 0.1097 - mae: 0.2648 - val_loss: 0.1223 - val_mae: 0.2761 - 158ms/epoch - 13ms/step\n",
      "Epoch 5/500\n",
      "12/12 - 0s - loss: 0.0798 - mae: 0.2144 - val_loss: 0.0965 - val_mae: 0.2336 - 147ms/epoch - 12ms/step\n",
      "Epoch 6/500\n",
      "12/12 - 0s - loss: 0.0636 - mae: 0.1858 - val_loss: 0.0816 - val_mae: 0.2067 - 150ms/epoch - 12ms/step\n",
      "Epoch 7/500\n",
      "12/12 - 0s - loss: 0.0544 - mae: 0.1700 - val_loss: 0.0709 - val_mae: 0.1863 - 149ms/epoch - 12ms/step\n",
      "Epoch 8/500\n",
      "12/12 - 0s - loss: 0.0483 - mae: 0.1584 - val_loss: 0.0641 - val_mae: 0.1726 - 149ms/epoch - 12ms/step\n",
      "Epoch 9/500\n",
      "12/12 - 0s - loss: 0.0447 - mae: 0.1512 - val_loss: 0.0602 - val_mae: 0.1647 - 151ms/epoch - 13ms/step\n",
      "Epoch 10/500\n",
      "12/12 - 0s - loss: 0.0427 - mae: 0.1479 - val_loss: 0.0575 - val_mae: 0.1594 - 148ms/epoch - 12ms/step\n",
      "Epoch 11/500\n",
      "12/12 - 0s - loss: 0.0414 - mae: 0.1456 - val_loss: 0.0562 - val_mae: 0.1571 - 151ms/epoch - 13ms/step\n",
      "Epoch 12/500\n",
      "12/12 - 0s - loss: 0.0408 - mae: 0.1449 - val_loss: 0.0550 - val_mae: 0.1551 - 150ms/epoch - 12ms/step\n",
      "Epoch 13/500\n",
      "12/12 - 0s - loss: 0.0403 - mae: 0.1441 - val_loss: 0.0531 - val_mae: 0.1525 - 148ms/epoch - 12ms/step\n",
      "Epoch 14/500\n",
      "12/12 - 0s - loss: 0.0396 - mae: 0.1436 - val_loss: 0.0527 - val_mae: 0.1520 - 146ms/epoch - 12ms/step\n",
      "Epoch 15/500\n",
      "12/12 - 0s - loss: 0.0394 - mae: 0.1432 - val_loss: 0.0519 - val_mae: 0.1512 - 148ms/epoch - 12ms/step\n",
      "Epoch 16/500\n",
      "12/12 - 0s - loss: 0.0391 - mae: 0.1432 - val_loss: 0.0514 - val_mae: 0.1507 - 145ms/epoch - 12ms/step\n",
      "Epoch 17/500\n",
      "12/12 - 0s - loss: 0.0389 - mae: 0.1429 - val_loss: 0.0501 - val_mae: 0.1499 - 148ms/epoch - 12ms/step\n",
      "Epoch 18/500\n",
      "12/12 - 0s - loss: 0.0386 - mae: 0.1430 - val_loss: 0.0495 - val_mae: 0.1498 - 147ms/epoch - 12ms/step\n",
      "Epoch 19/500\n",
      "12/12 - 0s - loss: 0.0385 - mae: 0.1434 - val_loss: 0.0494 - val_mae: 0.1496 - 149ms/epoch - 12ms/step\n",
      "Epoch 20/500\n",
      "12/12 - 0s - loss: 0.0385 - mae: 0.1429 - val_loss: 0.0493 - val_mae: 0.1495 - 145ms/epoch - 12ms/step\n",
      "Epoch 21/500\n",
      "12/12 - 0s - loss: 0.0384 - mae: 0.1429 - val_loss: 0.0493 - val_mae: 0.1493 - 144ms/epoch - 12ms/step\n",
      "Epoch 22/500\n",
      "12/12 - 0s - loss: 0.0384 - mae: 0.1428 - val_loss: 0.0493 - val_mae: 0.1493 - 145ms/epoch - 12ms/step\n",
      "Epoch 23/500\n",
      "12/12 - 0s - loss: 0.0384 - mae: 0.1426 - val_loss: 0.0485 - val_mae: 0.1494 - 151ms/epoch - 13ms/step\n",
      "Epoch 24/500\n",
      "12/12 - 0s - loss: 0.0383 - mae: 0.1432 - val_loss: 0.0483 - val_mae: 0.1493 - 150ms/epoch - 12ms/step\n",
      "Epoch 25/500\n",
      "12/12 - 0s - loss: 0.0382 - mae: 0.1431 - val_loss: 0.0482 - val_mae: 0.1493 - 145ms/epoch - 12ms/step\n",
      "Epoch 26/500\n",
      "12/12 - 0s - loss: 0.0382 - mae: 0.1432 - val_loss: 0.0482 - val_mae: 0.1491 - 146ms/epoch - 12ms/step\n",
      "Epoch 27/500\n",
      "12/12 - 0s - loss: 0.0382 - mae: 0.1430 - val_loss: 0.0480 - val_mae: 0.1492 - 164ms/epoch - 14ms/step\n",
      "Epoch 28/500\n",
      "12/12 - 0s - loss: 0.0382 - mae: 0.1431 - val_loss: 0.0480 - val_mae: 0.1490 - 154ms/epoch - 13ms/step\n",
      "Epoch 29/500\n",
      "12/12 - 0s - loss: 0.0381 - mae: 0.1429 - val_loss: 0.0481 - val_mae: 0.1487 - 157ms/epoch - 13ms/step\n",
      "Epoch 30/500\n",
      "12/12 - 0s - loss: 0.0381 - mae: 0.1426 - val_loss: 0.0481 - val_mae: 0.1485 - 169ms/epoch - 14ms/step\n",
      "Epoch 31/500\n",
      "12/12 - 0s - loss: 0.0380 - mae: 0.1423 - val_loss: 0.0484 - val_mae: 0.1481 - 170ms/epoch - 14ms/step\n",
      "Epoch 32/500\n",
      "12/12 - 0s - loss: 0.0380 - mae: 0.1418 - val_loss: 0.0484 - val_mae: 0.1482 - 175ms/epoch - 15ms/step\n",
      "Epoch 33/500\n",
      "Restoring model weights from the end of the best epoch: 23.\n",
      "12/12 - 0s - loss: 0.0380 - mae: 0.1417 - val_loss: 0.0482 - val_mae: 0.1480 - 203ms/epoch - 17ms/step\n",
      "Epoch 33: early stopping\n"
     ]
    }
   ],
   "source": [
    "from tensorflow.keras.callbacks import EarlyStopping\n",
    "monitor = EarlyStopping(monitor='val_loss', min_delta=0.001, patience=10, verbose=2, mode='auto',\n",
    "        restore_best_weights=True)\n",
    "history2 = model.fit(X_trn_scaled,y_trn_scaled,validation_data=(X_tst_scaled,y_tst_scaled),callbacks=[monitor],verbose=2,epochs=500)"
   ]
  },
  {
   "cell_type": "markdown",
   "metadata": {
    "id": "AO8aFNeezoY_"
   },
   "source": [
    "Let us see the parameters in the early stopping involved:\n",
    "- **monitor**: quantity to be monitored.<br>\n",
    "- **min_delta**: minimum change in the monitored quantity to qualify as an improvement, i.e. an absolute change of less than min_delta, will count as no improvement.<br>\n",
    "- **patience**: number of epochs with no improvement after which training will be stopped.<br>\n",
    "- **mode**: one of {auto, min, max}. In min mode, training will stop when the quantity monitored has stopped decreasing; in max mode it will stop when the quantity monitored has stopped increasing; in auto mode, the direction is automatically inferred from the name of the monitored quantity.\n",
    "- **baseline**: Baseline value for the monitored quantity to reach. Training will stop if the model doesn't show improvement over the baseline.<br>\n",
    "- **restore_best_weights**: whether to restore model weights from the epoch with the best value of the monitored quantity. If False, the model weights obtained at the last step of training are used."
   ]
  },
  {
   "cell_type": "code",
   "execution_count": 39,
   "metadata": {
    "colab": {
     "base_uri": "https://localhost:8080/",
     "height": 295
    },
    "executionInfo": {
     "elapsed": 1731,
     "status": "ok",
     "timestamp": 1644207494026,
     "user": {
      "displayName": "Sanjay Sane",
      "photoUrl": "https://lh3.googleusercontent.com/a-/AOh14GjJl7nlouqFRBHjWKoRQtpGZ1O7Nhx1ylIkeFUEvg=s64",
      "userId": "14183293780199581235"
     },
     "user_tz": -330
    },
    "id": "9xAN0oxuzoZA",
    "outputId": "d2789374-fba5-4433-98d5-67f9756cabda"
   },
   "outputs": [
    {
     "data": {
      "image/png": "[encoded data removed]",
      "text/plain": [
       "<Figure size 640x480 with 1 Axes>"
      ]
     },
     "metadata": {},
     "output_type": "display_data"
    }
   ],
   "source": [
    "plt.plot(history2.history['loss'])\n",
    "plt.plot(history2.history['val_loss'])\n",
    "plt.title('model loss')\n",
    "plt.ylabel('loss')\n",
    "plt.xlabel('epoch')\n",
    "plt.legend(['train', 'test'], loc='upper right')\n",
    "plt.show()"
   ]
  },
  {
   "cell_type": "code",
   "execution_count": 40,
   "metadata": {
    "colab": {
     "base_uri": "https://localhost:8080/"
    },
    "executionInfo": {
     "elapsed": 25,
     "status": "ok",
     "timestamp": 1644207494027,
     "user": {
      "displayName": "Sanjay Sane",
      "photoUrl": "https://lh3.googleusercontent.com/a-/AOh14GjJl7nlouqFRBHjWKoRQtpGZ1O7Nhx1ylIkeFUEvg=s64",
      "userId": "14183293780199581235"
     },
     "user_tz": -330
    },
    "id": "9AwW3dbozoZA",
    "outputId": "f47e267e-ce3f-49a7-de4e-9d09a2543858"
   },
   "outputs": [
    {
     "name": "stdout",
     "output_type": "stream",
     "text": [
      "5/5 [==============================] - 0s 6ms/step\n",
      "[20.3 13.1 24.7 39.8 22.  21.6 19.  15.4  5.6 28.4]\n",
      "[[21.805632]\n",
      " [21.805632]\n",
      " [21.913437]\n",
      " [21.805632]\n",
      " [24.117636]\n",
      " [21.805632]\n",
      " [21.805632]\n",
      " [21.805632]\n",
      " [21.805632]\n",
      " [21.805632]]\n"
     ]
    }
   ],
   "source": [
    "from sklearn.metrics import mean_squared_error\n",
    "y_pred_scl = model.predict(X_tst_scaled)\n",
    "y_pred = scaler_y.inverse_transform(y_pred_scl)\n",
    "print(y_test[:10])\n",
    "print(y_pred[:10])"
   ]
  },
  {
   "cell_type": "code",
   "execution_count": 41,
   "metadata": {
    "colab": {
     "base_uri": "https://localhost:8080/"
    },
    "executionInfo": {
     "elapsed": 19,
     "status": "ok",
     "timestamp": 1644207494027,
     "user": {
      "displayName": "Sanjay Sane",
      "photoUrl": "https://lh3.googleusercontent.com/a-/AOh14GjJl7nlouqFRBHjWKoRQtpGZ1O7Nhx1ylIkeFUEvg=s64",
      "userId": "14183293780199581235"
     },
     "user_tz": -330
    },
    "id": "oKiYZ21hQhBS",
    "outputId": "9faa87a4-5db8-4668-b024-ac76c17f94e7"
   },
   "outputs": [
    {
     "data": {
      "text/plain": [
       "array([[0.37345847],\n",
       "       [0.37345847],\n",
       "       [0.37585416],\n",
       "       [0.37345847],\n",
       "       [0.4248363 ]], dtype=float32)"
      ]
     },
     "execution_count": 41,
     "metadata": {},
     "output_type": "execute_result"
    }
   ],
   "source": [
    "y_pred_scl[:5]"
   ]
  },
  {
   "cell_type": "code",
   "execution_count": 42,
   "metadata": {
    "colab": {
     "base_uri": "https://localhost:8080/"
    },
    "executionInfo": {
     "elapsed": 17,
     "status": "ok",
     "timestamp": 1644207494028,
     "user": {
      "displayName": "Sanjay Sane",
      "photoUrl": "https://lh3.googleusercontent.com/a-/AOh14GjJl7nlouqFRBHjWKoRQtpGZ1O7Nhx1ylIkeFUEvg=s64",
      "userId": "14183293780199581235"
     },
     "user_tz": -330
    },
    "id": "gNCyW7wz6Dfa",
    "outputId": "f4ecf6d4-53e0-4b87-fdf5-7ec268932183"
   },
   "outputs": [
    {
     "name": "stdout",
     "output_type": "stream",
     "text": [
      "RMSE: 9.908394234079845\n"
     ]
    }
   ],
   "source": [
    "RMSE = np.sqrt(mean_squared_error(y_true=y_test,y_pred=y_pred))\n",
    "print(f\"RMSE: {RMSE}\")"
   ]
  },
  {
   "cell_type": "code",
   "execution_count": 43,
   "metadata": {
    "colab": {
     "base_uri": "https://localhost:8080/"
    },
    "executionInfo": {
     "elapsed": 14,
     "status": "ok",
     "timestamp": 1644207494029,
     "user": {
      "displayName": "Sanjay Sane",
      "photoUrl": "https://lh3.googleusercontent.com/a-/AOh14GjJl7nlouqFRBHjWKoRQtpGZ1O7Nhx1ylIkeFUEvg=s64",
      "userId": "14183293780199581235"
     },
     "user_tz": -330
    },
    "id": "NjHorXOozoZA",
    "outputId": "3c830dea-58b3-46c1-b5bc-476c22cc4f1f"
   },
   "outputs": [
    {
     "name": "stdout",
     "output_type": "stream",
     "text": [
      "MAE: 6.7216993357005865\n"
     ]
    }
   ],
   "source": [
    "from sklearn.metrics import mean_absolute_error\n",
    "MAE = mean_absolute_error(y_true=y_test,y_pred=y_pred)\n",
    "print(f\"MAE: {MAE}\")"
   ]
  },
  {
   "cell_type": "markdown",
   "metadata": {
    "id": "bFYVxBdHzoZC"
   },
   "source": []
  },
  {
   "cell_type": "code",
   "execution_count": null,
   "metadata": {},
   "outputs": [],
   "source": []
  }
 ],
 "metadata": {
  "accelerator": "GPU",
  "colab": {
   "name": "SimpleRegression-BostonHousing.ipynb",
   "provenance": []
  },
  "kernelspec": {
   "display_name": "Python 3 (ipykernel)",
   "language": "python",
   "name": "python3"
  },
  "language_info": {
   "codemirror_mode": {
    "name": "ipython",
    "version": 3
   },
   "file_extension": ".py",
   "mimetype": "text/x-python",
   "name": "python",
   "nbconvert_exporter": "python",
   "pygments_lexer": "ipython3",
   "version": "3.8.18"
  }
 },
 "nbformat": 4,
 "nbformat_minor": 1
}
