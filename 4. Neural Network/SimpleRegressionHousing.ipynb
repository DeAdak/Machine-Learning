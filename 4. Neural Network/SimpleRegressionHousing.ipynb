{
 "cells": [
  {
   "cell_type": "markdown",
   "metadata": {
    "id": "9zu21feszoYn"
   },
   "source": [
    "#  Keras for Simple Regression"
   ]
  },
  {
   "cell_type": "code",
   "execution_count": 1,
   "metadata": {
    "colab": {
     "base_uri": "https://localhost:8080/"
    },
    "executionInfo": {
     "elapsed": 23151,
     "status": "ok",
     "timestamp": 1644207401058,
     "user": {
      "displayName": "Sanjay Sane",
      "photoUrl": "https://lh3.googleusercontent.com/a-/AOh14GjJl7nlouqFRBHjWKoRQtpGZ1O7Nhx1ylIkeFUEvg=s64",
      "userId": "14183293780199581235"
     },
     "user_tz": -330
    },
    "id": "6bCAH_W-ztGs",
    "outputId": "3c74b7cc-0551-47bd-c551-017829851cf6"
   },
   "outputs": [
    {
     "name": "stdout",
     "output_type": "stream",
     "text": [
      "Mounted at /content/drive\n"
     ]
    }
   ],
   "source": [
    "from google.colab import drive\n",
    "drive.mount('/content/drive')"
   ]
  },
  {
   "cell_type": "markdown",
   "metadata": {
    "id": "MLcRRO3VzoYs"
   },
   "source": [
    "This notebook demonstrates the use of keras functions for simple regression problem, *Boston Housing*. The Boston Housing Dataset is a derived from information collected by the U.S. Census Service concerning housing in the area of Boston MA."
   ]
  },
  {
   "cell_type": "markdown",
   "metadata": {
    "id": "MIvyjPw0zoYt"
   },
   "source": [
    "Necessary Imports "
   ]
  },
  {
   "cell_type": "code",
   "execution_count": 1,
   "metadata": {
    "executionInfo": {
     "elapsed": 2851,
     "status": "ok",
     "timestamp": 1644207403906,
     "user": {
      "displayName": "Sanjay Sane",
      "photoUrl": "https://lh3.googleusercontent.com/a-/AOh14GjJl7nlouqFRBHjWKoRQtpGZ1O7Nhx1ylIkeFUEvg=s64",
      "userId": "14183293780199581235"
     },
     "user_tz": -330
    },
    "id": "76aA1Nl4zoYu"
   },
   "outputs": [],
   "source": [
    "import pandas as pd\n",
    "import tensorflow as tf\n",
    "import numpy as np"
   ]
  },
  {
   "cell_type": "markdown",
   "metadata": {
    "id": "NZLf1shyzoYx"
   },
   "source": [
    "Importing the file into **pandas** dataframe"
   ]
  },
  {
   "cell_type": "code",
   "execution_count": 2,
   "metadata": {
    "colab": {
     "base_uri": "https://localhost:8080/",
     "height": 206
    },
    "executionInfo": {
     "elapsed": 26,
     "status": "ok",
     "timestamp": 1644207403907,
     "user": {
      "displayName": "Sanjay Sane",
      "photoUrl": "https://lh3.googleusercontent.com/a-/AOh14GjJl7nlouqFRBHjWKoRQtpGZ1O7Nhx1ylIkeFUEvg=s64",
      "userId": "14183293780199581235"
     },
     "user_tz": -330
    },
    "id": "ew-hbd9NzoYy",
    "outputId": "9cc6b98f-3d91-4e7f-9864-ed6b6b51c0ae"
   },
   "outputs": [
    {
     "data": {
      "text/html": [
       "<div>\n",
       "<style scoped>\n",
       "    .dataframe tbody tr th:only-of-type {\n",
       "        vertical-align: middle;\n",
       "    }\n",
       "\n",
       "    .dataframe tbody tr th {\n",
       "        vertical-align: top;\n",
       "    }\n",
       "\n",
       "    .dataframe thead th {\n",
       "        text-align: right;\n",
       "    }\n",
       "</style>\n",
       "<table border=\"1\" class=\"dataframe\">\n",
       "  <thead>\n",
       "    <tr style=\"text-align: right;\">\n",
       "      <th></th>\n",
       "      <th>price</th>\n",
       "      <th>lotsize</th>\n",
       "      <th>bedrooms</th>\n",
       "      <th>bathrms</th>\n",
       "      <th>stories</th>\n",
       "      <th>driveway</th>\n",
       "      <th>recroom</th>\n",
       "      <th>fullbase</th>\n",
       "      <th>gashw</th>\n",
       "      <th>airco</th>\n",
       "      <th>garagepl</th>\n",
       "      <th>prefarea</th>\n",
       "    </tr>\n",
       "  </thead>\n",
       "  <tbody>\n",
       "    <tr>\n",
       "      <th>0</th>\n",
       "      <td>42000.0</td>\n",
       "      <td>5850</td>\n",
       "      <td>3</td>\n",
       "      <td>1</td>\n",
       "      <td>2</td>\n",
       "      <td>yes</td>\n",
       "      <td>no</td>\n",
       "      <td>yes</td>\n",
       "      <td>no</td>\n",
       "      <td>no</td>\n",
       "      <td>1</td>\n",
       "      <td>no</td>\n",
       "    </tr>\n",
       "    <tr>\n",
       "      <th>1</th>\n",
       "      <td>38500.0</td>\n",
       "      <td>4000</td>\n",
       "      <td>2</td>\n",
       "      <td>1</td>\n",
       "      <td>1</td>\n",
       "      <td>yes</td>\n",
       "      <td>no</td>\n",
       "      <td>no</td>\n",
       "      <td>no</td>\n",
       "      <td>no</td>\n",
       "      <td>0</td>\n",
       "      <td>no</td>\n",
       "    </tr>\n",
       "    <tr>\n",
       "      <th>2</th>\n",
       "      <td>49500.0</td>\n",
       "      <td>3060</td>\n",
       "      <td>3</td>\n",
       "      <td>1</td>\n",
       "      <td>1</td>\n",
       "      <td>yes</td>\n",
       "      <td>no</td>\n",
       "      <td>no</td>\n",
       "      <td>no</td>\n",
       "      <td>no</td>\n",
       "      <td>0</td>\n",
       "      <td>no</td>\n",
       "    </tr>\n",
       "    <tr>\n",
       "      <th>3</th>\n",
       "      <td>60500.0</td>\n",
       "      <td>6650</td>\n",
       "      <td>3</td>\n",
       "      <td>1</td>\n",
       "      <td>2</td>\n",
       "      <td>yes</td>\n",
       "      <td>yes</td>\n",
       "      <td>no</td>\n",
       "      <td>no</td>\n",
       "      <td>no</td>\n",
       "      <td>0</td>\n",
       "      <td>no</td>\n",
       "    </tr>\n",
       "    <tr>\n",
       "      <th>4</th>\n",
       "      <td>61000.0</td>\n",
       "      <td>6360</td>\n",
       "      <td>2</td>\n",
       "      <td>1</td>\n",
       "      <td>1</td>\n",
       "      <td>yes</td>\n",
       "      <td>no</td>\n",
       "      <td>no</td>\n",
       "      <td>no</td>\n",
       "      <td>no</td>\n",
       "      <td>0</td>\n",
       "      <td>no</td>\n",
       "    </tr>\n",
       "  </tbody>\n",
       "</table>\n",
       "</div>"
      ],
      "text/plain": [
       "     price  lotsize  bedrooms  bathrms  stories driveway recroom fullbase  \\\n",
       "0  42000.0     5850         3        1        2      yes      no      yes   \n",
       "1  38500.0     4000         2        1        1      yes      no       no   \n",
       "2  49500.0     3060         3        1        1      yes      no       no   \n",
       "3  60500.0     6650         3        1        2      yes     yes       no   \n",
       "4  61000.0     6360         2        1        1      yes      no       no   \n",
       "\n",
       "  gashw airco  garagepl prefarea  \n",
       "0    no    no         1       no  \n",
       "1    no    no         0       no  \n",
       "2    no    no         0       no  \n",
       "3    no    no         0       no  \n",
       "4    no    no         0       no  "
      ]
     },
     "execution_count": 2,
     "metadata": {},
     "output_type": "execute_result"
    }
   ],
   "source": [
    "Housing = pd.read_csv(r\"G:\\Ddrive\\PG DBDA\\12 Practical Machine Learning_\\Cases\\Real Estate/Housing.csv\")\n",
    "Housing.head()"
   ]
  },
  {
   "cell_type": "markdown",
   "metadata": {
    "id": "b93iv5_HzoYz"
   },
   "source": [
    "For the column **Boston** which is a response variable, the hot encoding / dummying needs to be done."
   ]
  },
  {
   "cell_type": "code",
   "execution_count": 62,
   "metadata": {
    "colab": {
     "base_uri": "https://localhost:8080/"
    },
    "executionInfo": {
     "elapsed": 15,
     "status": "ok",
     "timestamp": 1644207403908,
     "user": {
      "displayName": "Sanjay Sane",
      "photoUrl": "https://lh3.googleusercontent.com/a-/AOh14GjJl7nlouqFRBHjWKoRQtpGZ1O7Nhx1ylIkeFUEvg=s64",
      "userId": "14183293780199581235"
     },
     "user_tz": -330
    },
    "id": "0hXGvuc7zoY0",
    "outputId": "099c20a8-4915-4026-c1c3-092e786ea332"
   },
   "outputs": [
    {
     "data": {
      "text/plain": [
       "(546, 12)"
      ]
     },
     "execution_count": 62,
     "metadata": {},
     "output_type": "execute_result"
    }
   ],
   "source": [
    "Housing.shape"
   ]
  },
  {
   "cell_type": "code",
   "execution_count": 4,
   "metadata": {},
   "outputs": [
    {
     "data": {
      "text/html": [
       "<div>\n",
       "<style scoped>\n",
       "    .dataframe tbody tr th:only-of-type {\n",
       "        vertical-align: middle;\n",
       "    }\n",
       "\n",
       "    .dataframe tbody tr th {\n",
       "        vertical-align: top;\n",
       "    }\n",
       "\n",
       "    .dataframe thead th {\n",
       "        text-align: right;\n",
       "    }\n",
       "</style>\n",
       "<table border=\"1\" class=\"dataframe\">\n",
       "  <thead>\n",
       "    <tr style=\"text-align: right;\">\n",
       "      <th></th>\n",
       "      <th>price</th>\n",
       "      <th>lotsize</th>\n",
       "      <th>bedrooms</th>\n",
       "      <th>bathrms</th>\n",
       "      <th>stories</th>\n",
       "      <th>garagepl</th>\n",
       "      <th>driveway_yes</th>\n",
       "      <th>recroom_yes</th>\n",
       "      <th>fullbase_yes</th>\n",
       "      <th>gashw_yes</th>\n",
       "      <th>airco_yes</th>\n",
       "      <th>prefarea_yes</th>\n",
       "    </tr>\n",
       "  </thead>\n",
       "  <tbody>\n",
       "    <tr>\n",
       "      <th>0</th>\n",
       "      <td>42000.0</td>\n",
       "      <td>5850</td>\n",
       "      <td>3</td>\n",
       "      <td>1</td>\n",
       "      <td>2</td>\n",
       "      <td>1</td>\n",
       "      <td>True</td>\n",
       "      <td>False</td>\n",
       "      <td>True</td>\n",
       "      <td>False</td>\n",
       "      <td>False</td>\n",
       "      <td>False</td>\n",
       "    </tr>\n",
       "    <tr>\n",
       "      <th>1</th>\n",
       "      <td>38500.0</td>\n",
       "      <td>4000</td>\n",
       "      <td>2</td>\n",
       "      <td>1</td>\n",
       "      <td>1</td>\n",
       "      <td>0</td>\n",
       "      <td>True</td>\n",
       "      <td>False</td>\n",
       "      <td>False</td>\n",
       "      <td>False</td>\n",
       "      <td>False</td>\n",
       "      <td>False</td>\n",
       "    </tr>\n",
       "    <tr>\n",
       "      <th>2</th>\n",
       "      <td>49500.0</td>\n",
       "      <td>3060</td>\n",
       "      <td>3</td>\n",
       "      <td>1</td>\n",
       "      <td>1</td>\n",
       "      <td>0</td>\n",
       "      <td>True</td>\n",
       "      <td>False</td>\n",
       "      <td>False</td>\n",
       "      <td>False</td>\n",
       "      <td>False</td>\n",
       "      <td>False</td>\n",
       "    </tr>\n",
       "    <tr>\n",
       "      <th>3</th>\n",
       "      <td>60500.0</td>\n",
       "      <td>6650</td>\n",
       "      <td>3</td>\n",
       "      <td>1</td>\n",
       "      <td>2</td>\n",
       "      <td>0</td>\n",
       "      <td>True</td>\n",
       "      <td>True</td>\n",
       "      <td>False</td>\n",
       "      <td>False</td>\n",
       "      <td>False</td>\n",
       "      <td>False</td>\n",
       "    </tr>\n",
       "    <tr>\n",
       "      <th>4</th>\n",
       "      <td>61000.0</td>\n",
       "      <td>6360</td>\n",
       "      <td>2</td>\n",
       "      <td>1</td>\n",
       "      <td>1</td>\n",
       "      <td>0</td>\n",
       "      <td>True</td>\n",
       "      <td>False</td>\n",
       "      <td>False</td>\n",
       "      <td>False</td>\n",
       "      <td>False</td>\n",
       "      <td>False</td>\n",
       "    </tr>\n",
       "  </tbody>\n",
       "</table>\n",
       "</div>"
      ],
      "text/plain": [
       "     price  lotsize  bedrooms  bathrms  stories  garagepl  driveway_yes  \\\n",
       "0  42000.0     5850         3        1        2         1          True   \n",
       "1  38500.0     4000         2        1        1         0          True   \n",
       "2  49500.0     3060         3        1        1         0          True   \n",
       "3  60500.0     6650         3        1        2         0          True   \n",
       "4  61000.0     6360         2        1        1         0          True   \n",
       "\n",
       "   recroom_yes  fullbase_yes  gashw_yes  airco_yes  prefarea_yes  \n",
       "0        False          True      False      False         False  \n",
       "1        False         False      False      False         False  \n",
       "2        False         False      False      False         False  \n",
       "3         True         False      False      False         False  \n",
       "4        False         False      False      False         False  "
      ]
     },
     "execution_count": 4,
     "metadata": {},
     "output_type": "execute_result"
    }
   ],
   "source": [
    "House = pd.get_dummies(Housing,drop_first=True)\n",
    "House.head()"
   ]
  },
  {
   "cell_type": "code",
   "execution_count": 7,
   "metadata": {},
   "outputs": [],
   "source": [
    "X = House.iloc[:,1:]\n",
    "y = House.iloc[:,0]"
   ]
  },
  {
   "cell_type": "code",
   "execution_count": 8,
   "metadata": {},
   "outputs": [
    {
     "data": {
      "text/html": [
       "<div>\n",
       "<style scoped>\n",
       "    .dataframe tbody tr th:only-of-type {\n",
       "        vertical-align: middle;\n",
       "    }\n",
       "\n",
       "    .dataframe tbody tr th {\n",
       "        vertical-align: top;\n",
       "    }\n",
       "\n",
       "    .dataframe thead th {\n",
       "        text-align: right;\n",
       "    }\n",
       "</style>\n",
       "<table border=\"1\" class=\"dataframe\">\n",
       "  <thead>\n",
       "    <tr style=\"text-align: right;\">\n",
       "      <th></th>\n",
       "      <th>lotsize</th>\n",
       "      <th>bedrooms</th>\n",
       "      <th>bathrms</th>\n",
       "      <th>stories</th>\n",
       "      <th>garagepl</th>\n",
       "      <th>driveway_yes</th>\n",
       "      <th>recroom_yes</th>\n",
       "      <th>fullbase_yes</th>\n",
       "      <th>gashw_yes</th>\n",
       "      <th>airco_yes</th>\n",
       "      <th>prefarea_yes</th>\n",
       "    </tr>\n",
       "  </thead>\n",
       "  <tbody>\n",
       "    <tr>\n",
       "      <th>0</th>\n",
       "      <td>5850</td>\n",
       "      <td>3</td>\n",
       "      <td>1</td>\n",
       "      <td>2</td>\n",
       "      <td>1</td>\n",
       "      <td>True</td>\n",
       "      <td>False</td>\n",
       "      <td>True</td>\n",
       "      <td>False</td>\n",
       "      <td>False</td>\n",
       "      <td>False</td>\n",
       "    </tr>\n",
       "    <tr>\n",
       "      <th>1</th>\n",
       "      <td>4000</td>\n",
       "      <td>2</td>\n",
       "      <td>1</td>\n",
       "      <td>1</td>\n",
       "      <td>0</td>\n",
       "      <td>True</td>\n",
       "      <td>False</td>\n",
       "      <td>False</td>\n",
       "      <td>False</td>\n",
       "      <td>False</td>\n",
       "      <td>False</td>\n",
       "    </tr>\n",
       "    <tr>\n",
       "      <th>2</th>\n",
       "      <td>3060</td>\n",
       "      <td>3</td>\n",
       "      <td>1</td>\n",
       "      <td>1</td>\n",
       "      <td>0</td>\n",
       "      <td>True</td>\n",
       "      <td>False</td>\n",
       "      <td>False</td>\n",
       "      <td>False</td>\n",
       "      <td>False</td>\n",
       "      <td>False</td>\n",
       "    </tr>\n",
       "    <tr>\n",
       "      <th>3</th>\n",
       "      <td>6650</td>\n",
       "      <td>3</td>\n",
       "      <td>1</td>\n",
       "      <td>2</td>\n",
       "      <td>0</td>\n",
       "      <td>True</td>\n",
       "      <td>True</td>\n",
       "      <td>False</td>\n",
       "      <td>False</td>\n",
       "      <td>False</td>\n",
       "      <td>False</td>\n",
       "    </tr>\n",
       "    <tr>\n",
       "      <th>4</th>\n",
       "      <td>6360</td>\n",
       "      <td>2</td>\n",
       "      <td>1</td>\n",
       "      <td>1</td>\n",
       "      <td>0</td>\n",
       "      <td>True</td>\n",
       "      <td>False</td>\n",
       "      <td>False</td>\n",
       "      <td>False</td>\n",
       "      <td>False</td>\n",
       "      <td>False</td>\n",
       "    </tr>\n",
       "  </tbody>\n",
       "</table>\n",
       "</div>"
      ],
      "text/plain": [
       "   lotsize  bedrooms  bathrms  stories  garagepl  driveway_yes  recroom_yes  \\\n",
       "0     5850         3        1        2         1          True        False   \n",
       "1     4000         2        1        1         0          True        False   \n",
       "2     3060         3        1        1         0          True        False   \n",
       "3     6650         3        1        2         0          True         True   \n",
       "4     6360         2        1        1         0          True        False   \n",
       "\n",
       "   fullbase_yes  gashw_yes  airco_yes  prefarea_yes  \n",
       "0          True      False      False         False  \n",
       "1         False      False      False         False  \n",
       "2         False      False      False         False  \n",
       "3         False      False      False         False  \n",
       "4         False      False      False         False  "
      ]
     },
     "execution_count": 8,
     "metadata": {},
     "output_type": "execute_result"
    }
   ],
   "source": [
    "X.head()"
   ]
  },
  {
   "cell_type": "code",
   "execution_count": 9,
   "metadata": {},
   "outputs": [
    {
     "data": {
      "text/plain": [
       "0    42000.0\n",
       "1    38500.0\n",
       "2    49500.0\n",
       "3    60500.0\n",
       "4    61000.0\n",
       "Name: price, dtype: float64"
      ]
     },
     "execution_count": 9,
     "metadata": {},
     "output_type": "execute_result"
    }
   ],
   "source": [
    "y.head()"
   ]
  },
  {
   "cell_type": "code",
   "execution_count": 10,
   "metadata": {
    "executionInfo": {
     "elapsed": 12,
     "status": "ok",
     "timestamp": 1644207403909,
     "user": {
      "displayName": "Sanjay Sane",
      "photoUrl": "https://lh3.googleusercontent.com/a-/AOh14GjJl7nlouqFRBHjWKoRQtpGZ1O7Nhx1ylIkeFUEvg=s64",
      "userId": "14183293780199581235"
     },
     "user_tz": -330
    },
    "id": "P1M02Wq_0qfH"
   },
   "outputs": [],
   "source": [
    "X = X.values\n",
    "y = y.values"
   ]
  },
  {
   "cell_type": "code",
   "execution_count": 13,
   "metadata": {},
   "outputs": [
    {
     "data": {
      "text/plain": [
       "array([[5850, 3, 1, 2, 1, True, False, True, False, False, False],\n",
       "       [4000, 2, 1, 1, 0, True, False, False, False, False, False],\n",
       "       [3060, 3, 1, 1, 0, True, False, False, False, False, False],\n",
       "       [6650, 3, 1, 2, 0, True, True, False, False, False, False],\n",
       "       [6360, 2, 1, 1, 0, True, False, False, False, False, False]],\n",
       "      dtype=object)"
      ]
     },
     "execution_count": 13,
     "metadata": {},
     "output_type": "execute_result"
    }
   ],
   "source": [
    "X[:5]"
   ]
  },
  {
   "cell_type": "code",
   "execution_count": 14,
   "metadata": {},
   "outputs": [
    {
     "data": {
      "text/plain": [
       "array([42000., 38500., 49500., 60500., 61000.])"
      ]
     },
     "execution_count": 14,
     "metadata": {},
     "output_type": "execute_result"
    }
   ],
   "source": [
    "y[:5]"
   ]
  },
  {
   "cell_type": "markdown",
   "metadata": {
    "id": "z3aTYuJhzoY2"
   },
   "source": [
    "We now, split the data into train and test"
   ]
  },
  {
   "cell_type": "code",
   "execution_count": 15,
   "metadata": {
    "executionInfo": {
     "elapsed": 637,
     "status": "ok",
     "timestamp": 1644207404534,
     "user": {
      "displayName": "Sanjay Sane",
      "photoUrl": "https://lh3.googleusercontent.com/a-/AOh14GjJl7nlouqFRBHjWKoRQtpGZ1O7Nhx1ylIkeFUEvg=s64",
      "userId": "14183293780199581235"
     },
     "user_tz": -330
    },
    "id": "DZmdHgghzoY3"
   },
   "outputs": [],
   "source": [
    "from sklearn.model_selection import train_test_split \n",
    "X_train, X_test, y_train, y_test = train_test_split(X, y, test_size = 0.3, random_state=2024)"
   ]
  },
  {
   "cell_type": "markdown",
   "metadata": {
    "id": "4_1eXtD3zoY0"
   },
   "source": [
    "Scaling the data"
   ]
  },
  {
   "cell_type": "code",
   "execution_count": 16,
   "metadata": {
    "executionInfo": {
     "elapsed": 16,
     "status": "ok",
     "timestamp": 1644207404535,
     "user": {
      "displayName": "Sanjay Sane",
      "photoUrl": "https://lh3.googleusercontent.com/a-/AOh14GjJl7nlouqFRBHjWKoRQtpGZ1O7Nhx1ylIkeFUEvg=s64",
      "userId": "14183293780199581235"
     },
     "user_tz": -330
    },
    "id": "1cQJquELzoY0"
   },
   "outputs": [],
   "source": [
    "from sklearn.preprocessing import MinMaxScaler\n",
    "scaler_X = MinMaxScaler()\n",
    "scaler_y = MinMaxScaler()"
   ]
  },
  {
   "cell_type": "code",
   "execution_count": 17,
   "metadata": {
    "executionInfo": {
     "elapsed": 16,
     "status": "ok",
     "timestamp": 1644207404536,
     "user": {
      "displayName": "Sanjay Sane",
      "photoUrl": "https://lh3.googleusercontent.com/a-/AOh14GjJl7nlouqFRBHjWKoRQtpGZ1O7Nhx1ylIkeFUEvg=s64",
      "userId": "14183293780199581235"
     },
     "user_tz": -330
    },
    "id": "_ePhOW6ZzoY1"
   },
   "outputs": [],
   "source": [
    "X_trn_scaled = scaler_X.fit_transform(X_train)\n",
    "y_trn_scaled = scaler_y.fit_transform(y_train.reshape(-1, 1))"
   ]
  },
  {
   "cell_type": "code",
   "execution_count": 18,
   "metadata": {},
   "outputs": [
    {
     "data": {
      "text/plain": [
       "array([[0.24014337, 0.4       , 0.        , 0.66666667, 0.        ,\n",
       "        1.        , 0.        , 0.        , 0.        , 1.        ,\n",
       "        0.        ],\n",
       "       [0.06236559, 0.8       , 0.33333333, 0.        , 0.33333333,\n",
       "        0.        , 0.        , 1.        , 0.        , 1.        ,\n",
       "        0.        ],\n",
       "       [0.29964158, 0.2       , 0.        , 0.        , 0.66666667,\n",
       "        1.        , 0.        , 0.        , 0.        , 0.        ,\n",
       "        0.        ],\n",
       "       [0.52401434, 0.6       , 1.        , 1.        , 1.        ,\n",
       "        1.        , 0.        , 0.        , 0.        , 1.        ,\n",
       "        0.        ],\n",
       "       [0.19713262, 0.2       , 0.        , 0.        , 0.        ,\n",
       "        1.        , 0.        , 0.        , 0.        , 0.        ,\n",
       "        0.        ]])"
      ]
     },
     "execution_count": 18,
     "metadata": {},
     "output_type": "execute_result"
    }
   ],
   "source": [
    "X_trn_scaled[:5]"
   ]
  },
  {
   "cell_type": "code",
   "execution_count": 19,
   "metadata": {},
   "outputs": [
    {
     "data": {
      "text/plain": [
       "array([[0.34545455],\n",
       "       [0.17515152],\n",
       "       [0.17575758],\n",
       "       [0.90909091],\n",
       "       [0.07272727]])"
      ]
     },
     "execution_count": 19,
     "metadata": {},
     "output_type": "execute_result"
    }
   ],
   "source": [
    "y_trn_scaled[:5]"
   ]
  },
  {
   "cell_type": "code",
   "execution_count": 20,
   "metadata": {
    "executionInfo": {
     "elapsed": 15,
     "status": "ok",
     "timestamp": 1644207404536,
     "user": {
      "displayName": "Sanjay Sane",
      "photoUrl": "https://lh3.googleusercontent.com/a-/AOh14GjJl7nlouqFRBHjWKoRQtpGZ1O7Nhx1ylIkeFUEvg=s64",
      "userId": "14183293780199581235"
     },
     "user_tz": -330
    },
    "id": "B_iDKJr83qdA"
   },
   "outputs": [],
   "source": [
    "X_tst_scaled = scaler_X.transform(X_test)\n",
    "y_tst_scaled = scaler_y.transform(y_test.reshape(-1, 1))"
   ]
  },
  {
   "cell_type": "code",
   "execution_count": 21,
   "metadata": {
    "colab": {
     "base_uri": "https://localhost:8080/"
    },
    "executionInfo": {
     "elapsed": 16,
     "status": "ok",
     "timestamp": 1644207404537,
     "user": {
      "displayName": "Sanjay Sane",
      "photoUrl": "https://lh3.googleusercontent.com/a-/AOh14GjJl7nlouqFRBHjWKoRQtpGZ1O7Nhx1ylIkeFUEvg=s64",
      "userId": "14183293780199581235"
     },
     "user_tz": -330
    },
    "id": "j7zkkxfvzoY1",
    "outputId": "79f33074-0373-45c8-c6ee-5405483b9b82"
   },
   "outputs": [
    {
     "data": {
      "text/plain": [
       "((382, 11), (382, 1))"
      ]
     },
     "execution_count": 21,
     "metadata": {},
     "output_type": "execute_result"
    }
   ],
   "source": [
    "(X_trn_scaled.shape,y_trn_scaled.shape)"
   ]
  },
  {
   "cell_type": "code",
   "execution_count": 22,
   "metadata": {
    "colab": {
     "base_uri": "https://localhost:8080/"
    },
    "executionInfo": {
     "elapsed": 15,
     "status": "ok",
     "timestamp": 1644207404538,
     "user": {
      "displayName": "Sanjay Sane",
      "photoUrl": "https://lh3.googleusercontent.com/a-/AOh14GjJl7nlouqFRBHjWKoRQtpGZ1O7Nhx1ylIkeFUEvg=s64",
      "userId": "14183293780199581235"
     },
     "user_tz": -330
    },
    "id": "uVqXsAgfzoY3",
    "outputId": "fc37b34f-251b-4148-8cfa-fd24cc2f40d7"
   },
   "outputs": [
    {
     "data": {
      "text/plain": [
       "((382, 11), (382,))"
      ]
     },
     "execution_count": 22,
     "metadata": {},
     "output_type": "execute_result"
    }
   ],
   "source": [
    "(X_train.shape, y_train.shape)"
   ]
  },
  {
   "cell_type": "markdown",
   "metadata": {
    "id": "2l3bpMcQzoY4"
   },
   "source": [
    "Let us now define the neural network through which we plan to build the MLP model"
   ]
  },
  {
   "cell_type": "markdown",
   "metadata": {
    "id": "_qOlyqRszoY4"
   },
   "source": [
    "For getting reproducible results, we set random number seed and do necessary imports"
   ]
  },
  {
   "cell_type": "code",
   "execution_count": 23,
   "metadata": {
    "executionInfo": {
     "elapsed": 12,
     "status": "ok",
     "timestamp": 1644207404539,
     "user": {
      "displayName": "Sanjay Sane",
      "photoUrl": "https://lh3.googleusercontent.com/a-/AOh14GjJl7nlouqFRBHjWKoRQtpGZ1O7Nhx1ylIkeFUEvg=s64",
      "userId": "14183293780199581235"
     },
     "user_tz": -330
    },
    "id": "7qRJs-N3zoY4"
   },
   "outputs": [],
   "source": [
    "import numpy as np\n",
    "from tensorflow.keras.models import Sequential\n",
    "from tensorflow.keras.layers import Dense, Activation\n",
    "from tensorflow.keras import metrics"
   ]
  },
  {
   "cell_type": "markdown",
   "metadata": {
    "id": "fN5oizkjzoY4"
   },
   "source": [
    "**Model Definition:**"
   ]
  },
  {
   "cell_type": "code",
   "execution_count": 24,
   "metadata": {
    "executionInfo": {
     "elapsed": 2870,
     "status": "ok",
     "timestamp": 1644207407398,
     "user": {
      "displayName": "Sanjay Sane",
      "photoUrl": "https://lh3.googleusercontent.com/a-/AOh14GjJl7nlouqFRBHjWKoRQtpGZ1O7Nhx1ylIkeFUEvg=s64",
      "userId": "14183293780199581235"
     },
     "user_tz": -330
    },
    "id": "DQTPbjm3zoY5"
   },
   "outputs": [],
   "source": [
    "tf.random.set_seed(2024)\n",
    "model = tf.keras.models.Sequential([\n",
    "    tf.keras.layers.Dense(8, activation='relu',input_shape=(X_train.shape[1], )), \n",
    "    tf.keras.layers.Dense(6, activation='relu'),\n",
    "    tf.keras.layers.Dense(3, activation='relu'), \n",
    "    tf.keras.layers.Dense(1, activation='relu')  \n",
    "])"
   ]
  },
  {
   "cell_type": "markdown",
   "metadata": {
    "id": "oQZDEhoXzoY5"
   },
   "source": [
    "OR"
   ]
  },
  {
   "cell_type": "code",
   "execution_count": 22,
   "metadata": {
    "executionInfo": {
     "elapsed": 10,
     "status": "ok",
     "timestamp": 1644207407399,
     "user": {
      "displayName": "Sanjay Sane",
      "photoUrl": "https://lh3.googleusercontent.com/a-/AOh14GjJl7nlouqFRBHjWKoRQtpGZ1O7Nhx1ylIkeFUEvg=s64",
      "userId": "14183293780199581235"
     },
     "user_tz": -330
    },
    "id": "M0JqFp1wzoY5"
   },
   "outputs": [],
   "source": [
    "#model = Sequential()\n",
    "#model.add(Dense(8, input_dim=X_train.shape[1], activation='relu'))\n",
    "#model.add(Dense(6, activation='relu'))\n",
    "#model.add(Dense(3, activation='relu'))\n",
    "#model.add(Dense(1,activation='relu')) # Output"
   ]
  },
  {
   "cell_type": "code",
   "execution_count": 25,
   "metadata": {
    "executionInfo": {
     "elapsed": 9,
     "status": "ok",
     "timestamp": 1644207407399,
     "user": {
      "displayName": "Sanjay Sane",
      "photoUrl": "https://lh3.googleusercontent.com/a-/AOh14GjJl7nlouqFRBHjWKoRQtpGZ1O7Nhx1ylIkeFUEvg=s64",
      "userId": "14183293780199581235"
     },
     "user_tz": -330
    },
    "id": "-jRpe3h4zoY6"
   },
   "outputs": [
    {
     "name": "stdout",
     "output_type": "stream",
     "text": [
      "Collecting tensorflow_addonsNote: you may need to restart the kernel to use updated packages.\n",
      "\n",
      "  Downloading tensorflow_addons-0.21.0-cp38-cp38-win_amd64.whl.metadata (1.9 kB)\n",
      "Collecting typeguard<3.0.0,>=2.7 (from tensorflow_addons)\n",
      "  Downloading typeguard-2.13.3-py3-none-any.whl.metadata (3.6 kB)\n",
      "Requirement already satisfied: packaging in c:\\users\\r\\anaconda3\\lib\\site-packages (from tensorflow_addons) (23.2)\n",
      "Downloading tensorflow_addons-0.21.0-cp38-cp38-win_amd64.whl (729 kB)\n",
      "   ---------------------------------------- 0.0/729.9 kB ? eta -:--:--\n",
      "   ------------- -------------------------- 245.8/729.9 kB 5.0 MB/s eta 0:00:01\n",
      "   ---------------------------------------  727.0/729.9 kB 7.6 MB/s eta 0:00:01\n",
      "   ---------------------------------------- 729.9/729.9 kB 5.1 MB/s eta 0:00:00\n",
      "Downloading typeguard-2.13.3-py3-none-any.whl (17 kB)\n",
      "Installing collected packages: typeguard, tensorflow_addons\n",
      "Successfully installed tensorflow_addons-0.21.0 typeguard-2.13.3\n"
     ]
    }
   ],
   "source": [
    "pip install tensorflow_addons"
   ]
  },
  {
   "cell_type": "code",
   "execution_count": 26,
   "metadata": {},
   "outputs": [],
   "source": [
    "from tensorflow_addons.metrics import RSquare\n",
    "model.compile(optimizer='sgd', loss='mse',metrics=[RSquare()])"
   ]
  },
  {
   "cell_type": "code",
   "execution_count": 27,
   "metadata": {
    "colab": {
     "base_uri": "https://localhost:8080/"
    },
    "executionInfo": {
     "elapsed": 9,
     "status": "ok",
     "timestamp": 1644207407400,
     "user": {
      "displayName": "Sanjay Sane",
      "photoUrl": "https://lh3.googleusercontent.com/a-/AOh14GjJl7nlouqFRBHjWKoRQtpGZ1O7Nhx1ylIkeFUEvg=s64",
      "userId": "14183293780199581235"
     },
     "user_tz": -330
    },
    "id": "R7NH0ZTtzoY6",
    "outputId": "d3ce5b65-40be-42cf-d45c-082afd6331c4"
   },
   "outputs": [
    {
     "name": "stdout",
     "output_type": "stream",
     "text": [
      "Model: \"sequential\"\n",
      "_________________________________________________________________\n",
      " Layer (type)                Output Shape              Param #   \n",
      "=================================================================\n",
      " dense (Dense)               (None, 8)                 96        \n",
      "                                                                 \n",
      " dense_1 (Dense)             (None, 6)                 54        \n",
      "                                                                 \n",
      " dense_2 (Dense)             (None, 3)                 21        \n",
      "                                                                 \n",
      " dense_3 (Dense)             (None, 1)                 4         \n",
      "                                                                 \n",
      "=================================================================\n",
      "Total params: 175\n",
      "Trainable params: 175\n",
      "Non-trainable params: 0\n",
      "_________________________________________________________________\n",
      "None\n"
     ]
    }
   ],
   "source": [
    "print(model.summary())"
   ]
  },
  {
   "cell_type": "markdown",
   "metadata": {
    "id": "H2C2syUYzoY7"
   },
   "source": [
    "**Model Fitting:**"
   ]
  },
  {
   "cell_type": "code",
   "execution_count": 28,
   "metadata": {
    "colab": {
     "base_uri": "https://localhost:8080/"
    },
    "executionInfo": {
     "elapsed": 82858,
     "status": "ok",
     "timestamp": 1644207490252,
     "user": {
      "displayName": "Sanjay Sane",
      "photoUrl": "https://lh3.googleusercontent.com/a-/AOh14GjJl7nlouqFRBHjWKoRQtpGZ1O7Nhx1ylIkeFUEvg=s64",
      "userId": "14183293780199581235"
     },
     "user_tz": -330
    },
    "id": "aXCiIhVqzoY7",
    "outputId": "88a2d3ac-0083-45e7-cb8c-3bcf6edc9e75"
   },
   "outputs": [
    {
     "name": "stdout",
     "output_type": "stream",
     "text": [
      "Epoch 1/500\n",
      "12/12 - 6s - loss: 0.0962 - r_square: -2.6429e+00 - val_loss: 0.0903 - val_r_square: -2.5484e+00 - 6s/epoch - 520ms/step\n",
      "Epoch 2/500\n",
      "12/12 - 0s - loss: 0.0962 - r_square: -2.6429e+00 - val_loss: 0.0903 - val_r_square: -2.5484e+00 - 152ms/epoch - 13ms/step\n",
      "Epoch 3/500\n",
      "12/12 - 0s - loss: 0.0962 - r_square: -2.6429e+00 - val_loss: 0.0903 - val_r_square: -2.5484e+00 - 152ms/epoch - 13ms/step\n",
      "Epoch 4/500\n",
      "12/12 - 0s - loss: 0.0962 - r_square: -2.6429e+00 - val_loss: 0.0903 - val_r_square: -2.5484e+00 - 154ms/epoch - 13ms/step\n",
      "Epoch 5/500\n",
      "12/12 - 0s - loss: 0.0962 - r_square: -2.6430e+00 - val_loss: 0.0903 - val_r_square: -2.5484e+00 - 158ms/epoch - 13ms/step\n",
      "Epoch 6/500\n",
      "12/12 - 0s - loss: 0.0962 - r_square: -2.6429e+00 - val_loss: 0.0903 - val_r_square: -2.5484e+00 - 168ms/epoch - 14ms/step\n",
      "Epoch 7/500\n",
      "12/12 - 0s - loss: 0.0962 - r_square: -2.6429e+00 - val_loss: 0.0903 - val_r_square: -2.5484e+00 - 200ms/epoch - 17ms/step\n",
      "Epoch 8/500\n",
      "12/12 - 0s - loss: 0.0962 - r_square: -2.6429e+00 - val_loss: 0.0903 - val_r_square: -2.5484e+00 - 160ms/epoch - 13ms/step\n",
      "Epoch 9/500\n",
      "12/12 - 0s - loss: 0.0962 - r_square: -2.6430e+00 - val_loss: 0.0903 - val_r_square: -2.5484e+00 - 173ms/epoch - 14ms/step\n",
      "Epoch 10/500\n",
      "12/12 - 0s - loss: 0.0962 - r_square: -2.6430e+00 - val_loss: 0.0903 - val_r_square: -2.5484e+00 - 232ms/epoch - 19ms/step\n",
      "Epoch 11/500\n",
      "12/12 - 0s - loss: 0.0962 - r_square: -2.6429e+00 - val_loss: 0.0903 - val_r_square: -2.5484e+00 - 153ms/epoch - 13ms/step\n",
      "Epoch 12/500\n",
      "12/12 - 0s - loss: 0.0962 - r_square: -2.6429e+00 - val_loss: 0.0903 - val_r_square: -2.5484e+00 - 196ms/epoch - 16ms/step\n",
      "Epoch 13/500\n",
      "12/12 - 0s - loss: 0.0962 - r_square: -2.6429e+00 - val_loss: 0.0903 - val_r_square: -2.5484e+00 - 155ms/epoch - 13ms/step\n",
      "Epoch 14/500\n",
      "12/12 - 0s - loss: 0.0962 - r_square: -2.6429e+00 - val_loss: 0.0903 - val_r_square: -2.5484e+00 - 152ms/epoch - 13ms/step\n",
      "Epoch 15/500\n",
      "12/12 - 0s - loss: 0.0962 - r_square: -2.6430e+00 - val_loss: 0.0903 - val_r_square: -2.5484e+00 - 155ms/epoch - 13ms/step\n",
      "Epoch 16/500\n",
      "12/12 - 0s - loss: 0.0962 - r_square: -2.6429e+00 - val_loss: 0.0903 - val_r_square: -2.5484e+00 - 152ms/epoch - 13ms/step\n",
      "Epoch 17/500\n",
      "12/12 - 0s - loss: 0.0962 - r_square: -2.6429e+00 - val_loss: 0.0903 - val_r_square: -2.5484e+00 - 151ms/epoch - 13ms/step\n",
      "Epoch 18/500\n",
      "12/12 - 0s - loss: 0.0962 - r_square: -2.6429e+00 - val_loss: 0.0903 - val_r_square: -2.5484e+00 - 153ms/epoch - 13ms/step\n",
      "Epoch 19/500\n",
      "12/12 - 0s - loss: 0.0962 - r_square: -2.6429e+00 - val_loss: 0.0903 - val_r_square: -2.5484e+00 - 153ms/epoch - 13ms/step\n",
      "Epoch 20/500\n",
      "12/12 - 0s - loss: 0.0962 - r_square: -2.6430e+00 - val_loss: 0.0903 - val_r_square: -2.5484e+00 - 156ms/epoch - 13ms/step\n",
      "Epoch 21/500\n",
      "12/12 - 0s - loss: 0.0962 - r_square: -2.6429e+00 - val_loss: 0.0903 - val_r_square: -2.5484e+00 - 154ms/epoch - 13ms/step\n",
      "Epoch 22/500\n",
      "12/12 - 0s - loss: 0.0962 - r_square: -2.6429e+00 - val_loss: 0.0903 - val_r_square: -2.5484e+00 - 153ms/epoch - 13ms/step\n",
      "Epoch 23/500\n",
      "12/12 - 0s - loss: 0.0962 - r_square: -2.6429e+00 - val_loss: 0.0903 - val_r_square: -2.5484e+00 - 157ms/epoch - 13ms/step\n",
      "Epoch 24/500\n",
      "12/12 - 0s - loss: 0.0962 - r_square: -2.6429e+00 - val_loss: 0.0903 - val_r_square: -2.5484e+00 - 154ms/epoch - 13ms/step\n",
      "Epoch 25/500\n",
      "12/12 - 0s - loss: 0.0962 - r_square: -2.6430e+00 - val_loss: 0.0903 - val_r_square: -2.5484e+00 - 152ms/epoch - 13ms/step\n",
      "Epoch 26/500\n",
      "12/12 - 0s - loss: 0.0962 - r_square: -2.6429e+00 - val_loss: 0.0903 - val_r_square: -2.5484e+00 - 154ms/epoch - 13ms/step\n",
      "Epoch 27/500\n",
      "12/12 - 0s - loss: 0.0962 - r_square: -2.6430e+00 - val_loss: 0.0903 - val_r_square: -2.5484e+00 - 153ms/epoch - 13ms/step\n",
      "Epoch 28/500\n",
      "12/12 - 0s - loss: 0.0962 - r_square: -2.6429e+00 - val_loss: 0.0903 - val_r_square: -2.5484e+00 - 154ms/epoch - 13ms/step\n",
      "Epoch 29/500\n",
      "12/12 - 0s - loss: 0.0962 - r_square: -2.6430e+00 - val_loss: 0.0903 - val_r_square: -2.5484e+00 - 155ms/epoch - 13ms/step\n",
      "Epoch 30/500\n",
      "12/12 - 0s - loss: 0.0962 - r_square: -2.6429e+00 - val_loss: 0.0903 - val_r_square: -2.5484e+00 - 155ms/epoch - 13ms/step\n",
      "Epoch 31/500\n",
      "12/12 - 0s - loss: 0.0962 - r_square: -2.6429e+00 - val_loss: 0.0903 - val_r_square: -2.5484e+00 - 151ms/epoch - 13ms/step\n",
      "Epoch 32/500\n",
      "12/12 - 0s - loss: 0.0962 - r_square: -2.6430e+00 - val_loss: 0.0903 - val_r_square: -2.5484e+00 - 152ms/epoch - 13ms/step\n",
      "Epoch 33/500\n",
      "12/12 - 0s - loss: 0.0962 - r_square: -2.6430e+00 - val_loss: 0.0903 - val_r_square: -2.5484e+00 - 153ms/epoch - 13ms/step\n",
      "Epoch 34/500\n",
      "12/12 - 0s - loss: 0.0962 - r_square: -2.6429e+00 - val_loss: 0.0903 - val_r_square: -2.5484e+00 - 153ms/epoch - 13ms/step\n",
      "Epoch 35/500\n",
      "12/12 - 0s - loss: 0.0962 - r_square: -2.6429e+00 - val_loss: 0.0903 - val_r_square: -2.5484e+00 - 155ms/epoch - 13ms/step\n",
      "Epoch 36/500\n",
      "12/12 - 0s - loss: 0.0962 - r_square: -2.6430e+00 - val_loss: 0.0903 - val_r_square: -2.5484e+00 - 176ms/epoch - 15ms/step\n",
      "Epoch 37/500\n",
      "12/12 - 0s - loss: 0.0962 - r_square: -2.6430e+00 - val_loss: 0.0903 - val_r_square: -2.5484e+00 - 169ms/epoch - 14ms/step\n",
      "Epoch 38/500\n",
      "12/12 - 0s - loss: 0.0962 - r_square: -2.6429e+00 - val_loss: 0.0903 - val_r_square: -2.5484e+00 - 154ms/epoch - 13ms/step\n",
      "Epoch 39/500\n",
      "12/12 - 0s - loss: 0.0962 - r_square: -2.6430e+00 - val_loss: 0.0903 - val_r_square: -2.5484e+00 - 161ms/epoch - 13ms/step\n",
      "Epoch 40/500\n",
      "12/12 - 0s - loss: 0.0962 - r_square: -2.6429e+00 - val_loss: 0.0903 - val_r_square: -2.5484e+00 - 158ms/epoch - 13ms/step\n",
      "Epoch 41/500\n",
      "12/12 - 0s - loss: 0.0962 - r_square: -2.6429e+00 - val_loss: 0.0903 - val_r_square: -2.5484e+00 - 155ms/epoch - 13ms/step\n",
      "Epoch 42/500\n",
      "12/12 - 0s - loss: 0.0962 - r_square: -2.6429e+00 - val_loss: 0.0903 - val_r_square: -2.5484e+00 - 153ms/epoch - 13ms/step\n",
      "Epoch 43/500\n",
      "12/12 - 0s - loss: 0.0962 - r_square: -2.6429e+00 - val_loss: 0.0903 - val_r_square: -2.5484e+00 - 152ms/epoch - 13ms/step\n",
      "Epoch 44/500\n",
      "12/12 - 0s - loss: 0.0962 - r_square: -2.6429e+00 - val_loss: 0.0903 - val_r_square: -2.5484e+00 - 166ms/epoch - 14ms/step\n",
      "Epoch 45/500\n",
      "12/12 - 0s - loss: 0.0962 - r_square: -2.6429e+00 - val_loss: 0.0903 - val_r_square: -2.5484e+00 - 166ms/epoch - 14ms/step\n",
      "Epoch 46/500\n",
      "12/12 - 0s - loss: 0.0962 - r_square: -2.6429e+00 - val_loss: 0.0903 - val_r_square: -2.5484e+00 - 169ms/epoch - 14ms/step\n",
      "Epoch 47/500\n",
      "12/12 - 0s - loss: 0.0962 - r_square: -2.6429e+00 - val_loss: 0.0903 - val_r_square: -2.5484e+00 - 162ms/epoch - 13ms/step\n",
      "Epoch 48/500\n",
      "12/12 - 0s - loss: 0.0962 - r_square: -2.6429e+00 - val_loss: 0.0903 - val_r_square: -2.5484e+00 - 174ms/epoch - 14ms/step\n",
      "Epoch 49/500\n",
      "12/12 - 0s - loss: 0.0962 - r_square: -2.6429e+00 - val_loss: 0.0903 - val_r_square: -2.5484e+00 - 166ms/epoch - 14ms/step\n",
      "Epoch 50/500\n",
      "12/12 - 0s - loss: 0.0962 - r_square: -2.6429e+00 - val_loss: 0.0903 - val_r_square: -2.5484e+00 - 198ms/epoch - 16ms/step\n",
      "Epoch 51/500\n",
      "12/12 - 0s - loss: 0.0962 - r_square: -2.6430e+00 - val_loss: 0.0903 - val_r_square: -2.5484e+00 - 170ms/epoch - 14ms/step\n",
      "Epoch 52/500\n",
      "12/12 - 0s - loss: 0.0962 - r_square: -2.6429e+00 - val_loss: 0.0903 - val_r_square: -2.5484e+00 - 296ms/epoch - 25ms/step\n",
      "Epoch 53/500\n",
      "12/12 - 0s - loss: 0.0962 - r_square: -2.6430e+00 - val_loss: 0.0903 - val_r_square: -2.5484e+00 - 255ms/epoch - 21ms/step\n",
      "Epoch 54/500\n",
      "12/12 - 0s - loss: 0.0962 - r_square: -2.6430e+00 - val_loss: 0.0903 - val_r_square: -2.5484e+00 - 201ms/epoch - 17ms/step\n",
      "Epoch 55/500\n",
      "12/12 - 0s - loss: 0.0962 - r_square: -2.6430e+00 - val_loss: 0.0903 - val_r_square: -2.5484e+00 - 167ms/epoch - 14ms/step\n",
      "Epoch 56/500\n",
      "12/12 - 0s - loss: 0.0962 - r_square: -2.6429e+00 - val_loss: 0.0903 - val_r_square: -2.5484e+00 - 180ms/epoch - 15ms/step\n",
      "Epoch 57/500\n",
      "12/12 - 0s - loss: 0.0962 - r_square: -2.6430e+00 - val_loss: 0.0903 - val_r_square: -2.5484e+00 - 158ms/epoch - 13ms/step\n",
      "Epoch 58/500\n",
      "12/12 - 0s - loss: 0.0962 - r_square: -2.6429e+00 - val_loss: 0.0903 - val_r_square: -2.5484e+00 - 179ms/epoch - 15ms/step\n",
      "Epoch 59/500\n",
      "12/12 - 0s - loss: 0.0962 - r_square: -2.6429e+00 - val_loss: 0.0903 - val_r_square: -2.5484e+00 - 164ms/epoch - 14ms/step\n",
      "Epoch 60/500\n",
      "12/12 - 0s - loss: 0.0962 - r_square: -2.6429e+00 - val_loss: 0.0903 - val_r_square: -2.5484e+00 - 168ms/epoch - 14ms/step\n",
      "Epoch 61/500\n",
      "12/12 - 0s - loss: 0.0962 - r_square: -2.6430e+00 - val_loss: 0.0903 - val_r_square: -2.5484e+00 - 162ms/epoch - 13ms/step\n",
      "Epoch 62/500\n",
      "12/12 - 0s - loss: 0.0962 - r_square: -2.6429e+00 - val_loss: 0.0903 - val_r_square: -2.5484e+00 - 167ms/epoch - 14ms/step\n",
      "Epoch 63/500\n",
      "12/12 - 0s - loss: 0.0962 - r_square: -2.6429e+00 - val_loss: 0.0903 - val_r_square: -2.5484e+00 - 165ms/epoch - 14ms/step\n",
      "Epoch 64/500\n",
      "12/12 - 0s - loss: 0.0962 - r_square: -2.6429e+00 - val_loss: 0.0903 - val_r_square: -2.5484e+00 - 158ms/epoch - 13ms/step\n",
      "Epoch 65/500\n",
      "12/12 - 0s - loss: 0.0962 - r_square: -2.6429e+00 - val_loss: 0.0903 - val_r_square: -2.5484e+00 - 158ms/epoch - 13ms/step\n",
      "Epoch 66/500\n",
      "12/12 - 0s - loss: 0.0962 - r_square: -2.6429e+00 - val_loss: 0.0903 - val_r_square: -2.5484e+00 - 154ms/epoch - 13ms/step\n",
      "Epoch 67/500\n",
      "12/12 - 0s - loss: 0.0962 - r_square: -2.6430e+00 - val_loss: 0.0903 - val_r_square: -2.5484e+00 - 174ms/epoch - 14ms/step\n",
      "Epoch 68/500\n",
      "12/12 - 0s - loss: 0.0962 - r_square: -2.6430e+00 - val_loss: 0.0903 - val_r_square: -2.5484e+00 - 155ms/epoch - 13ms/step\n",
      "Epoch 69/500\n",
      "12/12 - 0s - loss: 0.0962 - r_square: -2.6429e+00 - val_loss: 0.0903 - val_r_square: -2.5484e+00 - 146ms/epoch - 12ms/step\n",
      "Epoch 70/500\n",
      "12/12 - 0s - loss: 0.0962 - r_square: -2.6430e+00 - val_loss: 0.0903 - val_r_square: -2.5484e+00 - 164ms/epoch - 14ms/step\n",
      "Epoch 71/500\n",
      "12/12 - 0s - loss: 0.0962 - r_square: -2.6429e+00 - val_loss: 0.0903 - val_r_square: -2.5484e+00 - 163ms/epoch - 14ms/step\n",
      "Epoch 72/500\n",
      "12/12 - 0s - loss: 0.0962 - r_square: -2.6429e+00 - val_loss: 0.0903 - val_r_square: -2.5484e+00 - 146ms/epoch - 12ms/step\n",
      "Epoch 73/500\n",
      "12/12 - 0s - loss: 0.0962 - r_square: -2.6430e+00 - val_loss: 0.0903 - val_r_square: -2.5484e+00 - 146ms/epoch - 12ms/step\n",
      "Epoch 74/500\n",
      "12/12 - 0s - loss: 0.0962 - r_square: -2.6429e+00 - val_loss: 0.0903 - val_r_square: -2.5484e+00 - 148ms/epoch - 12ms/step\n",
      "Epoch 75/500\n",
      "12/12 - 0s - loss: 0.0962 - r_square: -2.6429e+00 - val_loss: 0.0903 - val_r_square: -2.5484e+00 - 157ms/epoch - 13ms/step\n",
      "Epoch 76/500\n",
      "12/12 - 0s - loss: 0.0962 - r_square: -2.6429e+00 - val_loss: 0.0903 - val_r_square: -2.5484e+00 - 143ms/epoch - 12ms/step\n",
      "Epoch 77/500\n",
      "12/12 - 0s - loss: 0.0962 - r_square: -2.6429e+00 - val_loss: 0.0903 - val_r_square: -2.5484e+00 - 146ms/epoch - 12ms/step\n",
      "Epoch 78/500\n",
      "12/12 - 0s - loss: 0.0962 - r_square: -2.6429e+00 - val_loss: 0.0903 - val_r_square: -2.5484e+00 - 144ms/epoch - 12ms/step\n",
      "Epoch 79/500\n",
      "12/12 - 0s - loss: 0.0962 - r_square: -2.6429e+00 - val_loss: 0.0903 - val_r_square: -2.5484e+00 - 146ms/epoch - 12ms/step\n",
      "Epoch 80/500\n",
      "12/12 - 0s - loss: 0.0962 - r_square: -2.6430e+00 - val_loss: 0.0903 - val_r_square: -2.5484e+00 - 147ms/epoch - 12ms/step\n",
      "Epoch 81/500\n",
      "12/12 - 0s - loss: 0.0962 - r_square: -2.6429e+00 - val_loss: 0.0903 - val_r_square: -2.5484e+00 - 147ms/epoch - 12ms/step\n",
      "Epoch 82/500\n",
      "12/12 - 0s - loss: 0.0962 - r_square: -2.6429e+00 - val_loss: 0.0903 - val_r_square: -2.5484e+00 - 145ms/epoch - 12ms/step\n",
      "Epoch 83/500\n",
      "12/12 - 0s - loss: 0.0962 - r_square: -2.6429e+00 - val_loss: 0.0903 - val_r_square: -2.5484e+00 - 147ms/epoch - 12ms/step\n",
      "Epoch 84/500\n",
      "12/12 - 0s - loss: 0.0962 - r_square: -2.6429e+00 - val_loss: 0.0903 - val_r_square: -2.5484e+00 - 145ms/epoch - 12ms/step\n",
      "Epoch 85/500\n",
      "12/12 - 0s - loss: 0.0962 - r_square: -2.6430e+00 - val_loss: 0.0903 - val_r_square: -2.5484e+00 - 144ms/epoch - 12ms/step\n",
      "Epoch 86/500\n",
      "12/12 - 0s - loss: 0.0962 - r_square: -2.6429e+00 - val_loss: 0.0903 - val_r_square: -2.5484e+00 - 150ms/epoch - 12ms/step\n",
      "Epoch 87/500\n",
      "12/12 - 0s - loss: 0.0962 - r_square: -2.6429e+00 - val_loss: 0.0903 - val_r_square: -2.5484e+00 - 148ms/epoch - 12ms/step\n",
      "Epoch 88/500\n",
      "12/12 - 0s - loss: 0.0962 - r_square: -2.6429e+00 - val_loss: 0.0903 - val_r_square: -2.5484e+00 - 147ms/epoch - 12ms/step\n",
      "Epoch 89/500\n",
      "12/12 - 0s - loss: 0.0962 - r_square: -2.6429e+00 - val_loss: 0.0903 - val_r_square: -2.5484e+00 - 144ms/epoch - 12ms/step\n",
      "Epoch 90/500\n",
      "12/12 - 0s - loss: 0.0962 - r_square: -2.6430e+00 - val_loss: 0.0903 - val_r_square: -2.5484e+00 - 146ms/epoch - 12ms/step\n",
      "Epoch 91/500\n",
      "12/12 - 0s - loss: 0.0962 - r_square: -2.6429e+00 - val_loss: 0.0903 - val_r_square: -2.5484e+00 - 143ms/epoch - 12ms/step\n",
      "Epoch 92/500\n",
      "12/12 - 0s - loss: 0.0962 - r_square: -2.6430e+00 - val_loss: 0.0903 - val_r_square: -2.5484e+00 - 147ms/epoch - 12ms/step\n",
      "Epoch 93/500\n",
      "12/12 - 0s - loss: 0.0962 - r_square: -2.6430e+00 - val_loss: 0.0903 - val_r_square: -2.5484e+00 - 150ms/epoch - 12ms/step\n",
      "Epoch 94/500\n",
      "12/12 - 0s - loss: 0.0962 - r_square: -2.6429e+00 - val_loss: 0.0903 - val_r_square: -2.5484e+00 - 146ms/epoch - 12ms/step\n",
      "Epoch 95/500\n",
      "12/12 - 0s - loss: 0.0962 - r_square: -2.6429e+00 - val_loss: 0.0903 - val_r_square: -2.5484e+00 - 144ms/epoch - 12ms/step\n",
      "Epoch 96/500\n",
      "12/12 - 0s - loss: 0.0962 - r_square: -2.6429e+00 - val_loss: 0.0903 - val_r_square: -2.5484e+00 - 146ms/epoch - 12ms/step\n",
      "Epoch 97/500\n",
      "12/12 - 0s - loss: 0.0962 - r_square: -2.6430e+00 - val_loss: 0.0903 - val_r_square: -2.5484e+00 - 189ms/epoch - 16ms/step\n",
      "Epoch 98/500\n",
      "12/12 - 0s - loss: 0.0962 - r_square: -2.6429e+00 - val_loss: 0.0903 - val_r_square: -2.5484e+00 - 147ms/epoch - 12ms/step\n",
      "Epoch 99/500\n",
      "12/12 - 0s - loss: 0.0962 - r_square: -2.6430e+00 - val_loss: 0.0903 - val_r_square: -2.5484e+00 - 162ms/epoch - 13ms/step\n",
      "Epoch 100/500\n",
      "12/12 - 0s - loss: 0.0962 - r_square: -2.6430e+00 - val_loss: 0.0903 - val_r_square: -2.5484e+00 - 173ms/epoch - 14ms/step\n",
      "Epoch 101/500\n",
      "12/12 - 0s - loss: 0.0962 - r_square: -2.6429e+00 - val_loss: 0.0903 - val_r_square: -2.5484e+00 - 155ms/epoch - 13ms/step\n",
      "Epoch 102/500\n",
      "12/12 - 0s - loss: 0.0962 - r_square: -2.6429e+00 - val_loss: 0.0903 - val_r_square: -2.5484e+00 - 173ms/epoch - 14ms/step\n",
      "Epoch 103/500\n",
      "12/12 - 0s - loss: 0.0962 - r_square: -2.6429e+00 - val_loss: 0.0903 - val_r_square: -2.5484e+00 - 171ms/epoch - 14ms/step\n",
      "Epoch 104/500\n",
      "12/12 - 0s - loss: 0.0962 - r_square: -2.6429e+00 - val_loss: 0.0903 - val_r_square: -2.5484e+00 - 172ms/epoch - 14ms/step\n",
      "Epoch 105/500\n",
      "12/12 - 0s - loss: 0.0962 - r_square: -2.6429e+00 - val_loss: 0.0903 - val_r_square: -2.5484e+00 - 230ms/epoch - 19ms/step\n",
      "Epoch 106/500\n",
      "12/12 - 0s - loss: 0.0962 - r_square: -2.6429e+00 - val_loss: 0.0903 - val_r_square: -2.5484e+00 - 180ms/epoch - 15ms/step\n",
      "Epoch 107/500\n",
      "12/12 - 0s - loss: 0.0962 - r_square: -2.6429e+00 - val_loss: 0.0903 - val_r_square: -2.5484e+00 - 172ms/epoch - 14ms/step\n",
      "Epoch 108/500\n",
      "12/12 - 0s - loss: 0.0962 - r_square: -2.6430e+00 - val_loss: 0.0903 - val_r_square: -2.5484e+00 - 172ms/epoch - 14ms/step\n",
      "Epoch 109/500\n",
      "12/12 - 0s - loss: 0.0962 - r_square: -2.6430e+00 - val_loss: 0.0903 - val_r_square: -2.5484e+00 - 187ms/epoch - 16ms/step\n",
      "Epoch 110/500\n",
      "12/12 - 0s - loss: 0.0962 - r_square: -2.6430e+00 - val_loss: 0.0903 - val_r_square: -2.5484e+00 - 166ms/epoch - 14ms/step\n",
      "Epoch 111/500\n",
      "12/12 - 0s - loss: 0.0962 - r_square: -2.6429e+00 - val_loss: 0.0903 - val_r_square: -2.5484e+00 - 189ms/epoch - 16ms/step\n",
      "Epoch 112/500\n",
      "12/12 - 0s - loss: 0.0962 - r_square: -2.6430e+00 - val_loss: 0.0903 - val_r_square: -2.5484e+00 - 169ms/epoch - 14ms/step\n",
      "Epoch 113/500\n",
      "12/12 - 0s - loss: 0.0962 - r_square: -2.6429e+00 - val_loss: 0.0903 - val_r_square: -2.5484e+00 - 165ms/epoch - 14ms/step\n",
      "Epoch 114/500\n",
      "12/12 - 0s - loss: 0.0962 - r_square: -2.6429e+00 - val_loss: 0.0903 - val_r_square: -2.5484e+00 - 170ms/epoch - 14ms/step\n",
      "Epoch 115/500\n",
      "12/12 - 0s - loss: 0.0962 - r_square: -2.6429e+00 - val_loss: 0.0903 - val_r_square: -2.5484e+00 - 166ms/epoch - 14ms/step\n",
      "Epoch 116/500\n",
      "12/12 - 0s - loss: 0.0962 - r_square: -2.6430e+00 - val_loss: 0.0903 - val_r_square: -2.5484e+00 - 189ms/epoch - 16ms/step\n",
      "Epoch 117/500\n",
      "12/12 - 0s - loss: 0.0962 - r_square: -2.6429e+00 - val_loss: 0.0903 - val_r_square: -2.5484e+00 - 163ms/epoch - 14ms/step\n",
      "Epoch 118/500\n",
      "12/12 - 0s - loss: 0.0962 - r_square: -2.6429e+00 - val_loss: 0.0903 - val_r_square: -2.5484e+00 - 169ms/epoch - 14ms/step\n",
      "Epoch 119/500\n",
      "12/12 - 0s - loss: 0.0962 - r_square: -2.6429e+00 - val_loss: 0.0903 - val_r_square: -2.5484e+00 - 173ms/epoch - 14ms/step\n",
      "Epoch 120/500\n",
      "12/12 - 0s - loss: 0.0962 - r_square: -2.6429e+00 - val_loss: 0.0903 - val_r_square: -2.5484e+00 - 164ms/epoch - 14ms/step\n",
      "Epoch 121/500\n",
      "12/12 - 0s - loss: 0.0962 - r_square: -2.6430e+00 - val_loss: 0.0903 - val_r_square: -2.5484e+00 - 185ms/epoch - 15ms/step\n",
      "Epoch 122/500\n",
      "12/12 - 0s - loss: 0.0962 - r_square: -2.6429e+00 - val_loss: 0.0903 - val_r_square: -2.5484e+00 - 170ms/epoch - 14ms/step\n",
      "Epoch 123/500\n",
      "12/12 - 0s - loss: 0.0962 - r_square: -2.6429e+00 - val_loss: 0.0903 - val_r_square: -2.5484e+00 - 168ms/epoch - 14ms/step\n",
      "Epoch 124/500\n",
      "12/12 - 0s - loss: 0.0962 - r_square: -2.6429e+00 - val_loss: 0.0903 - val_r_square: -2.5484e+00 - 169ms/epoch - 14ms/step\n",
      "Epoch 125/500\n",
      "12/12 - 0s - loss: 0.0962 - r_square: -2.6429e+00 - val_loss: 0.0903 - val_r_square: -2.5484e+00 - 167ms/epoch - 14ms/step\n",
      "Epoch 126/500\n",
      "12/12 - 0s - loss: 0.0962 - r_square: -2.6429e+00 - val_loss: 0.0903 - val_r_square: -2.5484e+00 - 171ms/epoch - 14ms/step\n",
      "Epoch 127/500\n",
      "12/12 - 0s - loss: 0.0962 - r_square: -2.6430e+00 - val_loss: 0.0903 - val_r_square: -2.5484e+00 - 171ms/epoch - 14ms/step\n",
      "Epoch 128/500\n",
      "12/12 - 0s - loss: 0.0962 - r_square: -2.6429e+00 - val_loss: 0.0903 - val_r_square: -2.5484e+00 - 166ms/epoch - 14ms/step\n",
      "Epoch 129/500\n",
      "12/12 - 0s - loss: 0.0962 - r_square: -2.6430e+00 - val_loss: 0.0903 - val_r_square: -2.5484e+00 - 170ms/epoch - 14ms/step\n",
      "Epoch 130/500\n",
      "12/12 - 0s - loss: 0.0962 - r_square: -2.6429e+00 - val_loss: 0.0903 - val_r_square: -2.5484e+00 - 163ms/epoch - 14ms/step\n",
      "Epoch 131/500\n",
      "12/12 - 0s - loss: 0.0962 - r_square: -2.6429e+00 - val_loss: 0.0903 - val_r_square: -2.5484e+00 - 169ms/epoch - 14ms/step\n",
      "Epoch 132/500\n",
      "12/12 - 0s - loss: 0.0962 - r_square: -2.6430e+00 - val_loss: 0.0903 - val_r_square: -2.5484e+00 - 162ms/epoch - 13ms/step\n",
      "Epoch 133/500\n",
      "12/12 - 0s - loss: 0.0962 - r_square: -2.6429e+00 - val_loss: 0.0903 - val_r_square: -2.5484e+00 - 168ms/epoch - 14ms/step\n",
      "Epoch 134/500\n",
      "12/12 - 0s - loss: 0.0962 - r_square: -2.6429e+00 - val_loss: 0.0903 - val_r_square: -2.5484e+00 - 203ms/epoch - 17ms/step\n",
      "Epoch 135/500\n",
      "12/12 - 0s - loss: 0.0962 - r_square: -2.6429e+00 - val_loss: 0.0903 - val_r_square: -2.5484e+00 - 190ms/epoch - 16ms/step\n",
      "Epoch 136/500\n",
      "12/12 - 0s - loss: 0.0962 - r_square: -2.6429e+00 - val_loss: 0.0903 - val_r_square: -2.5484e+00 - 289ms/epoch - 24ms/step\n",
      "Epoch 137/500\n",
      "12/12 - 0s - loss: 0.0962 - r_square: -2.6429e+00 - val_loss: 0.0903 - val_r_square: -2.5484e+00 - 229ms/epoch - 19ms/step\n",
      "Epoch 138/500\n",
      "12/12 - 0s - loss: 0.0962 - r_square: -2.6430e+00 - val_loss: 0.0903 - val_r_square: -2.5484e+00 - 173ms/epoch - 14ms/step\n",
      "Epoch 139/500\n",
      "12/12 - 0s - loss: 0.0962 - r_square: -2.6429e+00 - val_loss: 0.0903 - val_r_square: -2.5484e+00 - 171ms/epoch - 14ms/step\n",
      "Epoch 140/500\n",
      "12/12 - 0s - loss: 0.0962 - r_square: -2.6429e+00 - val_loss: 0.0903 - val_r_square: -2.5484e+00 - 172ms/epoch - 14ms/step\n",
      "Epoch 141/500\n",
      "12/12 - 0s - loss: 0.0962 - r_square: -2.6429e+00 - val_loss: 0.0903 - val_r_square: -2.5484e+00 - 195ms/epoch - 16ms/step\n",
      "Epoch 142/500\n",
      "12/12 - 0s - loss: 0.0962 - r_square: -2.6429e+00 - val_loss: 0.0903 - val_r_square: -2.5484e+00 - 229ms/epoch - 19ms/step\n",
      "Epoch 143/500\n",
      "12/12 - 0s - loss: 0.0962 - r_square: -2.6429e+00 - val_loss: 0.0903 - val_r_square: -2.5484e+00 - 252ms/epoch - 21ms/step\n",
      "Epoch 144/500\n",
      "12/12 - 0s - loss: 0.0962 - r_square: -2.6429e+00 - val_loss: 0.0903 - val_r_square: -2.5484e+00 - 177ms/epoch - 15ms/step\n",
      "Epoch 145/500\n",
      "12/12 - 0s - loss: 0.0962 - r_square: -2.6429e+00 - val_loss: 0.0903 - val_r_square: -2.5484e+00 - 182ms/epoch - 15ms/step\n",
      "Epoch 146/500\n",
      "12/12 - 0s - loss: 0.0962 - r_square: -2.6429e+00 - val_loss: 0.0903 - val_r_square: -2.5484e+00 - 177ms/epoch - 15ms/step\n",
      "Epoch 147/500\n",
      "12/12 - 0s - loss: 0.0962 - r_square: -2.6429e+00 - val_loss: 0.0903 - val_r_square: -2.5484e+00 - 206ms/epoch - 17ms/step\n",
      "Epoch 148/500\n",
      "12/12 - 0s - loss: 0.0962 - r_square: -2.6430e+00 - val_loss: 0.0903 - val_r_square: -2.5484e+00 - 191ms/epoch - 16ms/step\n",
      "Epoch 149/500\n",
      "12/12 - 0s - loss: 0.0962 - r_square: -2.6429e+00 - val_loss: 0.0903 - val_r_square: -2.5484e+00 - 170ms/epoch - 14ms/step\n",
      "Epoch 150/500\n",
      "12/12 - 0s - loss: 0.0962 - r_square: -2.6429e+00 - val_loss: 0.0903 - val_r_square: -2.5484e+00 - 156ms/epoch - 13ms/step\n",
      "Epoch 151/500\n",
      "12/12 - 0s - loss: 0.0962 - r_square: -2.6430e+00 - val_loss: 0.0903 - val_r_square: -2.5484e+00 - 149ms/epoch - 12ms/step\n",
      "Epoch 152/500\n",
      "12/12 - 0s - loss: 0.0962 - r_square: -2.6429e+00 - val_loss: 0.0903 - val_r_square: -2.5484e+00 - 149ms/epoch - 12ms/step\n",
      "Epoch 153/500\n",
      "12/12 - 0s - loss: 0.0962 - r_square: -2.6430e+00 - val_loss: 0.0903 - val_r_square: -2.5484e+00 - 150ms/epoch - 12ms/step\n",
      "Epoch 154/500\n",
      "12/12 - 0s - loss: 0.0962 - r_square: -2.6429e+00 - val_loss: 0.0903 - val_r_square: -2.5484e+00 - 150ms/epoch - 12ms/step\n",
      "Epoch 155/500\n",
      "12/12 - 0s - loss: 0.0962 - r_square: -2.6429e+00 - val_loss: 0.0903 - val_r_square: -2.5484e+00 - 150ms/epoch - 12ms/step\n",
      "Epoch 156/500\n",
      "12/12 - 0s - loss: 0.0962 - r_square: -2.6429e+00 - val_loss: 0.0903 - val_r_square: -2.5484e+00 - 149ms/epoch - 12ms/step\n",
      "Epoch 157/500\n",
      "12/12 - 0s - loss: 0.0962 - r_square: -2.6429e+00 - val_loss: 0.0903 - val_r_square: -2.5484e+00 - 150ms/epoch - 12ms/step\n",
      "Epoch 158/500\n",
      "12/12 - 0s - loss: 0.0962 - r_square: -2.6429e+00 - val_loss: 0.0903 - val_r_square: -2.5484e+00 - 151ms/epoch - 13ms/step\n",
      "Epoch 159/500\n",
      "12/12 - 0s - loss: 0.0962 - r_square: -2.6430e+00 - val_loss: 0.0903 - val_r_square: -2.5484e+00 - 149ms/epoch - 12ms/step\n",
      "Epoch 160/500\n",
      "12/12 - 0s - loss: 0.0962 - r_square: -2.6429e+00 - val_loss: 0.0903 - val_r_square: -2.5484e+00 - 151ms/epoch - 13ms/step\n",
      "Epoch 161/500\n",
      "12/12 - 0s - loss: 0.0962 - r_square: -2.6430e+00 - val_loss: 0.0903 - val_r_square: -2.5484e+00 - 150ms/epoch - 12ms/step\n",
      "Epoch 162/500\n",
      "12/12 - 0s - loss: 0.0962 - r_square: -2.6430e+00 - val_loss: 0.0903 - val_r_square: -2.5484e+00 - 148ms/epoch - 12ms/step\n",
      "Epoch 163/500\n",
      "12/12 - 0s - loss: 0.0962 - r_square: -2.6429e+00 - val_loss: 0.0903 - val_r_square: -2.5484e+00 - 149ms/epoch - 12ms/step\n",
      "Epoch 164/500\n",
      "12/12 - 0s - loss: 0.0962 - r_square: -2.6429e+00 - val_loss: 0.0903 - val_r_square: -2.5484e+00 - 150ms/epoch - 12ms/step\n",
      "Epoch 165/500\n",
      "12/12 - 0s - loss: 0.0962 - r_square: -2.6429e+00 - val_loss: 0.0903 - val_r_square: -2.5484e+00 - 150ms/epoch - 12ms/step\n",
      "Epoch 166/500\n",
      "12/12 - 0s - loss: 0.0962 - r_square: -2.6429e+00 - val_loss: 0.0903 - val_r_square: -2.5484e+00 - 150ms/epoch - 12ms/step\n",
      "Epoch 167/500\n",
      "12/12 - 0s - loss: 0.0962 - r_square: -2.6430e+00 - val_loss: 0.0903 - val_r_square: -2.5484e+00 - 149ms/epoch - 12ms/step\n",
      "Epoch 168/500\n",
      "12/12 - 0s - loss: 0.0962 - r_square: -2.6429e+00 - val_loss: 0.0903 - val_r_square: -2.5484e+00 - 150ms/epoch - 12ms/step\n",
      "Epoch 169/500\n",
      "12/12 - 0s - loss: 0.0962 - r_square: -2.6430e+00 - val_loss: 0.0903 - val_r_square: -2.5484e+00 - 149ms/epoch - 12ms/step\n",
      "Epoch 170/500\n",
      "12/12 - 0s - loss: 0.0962 - r_square: -2.6430e+00 - val_loss: 0.0903 - val_r_square: -2.5484e+00 - 150ms/epoch - 12ms/step\n",
      "Epoch 171/500\n",
      "12/12 - 0s - loss: 0.0962 - r_square: -2.6430e+00 - val_loss: 0.0903 - val_r_square: -2.5484e+00 - 149ms/epoch - 12ms/step\n",
      "Epoch 172/500\n",
      "12/12 - 0s - loss: 0.0962 - r_square: -2.6429e+00 - val_loss: 0.0903 - val_r_square: -2.5484e+00 - 149ms/epoch - 12ms/step\n",
      "Epoch 173/500\n",
      "12/12 - 0s - loss: 0.0962 - r_square: -2.6429e+00 - val_loss: 0.0903 - val_r_square: -2.5484e+00 - 150ms/epoch - 12ms/step\n",
      "Epoch 174/500\n",
      "12/12 - 0s - loss: 0.0962 - r_square: -2.6429e+00 - val_loss: 0.0903 - val_r_square: -2.5484e+00 - 191ms/epoch - 16ms/step\n",
      "Epoch 175/500\n",
      "12/12 - 0s - loss: 0.0962 - r_square: -2.6429e+00 - val_loss: 0.0903 - val_r_square: -2.5484e+00 - 151ms/epoch - 13ms/step\n",
      "Epoch 176/500\n",
      "12/12 - 0s - loss: 0.0962 - r_square: -2.6430e+00 - val_loss: 0.0903 - val_r_square: -2.5484e+00 - 150ms/epoch - 12ms/step\n",
      "Epoch 177/500\n",
      "12/12 - 0s - loss: 0.0962 - r_square: -2.6429e+00 - val_loss: 0.0903 - val_r_square: -2.5484e+00 - 153ms/epoch - 13ms/step\n",
      "Epoch 178/500\n",
      "12/12 - 0s - loss: 0.0962 - r_square: -2.6429e+00 - val_loss: 0.0903 - val_r_square: -2.5484e+00 - 156ms/epoch - 13ms/step\n",
      "Epoch 179/500\n",
      "12/12 - 0s - loss: 0.0962 - r_square: -2.6429e+00 - val_loss: 0.0903 - val_r_square: -2.5484e+00 - 151ms/epoch - 13ms/step\n",
      "Epoch 180/500\n",
      "12/12 - 0s - loss: 0.0962 - r_square: -2.6429e+00 - val_loss: 0.0903 - val_r_square: -2.5484e+00 - 152ms/epoch - 13ms/step\n",
      "Epoch 181/500\n",
      "12/12 - 0s - loss: 0.0962 - r_square: -2.6429e+00 - val_loss: 0.0903 - val_r_square: -2.5484e+00 - 150ms/epoch - 12ms/step\n",
      "Epoch 182/500\n",
      "12/12 - 0s - loss: 0.0962 - r_square: -2.6429e+00 - val_loss: 0.0903 - val_r_square: -2.5484e+00 - 150ms/epoch - 12ms/step\n",
      "Epoch 183/500\n",
      "12/12 - 0s - loss: 0.0962 - r_square: -2.6429e+00 - val_loss: 0.0903 - val_r_square: -2.5484e+00 - 153ms/epoch - 13ms/step\n",
      "Epoch 184/500\n",
      "12/12 - 0s - loss: 0.0962 - r_square: -2.6429e+00 - val_loss: 0.0903 - val_r_square: -2.5484e+00 - 148ms/epoch - 12ms/step\n",
      "Epoch 185/500\n",
      "12/12 - 0s - loss: 0.0962 - r_square: -2.6429e+00 - val_loss: 0.0903 - val_r_square: -2.5484e+00 - 149ms/epoch - 12ms/step\n",
      "Epoch 186/500\n",
      "12/12 - 0s - loss: 0.0962 - r_square: -2.6430e+00 - val_loss: 0.0903 - val_r_square: -2.5484e+00 - 170ms/epoch - 14ms/step\n",
      "Epoch 187/500\n",
      "12/12 - 0s - loss: 0.0962 - r_square: -2.6430e+00 - val_loss: 0.0903 - val_r_square: -2.5484e+00 - 160ms/epoch - 13ms/step\n",
      "Epoch 188/500\n",
      "12/12 - 0s - loss: 0.0962 - r_square: -2.6429e+00 - val_loss: 0.0903 - val_r_square: -2.5484e+00 - 158ms/epoch - 13ms/step\n",
      "Epoch 189/500\n",
      "12/12 - 0s - loss: 0.0962 - r_square: -2.6429e+00 - val_loss: 0.0903 - val_r_square: -2.5484e+00 - 156ms/epoch - 13ms/step\n",
      "Epoch 190/500\n",
      "12/12 - 0s - loss: 0.0962 - r_square: -2.6429e+00 - val_loss: 0.0903 - val_r_square: -2.5484e+00 - 173ms/epoch - 14ms/step\n",
      "Epoch 191/500\n",
      "12/12 - 0s - loss: 0.0962 - r_square: -2.6429e+00 - val_loss: 0.0903 - val_r_square: -2.5484e+00 - 173ms/epoch - 14ms/step\n",
      "Epoch 192/500\n",
      "12/12 - 0s - loss: 0.0962 - r_square: -2.6430e+00 - val_loss: 0.0903 - val_r_square: -2.5484e+00 - 169ms/epoch - 14ms/step\n",
      "Epoch 193/500\n",
      "12/12 - 0s - loss: 0.0962 - r_square: -2.6429e+00 - val_loss: 0.0903 - val_r_square: -2.5484e+00 - 162ms/epoch - 13ms/step\n",
      "Epoch 194/500\n",
      "12/12 - 0s - loss: 0.0962 - r_square: -2.6430e+00 - val_loss: 0.0903 - val_r_square: -2.5484e+00 - 186ms/epoch - 15ms/step\n",
      "Epoch 195/500\n",
      "12/12 - 0s - loss: 0.0962 - r_square: -2.6429e+00 - val_loss: 0.0903 - val_r_square: -2.5484e+00 - 180ms/epoch - 15ms/step\n",
      "Epoch 196/500\n",
      "12/12 - 0s - loss: 0.0962 - r_square: -2.6430e+00 - val_loss: 0.0903 - val_r_square: -2.5484e+00 - 154ms/epoch - 13ms/step\n",
      "Epoch 197/500\n",
      "12/12 - 0s - loss: 0.0962 - r_square: -2.6430e+00 - val_loss: 0.0903 - val_r_square: -2.5484e+00 - 175ms/epoch - 15ms/step\n",
      "Epoch 198/500\n",
      "12/12 - 0s - loss: 0.0962 - r_square: -2.6430e+00 - val_loss: 0.0903 - val_r_square: -2.5484e+00 - 160ms/epoch - 13ms/step\n",
      "Epoch 199/500\n",
      "12/12 - 0s - loss: 0.0962 - r_square: -2.6430e+00 - val_loss: 0.0903 - val_r_square: -2.5484e+00 - 184ms/epoch - 15ms/step\n",
      "Epoch 200/500\n",
      "12/12 - 0s - loss: 0.0962 - r_square: -2.6429e+00 - val_loss: 0.0903 - val_r_square: -2.5484e+00 - 150ms/epoch - 12ms/step\n",
      "Epoch 201/500\n",
      "12/12 - 0s - loss: 0.0962 - r_square: -2.6429e+00 - val_loss: 0.0903 - val_r_square: -2.5484e+00 - 182ms/epoch - 15ms/step\n",
      "Epoch 202/500\n",
      "12/12 - 0s - loss: 0.0962 - r_square: -2.6430e+00 - val_loss: 0.0903 - val_r_square: -2.5484e+00 - 153ms/epoch - 13ms/step\n",
      "Epoch 203/500\n",
      "12/12 - 0s - loss: 0.0962 - r_square: -2.6430e+00 - val_loss: 0.0903 - val_r_square: -2.5484e+00 - 163ms/epoch - 14ms/step\n",
      "Epoch 204/500\n",
      "12/12 - 0s - loss: 0.0962 - r_square: -2.6430e+00 - val_loss: 0.0903 - val_r_square: -2.5484e+00 - 167ms/epoch - 14ms/step\n",
      "Epoch 205/500\n",
      "12/12 - 0s - loss: 0.0962 - r_square: -2.6429e+00 - val_loss: 0.0903 - val_r_square: -2.5484e+00 - 165ms/epoch - 14ms/step\n",
      "Epoch 206/500\n",
      "12/12 - 0s - loss: 0.0962 - r_square: -2.6429e+00 - val_loss: 0.0903 - val_r_square: -2.5484e+00 - 151ms/epoch - 13ms/step\n",
      "Epoch 207/500\n",
      "12/12 - 0s - loss: 0.0962 - r_square: -2.6430e+00 - val_loss: 0.0903 - val_r_square: -2.5484e+00 - 174ms/epoch - 14ms/step\n",
      "Epoch 208/500\n",
      "12/12 - 0s - loss: 0.0962 - r_square: -2.6429e+00 - val_loss: 0.0903 - val_r_square: -2.5484e+00 - 161ms/epoch - 13ms/step\n",
      "Epoch 209/500\n",
      "12/12 - 0s - loss: 0.0962 - r_square: -2.6429e+00 - val_loss: 0.0903 - val_r_square: -2.5484e+00 - 158ms/epoch - 13ms/step\n",
      "Epoch 210/500\n",
      "12/12 - 0s - loss: 0.0962 - r_square: -2.6429e+00 - val_loss: 0.0903 - val_r_square: -2.5484e+00 - 193ms/epoch - 16ms/step\n",
      "Epoch 211/500\n",
      "12/12 - 0s - loss: 0.0962 - r_square: -2.6430e+00 - val_loss: 0.0903 - val_r_square: -2.5484e+00 - 154ms/epoch - 13ms/step\n",
      "Epoch 212/500\n",
      "12/12 - 0s - loss: 0.0962 - r_square: -2.6429e+00 - val_loss: 0.0903 - val_r_square: -2.5484e+00 - 150ms/epoch - 12ms/step\n",
      "Epoch 213/500\n",
      "12/12 - 0s - loss: 0.0962 - r_square: -2.6430e+00 - val_loss: 0.0903 - val_r_square: -2.5484e+00 - 153ms/epoch - 13ms/step\n",
      "Epoch 214/500\n",
      "12/12 - 0s - loss: 0.0962 - r_square: -2.6429e+00 - val_loss: 0.0903 - val_r_square: -2.5484e+00 - 176ms/epoch - 15ms/step\n",
      "Epoch 215/500\n",
      "12/12 - 0s - loss: 0.0962 - r_square: -2.6429e+00 - val_loss: 0.0903 - val_r_square: -2.5484e+00 - 151ms/epoch - 13ms/step\n",
      "Epoch 216/500\n",
      "12/12 - 0s - loss: 0.0962 - r_square: -2.6429e+00 - val_loss: 0.0903 - val_r_square: -2.5484e+00 - 150ms/epoch - 12ms/step\n",
      "Epoch 217/500\n",
      "12/12 - 0s - loss: 0.0962 - r_square: -2.6429e+00 - val_loss: 0.0903 - val_r_square: -2.5484e+00 - 163ms/epoch - 14ms/step\n",
      "Epoch 218/500\n",
      "12/12 - 0s - loss: 0.0962 - r_square: -2.6430e+00 - val_loss: 0.0903 - val_r_square: -2.5484e+00 - 153ms/epoch - 13ms/step\n",
      "Epoch 219/500\n",
      "12/12 - 0s - loss: 0.0962 - r_square: -2.6429e+00 - val_loss: 0.0903 - val_r_square: -2.5484e+00 - 150ms/epoch - 12ms/step\n",
      "Epoch 220/500\n",
      "12/12 - 0s - loss: 0.0962 - r_square: -2.6429e+00 - val_loss: 0.0903 - val_r_square: -2.5484e+00 - 153ms/epoch - 13ms/step\n",
      "Epoch 221/500\n",
      "12/12 - 0s - loss: 0.0962 - r_square: -2.6429e+00 - val_loss: 0.0903 - val_r_square: -2.5484e+00 - 186ms/epoch - 15ms/step\n",
      "Epoch 222/500\n",
      "12/12 - 0s - loss: 0.0962 - r_square: -2.6429e+00 - val_loss: 0.0903 - val_r_square: -2.5484e+00 - 153ms/epoch - 13ms/step\n",
      "Epoch 223/500\n",
      "12/12 - 0s - loss: 0.0962 - r_square: -2.6429e+00 - val_loss: 0.0903 - val_r_square: -2.5484e+00 - 149ms/epoch - 12ms/step\n",
      "Epoch 224/500\n",
      "12/12 - 0s - loss: 0.0962 - r_square: -2.6429e+00 - val_loss: 0.0903 - val_r_square: -2.5484e+00 - 148ms/epoch - 12ms/step\n",
      "Epoch 225/500\n",
      "12/12 - 0s - loss: 0.0962 - r_square: -2.6429e+00 - val_loss: 0.0903 - val_r_square: -2.5484e+00 - 151ms/epoch - 13ms/step\n",
      "Epoch 226/500\n",
      "12/12 - 0s - loss: 0.0962 - r_square: -2.6430e+00 - val_loss: 0.0903 - val_r_square: -2.5484e+00 - 148ms/epoch - 12ms/step\n",
      "Epoch 227/500\n",
      "12/12 - 0s - loss: 0.0962 - r_square: -2.6430e+00 - val_loss: 0.0903 - val_r_square: -2.5484e+00 - 150ms/epoch - 12ms/step\n",
      "Epoch 228/500\n",
      "12/12 - 0s - loss: 0.0962 - r_square: -2.6429e+00 - val_loss: 0.0903 - val_r_square: -2.5484e+00 - 153ms/epoch - 13ms/step\n",
      "Epoch 229/500\n",
      "12/12 - 0s - loss: 0.0962 - r_square: -2.6430e+00 - val_loss: 0.0903 - val_r_square: -2.5484e+00 - 153ms/epoch - 13ms/step\n",
      "Epoch 230/500\n",
      "12/12 - 0s - loss: 0.0962 - r_square: -2.6429e+00 - val_loss: 0.0903 - val_r_square: -2.5484e+00 - 150ms/epoch - 12ms/step\n",
      "Epoch 231/500\n",
      "12/12 - 0s - loss: 0.0962 - r_square: -2.6429e+00 - val_loss: 0.0903 - val_r_square: -2.5484e+00 - 153ms/epoch - 13ms/step\n",
      "Epoch 232/500\n",
      "12/12 - 0s - loss: 0.0962 - r_square: -2.6429e+00 - val_loss: 0.0903 - val_r_square: -2.5484e+00 - 151ms/epoch - 13ms/step\n",
      "Epoch 233/500\n",
      "12/12 - 0s - loss: 0.0962 - r_square: -2.6430e+00 - val_loss: 0.0903 - val_r_square: -2.5484e+00 - 158ms/epoch - 13ms/step\n",
      "Epoch 234/500\n",
      "12/12 - 0s - loss: 0.0962 - r_square: -2.6429e+00 - val_loss: 0.0903 - val_r_square: -2.5484e+00 - 158ms/epoch - 13ms/step\n",
      "Epoch 235/500\n",
      "12/12 - 0s - loss: 0.0962 - r_square: -2.6429e+00 - val_loss: 0.0903 - val_r_square: -2.5484e+00 - 150ms/epoch - 12ms/step\n",
      "Epoch 236/500\n",
      "12/12 - 0s - loss: 0.0962 - r_square: -2.6429e+00 - val_loss: 0.0903 - val_r_square: -2.5484e+00 - 149ms/epoch - 12ms/step\n",
      "Epoch 237/500\n",
      "12/12 - 0s - loss: 0.0962 - r_square: -2.6430e+00 - val_loss: 0.0903 - val_r_square: -2.5484e+00 - 150ms/epoch - 12ms/step\n",
      "Epoch 238/500\n",
      "12/12 - 0s - loss: 0.0962 - r_square: -2.6429e+00 - val_loss: 0.0903 - val_r_square: -2.5484e+00 - 149ms/epoch - 12ms/step\n",
      "Epoch 239/500\n",
      "12/12 - 0s - loss: 0.0962 - r_square: -2.6430e+00 - val_loss: 0.0903 - val_r_square: -2.5484e+00 - 152ms/epoch - 13ms/step\n",
      "Epoch 240/500\n",
      "12/12 - 0s - loss: 0.0962 - r_square: -2.6429e+00 - val_loss: 0.0903 - val_r_square: -2.5484e+00 - 151ms/epoch - 13ms/step\n",
      "Epoch 241/500\n",
      "12/12 - 0s - loss: 0.0962 - r_square: -2.6429e+00 - val_loss: 0.0903 - val_r_square: -2.5484e+00 - 150ms/epoch - 12ms/step\n",
      "Epoch 242/500\n",
      "12/12 - 0s - loss: 0.0962 - r_square: -2.6429e+00 - val_loss: 0.0903 - val_r_square: -2.5484e+00 - 152ms/epoch - 13ms/step\n",
      "Epoch 243/500\n",
      "12/12 - 0s - loss: 0.0962 - r_square: -2.6430e+00 - val_loss: 0.0903 - val_r_square: -2.5484e+00 - 150ms/epoch - 12ms/step\n",
      "Epoch 244/500\n",
      "12/12 - 0s - loss: 0.0962 - r_square: -2.6429e+00 - val_loss: 0.0903 - val_r_square: -2.5484e+00 - 149ms/epoch - 12ms/step\n",
      "Epoch 245/500\n",
      "12/12 - 0s - loss: 0.0962 - r_square: -2.6429e+00 - val_loss: 0.0903 - val_r_square: -2.5484e+00 - 149ms/epoch - 12ms/step\n",
      "Epoch 246/500\n",
      "12/12 - 0s - loss: 0.0962 - r_square: -2.6430e+00 - val_loss: 0.0903 - val_r_square: -2.5484e+00 - 151ms/epoch - 13ms/step\n",
      "Epoch 247/500\n",
      "12/12 - 0s - loss: 0.0962 - r_square: -2.6429e+00 - val_loss: 0.0903 - val_r_square: -2.5484e+00 - 150ms/epoch - 12ms/step\n",
      "Epoch 248/500\n",
      "12/12 - 0s - loss: 0.0962 - r_square: -2.6429e+00 - val_loss: 0.0903 - val_r_square: -2.5484e+00 - 149ms/epoch - 12ms/step\n",
      "Epoch 249/500\n",
      "12/12 - 0s - loss: 0.0962 - r_square: -2.6430e+00 - val_loss: 0.0903 - val_r_square: -2.5484e+00 - 144ms/epoch - 12ms/step\n",
      "Epoch 250/500\n",
      "12/12 - 0s - loss: 0.0962 - r_square: -2.6429e+00 - val_loss: 0.0903 - val_r_square: -2.5484e+00 - 148ms/epoch - 12ms/step\n",
      "Epoch 251/500\n",
      "12/12 - 0s - loss: 0.0962 - r_square: -2.6429e+00 - val_loss: 0.0903 - val_r_square: -2.5484e+00 - 149ms/epoch - 12ms/step\n",
      "Epoch 252/500\n",
      "12/12 - 0s - loss: 0.0962 - r_square: -2.6429e+00 - val_loss: 0.0903 - val_r_square: -2.5484e+00 - 149ms/epoch - 12ms/step\n",
      "Epoch 253/500\n",
      "12/12 - 0s - loss: 0.0962 - r_square: -2.6430e+00 - val_loss: 0.0903 - val_r_square: -2.5484e+00 - 151ms/epoch - 13ms/step\n",
      "Epoch 254/500\n",
      "12/12 - 0s - loss: 0.0962 - r_square: -2.6429e+00 - val_loss: 0.0903 - val_r_square: -2.5484e+00 - 150ms/epoch - 12ms/step\n",
      "Epoch 255/500\n",
      "12/12 - 0s - loss: 0.0962 - r_square: -2.6429e+00 - val_loss: 0.0903 - val_r_square: -2.5484e+00 - 151ms/epoch - 13ms/step\n",
      "Epoch 256/500\n",
      "12/12 - 0s - loss: 0.0962 - r_square: -2.6429e+00 - val_loss: 0.0903 - val_r_square: -2.5484e+00 - 150ms/epoch - 12ms/step\n",
      "Epoch 257/500\n",
      "12/12 - 0s - loss: 0.0962 - r_square: -2.6429e+00 - val_loss: 0.0903 - val_r_square: -2.5484e+00 - 148ms/epoch - 12ms/step\n",
      "Epoch 258/500\n",
      "12/12 - 0s - loss: 0.0962 - r_square: -2.6429e+00 - val_loss: 0.0903 - val_r_square: -2.5484e+00 - 148ms/epoch - 12ms/step\n",
      "Epoch 259/500\n",
      "12/12 - 0s - loss: 0.0962 - r_square: -2.6429e+00 - val_loss: 0.0903 - val_r_square: -2.5484e+00 - 151ms/epoch - 13ms/step\n",
      "Epoch 260/500\n",
      "12/12 - 0s - loss: 0.0962 - r_square: -2.6429e+00 - val_loss: 0.0903 - val_r_square: -2.5484e+00 - 151ms/epoch - 13ms/step\n",
      "Epoch 261/500\n",
      "12/12 - 0s - loss: 0.0962 - r_square: -2.6430e+00 - val_loss: 0.0903 - val_r_square: -2.5484e+00 - 150ms/epoch - 12ms/step\n",
      "Epoch 262/500\n",
      "12/12 - 0s - loss: 0.0962 - r_square: -2.6429e+00 - val_loss: 0.0903 - val_r_square: -2.5484e+00 - 150ms/epoch - 12ms/step\n",
      "Epoch 263/500\n",
      "12/12 - 0s - loss: 0.0962 - r_square: -2.6429e+00 - val_loss: 0.0903 - val_r_square: -2.5484e+00 - 154ms/epoch - 13ms/step\n",
      "Epoch 264/500\n",
      "12/12 - 0s - loss: 0.0962 - r_square: -2.6430e+00 - val_loss: 0.0903 - val_r_square: -2.5484e+00 - 183ms/epoch - 15ms/step\n",
      "Epoch 265/500\n",
      "12/12 - 0s - loss: 0.0962 - r_square: -2.6429e+00 - val_loss: 0.0903 - val_r_square: -2.5484e+00 - 148ms/epoch - 12ms/step\n",
      "Epoch 266/500\n",
      "12/12 - 0s - loss: 0.0962 - r_square: -2.6429e+00 - val_loss: 0.0903 - val_r_square: -2.5484e+00 - 150ms/epoch - 12ms/step\n",
      "Epoch 267/500\n",
      "12/12 - 0s - loss: 0.0962 - r_square: -2.6429e+00 - val_loss: 0.0903 - val_r_square: -2.5484e+00 - 146ms/epoch - 12ms/step\n",
      "Epoch 268/500\n",
      "12/12 - 0s - loss: 0.0962 - r_square: -2.6429e+00 - val_loss: 0.0903 - val_r_square: -2.5484e+00 - 149ms/epoch - 12ms/step\n",
      "Epoch 269/500\n",
      "12/12 - 0s - loss: 0.0962 - r_square: -2.6429e+00 - val_loss: 0.0903 - val_r_square: -2.5484e+00 - 150ms/epoch - 12ms/step\n",
      "Epoch 270/500\n",
      "12/12 - 0s - loss: 0.0962 - r_square: -2.6429e+00 - val_loss: 0.0903 - val_r_square: -2.5484e+00 - 149ms/epoch - 12ms/step\n",
      "Epoch 271/500\n",
      "12/12 - 0s - loss: 0.0962 - r_square: -2.6429e+00 - val_loss: 0.0903 - val_r_square: -2.5484e+00 - 151ms/epoch - 13ms/step\n",
      "Epoch 272/500\n",
      "12/12 - 0s - loss: 0.0962 - r_square: -2.6429e+00 - val_loss: 0.0903 - val_r_square: -2.5484e+00 - 169ms/epoch - 14ms/step\n",
      "Epoch 273/500\n",
      "12/12 - 0s - loss: 0.0962 - r_square: -2.6429e+00 - val_loss: 0.0903 - val_r_square: -2.5484e+00 - 149ms/epoch - 12ms/step\n",
      "Epoch 274/500\n",
      "12/12 - 0s - loss: 0.0962 - r_square: -2.6430e+00 - val_loss: 0.0903 - val_r_square: -2.5484e+00 - 150ms/epoch - 12ms/step\n",
      "Epoch 275/500\n",
      "12/12 - 0s - loss: 0.0962 - r_square: -2.6429e+00 - val_loss: 0.0903 - val_r_square: -2.5484e+00 - 150ms/epoch - 12ms/step\n",
      "Epoch 276/500\n",
      "12/12 - 0s - loss: 0.0962 - r_square: -2.6429e+00 - val_loss: 0.0903 - val_r_square: -2.5484e+00 - 150ms/epoch - 12ms/step\n",
      "Epoch 277/500\n",
      "12/12 - 0s - loss: 0.0962 - r_square: -2.6429e+00 - val_loss: 0.0903 - val_r_square: -2.5484e+00 - 149ms/epoch - 12ms/step\n",
      "Epoch 278/500\n",
      "12/12 - 0s - loss: 0.0962 - r_square: -2.6430e+00 - val_loss: 0.0903 - val_r_square: -2.5484e+00 - 150ms/epoch - 12ms/step\n",
      "Epoch 279/500\n",
      "12/12 - 0s - loss: 0.0962 - r_square: -2.6429e+00 - val_loss: 0.0903 - val_r_square: -2.5484e+00 - 167ms/epoch - 14ms/step\n",
      "Epoch 280/500\n",
      "12/12 - 0s - loss: 0.0962 - r_square: -2.6429e+00 - val_loss: 0.0903 - val_r_square: -2.5484e+00 - 150ms/epoch - 12ms/step\n",
      "Epoch 281/500\n",
      "12/12 - 0s - loss: 0.0962 - r_square: -2.6430e+00 - val_loss: 0.0903 - val_r_square: -2.5484e+00 - 150ms/epoch - 12ms/step\n",
      "Epoch 282/500\n",
      "12/12 - 0s - loss: 0.0962 - r_square: -2.6429e+00 - val_loss: 0.0903 - val_r_square: -2.5484e+00 - 151ms/epoch - 13ms/step\n",
      "Epoch 283/500\n",
      "12/12 - 0s - loss: 0.0962 - r_square: -2.6429e+00 - val_loss: 0.0903 - val_r_square: -2.5484e+00 - 151ms/epoch - 13ms/step\n",
      "Epoch 284/500\n",
      "12/12 - 0s - loss: 0.0962 - r_square: -2.6430e+00 - val_loss: 0.0903 - val_r_square: -2.5484e+00 - 154ms/epoch - 13ms/step\n",
      "Epoch 285/500\n",
      "12/12 - 0s - loss: 0.0962 - r_square: -2.6429e+00 - val_loss: 0.0903 - val_r_square: -2.5484e+00 - 150ms/epoch - 12ms/step\n",
      "Epoch 286/500\n",
      "12/12 - 0s - loss: 0.0962 - r_square: -2.6430e+00 - val_loss: 0.0903 - val_r_square: -2.5484e+00 - 150ms/epoch - 12ms/step\n",
      "Epoch 287/500\n",
      "12/12 - 0s - loss: 0.0962 - r_square: -2.6429e+00 - val_loss: 0.0903 - val_r_square: -2.5484e+00 - 151ms/epoch - 13ms/step\n",
      "Epoch 288/500\n",
      "12/12 - 0s - loss: 0.0962 - r_square: -2.6429e+00 - val_loss: 0.0903 - val_r_square: -2.5484e+00 - 147ms/epoch - 12ms/step\n",
      "Epoch 289/500\n",
      "12/12 - 0s - loss: 0.0962 - r_square: -2.6429e+00 - val_loss: 0.0903 - val_r_square: -2.5484e+00 - 148ms/epoch - 12ms/step\n",
      "Epoch 290/500\n",
      "12/12 - 0s - loss: 0.0962 - r_square: -2.6429e+00 - val_loss: 0.0903 - val_r_square: -2.5484e+00 - 150ms/epoch - 12ms/step\n",
      "Epoch 291/500\n",
      "12/12 - 0s - loss: 0.0962 - r_square: -2.6429e+00 - val_loss: 0.0903 - val_r_square: -2.5484e+00 - 152ms/epoch - 13ms/step\n",
      "Epoch 292/500\n",
      "12/12 - 0s - loss: 0.0962 - r_square: -2.6429e+00 - val_loss: 0.0903 - val_r_square: -2.5484e+00 - 150ms/epoch - 12ms/step\n",
      "Epoch 293/500\n",
      "12/12 - 0s - loss: 0.0962 - r_square: -2.6429e+00 - val_loss: 0.0903 - val_r_square: -2.5484e+00 - 152ms/epoch - 13ms/step\n",
      "Epoch 294/500\n",
      "12/12 - 0s - loss: 0.0962 - r_square: -2.6429e+00 - val_loss: 0.0903 - val_r_square: -2.5484e+00 - 150ms/epoch - 12ms/step\n",
      "Epoch 295/500\n",
      "12/12 - 0s - loss: 0.0962 - r_square: -2.6429e+00 - val_loss: 0.0903 - val_r_square: -2.5484e+00 - 151ms/epoch - 13ms/step\n",
      "Epoch 296/500\n",
      "12/12 - 0s - loss: 0.0962 - r_square: -2.6430e+00 - val_loss: 0.0903 - val_r_square: -2.5484e+00 - 156ms/epoch - 13ms/step\n",
      "Epoch 297/500\n",
      "12/12 - 0s - loss: 0.0962 - r_square: -2.6430e+00 - val_loss: 0.0903 - val_r_square: -2.5484e+00 - 149ms/epoch - 12ms/step\n",
      "Epoch 298/500\n",
      "12/12 - 0s - loss: 0.0962 - r_square: -2.6429e+00 - val_loss: 0.0903 - val_r_square: -2.5484e+00 - 191ms/epoch - 16ms/step\n",
      "Epoch 299/500\n",
      "12/12 - 0s - loss: 0.0962 - r_square: -2.6430e+00 - val_loss: 0.0903 - val_r_square: -2.5484e+00 - 150ms/epoch - 12ms/step\n",
      "Epoch 300/500\n",
      "12/12 - 0s - loss: 0.0962 - r_square: -2.6430e+00 - val_loss: 0.0903 - val_r_square: -2.5484e+00 - 151ms/epoch - 13ms/step\n",
      "Epoch 301/500\n",
      "12/12 - 0s - loss: 0.0962 - r_square: -2.6429e+00 - val_loss: 0.0903 - val_r_square: -2.5484e+00 - 152ms/epoch - 13ms/step\n",
      "Epoch 302/500\n",
      "12/12 - 0s - loss: 0.0962 - r_square: -2.6429e+00 - val_loss: 0.0903 - val_r_square: -2.5484e+00 - 155ms/epoch - 13ms/step\n",
      "Epoch 303/500\n",
      "12/12 - 0s - loss: 0.0962 - r_square: -2.6430e+00 - val_loss: 0.0903 - val_r_square: -2.5484e+00 - 152ms/epoch - 13ms/step\n",
      "Epoch 304/500\n",
      "12/12 - 0s - loss: 0.0962 - r_square: -2.6429e+00 - val_loss: 0.0903 - val_r_square: -2.5484e+00 - 156ms/epoch - 13ms/step\n",
      "Epoch 305/500\n",
      "12/12 - 0s - loss: 0.0962 - r_square: -2.6429e+00 - val_loss: 0.0903 - val_r_square: -2.5484e+00 - 149ms/epoch - 12ms/step\n",
      "Epoch 306/500\n",
      "12/12 - 0s - loss: 0.0962 - r_square: -2.6429e+00 - val_loss: 0.0903 - val_r_square: -2.5484e+00 - 151ms/epoch - 13ms/step\n",
      "Epoch 307/500\n",
      "12/12 - 0s - loss: 0.0962 - r_square: -2.6429e+00 - val_loss: 0.0903 - val_r_square: -2.5484e+00 - 149ms/epoch - 12ms/step\n",
      "Epoch 308/500\n",
      "12/12 - 0s - loss: 0.0962 - r_square: -2.6430e+00 - val_loss: 0.0903 - val_r_square: -2.5484e+00 - 151ms/epoch - 13ms/step\n",
      "Epoch 309/500\n",
      "12/12 - 0s - loss: 0.0962 - r_square: -2.6429e+00 - val_loss: 0.0903 - val_r_square: -2.5484e+00 - 148ms/epoch - 12ms/step\n",
      "Epoch 310/500\n",
      "12/12 - 0s - loss: 0.0962 - r_square: -2.6429e+00 - val_loss: 0.0903 - val_r_square: -2.5484e+00 - 150ms/epoch - 12ms/step\n",
      "Epoch 311/500\n",
      "12/12 - 0s - loss: 0.0962 - r_square: -2.6429e+00 - val_loss: 0.0903 - val_r_square: -2.5484e+00 - 151ms/epoch - 13ms/step\n",
      "Epoch 312/500\n",
      "12/12 - 0s - loss: 0.0962 - r_square: -2.6429e+00 - val_loss: 0.0903 - val_r_square: -2.5484e+00 - 151ms/epoch - 13ms/step\n",
      "Epoch 313/500\n",
      "12/12 - 0s - loss: 0.0962 - r_square: -2.6429e+00 - val_loss: 0.0903 - val_r_square: -2.5484e+00 - 150ms/epoch - 12ms/step\n",
      "Epoch 314/500\n",
      "12/12 - 0s - loss: 0.0962 - r_square: -2.6429e+00 - val_loss: 0.0903 - val_r_square: -2.5484e+00 - 152ms/epoch - 13ms/step\n",
      "Epoch 315/500\n",
      "12/12 - 0s - loss: 0.0962 - r_square: -2.6429e+00 - val_loss: 0.0903 - val_r_square: -2.5484e+00 - 150ms/epoch - 12ms/step\n",
      "Epoch 316/500\n",
      "12/12 - 0s - loss: 0.0962 - r_square: -2.6430e+00 - val_loss: 0.0903 - val_r_square: -2.5484e+00 - 151ms/epoch - 13ms/step\n",
      "Epoch 317/500\n",
      "12/12 - 0s - loss: 0.0962 - r_square: -2.6429e+00 - val_loss: 0.0903 - val_r_square: -2.5484e+00 - 147ms/epoch - 12ms/step\n",
      "Epoch 318/500\n",
      "12/12 - 0s - loss: 0.0962 - r_square: -2.6429e+00 - val_loss: 0.0903 - val_r_square: -2.5484e+00 - 149ms/epoch - 12ms/step\n",
      "Epoch 319/500\n",
      "12/12 - 0s - loss: 0.0962 - r_square: -2.6429e+00 - val_loss: 0.0903 - val_r_square: -2.5484e+00 - 149ms/epoch - 12ms/step\n",
      "Epoch 320/500\n",
      "12/12 - 0s - loss: 0.0962 - r_square: -2.6429e+00 - val_loss: 0.0903 - val_r_square: -2.5484e+00 - 151ms/epoch - 13ms/step\n",
      "Epoch 321/500\n",
      "12/12 - 0s - loss: 0.0962 - r_square: -2.6430e+00 - val_loss: 0.0903 - val_r_square: -2.5484e+00 - 149ms/epoch - 12ms/step\n",
      "Epoch 322/500\n",
      "12/12 - 0s - loss: 0.0962 - r_square: -2.6429e+00 - val_loss: 0.0903 - val_r_square: -2.5484e+00 - 147ms/epoch - 12ms/step\n",
      "Epoch 323/500\n",
      "12/12 - 0s - loss: 0.0962 - r_square: -2.6429e+00 - val_loss: 0.0903 - val_r_square: -2.5484e+00 - 149ms/epoch - 12ms/step\n",
      "Epoch 324/500\n",
      "12/12 - 0s - loss: 0.0962 - r_square: -2.6429e+00 - val_loss: 0.0903 - val_r_square: -2.5484e+00 - 146ms/epoch - 12ms/step\n",
      "Epoch 325/500\n",
      "12/12 - 0s - loss: 0.0962 - r_square: -2.6430e+00 - val_loss: 0.0903 - val_r_square: -2.5484e+00 - 149ms/epoch - 12ms/step\n",
      "Epoch 326/500\n",
      "12/12 - 0s - loss: 0.0962 - r_square: -2.6430e+00 - val_loss: 0.0903 - val_r_square: -2.5484e+00 - 151ms/epoch - 13ms/step\n",
      "Epoch 327/500\n",
      "12/12 - 0s - loss: 0.0962 - r_square: -2.6429e+00 - val_loss: 0.0903 - val_r_square: -2.5484e+00 - 151ms/epoch - 13ms/step\n",
      "Epoch 328/500\n",
      "12/12 - 0s - loss: 0.0962 - r_square: -2.6430e+00 - val_loss: 0.0903 - val_r_square: -2.5484e+00 - 151ms/epoch - 13ms/step\n",
      "Epoch 329/500\n",
      "12/12 - 0s - loss: 0.0962 - r_square: -2.6429e+00 - val_loss: 0.0903 - val_r_square: -2.5484e+00 - 150ms/epoch - 12ms/step\n",
      "Epoch 330/500\n",
      "12/12 - 0s - loss: 0.0962 - r_square: -2.6429e+00 - val_loss: 0.0903 - val_r_square: -2.5484e+00 - 150ms/epoch - 12ms/step\n",
      "Epoch 331/500\n",
      "12/12 - 0s - loss: 0.0962 - r_square: -2.6429e+00 - val_loss: 0.0903 - val_r_square: -2.5484e+00 - 148ms/epoch - 12ms/step\n",
      "Epoch 332/500\n",
      "12/12 - 0s - loss: 0.0962 - r_square: -2.6429e+00 - val_loss: 0.0903 - val_r_square: -2.5484e+00 - 151ms/epoch - 13ms/step\n",
      "Epoch 333/500\n",
      "12/12 - 0s - loss: 0.0962 - r_square: -2.6430e+00 - val_loss: 0.0903 - val_r_square: -2.5484e+00 - 149ms/epoch - 12ms/step\n",
      "Epoch 334/500\n",
      "12/12 - 0s - loss: 0.0962 - r_square: -2.6429e+00 - val_loss: 0.0903 - val_r_square: -2.5484e+00 - 150ms/epoch - 12ms/step\n",
      "Epoch 335/500\n",
      "12/12 - 0s - loss: 0.0962 - r_square: -2.6429e+00 - val_loss: 0.0903 - val_r_square: -2.5484e+00 - 148ms/epoch - 12ms/step\n",
      "Epoch 336/500\n",
      "12/12 - 0s - loss: 0.0962 - r_square: -2.6430e+00 - val_loss: 0.0903 - val_r_square: -2.5484e+00 - 151ms/epoch - 13ms/step\n",
      "Epoch 337/500\n",
      "12/12 - 0s - loss: 0.0962 - r_square: -2.6429e+00 - val_loss: 0.0903 - val_r_square: -2.5484e+00 - 153ms/epoch - 13ms/step\n",
      "Epoch 338/500\n",
      "12/12 - 0s - loss: 0.0962 - r_square: -2.6430e+00 - val_loss: 0.0903 - val_r_square: -2.5484e+00 - 149ms/epoch - 12ms/step\n",
      "Epoch 339/500\n",
      "12/12 - 0s - loss: 0.0962 - r_square: -2.6429e+00 - val_loss: 0.0903 - val_r_square: -2.5484e+00 - 150ms/epoch - 12ms/step\n",
      "Epoch 340/500\n",
      "12/12 - 0s - loss: 0.0962 - r_square: -2.6429e+00 - val_loss: 0.0903 - val_r_square: -2.5484e+00 - 149ms/epoch - 12ms/step\n",
      "Epoch 341/500\n",
      "12/12 - 0s - loss: 0.0962 - r_square: -2.6429e+00 - val_loss: 0.0903 - val_r_square: -2.5484e+00 - 152ms/epoch - 13ms/step\n",
      "Epoch 342/500\n",
      "12/12 - 0s - loss: 0.0962 - r_square: -2.6430e+00 - val_loss: 0.0903 - val_r_square: -2.5484e+00 - 150ms/epoch - 12ms/step\n",
      "Epoch 343/500\n",
      "12/12 - 0s - loss: 0.0962 - r_square: -2.6429e+00 - val_loss: 0.0903 - val_r_square: -2.5484e+00 - 151ms/epoch - 13ms/step\n",
      "Epoch 344/500\n",
      "12/12 - 0s - loss: 0.0962 - r_square: -2.6429e+00 - val_loss: 0.0903 - val_r_square: -2.5484e+00 - 150ms/epoch - 12ms/step\n",
      "Epoch 345/500\n",
      "12/12 - 0s - loss: 0.0962 - r_square: -2.6429e+00 - val_loss: 0.0903 - val_r_square: -2.5484e+00 - 162ms/epoch - 13ms/step\n",
      "Epoch 346/500\n",
      "12/12 - 0s - loss: 0.0962 - r_square: -2.6429e+00 - val_loss: 0.0903 - val_r_square: -2.5484e+00 - 191ms/epoch - 16ms/step\n",
      "Epoch 347/500\n",
      "12/12 - 0s - loss: 0.0962 - r_square: -2.6429e+00 - val_loss: 0.0903 - val_r_square: -2.5484e+00 - 150ms/epoch - 12ms/step\n",
      "Epoch 348/500\n",
      "12/12 - 0s - loss: 0.0962 - r_square: -2.6430e+00 - val_loss: 0.0903 - val_r_square: -2.5484e+00 - 150ms/epoch - 12ms/step\n",
      "Epoch 349/500\n",
      "12/12 - 0s - loss: 0.0962 - r_square: -2.6430e+00 - val_loss: 0.0903 - val_r_square: -2.5484e+00 - 153ms/epoch - 13ms/step\n",
      "Epoch 350/500\n",
      "12/12 - 0s - loss: 0.0962 - r_square: -2.6430e+00 - val_loss: 0.0903 - val_r_square: -2.5484e+00 - 147ms/epoch - 12ms/step\n",
      "Epoch 351/500\n",
      "12/12 - 0s - loss: 0.0962 - r_square: -2.6430e+00 - val_loss: 0.0903 - val_r_square: -2.5484e+00 - 149ms/epoch - 12ms/step\n",
      "Epoch 352/500\n",
      "12/12 - 0s - loss: 0.0962 - r_square: -2.6429e+00 - val_loss: 0.0903 - val_r_square: -2.5484e+00 - 149ms/epoch - 12ms/step\n",
      "Epoch 353/500\n",
      "12/12 - 0s - loss: 0.0962 - r_square: -2.6430e+00 - val_loss: 0.0903 - val_r_square: -2.5484e+00 - 151ms/epoch - 13ms/step\n",
      "Epoch 354/500\n",
      "12/12 - 0s - loss: 0.0962 - r_square: -2.6429e+00 - val_loss: 0.0903 - val_r_square: -2.5484e+00 - 149ms/epoch - 12ms/step\n",
      "Epoch 355/500\n",
      "12/12 - 0s - loss: 0.0962 - r_square: -2.6429e+00 - val_loss: 0.0903 - val_r_square: -2.5484e+00 - 154ms/epoch - 13ms/step\n",
      "Epoch 356/500\n",
      "12/12 - 0s - loss: 0.0962 - r_square: -2.6430e+00 - val_loss: 0.0903 - val_r_square: -2.5484e+00 - 150ms/epoch - 12ms/step\n",
      "Epoch 357/500\n",
      "12/12 - 0s - loss: 0.0962 - r_square: -2.6429e+00 - val_loss: 0.0903 - val_r_square: -2.5484e+00 - 153ms/epoch - 13ms/step\n",
      "Epoch 358/500\n",
      "12/12 - 0s - loss: 0.0962 - r_square: -2.6429e+00 - val_loss: 0.0903 - val_r_square: -2.5484e+00 - 148ms/epoch - 12ms/step\n",
      "Epoch 359/500\n",
      "12/12 - 0s - loss: 0.0962 - r_square: -2.6430e+00 - val_loss: 0.0903 - val_r_square: -2.5484e+00 - 150ms/epoch - 12ms/step\n",
      "Epoch 360/500\n",
      "12/12 - 0s - loss: 0.0962 - r_square: -2.6429e+00 - val_loss: 0.0903 - val_r_square: -2.5484e+00 - 151ms/epoch - 13ms/step\n",
      "Epoch 361/500\n",
      "12/12 - 0s - loss: 0.0962 - r_square: -2.6430e+00 - val_loss: 0.0903 - val_r_square: -2.5484e+00 - 153ms/epoch - 13ms/step\n",
      "Epoch 362/500\n",
      "12/12 - 0s - loss: 0.0962 - r_square: -2.6430e+00 - val_loss: 0.0903 - val_r_square: -2.5484e+00 - 159ms/epoch - 13ms/step\n",
      "Epoch 363/500\n",
      "12/12 - 0s - loss: 0.0962 - r_square: -2.6429e+00 - val_loss: 0.0903 - val_r_square: -2.5484e+00 - 147ms/epoch - 12ms/step\n",
      "Epoch 364/500\n",
      "12/12 - 0s - loss: 0.0962 - r_square: -2.6430e+00 - val_loss: 0.0903 - val_r_square: -2.5484e+00 - 150ms/epoch - 12ms/step\n",
      "Epoch 365/500\n",
      "12/12 - 0s - loss: 0.0962 - r_square: -2.6429e+00 - val_loss: 0.0903 - val_r_square: -2.5484e+00 - 148ms/epoch - 12ms/step\n",
      "Epoch 366/500\n",
      "12/12 - 0s - loss: 0.0962 - r_square: -2.6429e+00 - val_loss: 0.0903 - val_r_square: -2.5484e+00 - 149ms/epoch - 12ms/step\n",
      "Epoch 367/500\n",
      "12/12 - 0s - loss: 0.0962 - r_square: -2.6429e+00 - val_loss: 0.0903 - val_r_square: -2.5484e+00 - 154ms/epoch - 13ms/step\n",
      "Epoch 368/500\n",
      "12/12 - 0s - loss: 0.0962 - r_square: -2.6429e+00 - val_loss: 0.0903 - val_r_square: -2.5484e+00 - 149ms/epoch - 12ms/step\n",
      "Epoch 369/500\n",
      "12/12 - 0s - loss: 0.0962 - r_square: -2.6429e+00 - val_loss: 0.0903 - val_r_square: -2.5484e+00 - 149ms/epoch - 12ms/step\n",
      "Epoch 370/500\n",
      "12/12 - 0s - loss: 0.0962 - r_square: -2.6429e+00 - val_loss: 0.0903 - val_r_square: -2.5484e+00 - 152ms/epoch - 13ms/step\n",
      "Epoch 371/500\n",
      "12/12 - 0s - loss: 0.0962 - r_square: -2.6429e+00 - val_loss: 0.0903 - val_r_square: -2.5484e+00 - 152ms/epoch - 13ms/step\n",
      "Epoch 372/500\n",
      "12/12 - 0s - loss: 0.0962 - r_square: -2.6429e+00 - val_loss: 0.0903 - val_r_square: -2.5484e+00 - 150ms/epoch - 12ms/step\n",
      "Epoch 373/500\n",
      "12/12 - 0s - loss: 0.0962 - r_square: -2.6430e+00 - val_loss: 0.0903 - val_r_square: -2.5484e+00 - 148ms/epoch - 12ms/step\n",
      "Epoch 374/500\n",
      "12/12 - 0s - loss: 0.0962 - r_square: -2.6429e+00 - val_loss: 0.0903 - val_r_square: -2.5484e+00 - 156ms/epoch - 13ms/step\n",
      "Epoch 375/500\n",
      "12/12 - 0s - loss: 0.0962 - r_square: -2.6430e+00 - val_loss: 0.0903 - val_r_square: -2.5484e+00 - 150ms/epoch - 12ms/step\n",
      "Epoch 376/500\n",
      "12/12 - 0s - loss: 0.0962 - r_square: -2.6429e+00 - val_loss: 0.0903 - val_r_square: -2.5484e+00 - 154ms/epoch - 13ms/step\n",
      "Epoch 377/500\n",
      "12/12 - 0s - loss: 0.0962 - r_square: -2.6430e+00 - val_loss: 0.0903 - val_r_square: -2.5484e+00 - 150ms/epoch - 12ms/step\n",
      "Epoch 378/500\n",
      "12/12 - 0s - loss: 0.0962 - r_square: -2.6429e+00 - val_loss: 0.0903 - val_r_square: -2.5484e+00 - 149ms/epoch - 12ms/step\n",
      "Epoch 379/500\n",
      "12/12 - 0s - loss: 0.0962 - r_square: -2.6430e+00 - val_loss: 0.0903 - val_r_square: -2.5484e+00 - 150ms/epoch - 12ms/step\n",
      "Epoch 380/500\n",
      "12/12 - 0s - loss: 0.0962 - r_square: -2.6429e+00 - val_loss: 0.0903 - val_r_square: -2.5484e+00 - 148ms/epoch - 12ms/step\n",
      "Epoch 381/500\n",
      "12/12 - 0s - loss: 0.0962 - r_square: -2.6429e+00 - val_loss: 0.0903 - val_r_square: -2.5484e+00 - 150ms/epoch - 12ms/step\n",
      "Epoch 382/500\n",
      "12/12 - 0s - loss: 0.0962 - r_square: -2.6430e+00 - val_loss: 0.0903 - val_r_square: -2.5484e+00 - 149ms/epoch - 12ms/step\n",
      "Epoch 383/500\n",
      "12/12 - 0s - loss: 0.0962 - r_square: -2.6429e+00 - val_loss: 0.0903 - val_r_square: -2.5484e+00 - 149ms/epoch - 12ms/step\n",
      "Epoch 384/500\n",
      "12/12 - 0s - loss: 0.0962 - r_square: -2.6430e+00 - val_loss: 0.0903 - val_r_square: -2.5484e+00 - 150ms/epoch - 12ms/step\n",
      "Epoch 385/500\n",
      "12/12 - 0s - loss: 0.0962 - r_square: -2.6429e+00 - val_loss: 0.0903 - val_r_square: -2.5484e+00 - 147ms/epoch - 12ms/step\n",
      "Epoch 386/500\n",
      "12/12 - 0s - loss: 0.0962 - r_square: -2.6429e+00 - val_loss: 0.0903 - val_r_square: -2.5484e+00 - 149ms/epoch - 12ms/step\n",
      "Epoch 387/500\n",
      "12/12 - 0s - loss: 0.0962 - r_square: -2.6429e+00 - val_loss: 0.0903 - val_r_square: -2.5484e+00 - 147ms/epoch - 12ms/step\n",
      "Epoch 388/500\n",
      "12/12 - 0s - loss: 0.0962 - r_square: -2.6430e+00 - val_loss: 0.0903 - val_r_square: -2.5484e+00 - 148ms/epoch - 12ms/step\n",
      "Epoch 389/500\n",
      "12/12 - 0s - loss: 0.0962 - r_square: -2.6430e+00 - val_loss: 0.0903 - val_r_square: -2.5484e+00 - 150ms/epoch - 12ms/step\n",
      "Epoch 390/500\n",
      "12/12 - 0s - loss: 0.0962 - r_square: -2.6429e+00 - val_loss: 0.0903 - val_r_square: -2.5484e+00 - 150ms/epoch - 12ms/step\n",
      "Epoch 391/500\n",
      "12/12 - 0s - loss: 0.0962 - r_square: -2.6429e+00 - val_loss: 0.0903 - val_r_square: -2.5484e+00 - 189ms/epoch - 16ms/step\n",
      "Epoch 392/500\n",
      "12/12 - 0s - loss: 0.0962 - r_square: -2.6429e+00 - val_loss: 0.0903 - val_r_square: -2.5484e+00 - 150ms/epoch - 12ms/step\n",
      "Epoch 393/500\n",
      "12/12 - 0s - loss: 0.0962 - r_square: -2.6430e+00 - val_loss: 0.0903 - val_r_square: -2.5484e+00 - 150ms/epoch - 12ms/step\n",
      "Epoch 394/500\n",
      "12/12 - 0s - loss: 0.0962 - r_square: -2.6429e+00 - val_loss: 0.0903 - val_r_square: -2.5484e+00 - 147ms/epoch - 12ms/step\n",
      "Epoch 395/500\n",
      "12/12 - 0s - loss: 0.0962 - r_square: -2.6429e+00 - val_loss: 0.0903 - val_r_square: -2.5484e+00 - 147ms/epoch - 12ms/step\n",
      "Epoch 396/500\n",
      "12/12 - 0s - loss: 0.0962 - r_square: -2.6430e+00 - val_loss: 0.0903 - val_r_square: -2.5484e+00 - 152ms/epoch - 13ms/step\n",
      "Epoch 397/500\n",
      "12/12 - 0s - loss: 0.0962 - r_square: -2.6430e+00 - val_loss: 0.0903 - val_r_square: -2.5484e+00 - 152ms/epoch - 13ms/step\n",
      "Epoch 398/500\n",
      "12/12 - 0s - loss: 0.0962 - r_square: -2.6430e+00 - val_loss: 0.0903 - val_r_square: -2.5484e+00 - 151ms/epoch - 13ms/step\n",
      "Epoch 399/500\n",
      "12/12 - 0s - loss: 0.0962 - r_square: -2.6429e+00 - val_loss: 0.0903 - val_r_square: -2.5484e+00 - 150ms/epoch - 12ms/step\n",
      "Epoch 400/500\n",
      "12/12 - 0s - loss: 0.0962 - r_square: -2.6429e+00 - val_loss: 0.0903 - val_r_square: -2.5484e+00 - 151ms/epoch - 13ms/step\n",
      "Epoch 401/500\n",
      "12/12 - 0s - loss: 0.0962 - r_square: -2.6430e+00 - val_loss: 0.0903 - val_r_square: -2.5484e+00 - 151ms/epoch - 13ms/step\n",
      "Epoch 402/500\n",
      "12/12 - 0s - loss: 0.0962 - r_square: -2.6429e+00 - val_loss: 0.0903 - val_r_square: -2.5484e+00 - 150ms/epoch - 12ms/step\n",
      "Epoch 403/500\n",
      "12/12 - 0s - loss: 0.0962 - r_square: -2.6429e+00 - val_loss: 0.0903 - val_r_square: -2.5484e+00 - 153ms/epoch - 13ms/step\n",
      "Epoch 404/500\n",
      "12/12 - 0s - loss: 0.0962 - r_square: -2.6429e+00 - val_loss: 0.0903 - val_r_square: -2.5484e+00 - 150ms/epoch - 12ms/step\n",
      "Epoch 405/500\n",
      "12/12 - 0s - loss: 0.0962 - r_square: -2.6430e+00 - val_loss: 0.0903 - val_r_square: -2.5484e+00 - 150ms/epoch - 12ms/step\n",
      "Epoch 406/500\n",
      "12/12 - 0s - loss: 0.0962 - r_square: -2.6429e+00 - val_loss: 0.0903 - val_r_square: -2.5484e+00 - 151ms/epoch - 13ms/step\n",
      "Epoch 407/500\n",
      "12/12 - 0s - loss: 0.0962 - r_square: -2.6430e+00 - val_loss: 0.0903 - val_r_square: -2.5484e+00 - 151ms/epoch - 13ms/step\n",
      "Epoch 408/500\n",
      "12/12 - 0s - loss: 0.0962 - r_square: -2.6429e+00 - val_loss: 0.0903 - val_r_square: -2.5484e+00 - 151ms/epoch - 13ms/step\n",
      "Epoch 409/500\n",
      "12/12 - 0s - loss: 0.0962 - r_square: -2.6429e+00 - val_loss: 0.0903 - val_r_square: -2.5484e+00 - 151ms/epoch - 13ms/step\n",
      "Epoch 410/500\n",
      "12/12 - 0s - loss: 0.0962 - r_square: -2.6429e+00 - val_loss: 0.0903 - val_r_square: -2.5484e+00 - 153ms/epoch - 13ms/step\n",
      "Epoch 411/500\n",
      "12/12 - 0s - loss: 0.0962 - r_square: -2.6429e+00 - val_loss: 0.0903 - val_r_square: -2.5484e+00 - 152ms/epoch - 13ms/step\n",
      "Epoch 412/500\n",
      "12/12 - 0s - loss: 0.0962 - r_square: -2.6429e+00 - val_loss: 0.0903 - val_r_square: -2.5484e+00 - 150ms/epoch - 12ms/step\n",
      "Epoch 413/500\n",
      "12/12 - 0s - loss: 0.0962 - r_square: -2.6429e+00 - val_loss: 0.0903 - val_r_square: -2.5484e+00 - 149ms/epoch - 12ms/step\n",
      "Epoch 414/500\n",
      "12/12 - 0s - loss: 0.0962 - r_square: -2.6429e+00 - val_loss: 0.0903 - val_r_square: -2.5484e+00 - 150ms/epoch - 12ms/step\n",
      "Epoch 415/500\n",
      "12/12 - 0s - loss: 0.0962 - r_square: -2.6429e+00 - val_loss: 0.0903 - val_r_square: -2.5484e+00 - 148ms/epoch - 12ms/step\n",
      "Epoch 416/500\n",
      "12/12 - 0s - loss: 0.0962 - r_square: -2.6429e+00 - val_loss: 0.0903 - val_r_square: -2.5484e+00 - 151ms/epoch - 13ms/step\n",
      "Epoch 417/500\n",
      "12/12 - 0s - loss: 0.0962 - r_square: -2.6429e+00 - val_loss: 0.0903 - val_r_square: -2.5484e+00 - 151ms/epoch - 13ms/step\n",
      "Epoch 418/500\n",
      "12/12 - 0s - loss: 0.0962 - r_square: -2.6429e+00 - val_loss: 0.0903 - val_r_square: -2.5484e+00 - 148ms/epoch - 12ms/step\n",
      "Epoch 419/500\n",
      "12/12 - 0s - loss: 0.0962 - r_square: -2.6429e+00 - val_loss: 0.0903 - val_r_square: -2.5484e+00 - 152ms/epoch - 13ms/step\n",
      "Epoch 420/500\n",
      "12/12 - 0s - loss: 0.0962 - r_square: -2.6430e+00 - val_loss: 0.0903 - val_r_square: -2.5484e+00 - 151ms/epoch - 13ms/step\n",
      "Epoch 421/500\n",
      "12/12 - 0s - loss: 0.0962 - r_square: -2.6429e+00 - val_loss: 0.0903 - val_r_square: -2.5484e+00 - 150ms/epoch - 12ms/step\n",
      "Epoch 422/500\n",
      "12/12 - 0s - loss: 0.0962 - r_square: -2.6429e+00 - val_loss: 0.0903 - val_r_square: -2.5484e+00 - 192ms/epoch - 16ms/step\n",
      "Epoch 423/500\n",
      "12/12 - 0s - loss: 0.0962 - r_square: -2.6430e+00 - val_loss: 0.0903 - val_r_square: -2.5484e+00 - 150ms/epoch - 12ms/step\n",
      "Epoch 424/500\n",
      "12/12 - 0s - loss: 0.0962 - r_square: -2.6430e+00 - val_loss: 0.0903 - val_r_square: -2.5484e+00 - 149ms/epoch - 12ms/step\n",
      "Epoch 425/500\n",
      "12/12 - 0s - loss: 0.0962 - r_square: -2.6430e+00 - val_loss: 0.0903 - val_r_square: -2.5484e+00 - 148ms/epoch - 12ms/step\n",
      "Epoch 426/500\n",
      "12/12 - 0s - loss: 0.0962 - r_square: -2.6429e+00 - val_loss: 0.0903 - val_r_square: -2.5484e+00 - 149ms/epoch - 12ms/step\n",
      "Epoch 427/500\n",
      "12/12 - 0s - loss: 0.0962 - r_square: -2.6430e+00 - val_loss: 0.0903 - val_r_square: -2.5484e+00 - 150ms/epoch - 12ms/step\n",
      "Epoch 428/500\n",
      "12/12 - 0s - loss: 0.0962 - r_square: -2.6429e+00 - val_loss: 0.0903 - val_r_square: -2.5484e+00 - 151ms/epoch - 13ms/step\n",
      "Epoch 429/500\n",
      "12/12 - 0s - loss: 0.0962 - r_square: -2.6430e+00 - val_loss: 0.0903 - val_r_square: -2.5484e+00 - 151ms/epoch - 13ms/step\n",
      "Epoch 430/500\n",
      "12/12 - 0s - loss: 0.0962 - r_square: -2.6429e+00 - val_loss: 0.0903 - val_r_square: -2.5484e+00 - 150ms/epoch - 12ms/step\n",
      "Epoch 431/500\n",
      "12/12 - 0s - loss: 0.0962 - r_square: -2.6429e+00 - val_loss: 0.0903 - val_r_square: -2.5484e+00 - 152ms/epoch - 13ms/step\n",
      "Epoch 432/500\n",
      "12/12 - 0s - loss: 0.0962 - r_square: -2.6429e+00 - val_loss: 0.0903 - val_r_square: -2.5484e+00 - 162ms/epoch - 13ms/step\n",
      "Epoch 433/500\n",
      "12/12 - 0s - loss: 0.0962 - r_square: -2.6429e+00 - val_loss: 0.0903 - val_r_square: -2.5484e+00 - 159ms/epoch - 13ms/step\n",
      "Epoch 434/500\n",
      "12/12 - 0s - loss: 0.0962 - r_square: -2.6429e+00 - val_loss: 0.0903 - val_r_square: -2.5484e+00 - 165ms/epoch - 14ms/step\n",
      "Epoch 435/500\n",
      "12/12 - 0s - loss: 0.0962 - r_square: -2.6429e+00 - val_loss: 0.0903 - val_r_square: -2.5484e+00 - 153ms/epoch - 13ms/step\n",
      "Epoch 436/500\n",
      "12/12 - 0s - loss: 0.0962 - r_square: -2.6429e+00 - val_loss: 0.0903 - val_r_square: -2.5484e+00 - 171ms/epoch - 14ms/step\n",
      "Epoch 437/500\n",
      "12/12 - 0s - loss: 0.0962 - r_square: -2.6429e+00 - val_loss: 0.0903 - val_r_square: -2.5484e+00 - 151ms/epoch - 13ms/step\n",
      "Epoch 438/500\n",
      "12/12 - 0s - loss: 0.0962 - r_square: -2.6429e+00 - val_loss: 0.0903 - val_r_square: -2.5484e+00 - 164ms/epoch - 14ms/step\n",
      "Epoch 439/500\n",
      "12/12 - 0s - loss: 0.0962 - r_square: -2.6429e+00 - val_loss: 0.0903 - val_r_square: -2.5484e+00 - 185ms/epoch - 15ms/step\n",
      "Epoch 440/500\n",
      "12/12 - 0s - loss: 0.0962 - r_square: -2.6429e+00 - val_loss: 0.0903 - val_r_square: -2.5484e+00 - 182ms/epoch - 15ms/step\n",
      "Epoch 441/500\n",
      "12/12 - 0s - loss: 0.0962 - r_square: -2.6429e+00 - val_loss: 0.0903 - val_r_square: -2.5484e+00 - 166ms/epoch - 14ms/step\n",
      "Epoch 442/500\n",
      "12/12 - 0s - loss: 0.0962 - r_square: -2.6429e+00 - val_loss: 0.0903 - val_r_square: -2.5484e+00 - 187ms/epoch - 16ms/step\n",
      "Epoch 443/500\n",
      "12/12 - 0s - loss: 0.0962 - r_square: -2.6429e+00 - val_loss: 0.0903 - val_r_square: -2.5484e+00 - 174ms/epoch - 14ms/step\n",
      "Epoch 444/500\n",
      "12/12 - 0s - loss: 0.0962 - r_square: -2.6430e+00 - val_loss: 0.0903 - val_r_square: -2.5484e+00 - 174ms/epoch - 14ms/step\n",
      "Epoch 445/500\n",
      "12/12 - 0s - loss: 0.0962 - r_square: -2.6430e+00 - val_loss: 0.0903 - val_r_square: -2.5484e+00 - 165ms/epoch - 14ms/step\n",
      "Epoch 446/500\n",
      "12/12 - 0s - loss: 0.0962 - r_square: -2.6430e+00 - val_loss: 0.0903 - val_r_square: -2.5484e+00 - 178ms/epoch - 15ms/step\n",
      "Epoch 447/500\n",
      "12/12 - 0s - loss: 0.0962 - r_square: -2.6430e+00 - val_loss: 0.0903 - val_r_square: -2.5484e+00 - 169ms/epoch - 14ms/step\n",
      "Epoch 448/500\n",
      "12/12 - 0s - loss: 0.0962 - r_square: -2.6429e+00 - val_loss: 0.0903 - val_r_square: -2.5484e+00 - 154ms/epoch - 13ms/step\n",
      "Epoch 449/500\n",
      "12/12 - 0s - loss: 0.0962 - r_square: -2.6429e+00 - val_loss: 0.0903 - val_r_square: -2.5484e+00 - 177ms/epoch - 15ms/step\n",
      "Epoch 450/500\n",
      "12/12 - 0s - loss: 0.0962 - r_square: -2.6429e+00 - val_loss: 0.0903 - val_r_square: -2.5484e+00 - 160ms/epoch - 13ms/step\n",
      "Epoch 451/500\n",
      "12/12 - 0s - loss: 0.0962 - r_square: -2.6429e+00 - val_loss: 0.0903 - val_r_square: -2.5484e+00 - 149ms/epoch - 12ms/step\n",
      "Epoch 452/500\n",
      "12/12 - 0s - loss: 0.0962 - r_square: -2.6429e+00 - val_loss: 0.0903 - val_r_square: -2.5484e+00 - 191ms/epoch - 16ms/step\n",
      "Epoch 453/500\n",
      "12/12 - 0s - loss: 0.0962 - r_square: -2.6429e+00 - val_loss: 0.0903 - val_r_square: -2.5484e+00 - 153ms/epoch - 13ms/step\n",
      "Epoch 454/500\n",
      "12/12 - 0s - loss: 0.0962 - r_square: -2.6429e+00 - val_loss: 0.0903 - val_r_square: -2.5484e+00 - 151ms/epoch - 13ms/step\n",
      "Epoch 455/500\n",
      "12/12 - 0s - loss: 0.0962 - r_square: -2.6429e+00 - val_loss: 0.0903 - val_r_square: -2.5484e+00 - 185ms/epoch - 15ms/step\n",
      "Epoch 456/500\n",
      "12/12 - 0s - loss: 0.0962 - r_square: -2.6430e+00 - val_loss: 0.0903 - val_r_square: -2.5484e+00 - 154ms/epoch - 13ms/step\n",
      "Epoch 457/500\n",
      "12/12 - 0s - loss: 0.0962 - r_square: -2.6430e+00 - val_loss: 0.0903 - val_r_square: -2.5484e+00 - 151ms/epoch - 13ms/step\n",
      "Epoch 458/500\n",
      "12/12 - 0s - loss: 0.0962 - r_square: -2.6430e+00 - val_loss: 0.0903 - val_r_square: -2.5484e+00 - 159ms/epoch - 13ms/step\n",
      "Epoch 459/500\n",
      "12/12 - 0s - loss: 0.0962 - r_square: -2.6429e+00 - val_loss: 0.0903 - val_r_square: -2.5484e+00 - 182ms/epoch - 15ms/step\n",
      "Epoch 460/500\n",
      "12/12 - 0s - loss: 0.0962 - r_square: -2.6430e+00 - val_loss: 0.0903 - val_r_square: -2.5484e+00 - 152ms/epoch - 13ms/step\n",
      "Epoch 461/500\n",
      "12/12 - 0s - loss: 0.0962 - r_square: -2.6429e+00 - val_loss: 0.0903 - val_r_square: -2.5484e+00 - 166ms/epoch - 14ms/step\n",
      "Epoch 462/500\n",
      "12/12 - 0s - loss: 0.0962 - r_square: -2.6429e+00 - val_loss: 0.0903 - val_r_square: -2.5484e+00 - 212ms/epoch - 18ms/step\n",
      "Epoch 463/500\n",
      "12/12 - 0s - loss: 0.0962 - r_square: -2.6429e+00 - val_loss: 0.0903 - val_r_square: -2.5484e+00 - 171ms/epoch - 14ms/step\n",
      "Epoch 464/500\n",
      "12/12 - 0s - loss: 0.0962 - r_square: -2.6430e+00 - val_loss: 0.0903 - val_r_square: -2.5484e+00 - 171ms/epoch - 14ms/step\n",
      "Epoch 465/500\n",
      "12/12 - 0s - loss: 0.0962 - r_square: -2.6429e+00 - val_loss: 0.0903 - val_r_square: -2.5484e+00 - 192ms/epoch - 16ms/step\n",
      "Epoch 466/500\n",
      "12/12 - 0s - loss: 0.0962 - r_square: -2.6430e+00 - val_loss: 0.0903 - val_r_square: -2.5484e+00 - 183ms/epoch - 15ms/step\n",
      "Epoch 467/500\n",
      "12/12 - 0s - loss: 0.0962 - r_square: -2.6429e+00 - val_loss: 0.0903 - val_r_square: -2.5484e+00 - 172ms/epoch - 14ms/step\n",
      "Epoch 468/500\n",
      "12/12 - 0s - loss: 0.0962 - r_square: -2.6429e+00 - val_loss: 0.0903 - val_r_square: -2.5484e+00 - 164ms/epoch - 14ms/step\n",
      "Epoch 469/500\n",
      "12/12 - 0s - loss: 0.0962 - r_square: -2.6430e+00 - val_loss: 0.0903 - val_r_square: -2.5484e+00 - 169ms/epoch - 14ms/step\n",
      "Epoch 470/500\n",
      "12/12 - 0s - loss: 0.0962 - r_square: -2.6429e+00 - val_loss: 0.0903 - val_r_square: -2.5484e+00 - 206ms/epoch - 17ms/step\n",
      "Epoch 471/500\n",
      "12/12 - 0s - loss: 0.0962 - r_square: -2.6429e+00 - val_loss: 0.0903 - val_r_square: -2.5484e+00 - 197ms/epoch - 16ms/step\n",
      "Epoch 472/500\n",
      "12/12 - 0s - loss: 0.0962 - r_square: -2.6430e+00 - val_loss: 0.0903 - val_r_square: -2.5484e+00 - 169ms/epoch - 14ms/step\n",
      "Epoch 473/500\n",
      "12/12 - 0s - loss: 0.0962 - r_square: -2.6429e+00 - val_loss: 0.0903 - val_r_square: -2.5484e+00 - 176ms/epoch - 15ms/step\n",
      "Epoch 474/500\n",
      "12/12 - 0s - loss: 0.0962 - r_square: -2.6429e+00 - val_loss: 0.0903 - val_r_square: -2.5484e+00 - 165ms/epoch - 14ms/step\n",
      "Epoch 475/500\n",
      "12/12 - 0s - loss: 0.0962 - r_square: -2.6429e+00 - val_loss: 0.0903 - val_r_square: -2.5484e+00 - 174ms/epoch - 14ms/step\n",
      "Epoch 476/500\n",
      "12/12 - 0s - loss: 0.0962 - r_square: -2.6429e+00 - val_loss: 0.0903 - val_r_square: -2.5484e+00 - 170ms/epoch - 14ms/step\n",
      "Epoch 477/500\n",
      "12/12 - 0s - loss: 0.0962 - r_square: -2.6429e+00 - val_loss: 0.0903 - val_r_square: -2.5484e+00 - 168ms/epoch - 14ms/step\n",
      "Epoch 478/500\n",
      "12/12 - 0s - loss: 0.0962 - r_square: -2.6429e+00 - val_loss: 0.0903 - val_r_square: -2.5484e+00 - 192ms/epoch - 16ms/step\n",
      "Epoch 479/500\n",
      "12/12 - 0s - loss: 0.0962 - r_square: -2.6429e+00 - val_loss: 0.0903 - val_r_square: -2.5484e+00 - 164ms/epoch - 14ms/step\n",
      "Epoch 480/500\n",
      "12/12 - 0s - loss: 0.0962 - r_square: -2.6430e+00 - val_loss: 0.0903 - val_r_square: -2.5484e+00 - 167ms/epoch - 14ms/step\n",
      "Epoch 481/500\n",
      "12/12 - 0s - loss: 0.0962 - r_square: -2.6429e+00 - val_loss: 0.0903 - val_r_square: -2.5484e+00 - 173ms/epoch - 14ms/step\n",
      "Epoch 482/500\n",
      "12/12 - 0s - loss: 0.0962 - r_square: -2.6429e+00 - val_loss: 0.0903 - val_r_square: -2.5484e+00 - 171ms/epoch - 14ms/step\n",
      "Epoch 483/500\n",
      "12/12 - 0s - loss: 0.0962 - r_square: -2.6429e+00 - val_loss: 0.0903 - val_r_square: -2.5484e+00 - 170ms/epoch - 14ms/step\n",
      "Epoch 484/500\n",
      "12/12 - 0s - loss: 0.0962 - r_square: -2.6429e+00 - val_loss: 0.0903 - val_r_square: -2.5484e+00 - 183ms/epoch - 15ms/step\n",
      "Epoch 485/500\n",
      "12/12 - 0s - loss: 0.0962 - r_square: -2.6430e+00 - val_loss: 0.0903 - val_r_square: -2.5484e+00 - 171ms/epoch - 14ms/step\n",
      "Epoch 486/500\n",
      "12/12 - 0s - loss: 0.0962 - r_square: -2.6429e+00 - val_loss: 0.0903 - val_r_square: -2.5484e+00 - 170ms/epoch - 14ms/step\n",
      "Epoch 487/500\n",
      "12/12 - 0s - loss: 0.0962 - r_square: -2.6429e+00 - val_loss: 0.0903 - val_r_square: -2.5484e+00 - 166ms/epoch - 14ms/step\n",
      "Epoch 488/500\n",
      "12/12 - 0s - loss: 0.0962 - r_square: -2.6429e+00 - val_loss: 0.0903 - val_r_square: -2.5484e+00 - 171ms/epoch - 14ms/step\n",
      "Epoch 489/500\n",
      "12/12 - 0s - loss: 0.0962 - r_square: -2.6429e+00 - val_loss: 0.0903 - val_r_square: -2.5484e+00 - 167ms/epoch - 14ms/step\n",
      "Epoch 490/500\n",
      "12/12 - 0s - loss: 0.0962 - r_square: -2.6430e+00 - val_loss: 0.0903 - val_r_square: -2.5484e+00 - 171ms/epoch - 14ms/step\n",
      "Epoch 491/500\n",
      "12/12 - 0s - loss: 0.0962 - r_square: -2.6429e+00 - val_loss: 0.0903 - val_r_square: -2.5484e+00 - 169ms/epoch - 14ms/step\n",
      "Epoch 492/500\n",
      "12/12 - 0s - loss: 0.0962 - r_square: -2.6429e+00 - val_loss: 0.0903 - val_r_square: -2.5484e+00 - 168ms/epoch - 14ms/step\n",
      "Epoch 493/500\n",
      "12/12 - 0s - loss: 0.0962 - r_square: -2.6429e+00 - val_loss: 0.0903 - val_r_square: -2.5484e+00 - 180ms/epoch - 15ms/step\n",
      "Epoch 494/500\n",
      "12/12 - 0s - loss: 0.0962 - r_square: -2.6429e+00 - val_loss: 0.0903 - val_r_square: -2.5484e+00 - 172ms/epoch - 14ms/step\n",
      "Epoch 495/500\n",
      "12/12 - 0s - loss: 0.0962 - r_square: -2.6429e+00 - val_loss: 0.0903 - val_r_square: -2.5484e+00 - 175ms/epoch - 15ms/step\n",
      "Epoch 496/500\n",
      "12/12 - 0s - loss: 0.0962 - r_square: -2.6429e+00 - val_loss: 0.0903 - val_r_square: -2.5484e+00 - 175ms/epoch - 15ms/step\n",
      "Epoch 497/500\n",
      "12/12 - 0s - loss: 0.0962 - r_square: -2.6430e+00 - val_loss: 0.0903 - val_r_square: -2.5484e+00 - 185ms/epoch - 15ms/step\n",
      "Epoch 498/500\n",
      "12/12 - 0s - loss: 0.0962 - r_square: -2.6429e+00 - val_loss: 0.0903 - val_r_square: -2.5484e+00 - 170ms/epoch - 14ms/step\n",
      "Epoch 499/500\n",
      "12/12 - 0s - loss: 0.0962 - r_square: -2.6429e+00 - val_loss: 0.0903 - val_r_square: -2.5484e+00 - 166ms/epoch - 14ms/step\n",
      "Epoch 500/500\n",
      "12/12 - 0s - loss: 0.0962 - r_square: -2.6429e+00 - val_loss: 0.0903 - val_r_square: -2.5484e+00 - 176ms/epoch - 15ms/step\n"
     ]
    }
   ],
   "source": [
    "history = model.fit( X_trn_scaled,y_trn_scaled,validation_data=(X_tst_scaled,y_tst_scaled),verbose=2,epochs=500)"
   ]
  },
  {
   "cell_type": "code",
   "execution_count": 29,
   "metadata": {
    "executionInfo": {
     "elapsed": 22,
     "status": "ok",
     "timestamp": 1644207490258,
     "user": {
      "displayName": "Sanjay Sane",
      "photoUrl": "https://lh3.googleusercontent.com/a-/AOh14GjJl7nlouqFRBHjWKoRQtpGZ1O7Nhx1ylIkeFUEvg=s64",
      "userId": "14183293780199581235"
     },
     "user_tz": -330
    },
    "id": "DxciVvvXzoY7"
   },
   "outputs": [],
   "source": [
    "%matplotlib inline"
   ]
  },
  {
   "cell_type": "code",
   "execution_count": 30,
   "metadata": {
    "colab": {
     "base_uri": "https://localhost:8080/",
     "height": 295
    },
    "executionInfo": {
     "elapsed": 21,
     "status": "ok",
     "timestamp": 1644207490259,
     "user": {
      "displayName": "Sanjay Sane",
      "photoUrl": "https://lh3.googleusercontent.com/a-/AOh14GjJl7nlouqFRBHjWKoRQtpGZ1O7Nhx1ylIkeFUEvg=s64",
      "userId": "14183293780199581235"
     },
     "user_tz": -330
    },
    "id": "cZq1pjdDzoY8",
    "outputId": "c38a7ba1-0900-4a22-c518-4f0f7091082f"
   },
   "outputs": [
    {
     "data": {
      "image/png": "[encoded data removed]",
      "text/plain": [
       "<Figure size 640x480 with 1 Axes>"
      ]
     },
     "metadata": {},
     "output_type": "display_data"
    }
   ],
   "source": [
    "import matplotlib.pyplot as plt\n",
    "plt.plot(history.history['loss'])\n",
    "plt.plot(history.history['val_loss'])\n",
    "plt.title('model loss')\n",
    "plt.ylabel('loss')\n",
    "plt.xlabel('epoch')\n",
    "plt.legend(['train', 'test'], loc='upper right')\n",
    "plt.show()"
   ]
  },
  {
   "cell_type": "code",
   "execution_count": 24,
   "metadata": {},
   "outputs": [
    {
     "data": {
      "text/plain": [
       "array([20.1, 11.9, 20.6, 33.2, 20.8, 13.5, 24.7, 13.9, 10.4, 19.7, 21.4,\n",
       "       20.3, 18.5, 12.7, 22. , 36.2,  7.4, 16.3, 23.3, 17.5, 21.5, 19.5,\n",
       "        8.8, 31.5, 50. , 50. , 23.7, 22.5, 18. , 27.9, 21.7, 28.6, 20. ,\n",
       "       17.5,  8.3, 12.1, 13.8, 27.1, 14.9, 21.9,  8.3, 15.1, 20.4,  8.5,\n",
       "       14.1, 37.9, 16.2, 13.9, 12.5, 15. , 22.3, 11.3, 32.2, 28.2, 23.8,\n",
       "       15.3, 24.3, 25. , 27.5, 19.4, 16.1, 27.5, 13.1, 30.1, 27.1, 18.9,\n",
       "       32.9, 21.2, 36.2, 18.1, 10.2, 23.1,  7.5, 20.1, 23.3, 14.4,  8.1,\n",
       "       10.2,  6.3, 29. , 16.2, 22. , 20.5, 22.8, 23.2,  9.7, 26.6, 27.9,\n",
       "        7.2, 36.5, 22.1, 25. , 23.9, 13.2, 16.7, 22. , 22.8, 19.4, 13.8,\n",
       "       23. , 33.1, 11.7, 44. , 22.3, 23.1, 17.4, 48.3, 29.1,  7. , 37.3,\n",
       "       14.1,  9.5,  5. , 20.6, 31.1, 24.1, 25. , 21.5, 20.6, 29. , 39.8,\n",
       "       23.3, 25.1, 22.9, 26.5, 19.6,  8.7, 23.1, 13.4, 14.9, 19.1, 14. ,\n",
       "       21.1, 22.6, 25. , 42.3, 25. ,  8.4, 29.9,  9.6, 35.2, 46.7, 33.1,\n",
       "       18.9,  7.2, 29.8, 17.5,  8.4, 15.2, 18.5, 18.4, 34.9])"
      ]
     },
     "execution_count": 24,
     "metadata": {},
     "output_type": "execute_result"
    }
   ],
   "source": [
    "y_test"
   ]
  },
  {
   "cell_type": "code",
   "execution_count": 25,
   "metadata": {},
   "outputs": [
    {
     "data": {
      "text/plain": [
       "array([[1.39600e-01, 0.00000e+00, 8.56000e+00, ..., 2.09000e+01,\n",
       "        3.92690e+02, 1.23300e+01],\n",
       "       [2.07162e+01, 0.00000e+00, 1.81000e+01, ..., 2.02000e+01,\n",
       "        3.70220e+02, 2.33400e+01],\n",
       "       [4.83567e+00, 0.00000e+00, 1.81000e+01, ..., 2.02000e+01,\n",
       "        3.88220e+02, 1.14500e+01],\n",
       "       ...,\n",
       "       [3.04100e-02, 0.00000e+00, 5.19000e+00, ..., 2.02000e+01,\n",
       "        3.94810e+02, 1.05600e+01],\n",
       "       [5.66637e+00, 0.00000e+00, 1.81000e+01, ..., 2.02000e+01,\n",
       "        3.95690e+02, 1.65900e+01],\n",
       "       [3.35900e-02, 7.50000e+01, 2.95000e+00, ..., 1.83000e+01,\n",
       "        3.95620e+02, 1.98000e+00]])"
      ]
     },
     "execution_count": 25,
     "metadata": {},
     "output_type": "execute_result"
    }
   ],
   "source": [
    "X_test"
   ]
  },
  {
   "cell_type": "code",
   "execution_count": 32,
   "metadata": {
    "colab": {
     "base_uri": "https://localhost:8080/"
    },
    "executionInfo": {
     "elapsed": 647,
     "status": "ok",
     "timestamp": 1644207490887,
     "user": {
      "displayName": "Sanjay Sane",
      "photoUrl": "https://lh3.googleusercontent.com/a-/AOh14GjJl7nlouqFRBHjWKoRQtpGZ1O7Nhx1ylIkeFUEvg=s64",
      "userId": "14183293780199581235"
     },
     "user_tz": -330
    },
    "id": "YL66ttJHzoY8",
    "outputId": "3e1503e5-c1ef-4c7c-df03-f7e0f311c112"
   },
   "outputs": [
    {
     "name": "stdout",
     "output_type": "stream",
     "text": [
      "6/6 [==============================] - 0s 5ms/step\n",
      "RMSE: 49579.44695588304\n"
     ]
    }
   ],
   "source": [
    "from sklearn.metrics import mean_squared_error\n",
    "y_pred_scl = model.predict(X_tst_scaled)\n",
    "y_pred_ = scaler_y.inverse_transform(y_pred_scl)\n",
    "RMSE = np.sqrt(mean_squared_error(y_true=y_test,y_pred=y_pred_))\n",
    "print(f\"RMSE: {RMSE}\")"
   ]
  },
  {
   "cell_type": "code",
   "execution_count": 32,
   "metadata": {},
   "outputs": [
    {
     "data": {
      "text/plain": [
       "array([[141.46297 ],\n",
       "       [245.42963 ],\n",
       "       [239.11604 ],\n",
       "       [115.074715],\n",
       "       [248.0495  ],\n",
       "       [108.62582 ],\n",
       "       [111.95262 ],\n",
       "       [111.18263 ],\n",
       "       [221.23225 ],\n",
       "       [137.48628 ],\n",
       "       [242.53534 ],\n",
       "       [133.80652 ],\n",
       "       [150.9989  ],\n",
       "       [219.42912 ],\n",
       "       [108.24178 ],\n",
       "       [120.1675  ],\n",
       "       [242.32858 ],\n",
       "       [238.55127 ],\n",
       "       [139.4848  ],\n",
       "       [131.26102 ],\n",
       "       [120.18572 ],\n",
       "       [141.76807 ],\n",
       "       [239.54576 ],\n",
       "       [126.302864],\n",
       "       [241.60599 ],\n",
       "       [118.61262 ],\n",
       "       [112.52986 ],\n",
       "       [115.97233 ],\n",
       "       [151.80304 ],\n",
       "       [114.04103 ],\n",
       "       [112.955086],\n",
       "       [117.56091 ],\n",
       "       [119.585396],\n",
       "       [137.64565 ],\n",
       "       [243.59723 ],\n",
       "       [244.60577 ],\n",
       "       [240.31526 ],\n",
       "       [122.7723  ],\n",
       "       [247.41646 ],\n",
       "       [242.66202 ],\n",
       "       [215.64339 ],\n",
       "       [242.48277 ],\n",
       "       [154.01357 ],\n",
       "       [245.52475 ],\n",
       "       [242.91576 ],\n",
       "       [122.99754 ],\n",
       "       [121.77676 ],\n",
       "       [245.76093 ],\n",
       "       [242.68481 ],\n",
       "       [121.67434 ],\n",
       "       [142.02078 ],\n",
       "       [243.55453 ],\n",
       "       [117.212425],\n",
       "       [118.825165],\n",
       "       [123.63736 ],\n",
       "       [140.12012 ],\n",
       "       [125.50452 ],\n",
       "       [114.08751 ],\n",
       "       [242.03836 ],\n",
       "       [116.763275],\n",
       "       [242.83398 ],\n",
       "       [234.81467 ],\n",
       "       [115.896835],\n",
       "       [106.055305],\n",
       "       [118.22566 ],\n",
       "       [122.17799 ],\n",
       "       [125.62981 ],\n",
       "       [150.20126 ],\n",
       "       [118.39153 ],\n",
       "       [152.17137 ],\n",
       "       [242.16074 ],\n",
       "       [124.06075 ],\n",
       "       [214.57497 ],\n",
       "       [105.39665 ],\n",
       "       [119.419464],\n",
       "       [151.50919 ],\n",
       "       [257.78958 ],\n",
       "       [244.14708 ],\n",
       "       [243.01218 ],\n",
       "       [121.49447 ],\n",
       "       [151.97719 ],\n",
       "       [120.877106],\n",
       "       [131.33762 ],\n",
       "       [118.62293 ],\n",
       "       [242.75299 ],\n",
       "       [243.7021  ],\n",
       "       [110.0236  ],\n",
       "       [245.9722  ],\n",
       "       [243.57059 ],\n",
       "       [122.046   ],\n",
       "       [123.52548 ],\n",
       "       [240.05215 ],\n",
       "       [115.67791 ],\n",
       "       [105.385666],\n",
       "       [247.4741  ],\n",
       "       [121.81027 ],\n",
       "       [125.60173 ],\n",
       "       [146.80208 ],\n",
       "       [241.93965 ],\n",
       "       [117.90356 ],\n",
       "       [119.83916 ],\n",
       "       [227.0194  ],\n",
       "       [115.53676 ],\n",
       "       [126.0287  ],\n",
       "       [121.6898  ],\n",
       "       [152.71524 ],\n",
       "       [126.1417  ],\n",
       "       [112.21417 ],\n",
       "       [258.57413 ],\n",
       "       [115.36892 ],\n",
       "       [219.5556  ],\n",
       "       [213.5958  ],\n",
       "       [247.7106  ],\n",
       "       [239.63734 ],\n",
       "       [113.835464],\n",
       "       [126.633286],\n",
       "       [147.1559  ],\n",
       "       [139.67984 ],\n",
       "       [119.30452 ],\n",
       "       [116.3399  ],\n",
       "       [121.60787 ],\n",
       "       [123.49562 ],\n",
       "       [123.59328 ],\n",
       "       [124.79317 ],\n",
       "       [137.77408 ],\n",
       "       [119.586205],\n",
       "       [213.1891  ],\n",
       "       [120.64284 ],\n",
       "       [221.44815 ],\n",
       "       [248.67715 ],\n",
       "       [141.02667 ],\n",
       "       [153.22046 ],\n",
       "       [110.3659  ],\n",
       "       [147.52844 ],\n",
       "       [119.21657 ],\n",
       "       [121.53487 ],\n",
       "       [116.113205],\n",
       "       [206.31375 ],\n",
       "       [123.61177 ],\n",
       "       [220.96259 ],\n",
       "       [114.35113 ],\n",
       "       [115.96139 ],\n",
       "       [115.31941 ],\n",
       "       [156.14484 ],\n",
       "       [242.54883 ],\n",
       "       [129.95291 ],\n",
       "       [119.837685],\n",
       "       [218.52243 ],\n",
       "       [121.45576 ],\n",
       "       [117.595   ],\n",
       "       [242.59467 ],\n",
       "       [113.854324]], dtype=float32)"
      ]
     },
     "execution_count": 32,
     "metadata": {},
     "output_type": "execute_result"
    }
   ],
   "source": [
    "y_pred_"
   ]
  },
  {
   "cell_type": "code",
   "execution_count": 29,
   "metadata": {
    "colab": {
     "base_uri": "https://localhost:8080/"
    },
    "executionInfo": {
     "elapsed": 12,
     "status": "ok",
     "timestamp": 1644207490888,
     "user": {
      "displayName": "Sanjay Sane",
      "photoUrl": "https://lh3.googleusercontent.com/a-/AOh14GjJl7nlouqFRBHjWKoRQtpGZ1O7Nhx1ylIkeFUEvg=s64",
      "userId": "14183293780199581235"
     },
     "user_tz": -330
    },
    "id": "Ud7hHj7nzoY9",
    "outputId": "93bf6d49-b73f-457d-f2a8-14a443c34731"
   },
   "outputs": [
    {
     "name": "stdout",
     "output_type": "stream",
     "text": [
      "MAE: 22.775639231581437\n"
     ]
    }
   ],
   "source": [
    "from sklearn.metrics import mean_absolute_error\n",
    "MAE = mean_absolute_error(y_true=y_test,y_pred=y_pred_)\n",
    "print(f\"MAE: {MAE}\")"
   ]
  },
  {
   "cell_type": "markdown",
   "metadata": {
    "id": "J68DAGEzzoY9"
   },
   "source": [
    "# Early Stopping"
   ]
  },
  {
   "cell_type": "markdown",
   "metadata": {
    "id": "EQXNDrKNzoY-"
   },
   "source": [
    "If we continue to train the network, it may overfit. We can have a stop point where the accuracy may start falling."
   ]
  },
  {
   "cell_type": "markdown",
   "metadata": {
    "id": "68RPHsVnzoY-"
   },
   "source": [
    "For getting reproducible results, we set random number seed "
   ]
  },
  {
   "cell_type": "markdown",
   "metadata": {
    "id": "dIpeeE_1zoY-"
   },
   "source": [
    "**Model Definition:**"
   ]
  },
  {
   "cell_type": "code",
   "execution_count": 36,
   "metadata": {
    "executionInfo": {
     "elapsed": 10,
     "status": "ok",
     "timestamp": 1644207490888,
     "user": {
      "displayName": "Sanjay Sane",
      "photoUrl": "https://lh3.googleusercontent.com/a-/AOh14GjJl7nlouqFRBHjWKoRQtpGZ1O7Nhx1ylIkeFUEvg=s64",
      "userId": "14183293780199581235"
     },
     "user_tz": -330
    },
    "id": "TGEd1787zoY_"
   },
   "outputs": [],
   "source": [
    "tf.random.set_seed(2021)\n",
    "model = tf.keras.models.Sequential([\n",
    "    tf.keras.layers.Dense(8, activation='relu',input_shape=(X_train.shape[1], )), \n",
    "    tf.keras.layers.Dense(6, activation='relu'),\n",
    "    tf.keras.layers.Dense(3, activation='relu'), \n",
    "    tf.keras.layers.Dense(1, activation='relu')  \n",
    "])\n",
    "from tensorflow_addons.metrics import RSquare\n",
    "model.compile(optimizer='sgd', loss='mse',metrics=[RSquare()])\n",
    "#model.compile(optimizer='sgd', loss='mean_squared_error',metrics=['mae'])"
   ]
  },
  {
   "cell_type": "code",
   "execution_count": 37,
   "metadata": {
    "colab": {
     "base_uri": "https://localhost:8080/"
    },
    "executionInfo": {
     "elapsed": 1419,
     "status": "ok",
     "timestamp": 1644207492298,
     "user": {
      "displayName": "Sanjay Sane",
      "photoUrl": "https://lh3.googleusercontent.com/a-/AOh14GjJl7nlouqFRBHjWKoRQtpGZ1O7Nhx1ylIkeFUEvg=s64",
      "userId": "14183293780199581235"
     },
     "user_tz": -330
    },
    "id": "xQV6SGHazoY_",
    "outputId": "f411f227-ca93-4eda-8f4a-1e13d70084ef"
   },
   "outputs": [
    {
     "name": "stdout",
     "output_type": "stream",
     "text": [
      "Epoch 1/500\n",
      "12/12 - 4s - loss: 0.0663 - r_square: -1.5097e+00 - val_loss: 0.0497 - val_r_square: -9.5144e-01 - 4s/epoch - 344ms/step\n",
      "Epoch 2/500\n",
      "12/12 - 0s - loss: 0.0448 - r_square: -6.9433e-01 - val_loss: 0.0357 - val_r_square: -4.0290e-01 - 160ms/epoch - 13ms/step\n",
      "Epoch 3/500\n",
      "12/12 - 0s - loss: 0.0338 - r_square: -2.7946e-01 - val_loss: 0.0289 - val_r_square: -1.3462e-01 - 156ms/epoch - 13ms/step\n",
      "Epoch 4/500\n",
      "12/12 - 0s - loss: 0.0283 - r_square: -7.0799e-02 - val_loss: 0.0256 - val_r_square: -4.6415e-03 - 154ms/epoch - 13ms/step\n",
      "Epoch 5/500\n",
      "12/12 - 0s - loss: 0.0255 - r_square: 0.0343 - val_loss: 0.0240 - val_r_square: 0.0554 - 157ms/epoch - 13ms/step\n",
      "Epoch 6/500\n",
      "12/12 - 0s - loss: 0.0241 - r_square: 0.0866 - val_loss: 0.0233 - val_r_square: 0.0841 - 145ms/epoch - 12ms/step\n",
      "Epoch 7/500\n",
      "12/12 - 0s - loss: 0.0234 - r_square: 0.1128 - val_loss: 0.0230 - val_r_square: 0.0967 - 164ms/epoch - 14ms/step\n",
      "Epoch 8/500\n",
      "12/12 - 0s - loss: 0.0231 - r_square: 0.1267 - val_loss: 0.0228 - val_r_square: 0.1025 - 158ms/epoch - 13ms/step\n",
      "Epoch 9/500\n",
      "12/12 - 0s - loss: 0.0229 - r_square: 0.1349 - val_loss: 0.0228 - val_r_square: 0.1056 - 155ms/epoch - 13ms/step\n",
      "Epoch 10/500\n",
      "12/12 - 0s - loss: 0.0227 - r_square: 0.1400 - val_loss: 0.0227 - val_r_square: 0.1076 - 191ms/epoch - 16ms/step\n",
      "Epoch 11/500\n",
      "12/12 - 0s - loss: 0.0226 - r_square: 0.1438 - val_loss: 0.0227 - val_r_square: 0.1093 - 150ms/epoch - 12ms/step\n",
      "Epoch 12/500\n",
      "12/12 - 0s - loss: 0.0225 - r_square: 0.1468 - val_loss: 0.0226 - val_r_square: 0.1108 - 158ms/epoch - 13ms/step\n",
      "Epoch 13/500\n",
      "12/12 - 0s - loss: 0.0225 - r_square: 0.1500 - val_loss: 0.0226 - val_r_square: 0.1125 - 154ms/epoch - 13ms/step\n",
      "Epoch 14/500\n",
      "12/12 - 0s - loss: 0.0224 - r_square: 0.1526 - val_loss: 0.0225 - val_r_square: 0.1141 - 154ms/epoch - 13ms/step\n",
      "Epoch 15/500\n",
      "12/12 - 0s - loss: 0.0223 - r_square: 0.1554 - val_loss: 0.0225 - val_r_square: 0.1159 - 153ms/epoch - 13ms/step\n",
      "Epoch 16/500\n",
      "12/12 - 0s - loss: 0.0222 - r_square: 0.1579 - val_loss: 0.0224 - val_r_square: 0.1180 - 152ms/epoch - 13ms/step\n",
      "Epoch 17/500\n",
      "Restoring model weights from the end of the best epoch: 7.\n",
      "12/12 - 0s - loss: 0.0222 - r_square: 0.1603 - val_loss: 0.0224 - val_r_square: 0.1201 - 200ms/epoch - 17ms/step\n",
      "Epoch 17: early stopping\n"
     ]
    }
   ],
   "source": [
    "from tensorflow.keras.callbacks import EarlyStopping\n",
    "monitor = EarlyStopping(monitor='val_loss', min_delta=0.001, patience=10, verbose=2, mode='auto',\n",
    "        restore_best_weights=True)\n",
    "history2 = model.fit(X_trn_scaled,y_trn_scaled,validation_data=(X_tst_scaled,y_tst_scaled),callbacks=[monitor],verbose=2,epochs=500)"
   ]
  },
  {
   "cell_type": "markdown",
   "metadata": {
    "id": "AO8aFNeezoY_"
   },
   "source": [
    "Let us see the parameters in the early stopping involved:\n",
    "- **monitor**: quantity to be monitored.<br>\n",
    "- **min_delta**: minimum change in the monitored quantity to qualify as an improvement, i.e. an absolute change of less than min_delta, will count as no improvement.<br>\n",
    "- **patience**: number of epochs with no improvement after which training will be stopped.<br>\n",
    "- **mode**: one of {auto, min, max}. In min mode, training will stop when the quantity monitored has stopped decreasing; in max mode it will stop when the quantity monitored has stopped increasing; in auto mode, the direction is automatically inferred from the name of the monitored quantity.\n",
    "- **baseline**: Baseline value for the monitored quantity to reach. Training will stop if the model doesn't show improvement over the baseline.<br>\n",
    "- **restore_best_weights**: whether to restore model weights from the epoch with the best value of the monitored quantity. If False, the model weights obtained at the last step of training are used."
   ]
  },
  {
   "cell_type": "code",
   "execution_count": 38,
   "metadata": {
    "colab": {
     "base_uri": "https://localhost:8080/",
     "height": 295
    },
    "executionInfo": {
     "elapsed": 1731,
     "status": "ok",
     "timestamp": 1644207494026,
     "user": {
      "displayName": "Sanjay Sane",
      "photoUrl": "https://lh3.googleusercontent.com/a-/AOh14GjJl7nlouqFRBHjWKoRQtpGZ1O7Nhx1ylIkeFUEvg=s64",
      "userId": "14183293780199581235"
     },
     "user_tz": -330
    },
    "id": "9xAN0oxuzoZA",
    "outputId": "d2789374-fba5-4433-98d5-67f9756cabda"
   },
   "outputs": [
    {
     "data": {
      "image/png": "[encoded data removed]",
      "text/plain": [
       "<Figure size 640x480 with 1 Axes>"
      ]
     },
     "metadata": {},
     "output_type": "display_data"
    }
   ],
   "source": [
    "plt.plot(history2.history['loss'])\n",
    "plt.plot(history2.history['val_loss'])\n",
    "plt.title('model loss')\n",
    "plt.ylabel('loss')\n",
    "plt.xlabel('epoch')\n",
    "plt.legend(['train', 'test'], loc='upper right')\n",
    "plt.show()"
   ]
  },
  {
   "cell_type": "code",
   "execution_count": 39,
   "metadata": {
    "colab": {
     "base_uri": "https://localhost:8080/"
    },
    "executionInfo": {
     "elapsed": 25,
     "status": "ok",
     "timestamp": 1644207494027,
     "user": {
      "displayName": "Sanjay Sane",
      "photoUrl": "https://lh3.googleusercontent.com/a-/AOh14GjJl7nlouqFRBHjWKoRQtpGZ1O7Nhx1ylIkeFUEvg=s64",
      "userId": "14183293780199581235"
     },
     "user_tz": -330
    },
    "id": "9AwW3dbozoZA",
    "outputId": "f47e267e-ce3f-49a7-de4e-9d09a2543858"
   },
   "outputs": [
    {
     "name": "stdout",
     "output_type": "stream",
     "text": [
      "6/6 [==============================] - 0s 6ms/step\n",
      "[ 25000.  66000.  62500.  64500. 132000.  55500.  44555.  41000.  38000.\n",
      "  82000.]\n",
      "[[62558.48 ]\n",
      " [68103.8  ]\n",
      " [63660.566]\n",
      " [63367.07 ]\n",
      " [64790.28 ]\n",
      " [72486.33 ]\n",
      " [61740.277]\n",
      " [59114.15 ]\n",
      " [63985.555]\n",
      " [72621.11 ]]\n"
     ]
    }
   ],
   "source": [
    "from sklearn.metrics import mean_squared_error\n",
    "y_pred_scl = model.predict(X_tst_scaled)\n",
    "y_pred = scaler_y.inverse_transform(y_pred_scl)\n",
    "print(y_test[:10])\n",
    "print(y_pred[:10])"
   ]
  },
  {
   "cell_type": "code",
   "execution_count": 41,
   "metadata": {
    "colab": {
     "base_uri": "https://localhost:8080/"
    },
    "executionInfo": {
     "elapsed": 19,
     "status": "ok",
     "timestamp": 1644207494027,
     "user": {
      "displayName": "Sanjay Sane",
      "photoUrl": "https://lh3.googleusercontent.com/a-/AOh14GjJl7nlouqFRBHjWKoRQtpGZ1O7Nhx1ylIkeFUEvg=s64",
      "userId": "14183293780199581235"
     },
     "user_tz": -330
    },
    "id": "oKiYZ21hQhBS",
    "outputId": "9faa87a4-5db8-4668-b024-ac76c17f94e7"
   },
   "outputs": [
    {
     "data": {
      "text/plain": [
       "array([[0.37345847],\n",
       "       [0.37345847],\n",
       "       [0.37585416],\n",
       "       [0.37345847],\n",
       "       [0.4248363 ]], dtype=float32)"
      ]
     },
     "execution_count": 41,
     "metadata": {},
     "output_type": "execute_result"
    }
   ],
   "source": [
    "y_pred_scl[:5]"
   ]
  },
  {
   "cell_type": "code",
   "execution_count": 40,
   "metadata": {
    "colab": {
     "base_uri": "https://localhost:8080/"
    },
    "executionInfo": {
     "elapsed": 17,
     "status": "ok",
     "timestamp": 1644207494028,
     "user": {
      "displayName": "Sanjay Sane",
      "photoUrl": "https://lh3.googleusercontent.com/a-/AOh14GjJl7nlouqFRBHjWKoRQtpGZ1O7Nhx1ylIkeFUEvg=s64",
      "userId": "14183293780199581235"
     },
     "user_tz": -330
    },
    "id": "gNCyW7wz6Dfa",
    "outputId": "f4ecf6d4-53e0-4b87-fdf5-7ec268932183"
   },
   "outputs": [
    {
     "name": "stdout",
     "output_type": "stream",
     "text": [
      "RMSE: 25014.97599562659\n"
     ]
    }
   ],
   "source": [
    "RMSE = np.sqrt(mean_squared_error(y_true=y_test,y_pred=y_pred))\n",
    "print(f\"RMSE: {RMSE}\")"
   ]
  },
  {
   "cell_type": "code",
   "execution_count": 41,
   "metadata": {
    "colab": {
     "base_uri": "https://localhost:8080/"
    },
    "executionInfo": {
     "elapsed": 14,
     "status": "ok",
     "timestamp": 1644207494029,
     "user": {
      "displayName": "Sanjay Sane",
      "photoUrl": "https://lh3.googleusercontent.com/a-/AOh14GjJl7nlouqFRBHjWKoRQtpGZ1O7Nhx1ylIkeFUEvg=s64",
      "userId": "14183293780199581235"
     },
     "user_tz": -330
    },
    "id": "NjHorXOozoZA",
    "outputId": "3c830dea-58b3-46c1-b5bc-476c22cc4f1f"
   },
   "outputs": [
    {
     "name": "stdout",
     "output_type": "stream",
     "text": [
      "MAE: 18825.921612995426\n"
     ]
    }
   ],
   "source": [
    "from sklearn.metrics import mean_absolute_error\n",
    "MAE = mean_absolute_error(y_true=y_test,y_pred=y_pred)\n",
    "print(f\"MAE: {MAE}\")"
   ]
  },
  {
   "cell_type": "code",
   "execution_count": 42,
   "metadata": {},
   "outputs": [
    {
     "name": "stdout",
     "output_type": "stream",
     "text": [
      "r2_score: 0.09670756649217749\n"
     ]
    }
   ],
   "source": [
    "from sklearn.metrics import r2_score\n",
    "MAE = r2_score(y_true=y_test,y_pred=y_pred)\n",
    "print(f\"r2_score: {MAE}\")"
   ]
  },
  {
   "cell_type": "markdown",
   "metadata": {
    "id": "bFYVxBdHzoZC"
   },
   "source": []
  },
  {
   "cell_type": "code",
   "execution_count": null,
   "metadata": {},
   "outputs": [],
   "source": []
  }
 ],
 "metadata": {
  "accelerator": "GPU",
  "colab": {
   "name": "SimpleRegression-BostonHousing.ipynb",
   "provenance": []
  },
  "kernelspec": {
   "display_name": "Python 3 (ipykernel)",
   "language": "python",
   "name": "python3"
  },
  "language_info": {
   "codemirror_mode": {
    "name": "ipython",
    "version": 3
   },
   "file_extension": ".py",
   "mimetype": "text/x-python",
   "name": "python",
   "nbconvert_exporter": "python",
   "pygments_lexer": "ipython3",
   "version": "3.8.18"
  }
 },
 "nbformat": 4,
 "nbformat_minor": 1
}
