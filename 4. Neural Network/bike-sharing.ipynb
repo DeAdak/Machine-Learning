{
 "cells": [
  {
   "cell_type": "code",
   "execution_count": 64,
   "id": "3627bf35",
   "metadata": {},
   "outputs": [
    {
     "data": {
      "text/html": [
       "<div>\n",
       "<style scoped>\n",
       "    .dataframe tbody tr th:only-of-type {\n",
       "        vertical-align: middle;\n",
       "    }\n",
       "\n",
       "    .dataframe tbody tr th {\n",
       "        vertical-align: top;\n",
       "    }\n",
       "\n",
       "    .dataframe thead th {\n",
       "        text-align: right;\n",
       "    }\n",
       "</style>\n",
       "<table border=\"1\" class=\"dataframe\">\n",
       "  <thead>\n",
       "    <tr style=\"text-align: right;\">\n",
       "      <th></th>\n",
       "      <th>datetime</th>\n",
       "      <th>season</th>\n",
       "      <th>holiday</th>\n",
       "      <th>workingday</th>\n",
       "      <th>weather</th>\n",
       "      <th>temp</th>\n",
       "      <th>atemp</th>\n",
       "      <th>humidity</th>\n",
       "      <th>windspeed</th>\n",
       "      <th>casual</th>\n",
       "      <th>registered</th>\n",
       "      <th>count</th>\n",
       "    </tr>\n",
       "  </thead>\n",
       "  <tbody>\n",
       "    <tr>\n",
       "      <th>0</th>\n",
       "      <td>2011-01-01 00:00:00</td>\n",
       "      <td>1</td>\n",
       "      <td>0</td>\n",
       "      <td>0</td>\n",
       "      <td>1</td>\n",
       "      <td>9.84</td>\n",
       "      <td>14.395</td>\n",
       "      <td>81</td>\n",
       "      <td>0.0</td>\n",
       "      <td>3</td>\n",
       "      <td>13</td>\n",
       "      <td>16</td>\n",
       "    </tr>\n",
       "    <tr>\n",
       "      <th>1</th>\n",
       "      <td>2011-01-01 01:00:00</td>\n",
       "      <td>1</td>\n",
       "      <td>0</td>\n",
       "      <td>0</td>\n",
       "      <td>1</td>\n",
       "      <td>9.02</td>\n",
       "      <td>13.635</td>\n",
       "      <td>80</td>\n",
       "      <td>0.0</td>\n",
       "      <td>8</td>\n",
       "      <td>32</td>\n",
       "      <td>40</td>\n",
       "    </tr>\n",
       "    <tr>\n",
       "      <th>2</th>\n",
       "      <td>2011-01-01 02:00:00</td>\n",
       "      <td>1</td>\n",
       "      <td>0</td>\n",
       "      <td>0</td>\n",
       "      <td>1</td>\n",
       "      <td>9.02</td>\n",
       "      <td>13.635</td>\n",
       "      <td>80</td>\n",
       "      <td>0.0</td>\n",
       "      <td>5</td>\n",
       "      <td>27</td>\n",
       "      <td>32</td>\n",
       "    </tr>\n",
       "    <tr>\n",
       "      <th>3</th>\n",
       "      <td>2011-01-01 03:00:00</td>\n",
       "      <td>1</td>\n",
       "      <td>0</td>\n",
       "      <td>0</td>\n",
       "      <td>1</td>\n",
       "      <td>9.84</td>\n",
       "      <td>14.395</td>\n",
       "      <td>75</td>\n",
       "      <td>0.0</td>\n",
       "      <td>3</td>\n",
       "      <td>10</td>\n",
       "      <td>13</td>\n",
       "    </tr>\n",
       "    <tr>\n",
       "      <th>4</th>\n",
       "      <td>2011-01-01 04:00:00</td>\n",
       "      <td>1</td>\n",
       "      <td>0</td>\n",
       "      <td>0</td>\n",
       "      <td>1</td>\n",
       "      <td>9.84</td>\n",
       "      <td>14.395</td>\n",
       "      <td>75</td>\n",
       "      <td>0.0</td>\n",
       "      <td>0</td>\n",
       "      <td>1</td>\n",
       "      <td>1</td>\n",
       "    </tr>\n",
       "  </tbody>\n",
       "</table>\n",
       "</div>"
      ],
      "text/plain": [
       "             datetime  season  holiday  workingday  weather  temp   atemp  \\\n",
       "0 2011-01-01 00:00:00       1        0           0        1  9.84  14.395   \n",
       "1 2011-01-01 01:00:00       1        0           0        1  9.02  13.635   \n",
       "2 2011-01-01 02:00:00       1        0           0        1  9.02  13.635   \n",
       "3 2011-01-01 03:00:00       1        0           0        1  9.84  14.395   \n",
       "4 2011-01-01 04:00:00       1        0           0        1  9.84  14.395   \n",
       "\n",
       "   humidity  windspeed  casual  registered  count  \n",
       "0        81        0.0       3          13     16  \n",
       "1        80        0.0       8          32     40  \n",
       "2        80        0.0       5          27     32  \n",
       "3        75        0.0       3          10     13  \n",
       "4        75        0.0       0           1      1  "
      ]
     },
     "execution_count": 64,
     "metadata": {},
     "output_type": "execute_result"
    }
   ],
   "source": [
    "import pandas as pd\n",
    "df = pd.read_csv(r\"G:\\Ddrive\\PG DBDA\\12 Practical Machine Learning_\\Cases\\bike-sharing-demand/train.csv\",parse_dates=['datetime'])\n",
    "df.head()"
   ]
  },
  {
   "cell_type": "code",
   "execution_count": 65,
   "id": "c5a5f5a1",
   "metadata": {},
   "outputs": [
    {
     "data": {
      "text/plain": [
       "0   2011-01-01 00:00:00\n",
       "1   2011-01-01 01:00:00\n",
       "2   2011-01-01 02:00:00\n",
       "3   2011-01-01 03:00:00\n",
       "4   2011-01-01 04:00:00\n",
       "Name: datetime, dtype: datetime64[ns]"
      ]
     },
     "execution_count": 65,
     "metadata": {},
     "output_type": "execute_result"
    }
   ],
   "source": [
    "df['datetime'].head()"
   ]
  },
  {
   "cell_type": "code",
   "execution_count": 66,
   "id": "5f5c6401",
   "metadata": {},
   "outputs": [
    {
     "data": {
      "text/html": [
       "<div>\n",
       "<style scoped>\n",
       "    .dataframe tbody tr th:only-of-type {\n",
       "        vertical-align: middle;\n",
       "    }\n",
       "\n",
       "    .dataframe tbody tr th {\n",
       "        vertical-align: top;\n",
       "    }\n",
       "\n",
       "    .dataframe thead th {\n",
       "        text-align: right;\n",
       "    }\n",
       "</style>\n",
       "<table border=\"1\" class=\"dataframe\">\n",
       "  <thead>\n",
       "    <tr style=\"text-align: right;\">\n",
       "      <th></th>\n",
       "      <th>datetime</th>\n",
       "      <th>season</th>\n",
       "      <th>holiday</th>\n",
       "      <th>workingday</th>\n",
       "      <th>weather</th>\n",
       "      <th>temp</th>\n",
       "      <th>atemp</th>\n",
       "      <th>humidity</th>\n",
       "      <th>windspeed</th>\n",
       "      <th>casual</th>\n",
       "      <th>registered</th>\n",
       "      <th>count</th>\n",
       "      <th>year</th>\n",
       "      <th>month</th>\n",
       "      <th>day</th>\n",
       "      <th>hour</th>\n",
       "      <th>weekday</th>\n",
       "    </tr>\n",
       "  </thead>\n",
       "  <tbody>\n",
       "    <tr>\n",
       "      <th>0</th>\n",
       "      <td>2011-01-01 00:00:00</td>\n",
       "      <td>1</td>\n",
       "      <td>0</td>\n",
       "      <td>0</td>\n",
       "      <td>1</td>\n",
       "      <td>9.84</td>\n",
       "      <td>14.395</td>\n",
       "      <td>81</td>\n",
       "      <td>0.0</td>\n",
       "      <td>3</td>\n",
       "      <td>13</td>\n",
       "      <td>16</td>\n",
       "      <td>2011</td>\n",
       "      <td>1</td>\n",
       "      <td>1</td>\n",
       "      <td>0</td>\n",
       "      <td>5</td>\n",
       "    </tr>\n",
       "    <tr>\n",
       "      <th>1</th>\n",
       "      <td>2011-01-01 01:00:00</td>\n",
       "      <td>1</td>\n",
       "      <td>0</td>\n",
       "      <td>0</td>\n",
       "      <td>1</td>\n",
       "      <td>9.02</td>\n",
       "      <td>13.635</td>\n",
       "      <td>80</td>\n",
       "      <td>0.0</td>\n",
       "      <td>8</td>\n",
       "      <td>32</td>\n",
       "      <td>40</td>\n",
       "      <td>2011</td>\n",
       "      <td>1</td>\n",
       "      <td>1</td>\n",
       "      <td>1</td>\n",
       "      <td>5</td>\n",
       "    </tr>\n",
       "    <tr>\n",
       "      <th>2</th>\n",
       "      <td>2011-01-01 02:00:00</td>\n",
       "      <td>1</td>\n",
       "      <td>0</td>\n",
       "      <td>0</td>\n",
       "      <td>1</td>\n",
       "      <td>9.02</td>\n",
       "      <td>13.635</td>\n",
       "      <td>80</td>\n",
       "      <td>0.0</td>\n",
       "      <td>5</td>\n",
       "      <td>27</td>\n",
       "      <td>32</td>\n",
       "      <td>2011</td>\n",
       "      <td>1</td>\n",
       "      <td>1</td>\n",
       "      <td>2</td>\n",
       "      <td>5</td>\n",
       "    </tr>\n",
       "    <tr>\n",
       "      <th>3</th>\n",
       "      <td>2011-01-01 03:00:00</td>\n",
       "      <td>1</td>\n",
       "      <td>0</td>\n",
       "      <td>0</td>\n",
       "      <td>1</td>\n",
       "      <td>9.84</td>\n",
       "      <td>14.395</td>\n",
       "      <td>75</td>\n",
       "      <td>0.0</td>\n",
       "      <td>3</td>\n",
       "      <td>10</td>\n",
       "      <td>13</td>\n",
       "      <td>2011</td>\n",
       "      <td>1</td>\n",
       "      <td>1</td>\n",
       "      <td>3</td>\n",
       "      <td>5</td>\n",
       "    </tr>\n",
       "    <tr>\n",
       "      <th>4</th>\n",
       "      <td>2011-01-01 04:00:00</td>\n",
       "      <td>1</td>\n",
       "      <td>0</td>\n",
       "      <td>0</td>\n",
       "      <td>1</td>\n",
       "      <td>9.84</td>\n",
       "      <td>14.395</td>\n",
       "      <td>75</td>\n",
       "      <td>0.0</td>\n",
       "      <td>0</td>\n",
       "      <td>1</td>\n",
       "      <td>1</td>\n",
       "      <td>2011</td>\n",
       "      <td>1</td>\n",
       "      <td>1</td>\n",
       "      <td>4</td>\n",
       "      <td>5</td>\n",
       "    </tr>\n",
       "  </tbody>\n",
       "</table>\n",
       "</div>"
      ],
      "text/plain": [
       "             datetime season  holiday  workingday  weather  temp   atemp  \\\n",
       "0 2011-01-01 00:00:00      1        0           0        1  9.84  14.395   \n",
       "1 2011-01-01 01:00:00      1        0           0        1  9.02  13.635   \n",
       "2 2011-01-01 02:00:00      1        0           0        1  9.02  13.635   \n",
       "3 2011-01-01 03:00:00      1        0           0        1  9.84  14.395   \n",
       "4 2011-01-01 04:00:00      1        0           0        1  9.84  14.395   \n",
       "\n",
       "   humidity  windspeed  casual  registered  count  year  month  day  hour  \\\n",
       "0        81        0.0       3          13     16  2011      1    1     0   \n",
       "1        80        0.0       8          32     40  2011      1    1     1   \n",
       "2        80        0.0       5          27     32  2011      1    1     2   \n",
       "3        75        0.0       3          10     13  2011      1    1     3   \n",
       "4        75        0.0       0           1      1  2011      1    1     4   \n",
       "\n",
       "   weekday  \n",
       "0        5  \n",
       "1        5  \n",
       "2        5  \n",
       "3        5  \n",
       "4        5  "
      ]
     },
     "execution_count": 66,
     "metadata": {},
     "output_type": "execute_result"
    }
   ],
   "source": [
    "df['year'] = df['datetime'].dt.year\n",
    "df['month'] = df['datetime'].dt.month\n",
    "df['day'] = df['datetime'].dt.day\n",
    "df['hour'] = df['datetime'].dt.hour\n",
    "df['weekday'] = df['datetime'].dt.weekday\n",
    "df['season'] = df['season'].astype('category')\n",
    "df.head()"
   ]
  },
  {
   "cell_type": "code",
   "execution_count": 67,
   "id": "b1e0e5c2",
   "metadata": {},
   "outputs": [
    {
     "data": {
      "text/html": [
       "<div>\n",
       "<style scoped>\n",
       "    .dataframe tbody tr th:only-of-type {\n",
       "        vertical-align: middle;\n",
       "    }\n",
       "\n",
       "    .dataframe tbody tr th {\n",
       "        vertical-align: top;\n",
       "    }\n",
       "\n",
       "    .dataframe thead th {\n",
       "        text-align: right;\n",
       "    }\n",
       "</style>\n",
       "<table border=\"1\" class=\"dataframe\">\n",
       "  <thead>\n",
       "    <tr style=\"text-align: right;\">\n",
       "      <th></th>\n",
       "      <th>casual</th>\n",
       "      <th>registered</th>\n",
       "    </tr>\n",
       "  </thead>\n",
       "  <tbody>\n",
       "    <tr>\n",
       "      <th>0</th>\n",
       "      <td>3</td>\n",
       "      <td>13</td>\n",
       "    </tr>\n",
       "    <tr>\n",
       "      <th>1</th>\n",
       "      <td>8</td>\n",
       "      <td>32</td>\n",
       "    </tr>\n",
       "    <tr>\n",
       "      <th>2</th>\n",
       "      <td>5</td>\n",
       "      <td>27</td>\n",
       "    </tr>\n",
       "    <tr>\n",
       "      <th>3</th>\n",
       "      <td>3</td>\n",
       "      <td>10</td>\n",
       "    </tr>\n",
       "    <tr>\n",
       "      <th>4</th>\n",
       "      <td>0</td>\n",
       "      <td>1</td>\n",
       "    </tr>\n",
       "  </tbody>\n",
       "</table>\n",
       "</div>"
      ],
      "text/plain": [
       "   casual  registered\n",
       "0       3          13\n",
       "1       8          32\n",
       "2       5          27\n",
       "3       3          10\n",
       "4       0           1"
      ]
     },
     "execution_count": 67,
     "metadata": {},
     "output_type": "execute_result"
    }
   ],
   "source": [
    "y = df[['casual','registered']]\n",
    "y.head()"
   ]
  },
  {
   "cell_type": "code",
   "execution_count": 68,
   "id": "d7b059d3",
   "metadata": {},
   "outputs": [
    {
     "name": "stdout",
     "output_type": "stream",
     "text": [
      "  season  holiday  workingday  weather  temp   atemp  humidity  windspeed  \\\n",
      "0      1        0           0        1  9.84  14.395        81        0.0   \n",
      "1      1        0           0        1  9.02  13.635        80        0.0   \n",
      "2      1        0           0        1  9.02  13.635        80        0.0   \n",
      "3      1        0           0        1  9.84  14.395        75        0.0   \n",
      "4      1        0           0        1  9.84  14.395        75        0.0   \n",
      "\n",
      "   year  month  day  hour  weekday  \n",
      "0  2011      1    1     0        5  \n",
      "1  2011      1    1     1        5  \n",
      "2  2011      1    1     2        5  \n",
      "3  2011      1    1     3        5  \n",
      "4  2011      1    1     4        5  \n"
     ]
    }
   ],
   "source": [
    "X = df.drop(['datetime','casual','registered','count'],axis = 1)\n",
    "print(X.head())"
   ]
  },
  {
   "cell_type": "code",
   "execution_count": 69,
   "id": "d82ce253",
   "metadata": {},
   "outputs": [],
   "source": [
    "from sklearn.preprocessing import MinMaxScaler\n",
    "scalerX = MinMaxScaler()\n",
    "scalerY = MinMaxScaler()\n",
    "y_trn_scaled = scalerY.fit_transform(y)    \n",
    "X_trn_scaled = scalerX.fit_transform(X)    "
   ]
  },
  {
   "cell_type": "code",
   "execution_count": 70,
   "id": "5e7bf317",
   "metadata": {},
   "outputs": [
    {
     "data": {
      "text/plain": [
       "(9797, 13)"
      ]
     },
     "execution_count": 70,
     "metadata": {},
     "output_type": "execute_result"
    }
   ],
   "source": [
    "from sklearn.model_selection import train_test_split \n",
    "X_train, X_test, y_train, y_test = train_test_split(X_trn_scaled, y_trn_scaled, test_size = 0.1, \n",
    "                                                    random_state=2024)\n",
    "X_train.shape"
   ]
  },
  {
   "cell_type": "markdown",
   "id": "fb4d46ba",
   "metadata": {},
   "source": [
    "# OR"
   ]
  },
  {
   "cell_type": "code",
   "execution_count": null,
   "id": "ded7baeb",
   "metadata": {},
   "outputs": [],
   "source": [
    "from sklearn.model_selection import train_test_split \n",
    "X_train, X_test, y_train, y_test = train_test_split(X_trn_scaled, y_trn_scaled, test_size = 0.1, \n",
    "                                                    random_state=2024,stratify=df['season'])\n",
    "X_train.shape"
   ]
  },
  {
   "cell_type": "code",
   "execution_count": 71,
   "id": "8fde382c",
   "metadata": {},
   "outputs": [
    {
     "name": "stdout",
     "output_type": "stream",
     "text": [
      "Model: \"sequential_3\"\n",
      "_________________________________________________________________\n",
      " Layer (type)                Output Shape              Param #   \n",
      "=================================================================\n",
      " dense_12 (Dense)            (None, 8)                 112       \n",
      "                                                                 \n",
      " dense_13 (Dense)            (None, 6)                 54        \n",
      "                                                                 \n",
      " dense_14 (Dense)            (None, 3)                 21        \n",
      "                                                                 \n",
      " dense_15 (Dense)            (None, 2)                 8         \n",
      "                                                                 \n",
      "=================================================================\n",
      "Total params: 195\n",
      "Trainable params: 195\n",
      "Non-trainable params: 0\n",
      "_________________________________________________________________\n",
      "None\n"
     ]
    }
   ],
   "source": [
    "import tensorflow as tf\n",
    "from tensorflow.keras.models import Model\n",
    "from tensorflow.keras.layers import Dense, Activation, Input\n",
    "tf.random.set_seed(2024)\n",
    "model = tf.keras.models.Sequential([\n",
    "    tf.keras.layers.Dense(8, activation='relu',input_shape=(X_train.shape[1], )), \n",
    "    tf.keras.layers.Dense(6, activation='relu'),\n",
    "    tf.keras.layers.Dense(3, activation='relu'), \n",
    "    tf.keras.layers.Dense(2, activation='relu')  \n",
    "])\n",
    "print(model.summary())\n",
    "model.compile(optimizer='adam', loss=tf.keras.losses.MeanSquaredLogarithmicError(),metrics=['mae'])"
   ]
  },
  {
   "cell_type": "code",
   "execution_count": 72,
   "id": "16ecdad8",
   "metadata": {},
   "outputs": [
    {
     "name": "stdout",
     "output_type": "stream",
     "text": [
      "Epoch 1/500\n",
      "307/307 - 5s - loss: 0.0214 - val_loss: 0.0187 - 5s/epoch - 16ms/step\n",
      "Epoch 2/500\n",
      "307/307 - 1s - loss: 0.0158 - val_loss: 0.0162 - 1s/epoch - 4ms/step\n",
      "Epoch 3/500\n",
      "307/307 - 1s - loss: 0.0141 - val_loss: 0.0151 - 1s/epoch - 5ms/step\n",
      "Epoch 4/500\n",
      "307/307 - 1s - loss: 0.0132 - val_loss: 0.0143 - 1s/epoch - 4ms/step\n",
      "Epoch 5/500\n",
      "307/307 - 1s - loss: 0.0125 - val_loss: 0.0139 - 1s/epoch - 4ms/step\n",
      "Epoch 6/500\n",
      "307/307 - 1s - loss: 0.0118 - val_loss: 0.0131 - 1s/epoch - 4ms/step\n",
      "Epoch 7/500\n",
      "307/307 - 1s - loss: 0.0112 - val_loss: 0.0122 - 1s/epoch - 4ms/step\n",
      "Epoch 8/500\n",
      "307/307 - 1s - loss: 0.0109 - val_loss: 0.0118 - 1s/epoch - 4ms/step\n",
      "Epoch 9/500\n",
      "307/307 - 1s - loss: 0.0105 - val_loss: 0.0113 - 1s/epoch - 4ms/step\n",
      "Epoch 10/500\n",
      "307/307 - 1s - loss: 0.0103 - val_loss: 0.0110 - 1s/epoch - 4ms/step\n",
      "Epoch 11/500\n",
      "307/307 - 1s - loss: 0.0100 - val_loss: 0.0107 - 1s/epoch - 4ms/step\n",
      "Epoch 12/500\n",
      "307/307 - 1s - loss: 0.0098 - val_loss: 0.0104 - 1s/epoch - 4ms/step\n",
      "Epoch 13/500\n",
      "307/307 - 1s - loss: 0.0097 - val_loss: 0.0102 - 1s/epoch - 4ms/step\n",
      "Epoch 14/500\n",
      "307/307 - 1s - loss: 0.0095 - val_loss: 0.0101 - 1s/epoch - 4ms/step\n",
      "Epoch 15/500\n",
      "307/307 - 1s - loss: 0.0094 - val_loss: 0.0100 - 1s/epoch - 4ms/step\n",
      "Epoch 16/500\n",
      "307/307 - 1s - loss: 0.0093 - val_loss: 0.0100 - 1s/epoch - 4ms/step\n",
      "Epoch 17/500\n",
      "307/307 - 1s - loss: 0.0092 - val_loss: 0.0097 - 1s/epoch - 4ms/step\n",
      "Epoch 18/500\n",
      "307/307 - 1s - loss: 0.0091 - val_loss: 0.0096 - 1s/epoch - 4ms/step\n",
      "Epoch 19/500\n",
      "307/307 - 1s - loss: 0.0090 - val_loss: 0.0095 - 1s/epoch - 4ms/step\n",
      "Epoch 20/500\n",
      "307/307 - 1s - loss: 0.0090 - val_loss: 0.0095 - 1s/epoch - 4ms/step\n",
      "Epoch 21/500\n",
      "307/307 - 1s - loss: 0.0089 - val_loss: 0.0094 - 1s/epoch - 4ms/step\n",
      "Epoch 22/500\n",
      "307/307 - 1s - loss: 0.0088 - val_loss: 0.0097 - 1s/epoch - 4ms/step\n",
      "Epoch 23/500\n",
      "307/307 - 1s - loss: 0.0087 - val_loss: 0.0094 - 1s/epoch - 4ms/step\n",
      "Epoch 24/500\n",
      "307/307 - 1s - loss: 0.0085 - val_loss: 0.0092 - 1s/epoch - 4ms/step\n",
      "Epoch 25/500\n",
      "307/307 - 1s - loss: 0.0084 - val_loss: 0.0092 - 1s/epoch - 4ms/step\n",
      "Epoch 26/500\n",
      "Restoring model weights from the end of the best epoch: 6.\n",
      "307/307 - 1s - loss: 0.0084 - val_loss: 0.0092 - 1s/epoch - 4ms/step\n",
      "Epoch 26: early stopping\n"
     ]
    }
   ],
   "source": [
    "from tensorflow.keras.callbacks import EarlyStopping\n",
    "monitor = EarlyStopping(monitor='val_loss', min_delta=0.01, patience=7, verbose=2, mode='auto',\n",
    "        restore_best_weights=True)\n",
    "history = model.fit(X_train,y_train,validation_data=(X_test,y_test),callbacks=[monitor],verbose=2,epochs=1000)"
   ]
  },
  {
   "cell_type": "code",
   "execution_count": 73,
   "id": "b9d9bbc5",
   "metadata": {},
   "outputs": [
    {
     "data": {
      "image/png": "[encoded data removed]",
      "text/plain": [
       "<Figure size 640x480 with 1 Axes>"
      ]
     },
     "metadata": {},
     "output_type": "display_data"
    }
   ],
   "source": [
    "import matplotlib.pyplot as plt\n",
    "plt.plot(history.history['loss'])\n",
    "plt.plot(history.history['val_loss'])\n",
    "plt.title('model loss')\n",
    "plt.ylabel('loss')\n",
    "plt.xlabel('epoch')\n",
    "plt.legend(['train', 'test'], loc='upper right')\n",
    "plt.show()"
   ]
  },
  {
   "cell_type": "code",
   "execution_count": 74,
   "id": "9714314e",
   "metadata": {},
   "outputs": [
    {
     "name": "stdout",
     "output_type": "stream",
     "text": [
      "35/35 [==============================] - 0s 4ms/step\n"
     ]
    },
    {
     "data": {
      "text/plain": [
       "array([[0.04557891, 0.19442275],\n",
       "       [0.06923427, 0.22489762],\n",
       "       [0.1874257 , 0.27988753],\n",
       "       [0.        , 0.00069091],\n",
       "       [0.14536771, 0.18355827]], dtype=float32)"
      ]
     },
     "execution_count": 74,
     "metadata": {},
     "output_type": "execute_result"
    }
   ],
   "source": [
    "y_pred = model.predict(X_test)\n",
    "y_pred[:5]"
   ]
  },
  {
   "cell_type": "code",
   "execution_count": 75,
   "id": "8d3fdd16",
   "metadata": {},
   "outputs": [
    {
     "data": {
      "text/plain": [
       "array([[ 16.72746  , 172.25856  ],\n",
       "       [ 25.40898  , 199.2593   ],\n",
       "       [ 68.78523  , 247.98035  ],\n",
       "       [  0.       ,   0.6121438],\n",
       "       [ 53.34995  , 162.63263  ]], dtype=float32)"
      ]
     },
     "execution_count": 75,
     "metadata": {},
     "output_type": "execute_result"
    }
   ],
   "source": [
    "import numpy as np\n",
    "#y_pred = np.array(y_pred).reshape(y_test.shape[0],2)\n",
    "y_pred_orig = scalerY.inverse_transform(y_pred)\n",
    "y_pred_orig[:5]"
   ]
  },
  {
   "cell_type": "code",
   "execution_count": 76,
   "id": "fa0497e7",
   "metadata": {},
   "outputs": [
    {
     "data": {
      "text/plain": [
       "array([[  7., 107.],\n",
       "       [ 21., 211.],\n",
       "       [ 27., 125.],\n",
       "       [  1.,   3.],\n",
       "       [102., 184.]])"
      ]
     },
     "execution_count": 76,
     "metadata": {},
     "output_type": "execute_result"
    }
   ],
   "source": [
    "y_test_org = scalerY.inverse_transform(y_test)\n",
    "y_test_org[:5]"
   ]
  },
  {
   "cell_type": "code",
   "execution_count": 77,
   "id": "30c063a3",
   "metadata": {},
   "outputs": [
    {
     "name": "stdout",
     "output_type": "stream",
     "text": [
      "R2: 0.5032441199368852\n"
     ]
    }
   ],
   "source": [
    "from sklearn.metrics import r2_score\n",
    "R2 = r2_score(y_true=y_test_org,y_pred=y_pred_orig)\n",
    "print(f\"R2: {R2}\")"
   ]
  },
  {
   "cell_type": "code",
   "execution_count": 78,
   "id": "03ae7f1e",
   "metadata": {},
   "outputs": [
    {
     "name": "stdout",
     "output_type": "stream",
     "text": [
      "R2: 0.5032441181468543\n"
     ]
    }
   ],
   "source": [
    "R2 = r2_score(y_true=y_test,y_pred=y_pred)\n",
    "print(f\"R2: {R2}\")"
   ]
  },
  {
   "cell_type": "code",
   "execution_count": null,
   "id": "8a857298",
   "metadata": {},
   "outputs": [],
   "source": []
  }
 ],
 "metadata": {
  "kernelspec": {
   "display_name": "Python 3 (ipykernel)",
   "language": "python",
   "name": "python3"
  },
  "language_info": {
   "codemirror_mode": {
    "name": "ipython",
    "version": 3
   },
   "file_extension": ".py",
   "mimetype": "text/x-python",
   "name": "python",
   "nbconvert_exporter": "python",
   "pygments_lexer": "ipython3",
   "version": "3.8.18"
  }
 },
 "nbformat": 4,
 "nbformat_minor": 5
}
