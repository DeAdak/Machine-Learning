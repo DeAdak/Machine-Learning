{
 "cells": [
  {
   "cell_type": "code",
   "execution_count": 1,
   "metadata": {
    "id": "6cC_p1hKD6oo"
   },
   "outputs": [],
   "source": [
    "import numpy as np\n",
    "%matplotlib inline\n",
    "import matplotlib.image as mpimg\n",
    "import matplotlib.pyplot as plt\n",
    "import tensorflow as tf\n",
    "import matplotlib.cm as cm"
   ]
  },
  {
   "cell_type": "markdown",
   "metadata": {
    "id": "WlSlqUlIAbxp"
   },
   "source": [
    "Loading the MNIST Digits dataset"
   ]
  },
  {
   "cell_type": "code",
   "execution_count": 2,
   "metadata": {
    "colab": {
     "base_uri": "https://localhost:8080/"
    },
    "id": "dcHKKvi2AU45",
    "outputId": "3e627476-8738-4568-c32d-7c3ea697ec91"
   },
   "outputs": [
    {
     "name": "stdout",
     "output_type": "stream",
     "text": [
      "(60000, 28, 28)\n",
      "(10000, 28, 28)\n",
      "(60000,)\n",
      "(10000,)\n"
     ]
    }
   ],
   "source": [
    "(X_train, y_train), (X_test, y_test) = tf.keras.datasets.mnist.load_data()\n",
    "print(X_train.shape)\n",
    "print(X_test.shape)\n",
    "print(y_train.shape)\n",
    "print(y_test.shape)"
   ]
  },
  {
   "cell_type": "code",
   "execution_count": 3,
   "metadata": {},
   "outputs": [
    {
     "data": {
      "text/plain": [
       "array([50094])"
      ]
     },
     "execution_count": 3,
     "metadata": {},
     "output_type": "execute_result"
    }
   ],
   "source": [
    "yy = np.random.randint(low=0, high=59999, size=1)\n",
    "yy"
   ]
  },
  {
   "cell_type": "code",
   "execution_count": 4,
   "metadata": {
    "id": "SVwqiZCMT2Ox"
   },
   "outputs": [
    {
     "data": {
      "text/plain": [
       "41798"
      ]
     },
     "execution_count": 4,
     "metadata": {},
     "output_type": "execute_result"
    }
   ],
   "source": [
    "no = np.random.randint(low=0, high=59999, size=1)[0]\n",
    "no"
   ]
  },
  {
   "cell_type": "code",
   "execution_count": 5,
   "metadata": {
    "colab": {
     "base_uri": "https://localhost:8080/",
     "height": 268
    },
    "id": "0Gkv4dsSTOZp",
    "outputId": "32b75dd1-9641-4101-e4d2-1285c280e589"
   },
   "outputs": [
    {
     "data": {
      "image/png": "[encoded data removed]",
      "text/plain": [
       "<Figure size 640x480 with 9 Axes>"
      ]
     },
     "metadata": {},
     "output_type": "display_data"
    }
   ],
   "source": [
    "for i in range(9):\n",
    "\t# define subplot\n",
    "\tno = np.random.randint(low=0, high=59999, size=1)[0]\n",
    "\tplt.subplot(330 + 1 + i)\n",
    "\t# plot raw pixel data\n",
    "\tplt.imshow(X_train[no], cmap=plt.get_cmap('gray'))\n",
    "# show the figure\n",
    "plt.show()"
   ]
  },
  {
   "cell_type": "code",
   "execution_count": 6,
   "metadata": {
    "id": "5THmm0DxVbR2"
   },
   "outputs": [],
   "source": [
    "X_train = X_train.reshape((X_train.shape[0], 28, 28, 1))\n",
    "X_test = X_test.reshape((X_test.shape[0], 28, 28, 1))"
   ]
  },
  {
   "cell_type": "code",
   "execution_count": 7,
   "metadata": {
    "colab": {
     "base_uri": "https://localhost:8080/"
    },
    "id": "U6xI836XVhik",
    "outputId": "ef796d55-9d7b-428c-e555-b65899f333b5"
   },
   "outputs": [
    {
     "data": {
      "text/plain": [
       "(60000, 28, 28, 1)"
      ]
     },
     "execution_count": 7,
     "metadata": {},
     "output_type": "execute_result"
    }
   ],
   "source": [
    "X_train.shape"
   ]
  },
  {
   "cell_type": "code",
   "execution_count": 8,
   "metadata": {
    "id": "HnP3sLt7C8tx"
   },
   "outputs": [],
   "source": [
    "tf.random.set_seed( seed = 2024 )\n",
    "model = tf.keras.models.Sequential([\n",
    "    # Note the input shape is the desired size of the image 28x28 \n",
    "    tf.keras.layers.Conv2D(16, (3,3), activation='relu', input_shape=(28, 28, 1)),\n",
    "    tf.keras.layers.MaxPooling2D(2,2),\n",
    "    # Flatten the results to feed into a DNN\n",
    "    tf.keras.layers.Flatten(), \n",
    "    # 512 neuron hidden layer\n",
    "    tf.keras.layers.Dense(512, activation='relu'), \n",
    "    tf.keras.layers.Dropout(0.1),\n",
    "    tf.keras.layers.Dense(200, activation='relu'),\n",
    "    tf.keras.layers.Dropout(0.2),\n",
    "    tf.keras.layers.Dense(10, activation='softmax')  \n",
    "])"
   ]
  },
  {
   "cell_type": "code",
   "execution_count": 9,
   "metadata": {
    "colab": {
     "base_uri": "https://localhost:8080/"
    },
    "id": "t07foOUPFDyv",
    "outputId": "8386caf8-0d84-4601-8c4f-96c375381cf7"
   },
   "outputs": [
    {
     "name": "stdout",
     "output_type": "stream",
     "text": [
      "Model: \"sequential\"\n",
      "_________________________________________________________________\n",
      " Layer (type)                Output Shape              Param #   \n",
      "=================================================================\n",
      " conv2d (Conv2D)             (None, 26, 26, 16)        160       \n",
      "                                                                 \n",
      " max_pooling2d (MaxPooling2D  (None, 13, 13, 16)       0         \n",
      " )                                                               \n",
      "                                                                 \n",
      " flatten (Flatten)           (None, 2704)              0         \n",
      "                                                                 \n",
      " dense (Dense)               (None, 512)               1384960   \n",
      "                                                                 \n",
      " dropout (Dropout)           (None, 512)               0         \n",
      "                                                                 \n",
      " dense_1 (Dense)             (None, 200)               102600    \n",
      "                                                                 \n",
      " dropout_1 (Dropout)         (None, 200)               0         \n",
      "                                                                 \n",
      " dense_2 (Dense)             (None, 10)                2010      \n",
      "                                                                 \n",
      "=================================================================\n",
      "Total params: 1,489,730\n",
      "Trainable params: 1,489,730\n",
      "Non-trainable params: 0\n",
      "_________________________________________________________________\n"
     ]
    }
   ],
   "source": [
    "model.summary()"
   ]
  },
  {
   "cell_type": "code",
   "execution_count": 10,
   "metadata": {
    "id": "dZX230JUFKiG"
   },
   "outputs": [],
   "source": [
    "from tensorflow.keras.optimizers import RMSprop\n",
    "from tensorflow.keras.callbacks import EarlyStopping\n",
    "monitor = EarlyStopping(monitor='val_loss', min_delta=1e-3, patience=5, \n",
    "                        verbose=1, mode='auto',restore_best_weights=True)\n",
    "model.compile(optimizer=RMSprop(learning_rate=0.001),\n",
    "              loss='sparse_categorical_crossentropy',\n",
    "              metrics = ['acc'])"
   ]
  },
  {
   "cell_type": "code",
   "execution_count": 11,
   "metadata": {
    "colab": {
     "base_uri": "https://localhost:8080/"
    },
    "id": "0G6MG54EFUOW",
    "outputId": "12cd2d48-8de2-4ec3-cc1c-8230b7fcf353"
   },
   "outputs": [
    {
     "name": "stdout",
     "output_type": "stream",
     "text": [
      "Epoch 1/100\n",
      "50/50 - 124s - loss: 17.7615 - acc: 0.7199 - val_loss: 0.5210 - val_acc: 0.8921 - 124s/epoch - 2s/step\n",
      "Epoch 2/100\n",
      "50/50 - 43s - loss: 1.1881 - acc: 0.8326 - val_loss: 4.4385 - val_acc: 0.5972 - 43s/epoch - 866ms/step\n",
      "Epoch 3/100\n",
      "50/50 - 40s - loss: 0.4543 - acc: 0.9103 - val_loss: 0.1589 - val_acc: 0.9556 - 40s/epoch - 795ms/step\n",
      "Epoch 4/100\n",
      "50/50 - 40s - loss: 0.1827 - acc: 0.9504 - val_loss: 0.0972 - val_acc: 0.9732 - 40s/epoch - 793ms/step\n",
      "Epoch 5/100\n",
      "50/50 - 38s - loss: 0.1007 - acc: 0.9717 - val_loss: 0.0611 - val_acc: 0.9820 - 38s/epoch - 754ms/step\n",
      "Epoch 6/100\n",
      "50/50 - 40s - loss: 0.0647 - acc: 0.9811 - val_loss: 0.0828 - val_acc: 0.9765 - 40s/epoch - 809ms/step\n",
      "Epoch 7/100\n",
      "50/50 - 36s - loss: 0.0500 - acc: 0.9848 - val_loss: 0.0690 - val_acc: 0.9816 - 36s/epoch - 721ms/step\n",
      "Epoch 8/100\n",
      "50/50 - 37s - loss: 0.0372 - acc: 0.9887 - val_loss: 0.0639 - val_acc: 0.9819 - 37s/epoch - 744ms/step\n",
      "Epoch 9/100\n",
      "50/50 - 69s - loss: 0.0265 - acc: 0.9914 - val_loss: 0.0784 - val_acc: 0.9823 - 69s/epoch - 1s/step\n",
      "Epoch 10/100\n",
      "Restoring model weights from the end of the best epoch: 5.\n",
      "50/50 - 83s - loss: 0.0235 - acc: 0.9927 - val_loss: 0.0672 - val_acc: 0.9856 - 83s/epoch - 2s/step\n",
      "Epoch 10: early stopping\n"
     ]
    }
   ],
   "source": [
    "history = model.fit(x=X_train,y=y_train,\n",
    "                              validation_data=(X_test,y_test),\n",
    "                              steps_per_epoch=50,epochs=100,\n",
    "                              validation_steps=50,\n",
    "                              verbose=2, callbacks=[monitor])"
   ]
  },
  {
   "cell_type": "code",
   "execution_count": 13,
   "metadata": {
    "colab": {
     "base_uri": "https://localhost:8080/",
     "height": 295
    },
    "id": "3xNBXAkuXtj6",
    "outputId": "15b219f1-7f6f-43a2-db3c-ff13c1bec965"
   },
   "outputs": [
    {
     "data": {
      "image/png": "[encoded data removed]",
      "text/plain": [
       "<Figure size 640x480 with 1 Axes>"
      ]
     },
     "metadata": {},
     "output_type": "display_data"
    }
   ],
   "source": [
    "plt.plot(history.history['loss'])\n",
    "plt.plot(history.history['val_loss'])\n",
    "plt.title('model loss')\n",
    "plt.ylabel('loss')\n",
    "plt.xlabel('epoch')\n",
    "plt.legend(['train', 'test'], loc='upper right')\n",
    "plt.show()"
   ]
  },
  {
   "cell_type": "code",
   "execution_count": 14,
   "metadata": {
    "colab": {
     "base_uri": "https://localhost:8080/"
    },
    "id": "hRzbMVSiX0ex",
    "outputId": "de4621cf-2d58-404f-dc42-2071b7300b10"
   },
   "outputs": [
    {
     "name": "stdout",
     "output_type": "stream",
     "text": [
      "Test loss: 0.06224754452705383\n",
      "Test accuracy: 0.9829000234603882\n"
     ]
    }
   ],
   "source": [
    "score = model.evaluate(X_test, y_test, verbose=0)\n",
    "print('Test loss:', score[0]) \n",
    "print('Test accuracy:', score[1]) "
   ]
  },
  {
   "cell_type": "code",
   "execution_count": null,
   "metadata": {},
   "outputs": [],
   "source": []
  }
 ],
 "metadata": {
  "accelerator": "GPU",
  "colab": {
   "name": "CNN_MNIST_Digit.ipynb",
   "provenance": []
  },
  "kernelspec": {
   "display_name": "Python 3 (ipykernel)",
   "language": "python",
   "name": "python3"
  },
  "language_info": {
   "codemirror_mode": {
    "name": "ipython",
    "version": 3
   },
   "file_extension": ".py",
   "mimetype": "text/x-python",
   "name": "python",
   "nbconvert_exporter": "python",
   "pygments_lexer": "ipython3",
   "version": "3.8.18"
  }
 },
 "nbformat": 4,
 "nbformat_minor": 1
}
