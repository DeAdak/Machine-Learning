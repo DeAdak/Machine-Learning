{
 "cells": [
  {
   "cell_type": "code",
   "execution_count": 1,
   "id": "072bbc28",
   "metadata": {},
   "outputs": [],
   "source": [
    "import tensorflow as tf"
   ]
  },
  {
   "cell_type": "code",
   "execution_count": 2,
   "id": "3e9b096c",
   "metadata": {},
   "outputs": [
    {
     "name": "stdout",
     "output_type": "stream",
     "text": [
      "(60000, 28, 28)\n",
      "(10000, 28, 28)\n",
      "(60000,)\n",
      "(10000,)\n"
     ]
    }
   ],
   "source": [
    "(X_train, y_train), (X_test, y_test) = tf.keras.datasets.fashion_mnist.load_data()\n",
    "print(X_train.shape)\n",
    "print(X_test.shape)\n",
    "print(y_train.shape)\n",
    "print(y_test.shape)"
   ]
  },
  {
   "cell_type": "code",
   "execution_count": 4,
   "id": "b886e782",
   "metadata": {},
   "outputs": [
    {
     "data": {
      "text/plain": [
       "18081"
      ]
     },
     "execution_count": 4,
     "metadata": {},
     "output_type": "execute_result"
    }
   ],
   "source": [
    "import numpy as np\n",
    "no = np.random.randint(low=0, high=59999, size=1)[0]\n",
    "no"
   ]
  },
  {
   "cell_type": "code",
   "execution_count": 5,
   "id": "48858b0e",
   "metadata": {},
   "outputs": [],
   "source": [
    "%matplotlib inline\n",
    "import matplotlib.image as mpimg\n",
    "import matplotlib.pyplot as plt"
   ]
  },
  {
   "cell_type": "code",
   "execution_count": 6,
   "id": "f789c752",
   "metadata": {},
   "outputs": [
    {
     "data": {
      "image/png": "[encoded data removed]",
      "text/plain": [
       "<Figure size 640x480 with 9 Axes>"
      ]
     },
     "metadata": {},
     "output_type": "display_data"
    }
   ],
   "source": [
    "for i in range(9):\n",
    "\t# define subplot\n",
    "\tno = np.random.randint(low=0, high=59999, size=1)[0]\n",
    "\tplt.subplot(330 + 1 + i)\n",
    "\t# plot raw pixel data\n",
    "\tplt.imshow(X_train[no], cmap=plt.get_cmap('gray'))\n",
    "# show the figure\n",
    "plt.show()"
   ]
  },
  {
   "cell_type": "code",
   "execution_count": 7,
   "id": "6179b927",
   "metadata": {},
   "outputs": [],
   "source": [
    "X_train = X_train.reshape((X_train.shape[0], 28, 28, 1))\n",
    "X_test = X_test.reshape((X_test.shape[0], 28, 28, 1))"
   ]
  },
  {
   "cell_type": "code",
   "execution_count": 8,
   "id": "83dbe159",
   "metadata": {},
   "outputs": [
    {
     "data": {
      "text/plain": [
       "(60000, 28, 28, 1)"
      ]
     },
     "execution_count": 8,
     "metadata": {},
     "output_type": "execute_result"
    }
   ],
   "source": [
    "X_train.shape"
   ]
  },
  {
   "cell_type": "code",
   "execution_count": 9,
   "id": "908731df",
   "metadata": {},
   "outputs": [],
   "source": [
    "tf.random.set_seed( seed = 2024 )\n",
    "model = tf.keras.models.Sequential([\n",
    "    # Note the input shape is the desired size of the image 28x28 \n",
    "    tf.keras.layers.Conv2D(16, (3,3), activation='relu', input_shape=(28, 28, 1)),\n",
    "    tf.keras.layers.MaxPooling2D(2,2),\n",
    "    # Flatten the results to feed into a DNN\n",
    "    tf.keras.layers.Flatten(), \n",
    "    # 512 neuron hidden layer\n",
    "    tf.keras.layers.Dense(512, activation='relu'), \n",
    "    tf.keras.layers.Dropout(0.1),\n",
    "    tf.keras.layers.Dense(200, activation='relu'),\n",
    "    tf.keras.layers.Dropout(0.2),\n",
    "    tf.keras.layers.Dense(10, activation='softmax')  \n",
    "])"
   ]
  },
  {
   "cell_type": "code",
   "execution_count": 10,
   "id": "ccc81f07",
   "metadata": {},
   "outputs": [
    {
     "name": "stdout",
     "output_type": "stream",
     "text": [
      "Model: \"sequential\"\n",
      "_________________________________________________________________\n",
      " Layer (type)                Output Shape              Param #   \n",
      "=================================================================\n",
      " conv2d (Conv2D)             (None, 26, 26, 16)        160       \n",
      "                                                                 \n",
      " max_pooling2d (MaxPooling2D  (None, 13, 13, 16)       0         \n",
      " )                                                               \n",
      "                                                                 \n",
      " flatten (Flatten)           (None, 2704)              0         \n",
      "                                                                 \n",
      " dense (Dense)               (None, 512)               1384960   \n",
      "                                                                 \n",
      " dropout (Dropout)           (None, 512)               0         \n",
      "                                                                 \n",
      " dense_1 (Dense)             (None, 200)               102600    \n",
      "                                                                 \n",
      " dropout_1 (Dropout)         (None, 200)               0         \n",
      "                                                                 \n",
      " dense_2 (Dense)             (None, 10)                2010      \n",
      "                                                                 \n",
      "=================================================================\n",
      "Total params: 1,489,730\n",
      "Trainable params: 1,489,730\n",
      "Non-trainable params: 0\n",
      "_________________________________________________________________\n"
     ]
    }
   ],
   "source": [
    "model.summary()"
   ]
  },
  {
   "cell_type": "code",
   "execution_count": 11,
   "id": "07e01d73",
   "metadata": {},
   "outputs": [],
   "source": [
    "from tensorflow.keras.optimizers import RMSprop\n",
    "from tensorflow.keras.callbacks import EarlyStopping\n",
    "monitor = EarlyStopping(monitor='val_loss', min_delta=1e-3, patience=5, \n",
    "                        verbose=1, mode='auto',restore_best_weights=True)\n",
    "model.compile(optimizer=RMSprop(learning_rate=0.001),\n",
    "              loss='sparse_categorical_crossentropy',\n",
    "              metrics = ['acc'])"
   ]
  },
  {
   "cell_type": "code",
   "execution_count": 12,
   "id": "46544943",
   "metadata": {},
   "outputs": [
    {
     "name": "stdout",
     "output_type": "stream",
     "text": [
      "Epoch 1/100\n",
      "50/50 - 82s - loss: 8.6489 - acc: 0.6779 - val_loss: 0.5508 - val_acc: 0.8058 - 82s/epoch - 2s/step\n",
      "Epoch 2/100\n",
      "50/50 - 79s - loss: 0.7173 - acc: 0.7815 - val_loss: 0.4119 - val_acc: 0.8521 - 79s/epoch - 2s/step\n",
      "Epoch 3/100\n",
      "50/50 - 55s - loss: 0.4329 - acc: 0.8438 - val_loss: 0.3713 - val_acc: 0.8611 - 55s/epoch - 1s/step\n",
      "Epoch 4/100\n",
      "50/50 - 34s - loss: 0.3321 - acc: 0.8771 - val_loss: 0.3698 - val_acc: 0.8610 - 34s/epoch - 685ms/step\n",
      "Epoch 5/100\n",
      "50/50 - 31s - loss: 0.2802 - acc: 0.8951 - val_loss: 0.3107 - val_acc: 0.8881 - 31s/epoch - 622ms/step\n",
      "Epoch 6/100\n",
      "50/50 - 36s - loss: 0.2420 - acc: 0.9086 - val_loss: 0.3385 - val_acc: 0.8820 - 36s/epoch - 722ms/step\n",
      "Epoch 7/100\n",
      "50/50 - 32s - loss: 0.2118 - acc: 0.9196 - val_loss: 0.3309 - val_acc: 0.8883 - 32s/epoch - 639ms/step\n",
      "Epoch 8/100\n",
      "50/50 - 32s - loss: 0.1837 - acc: 0.9294 - val_loss: 0.3048 - val_acc: 0.8997 - 32s/epoch - 644ms/step\n",
      "Epoch 9/100\n",
      "50/50 - 31s - loss: 0.1618 - acc: 0.9380 - val_loss: 0.3294 - val_acc: 0.8996 - 31s/epoch - 625ms/step\n",
      "Epoch 10/100\n",
      "50/50 - 36s - loss: 0.1431 - acc: 0.9453 - val_loss: 0.3792 - val_acc: 0.8919 - 36s/epoch - 710ms/step\n",
      "Epoch 11/100\n",
      "50/50 - 33s - loss: 0.1286 - acc: 0.9500 - val_loss: 0.3482 - val_acc: 0.9084 - 33s/epoch - 651ms/step\n",
      "Epoch 12/100\n",
      "50/50 - 33s - loss: 0.1123 - acc: 0.9572 - val_loss: 0.4080 - val_acc: 0.8990 - 33s/epoch - 657ms/step\n",
      "Epoch 13/100\n",
      "Restoring model weights from the end of the best epoch: 8.\n",
      "50/50 - 40s - loss: 0.1031 - acc: 0.9604 - val_loss: 0.4031 - val_acc: 0.9050 - 40s/epoch - 802ms/step\n",
      "Epoch 13: early stopping\n"
     ]
    }
   ],
   "source": [
    "history = model.fit(x=X_train,y=y_train,\n",
    "                              validation_data=(X_test,y_test),\n",
    "                              steps_per_epoch=50,epochs=100,\n",
    "                              validation_steps=50,\n",
    "                              verbose=2, callbacks=[monitor])"
   ]
  },
  {
   "cell_type": "code",
   "execution_count": 13,
   "id": "01b84c0a",
   "metadata": {},
   "outputs": [
    {
     "data": {
      "image/png": "[encoded data removed]",
      "text/plain": [
       "<Figure size 640x480 with 1 Axes>"
      ]
     },
     "metadata": {},
     "output_type": "display_data"
    }
   ],
   "source": [
    "plt.plot(history.history['loss'])\n",
    "plt.plot(history.history['val_loss'])\n",
    "plt.title('model loss')\n",
    "plt.ylabel('loss')\n",
    "plt.xlabel('epoch')\n",
    "plt.legend(['train', 'test'], loc='upper right')\n",
    "plt.show()"
   ]
  },
  {
   "cell_type": "code",
   "execution_count": 14,
   "id": "3a9b3030",
   "metadata": {},
   "outputs": [
    {
     "name": "stdout",
     "output_type": "stream",
     "text": [
      "Test loss: 0.3047748804092407\n",
      "Test accuracy: 0.8996999859809875\n"
     ]
    }
   ],
   "source": [
    "score = model.evaluate(X_test, y_test, verbose=0)\n",
    "print('Test loss:', score[0]) \n",
    "print('Test accuracy:', score[1]) "
   ]
  },
  {
   "cell_type": "code",
   "execution_count": null,
   "id": "28e6ca0a",
   "metadata": {},
   "outputs": [],
   "source": []
  }
 ],
 "metadata": {
  "kernelspec": {
   "display_name": "Python 3 (ipykernel)",
   "language": "python",
   "name": "python3"
  },
  "language_info": {
   "codemirror_mode": {
    "name": "ipython",
    "version": 3
   },
   "file_extension": ".py",
   "mimetype": "text/x-python",
   "name": "python",
   "nbconvert_exporter": "python",
   "pygments_lexer": "ipython3",
   "version": "3.8.18"
  }
 },
 "nbformat": 4,
 "nbformat_minor": 5
}
