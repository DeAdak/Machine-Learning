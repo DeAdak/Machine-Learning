{
 "cells": [
  {
   "cell_type": "code",
   "execution_count": null,
   "metadata": {
    "id": "yKx3wMRxrnqU"
   },
   "outputs": [],
   "source": [
    "import numpy as np\n",
    "import pandas as pd\n",
    "import tensorflow as tf\n",
    "from tensorflow.keras.preprocessing.image import ImageDataGenerator\n",
    "from tensorflow.keras.layers import Conv2D, MaxPooling2D\n",
    "from tensorflow.keras.layers import Dense, Dropout, Flatten, Activation\n",
    "from tensorflow.keras.models import Sequential\n",
    "from tensorflow.keras.callbacks import EarlyStopping, ReduceLROnPlateau, ModelCheckpoint\n",
    "from tensorflow.keras.optimizers import Adam\n",
    "import os\n",
    "from sklearn.model_selection import train_test_split "
   ]
  },
  {
   "cell_type": "code",
   "execution_count": null,
   "metadata": {
    "colab": {
     "base_uri": "https://localhost:8080/",
     "height": 195
    },
    "id": "TFP3qmd0r7Jd",
    "outputId": "3bf7da8d-6c2d-46d7-9a2d-ef0b29f46199"
   },
   "outputs": [
    {
     "data": {
      "text/html": [
       "<div>\n",
       "<style scoped>\n",
       "    .dataframe tbody tr th:only-of-type {\n",
       "        vertical-align: middle;\n",
       "    }\n",
       "\n",
       "    .dataframe tbody tr th {\n",
       "        vertical-align: top;\n",
       "    }\n",
       "\n",
       "    .dataframe thead th {\n",
       "        text-align: right;\n",
       "    }\n",
       "</style>\n",
       "<table border=\"1\" class=\"dataframe\">\n",
       "  <thead>\n",
       "    <tr style=\"text-align: right;\">\n",
       "      <th></th>\n",
       "      <th>lesion_id</th>\n",
       "      <th>image_id</th>\n",
       "      <th>dx</th>\n",
       "      <th>dx_type</th>\n",
       "      <th>age</th>\n",
       "      <th>sex</th>\n",
       "      <th>localization</th>\n",
       "    </tr>\n",
       "  </thead>\n",
       "  <tbody>\n",
       "    <tr>\n",
       "      <th>0</th>\n",
       "      <td>HAM_0000118</td>\n",
       "      <td>ISIC_0027419</td>\n",
       "      <td>bkl</td>\n",
       "      <td>histo</td>\n",
       "      <td>80.0</td>\n",
       "      <td>male</td>\n",
       "      <td>scalp</td>\n",
       "    </tr>\n",
       "    <tr>\n",
       "      <th>1</th>\n",
       "      <td>HAM_0000118</td>\n",
       "      <td>ISIC_0025030</td>\n",
       "      <td>bkl</td>\n",
       "      <td>histo</td>\n",
       "      <td>80.0</td>\n",
       "      <td>male</td>\n",
       "      <td>scalp</td>\n",
       "    </tr>\n",
       "    <tr>\n",
       "      <th>2</th>\n",
       "      <td>HAM_0002730</td>\n",
       "      <td>ISIC_0026769</td>\n",
       "      <td>bkl</td>\n",
       "      <td>histo</td>\n",
       "      <td>80.0</td>\n",
       "      <td>male</td>\n",
       "      <td>scalp</td>\n",
       "    </tr>\n",
       "    <tr>\n",
       "      <th>3</th>\n",
       "      <td>HAM_0002730</td>\n",
       "      <td>ISIC_0025661</td>\n",
       "      <td>bkl</td>\n",
       "      <td>histo</td>\n",
       "      <td>80.0</td>\n",
       "      <td>male</td>\n",
       "      <td>scalp</td>\n",
       "    </tr>\n",
       "    <tr>\n",
       "      <th>4</th>\n",
       "      <td>HAM_0001466</td>\n",
       "      <td>ISIC_0031633</td>\n",
       "      <td>bkl</td>\n",
       "      <td>histo</td>\n",
       "      <td>75.0</td>\n",
       "      <td>male</td>\n",
       "      <td>ear</td>\n",
       "    </tr>\n",
       "  </tbody>\n",
       "</table>\n",
       "</div>"
      ],
      "text/plain": [
       "     lesion_id      image_id   dx dx_type   age   sex localization\n",
       "0  HAM_0000118  ISIC_0027419  bkl   histo  80.0  male        scalp\n",
       "1  HAM_0000118  ISIC_0025030  bkl   histo  80.0  male        scalp\n",
       "2  HAM_0002730  ISIC_0026769  bkl   histo  80.0  male        scalp\n",
       "3  HAM_0002730  ISIC_0025661  bkl   histo  80.0  male        scalp\n",
       "4  HAM_0001466  ISIC_0031633  bkl   histo  75.0  male          ear"
      ]
     },
     "execution_count": 2,
     "metadata": {
      "tags": []
     },
     "output_type": "execute_result"
    }
   ],
   "source": [
    "df = pd.read_csv(\"/content/drive/MyDrive/Kaggle Datasets/Skin Cancer MNIST/HAM10000_metadata.csv\")\n",
    "df.head()"
   ]
  },
  {
   "cell_type": "code",
   "execution_count": null,
   "metadata": {
    "colab": {
     "base_uri": "https://localhost:8080/"
    },
    "id": "NdjIQFZNsLMl",
    "outputId": "96aeffca-4524-4533-de5d-a6b3205c3571"
   },
   "outputs": [
    {
     "data": {
      "text/plain": [
       "nv       6705\n",
       "mel      1113\n",
       "bkl      1099\n",
       "bcc       514\n",
       "akiec     327\n",
       "vasc      142\n",
       "df        115\n",
       "Name: dx, dtype: int64"
      ]
     },
     "execution_count": 3,
     "metadata": {
      "tags": []
     },
     "output_type": "execute_result"
    }
   ],
   "source": [
    "df['dx'].value_counts()"
   ]
  },
  {
   "cell_type": "code",
   "execution_count": null,
   "metadata": {
    "colab": {
     "base_uri": "https://localhost:8080/"
    },
    "id": "3M7rMNCmsQZn",
    "outputId": "ed160355-f55b-421a-ed51-28974f221623"
   },
   "outputs": [
    {
     "name": "stderr",
     "output_type": "stream",
     "text": [
      "/usr/local/lib/python3.7/dist-packages/ipykernel_launcher.py:2: SettingWithCopyWarning: \n",
      "A value is trying to be set on a copy of a slice from a DataFrame\n",
      "\n",
      "See the caveats in the documentation: https://pandas.pydata.org/pandas-docs/stable/user_guide/indexing.html#returning-a-view-versus-a-copy\n",
      "  \n"
     ]
    },
    {
     "data": {
      "text/plain": [
       "age    0\n",
       "dtype: int64"
      ]
     },
     "execution_count": 4,
     "metadata": {
      "tags": []
     },
     "output_type": "execute_result"
    }
   ],
   "source": [
    "df_1 = df[(df['localization'] != \"unknown\") & (df['sex'] != \"unknown\")]\n",
    "df_1.dropna(inplace=True,axis=0)\n",
    "null_columns=df_1.columns[df.isnull().any()]\n",
    "null_columns\n",
    "\n",
    "# Number of missings in each column\n",
    "df_1[null_columns].isnull().sum()"
   ]
  },
  {
   "cell_type": "code",
   "execution_count": null,
   "metadata": {
    "colab": {
     "base_uri": "https://localhost:8080/",
     "height": 262
    },
    "id": "IDitXjolwrWX",
    "outputId": "3112f416-c7b8-4afe-f70a-7ba64dd21c89"
   },
   "outputs": [
    {
     "data": {
      "application/vnd.google.colaboratory.module+javascript": "\n      import \"https://ssl.gstatic.com/colaboratory/data_table/a6224c040fa35dcf/data_table.js\";\n\n      window.createDataTable({\n        data: [[\"akiec\",\n{\n            'v': 0.051224259809445755,\n            'f': \"0.051224259809445755\",\n        },\n{\n            'v': 0.0,\n            'f': \"0.0\",\n        },\n{\n            'v': 0.2971007068947854,\n            'f': \"0.2971007068947854\",\n        },\n{\n            'v': 0.12293822354266981,\n            'f': \"0.12293822354266981\",\n        },\n{\n            'v': 0.030734555885667453,\n            'f': \"0.030734555885667453\",\n        },\n{\n            'v': 1.157668271693474,\n            'f': \"1.157668271693474\",\n        },\n{\n            'v': 0.0,\n            'f': \"0.0\",\n        },\n{\n            'v': 0.0,\n            'f': \"0.0\",\n        },\n{\n            'v': 0.13318307550455896,\n            'f': \"0.13318307550455896\",\n        },\n{\n            'v': 0.6659153775227948,\n            'f': \"0.6659153775227948\",\n        },\n{\n            'v': 0.10244851961889151,\n            'f': \"0.10244851961889151\",\n        },\n{\n            'v': 0.1434279274664481,\n            'f': \"0.1434279274664481\",\n        },\n{\n            'v': 0.010244851961889151,\n            'f': \"0.010244851961889151\",\n        },\n{\n            'v': 0.6351808216371274,\n            'f': \"0.6351808216371274\",\n        },\n{\n            'v': 3.350066591537752,\n            'f': \"3.350066591537752\",\n        }],\n [\"bcc\",\n{\n            'v': 0.18440733531400472,\n            'f': \"0.18440733531400472\",\n        },\n{\n            'v': 0.0,\n            'f': \"0.0\",\n        },\n{\n            'v': 1.905542464911382,\n            'f': \"1.905542464911382\",\n        },\n{\n            'v': 0.48150804220879007,\n            'f': \"0.48150804220879007\",\n        },\n{\n            'v': 0.0,\n            'f': \"0.0\",\n        },\n{\n            'v': 1.0347300481508042,\n            'f': \"1.0347300481508042\",\n        },\n{\n            'v': 0.040979407847556604,\n            'f': \"0.040979407847556604\",\n        },\n{\n            'v': 0.0,\n            'f': \"0.0\",\n        },\n{\n            'v': 0.020489703923778302,\n            'f': \"0.020489703923778302\",\n        },\n{\n            'v': 0.5942014137895708,\n            'f': \"0.5942014137895708\",\n        },\n{\n            'v': 0.1434279274664481,\n            'f': \"0.1434279274664481\",\n        },\n{\n            'v': 0.19465218727589387,\n            'f': \"0.19465218727589387\",\n        },\n{\n            'v': 0.11269337158078066,\n            'f': \"0.11269337158078066\",\n        },\n{\n            'v': 0.5019977461325683,\n            'f': \"0.5019977461325683\",\n        },\n{\n            'v': 5.214629648601578,\n            'f': \"5.214629648601578\",\n        }],\n [\"bkl\",\n{\n            'v': 0.43028378239934434,\n            'f': \"0.43028378239934434\",\n        },\n{\n            'v': 0.0,\n            'f': \"0.0\",\n        },\n{\n            'v': 2.0694600963016083,\n            'f': \"2.0694600963016083\",\n        },\n{\n            'v': 0.7581190451797971,\n            'f': \"0.7581190451797971\",\n        },\n{\n            'v': 0.061469111771334906,\n            'f': \"0.061469111771334906\",\n        },\n{\n            'v': 3.2681077758426396,\n            'f': \"3.2681077758426396\",\n        },\n{\n            'v': 0.010244851961889151,\n            'f': \"0.010244851961889151\",\n        },\n{\n            'v': 0.020489703923778302,\n            'f': \"0.020489703923778302\",\n        },\n{\n            'v': 0.1434279274664481,\n            'f': \"0.1434279274664481\",\n        },\n{\n            'v': 1.7826042413687122,\n            'f': \"1.7826042413687122\",\n        },\n{\n            'v': 0.3175904108185637,\n            'f': \"0.3175904108185637\",\n        },\n{\n            'v': 0.3483249667042311,\n            'f': \"0.3483249667042311\",\n        },\n{\n            'v': 0.747874193217908,\n            'f': \"0.747874193217908\",\n        },\n{\n            'v': 1.0654646040364717,\n            'f': \"1.0654646040364717\",\n        },\n{\n            'v': 11.023460710992726,\n            'f': \"11.023460710992726\",\n        }],\n [\"df\",\n{\n            'v': 0.040979407847556604,\n            'f': \"0.040979407847556604\",\n        },\n{\n            'v': 0.0,\n            'f': \"0.0\",\n        },\n{\n            'v': 0.020489703923778302,\n            'f': \"0.020489703923778302\",\n        },\n{\n            'v': 0.0,\n            'f': \"0.0\",\n        },\n{\n            'v': 0.0,\n            'f': \"0.0\",\n        },\n{\n            'v': 0.0,\n            'f': \"0.0\",\n        },\n{\n            'v': 0.020489703923778302,\n            'f': \"0.020489703923778302\",\n        },\n{\n            'v': 0.010244851961889151,\n            'f': \"0.010244851961889151\",\n        },\n{\n            'v': 0.0,\n            'f': \"0.0\",\n        },\n{\n            'v': 0.8400778608749104,\n            'f': \"0.8400778608749104\",\n        },\n{\n            'v': 0.0,\n            'f': \"0.0\",\n        },\n{\n            'v': 0.0,\n            'f': \"0.0\",\n        },\n{\n            'v': 0.0,\n            'f': \"0.0\",\n        },\n{\n            'v': 0.24587644708533962,\n            'f': \"0.24587644708533962\",\n        },\n{\n            'v': 1.1781579756172522,\n            'f': \"1.1781579756172522\",\n        }],\n [\"mel\",\n{\n            'v': 0.676160229484684,\n            'f': \"0.676160229484684\",\n        },\n{\n            'v': 0.0,\n            'f': \"0.0\",\n        },\n{\n            'v': 3.3193320356520846,\n            'f': \"3.3193320356520846\",\n        },\n{\n            'v': 0.6966499334084622,\n            'f': \"0.6966499334084622\",\n        },\n{\n            'v': 0.17416248335211554,\n            'f': \"0.17416248335211554\",\n        },\n{\n            'v': 1.0449749001126933,\n            'f': \"1.0449749001126933\",\n        },\n{\n            'v': 0.2868558549328962,\n            'f': \"0.2868558549328962\",\n        },\n{\n            'v': 0.0,\n            'f': \"0.0\",\n        },\n{\n            'v': 0.010244851961889151,\n            'f': \"0.010244851961889151\",\n        },\n{\n            'v': 1.967011576682717,\n            'f': \"1.967011576682717\",\n        },\n{\n            'v': 0.2971007068947854,\n            'f': \"0.2971007068947854\",\n        },\n{\n            'v': 0.1434279274664481,\n            'f': \"0.1434279274664481\",\n        },\n{\n            'v': 0.48150804220879007,\n            'f': \"0.48150804220879007\",\n        },\n{\n            'v': 2.182153467882389,\n            'f': \"2.182153467882389\",\n        },\n{\n            'v': 11.279582010039956,\n            'f': \"11.279582010039956\",\n        }],\n [\"nv\",\n{\n            'v': 8.779838131339002,\n            'f': \"8.779838131339002\",\n        },\n{\n            'v': 0.07171396373322406,\n            'f': \"0.07171396373322406\",\n        },\n{\n            'v': 14.598914045692041,\n            'f': \"14.598914045692041\",\n        },\n{\n            'v': 2.028480688454052,\n            'f': \"2.028480688454052\",\n        },\n{\n            'v': 0.30734555885667453,\n            'f': \"0.30734555885667453\",\n        },\n{\n            'v': 1.0244851961889152,\n            'f': \"1.0244851961889152\",\n        },\n{\n            'v': 2.858313697367073,\n            'f': \"2.858313697367073\",\n        },\n{\n            'v': 0.46101833828501176,\n            'f': \"0.46101833828501176\",\n        },\n{\n            'v': 0.5634668579039033,\n            'f': \"0.5634668579039033\",\n        },\n{\n            'v': 15.152136051634054,\n            'f': \"15.152136051634054\",\n        },\n{\n            'v': 0.8298330089130211,\n            'f': \"0.8298330089130211\",\n        },\n{\n            'v': 0.46101833828501176,\n            'f': \"0.46101833828501176\",\n        },\n{\n            'v': 12.672881876856879,\n            'f': \"12.672881876856879\",\n        },\n{\n            'v': 6.6898883311136155,\n            'f': \"6.6898883311136155\",\n        },\n{\n            'v': 66.49933408462248,\n            'f': \"66.49933408462248\",\n        }],\n [\"vasc\",\n{\n            'v': 0.2766110029710071,\n            'f': \"0.2766110029710071\",\n        },\n{\n            'v': 0.0,\n            'f': \"0.0\",\n        },\n{\n            'v': 0.22538674316156132,\n            'f': \"0.22538674316156132\",\n        },\n{\n            'v': 0.061469111771334906,\n            'f': \"0.061469111771334906\",\n        },\n{\n            'v': 0.0,\n            'f': \"0.0\",\n        },\n{\n            'v': 0.08195881569511321,\n            'f': \"0.08195881569511321\",\n        },\n{\n            'v': 0.0,\n            'f': \"0.0\",\n        },\n{\n            'v': 0.0,\n            'f': \"0.0\",\n        },\n{\n            'v': 0.051224259809445755,\n            'f': \"0.051224259809445755\",\n        },\n{\n            'v': 0.2766110029710071,\n            'f': \"0.2766110029710071\",\n        },\n{\n            'v': 0.030734555885667453,\n            'f': \"0.030734555885667453\",\n        },\n{\n            'v': 0.020489703923778302,\n            'f': \"0.020489703923778302\",\n        },\n{\n            'v': 0.3175904108185637,\n            'f': \"0.3175904108185637\",\n        },\n{\n            'v': 0.11269337158078066,\n            'f': \"0.11269337158078066\",\n        },\n{\n            'v': 1.4547689785882594,\n            'f': \"1.4547689785882594\",\n        }],\n [\"All\",\n{\n            'v': 10.439504149165044,\n            'f': \"10.439504149165044\",\n        },\n{\n            'v': 0.07171396373322406,\n            'f': \"0.07171396373322406\",\n        },\n{\n            'v': 22.43622579653724,\n            'f': \"22.43622579653724\",\n        },\n{\n            'v': 4.149165044565106,\n            'f': \"4.149165044565106\",\n        },\n{\n            'v': 0.5737117098657925,\n            'f': \"0.5737117098657925\",\n        },\n{\n            'v': 7.611925007683638,\n            'f': \"7.611925007683638\",\n        },\n{\n            'v': 3.2168835160331937,\n            'f': \"3.2168835160331937\",\n        },\n{\n            'v': 0.49175289417067924,\n            'f': \"0.49175289417067924\",\n        },\n{\n            'v': 0.9220366765700235,\n            'f': \"0.9220366765700235\",\n        },\n{\n            'v': 21.278557524843766,\n            'f': \"21.278557524843766\",\n        },\n{\n            'v': 1.7211351295973774,\n            'f': \"1.7211351295973774\",\n        },\n{\n            'v': 1.3113410511218113,\n            'f': \"1.3113410511218113\",\n        },\n{\n            'v': 14.342792746644811,\n            'f': \"14.342792746644811\",\n        },\n{\n            'v': 11.433254789468291,\n            'f': \"11.433254789468291\",\n        },\n{\n            'v': 100.0,\n            'f': \"100.0\",\n        }]],\n        columns: [[\"string\", \"dx\"], [\"number\", \"abdomen\"], [\"number\", \"acral\"], [\"number\", \"back\"], [\"number\", \"chest\"], [\"number\", \"ear\"], [\"number\", \"face\"], [\"number\", \"foot\"], [\"number\", \"genital\"], [\"number\", \"hand\"], [\"number\", \"lower extremity\"], [\"number\", \"neck\"], [\"number\", \"scalp\"], [\"number\", \"trunk\"], [\"number\", \"upper extremity\"], [\"number\", \"All\"]],\n        columnOptions: [{\"width\": \"1px\", \"className\": \"index_column\"}],\n        rowsPerPage: 25,\n        helpUrl: \"https://colab.research.google.com/notebooks/data_table.ipynb\",\n        suppressOutputScrolling: true,\n        minimumWidth: undefined,\n      });\n    ",
      "text/html": [
       "<div>\n",
       "<style scoped>\n",
       "    .dataframe tbody tr th:only-of-type {\n",
       "        vertical-align: middle;\n",
       "    }\n",
       "\n",
       "    .dataframe tbody tr th {\n",
       "        vertical-align: top;\n",
       "    }\n",
       "\n",
       "    .dataframe thead th {\n",
       "        text-align: right;\n",
       "    }\n",
       "</style>\n",
       "<table border=\"1\" class=\"dataframe\">\n",
       "  <thead>\n",
       "    <tr style=\"text-align: right;\">\n",
       "      <th>localization</th>\n",
       "      <th>abdomen</th>\n",
       "      <th>acral</th>\n",
       "      <th>back</th>\n",
       "      <th>chest</th>\n",
       "      <th>ear</th>\n",
       "      <th>face</th>\n",
       "      <th>foot</th>\n",
       "      <th>genital</th>\n",
       "      <th>hand</th>\n",
       "      <th>lower extremity</th>\n",
       "      <th>neck</th>\n",
       "      <th>scalp</th>\n",
       "      <th>trunk</th>\n",
       "      <th>upper extremity</th>\n",
       "      <th>All</th>\n",
       "    </tr>\n",
       "    <tr>\n",
       "      <th>dx</th>\n",
       "      <th></th>\n",
       "      <th></th>\n",
       "      <th></th>\n",
       "      <th></th>\n",
       "      <th></th>\n",
       "      <th></th>\n",
       "      <th></th>\n",
       "      <th></th>\n",
       "      <th></th>\n",
       "      <th></th>\n",
       "      <th></th>\n",
       "      <th></th>\n",
       "      <th></th>\n",
       "      <th></th>\n",
       "      <th></th>\n",
       "    </tr>\n",
       "  </thead>\n",
       "  <tbody>\n",
       "    <tr>\n",
       "      <th>akiec</th>\n",
       "      <td>0.051224</td>\n",
       "      <td>0.000000</td>\n",
       "      <td>0.297101</td>\n",
       "      <td>0.122938</td>\n",
       "      <td>0.030735</td>\n",
       "      <td>1.157668</td>\n",
       "      <td>0.000000</td>\n",
       "      <td>0.000000</td>\n",
       "      <td>0.133183</td>\n",
       "      <td>0.665915</td>\n",
       "      <td>0.102449</td>\n",
       "      <td>0.143428</td>\n",
       "      <td>0.010245</td>\n",
       "      <td>0.635181</td>\n",
       "      <td>3.350067</td>\n",
       "    </tr>\n",
       "    <tr>\n",
       "      <th>bcc</th>\n",
       "      <td>0.184407</td>\n",
       "      <td>0.000000</td>\n",
       "      <td>1.905542</td>\n",
       "      <td>0.481508</td>\n",
       "      <td>0.000000</td>\n",
       "      <td>1.034730</td>\n",
       "      <td>0.040979</td>\n",
       "      <td>0.000000</td>\n",
       "      <td>0.020490</td>\n",
       "      <td>0.594201</td>\n",
       "      <td>0.143428</td>\n",
       "      <td>0.194652</td>\n",
       "      <td>0.112693</td>\n",
       "      <td>0.501998</td>\n",
       "      <td>5.214630</td>\n",
       "    </tr>\n",
       "    <tr>\n",
       "      <th>bkl</th>\n",
       "      <td>0.430284</td>\n",
       "      <td>0.000000</td>\n",
       "      <td>2.069460</td>\n",
       "      <td>0.758119</td>\n",
       "      <td>0.061469</td>\n",
       "      <td>3.268108</td>\n",
       "      <td>0.010245</td>\n",
       "      <td>0.020490</td>\n",
       "      <td>0.143428</td>\n",
       "      <td>1.782604</td>\n",
       "      <td>0.317590</td>\n",
       "      <td>0.348325</td>\n",
       "      <td>0.747874</td>\n",
       "      <td>1.065465</td>\n",
       "      <td>11.023461</td>\n",
       "    </tr>\n",
       "    <tr>\n",
       "      <th>df</th>\n",
       "      <td>0.040979</td>\n",
       "      <td>0.000000</td>\n",
       "      <td>0.020490</td>\n",
       "      <td>0.000000</td>\n",
       "      <td>0.000000</td>\n",
       "      <td>0.000000</td>\n",
       "      <td>0.020490</td>\n",
       "      <td>0.010245</td>\n",
       "      <td>0.000000</td>\n",
       "      <td>0.840078</td>\n",
       "      <td>0.000000</td>\n",
       "      <td>0.000000</td>\n",
       "      <td>0.000000</td>\n",
       "      <td>0.245876</td>\n",
       "      <td>1.178158</td>\n",
       "    </tr>\n",
       "    <tr>\n",
       "      <th>mel</th>\n",
       "      <td>0.676160</td>\n",
       "      <td>0.000000</td>\n",
       "      <td>3.319332</td>\n",
       "      <td>0.696650</td>\n",
       "      <td>0.174162</td>\n",
       "      <td>1.044975</td>\n",
       "      <td>0.286856</td>\n",
       "      <td>0.000000</td>\n",
       "      <td>0.010245</td>\n",
       "      <td>1.967012</td>\n",
       "      <td>0.297101</td>\n",
       "      <td>0.143428</td>\n",
       "      <td>0.481508</td>\n",
       "      <td>2.182153</td>\n",
       "      <td>11.279582</td>\n",
       "    </tr>\n",
       "    <tr>\n",
       "      <th>nv</th>\n",
       "      <td>8.779838</td>\n",
       "      <td>0.071714</td>\n",
       "      <td>14.598914</td>\n",
       "      <td>2.028481</td>\n",
       "      <td>0.307346</td>\n",
       "      <td>1.024485</td>\n",
       "      <td>2.858314</td>\n",
       "      <td>0.461018</td>\n",
       "      <td>0.563467</td>\n",
       "      <td>15.152136</td>\n",
       "      <td>0.829833</td>\n",
       "      <td>0.461018</td>\n",
       "      <td>12.672882</td>\n",
       "      <td>6.689888</td>\n",
       "      <td>66.499334</td>\n",
       "    </tr>\n",
       "    <tr>\n",
       "      <th>vasc</th>\n",
       "      <td>0.276611</td>\n",
       "      <td>0.000000</td>\n",
       "      <td>0.225387</td>\n",
       "      <td>0.061469</td>\n",
       "      <td>0.000000</td>\n",
       "      <td>0.081959</td>\n",
       "      <td>0.000000</td>\n",
       "      <td>0.000000</td>\n",
       "      <td>0.051224</td>\n",
       "      <td>0.276611</td>\n",
       "      <td>0.030735</td>\n",
       "      <td>0.020490</td>\n",
       "      <td>0.317590</td>\n",
       "      <td>0.112693</td>\n",
       "      <td>1.454769</td>\n",
       "    </tr>\n",
       "    <tr>\n",
       "      <th>All</th>\n",
       "      <td>10.439504</td>\n",
       "      <td>0.071714</td>\n",
       "      <td>22.436226</td>\n",
       "      <td>4.149165</td>\n",
       "      <td>0.573712</td>\n",
       "      <td>7.611925</td>\n",
       "      <td>3.216884</td>\n",
       "      <td>0.491753</td>\n",
       "      <td>0.922037</td>\n",
       "      <td>21.278558</td>\n",
       "      <td>1.721135</td>\n",
       "      <td>1.311341</td>\n",
       "      <td>14.342793</td>\n",
       "      <td>11.433255</td>\n",
       "      <td>100.000000</td>\n",
       "    </tr>\n",
       "  </tbody>\n",
       "</table>\n",
       "</div>"
      ],
      "text/plain": [
       "localization    abdomen     acral  ...  upper extremity         All\n",
       "dx                                 ...                             \n",
       "akiec          0.051224  0.000000  ...         0.635181    3.350067\n",
       "bcc            0.184407  0.000000  ...         0.501998    5.214630\n",
       "bkl            0.430284  0.000000  ...         1.065465   11.023461\n",
       "df             0.040979  0.000000  ...         0.245876    1.178158\n",
       "mel            0.676160  0.000000  ...         2.182153   11.279582\n",
       "nv             8.779838  0.071714  ...         6.689888   66.499334\n",
       "vasc           0.276611  0.000000  ...         0.112693    1.454769\n",
       "All           10.439504  0.071714  ...        11.433255  100.000000\n",
       "\n",
       "[8 rows x 15 columns]"
      ]
     },
     "execution_count": 5,
     "metadata": {
      "tags": []
     },
     "output_type": "execute_result"
    }
   ],
   "source": [
    "%load_ext google.colab.data_table\n",
    "pd.crosstab(index=df_1['dx'],columns=df_1['localization'],\n",
    "            margins=True,normalize='all')*100"
   ]
  },
  {
   "cell_type": "code",
   "execution_count": null,
   "metadata": {
    "colab": {
     "base_uri": "https://localhost:8080/"
    },
    "id": "EV1sOKNJxmKP",
    "outputId": "36099887-3924-4402-8a25-cd1ae4e67d33"
   },
   "outputs": [
    {
     "data": {
      "text/plain": [
       "nv       6491\n",
       "mel      1101\n",
       "bkl      1076\n",
       "bcc       509\n",
       "akiec     327\n",
       "vasc      142\n",
       "df        115\n",
       "Name: dx, dtype: int64"
      ]
     },
     "execution_count": 6,
     "metadata": {
      "tags": []
     },
     "output_type": "execute_result"
    }
   ],
   "source": [
    "y = df_1['dx']\n",
    "y.value_counts()"
   ]
  },
  {
   "cell_type": "code",
   "execution_count": null,
   "metadata": {
    "colab": {
     "base_uri": "https://localhost:8080/"
    },
    "id": "tKbSEmIBzeeH",
    "outputId": "cb3044fc-7a7b-4b24-ef78-3cd3d0c6efe3"
   },
   "outputs": [
    {
     "data": {
      "text/plain": [
       "(9761,)"
      ]
     },
     "execution_count": 7,
     "metadata": {
      "tags": []
     },
     "output_type": "execute_result"
    }
   ],
   "source": [
    "\n",
    "y.shape"
   ]
  },
  {
   "cell_type": "code",
   "execution_count": null,
   "metadata": {
    "colab": {
     "base_uri": "https://localhost:8080/",
     "height": 322
    },
    "id": "8s3OuVufz5S2",
    "outputId": "59cb4508-2d48-40a4-9b45-3792e40ce8ce"
   },
   "outputs": [
    {
     "name": "stderr",
     "output_type": "stream",
     "text": [
      "/usr/local/lib/python3.7/dist-packages/ipykernel_launcher.py:1: SettingWithCopyWarning: \n",
      "A value is trying to be set on a copy of a slice from a DataFrame.\n",
      "Try using .loc[row_indexer,col_indexer] = value instead\n",
      "\n",
      "See the caveats in the documentation: https://pandas.pydata.org/pandas-docs/stable/user_guide/indexing.html#returning-a-view-versus-a-copy\n",
      "  \"\"\"Entry point for launching an IPython kernel.\n"
     ]
    },
    {
     "data": {
      "application/vnd.google.colaboratory.module+javascript": "\n      import \"https://ssl.gstatic.com/colaboratory/data_table/a6224c040fa35dcf/data_table.js\";\n\n      window.createDataTable({\n        data: [[\"ISIC_0027419.jpg\",\n{\n            'v': 0.9411764705882353,\n            'f': \"0.9411764705882353\",\n        },\n{\n            'v': 1.0,\n            'f': \"1.0\",\n        },\n{\n            'v': 0.0,\n            'f': \"0.0\",\n        },\n{\n            'v': 0.0,\n            'f': \"0.0\",\n        },\n{\n            'v': 1.0,\n            'f': \"1.0\",\n        },\n{\n            'v': 0.0,\n            'f': \"0.0\",\n        },\n{\n            'v': 0.0,\n            'f': \"0.0\",\n        },\n{\n            'v': 0.0,\n            'f': \"0.0\",\n        },\n{\n            'v': 0.0,\n            'f': \"0.0\",\n        },\n{\n            'v': 0.0,\n            'f': \"0.0\",\n        },\n{\n            'v': 0.0,\n            'f': \"0.0\",\n        },\n{\n            'v': 0.0,\n            'f': \"0.0\",\n        },\n{\n            'v': 0.0,\n            'f': \"0.0\",\n        },\n{\n            'v': 0.0,\n            'f': \"0.0\",\n        },\n{\n            'v': 0.0,\n            'f': \"0.0\",\n        },\n{\n            'v': 1.0,\n            'f': \"1.0\",\n        },\n{\n            'v': 0.0,\n            'f': \"0.0\",\n        },\n{\n            'v': 0.0,\n            'f': \"0.0\",\n        }],\n [\"ISIC_0025030.jpg\",\n{\n            'v': 0.9411764705882353,\n            'f': \"0.9411764705882353\",\n        },\n{\n            'v': 1.0,\n            'f': \"1.0\",\n        },\n{\n            'v': 0.0,\n            'f': \"0.0\",\n        },\n{\n            'v': 0.0,\n            'f': \"0.0\",\n        },\n{\n            'v': 1.0,\n            'f': \"1.0\",\n        },\n{\n            'v': 0.0,\n            'f': \"0.0\",\n        },\n{\n            'v': 0.0,\n            'f': \"0.0\",\n        },\n{\n            'v': 0.0,\n            'f': \"0.0\",\n        },\n{\n            'v': 0.0,\n            'f': \"0.0\",\n        },\n{\n            'v': 0.0,\n            'f': \"0.0\",\n        },\n{\n            'v': 0.0,\n            'f': \"0.0\",\n        },\n{\n            'v': 0.0,\n            'f': \"0.0\",\n        },\n{\n            'v': 0.0,\n            'f': \"0.0\",\n        },\n{\n            'v': 0.0,\n            'f': \"0.0\",\n        },\n{\n            'v': 0.0,\n            'f': \"0.0\",\n        },\n{\n            'v': 1.0,\n            'f': \"1.0\",\n        },\n{\n            'v': 0.0,\n            'f': \"0.0\",\n        },\n{\n            'v': 0.0,\n            'f': \"0.0\",\n        }],\n [\"ISIC_0026769.jpg\",\n{\n            'v': 0.9411764705882353,\n            'f': \"0.9411764705882353\",\n        },\n{\n            'v': 1.0,\n            'f': \"1.0\",\n        },\n{\n            'v': 0.0,\n            'f': \"0.0\",\n        },\n{\n            'v': 0.0,\n            'f': \"0.0\",\n        },\n{\n            'v': 1.0,\n            'f': \"1.0\",\n        },\n{\n            'v': 0.0,\n            'f': \"0.0\",\n        },\n{\n            'v': 0.0,\n            'f': \"0.0\",\n        },\n{\n            'v': 0.0,\n            'f': \"0.0\",\n        },\n{\n            'v': 0.0,\n            'f': \"0.0\",\n        },\n{\n            'v': 0.0,\n            'f': \"0.0\",\n        },\n{\n            'v': 0.0,\n            'f': \"0.0\",\n        },\n{\n            'v': 0.0,\n            'f': \"0.0\",\n        },\n{\n            'v': 0.0,\n            'f': \"0.0\",\n        },\n{\n            'v': 0.0,\n            'f': \"0.0\",\n        },\n{\n            'v': 0.0,\n            'f': \"0.0\",\n        },\n{\n            'v': 1.0,\n            'f': \"1.0\",\n        },\n{\n            'v': 0.0,\n            'f': \"0.0\",\n        },\n{\n            'v': 0.0,\n            'f': \"0.0\",\n        }],\n [\"ISIC_0025661.jpg\",\n{\n            'v': 0.9411764705882353,\n            'f': \"0.9411764705882353\",\n        },\n{\n            'v': 1.0,\n            'f': \"1.0\",\n        },\n{\n            'v': 0.0,\n            'f': \"0.0\",\n        },\n{\n            'v': 0.0,\n            'f': \"0.0\",\n        },\n{\n            'v': 1.0,\n            'f': \"1.0\",\n        },\n{\n            'v': 0.0,\n            'f': \"0.0\",\n        },\n{\n            'v': 0.0,\n            'f': \"0.0\",\n        },\n{\n            'v': 0.0,\n            'f': \"0.0\",\n        },\n{\n            'v': 0.0,\n            'f': \"0.0\",\n        },\n{\n            'v': 0.0,\n            'f': \"0.0\",\n        },\n{\n            'v': 0.0,\n            'f': \"0.0\",\n        },\n{\n            'v': 0.0,\n            'f': \"0.0\",\n        },\n{\n            'v': 0.0,\n            'f': \"0.0\",\n        },\n{\n            'v': 0.0,\n            'f': \"0.0\",\n        },\n{\n            'v': 0.0,\n            'f': \"0.0\",\n        },\n{\n            'v': 1.0,\n            'f': \"1.0\",\n        },\n{\n            'v': 0.0,\n            'f': \"0.0\",\n        },\n{\n            'v': 0.0,\n            'f': \"0.0\",\n        }],\n [\"ISIC_0031633.jpg\",\n{\n            'v': 0.8823529411764706,\n            'f': \"0.8823529411764706\",\n        },\n{\n            'v': 1.0,\n            'f': \"1.0\",\n        },\n{\n            'v': 0.0,\n            'f': \"0.0\",\n        },\n{\n            'v': 0.0,\n            'f': \"0.0\",\n        },\n{\n            'v': 1.0,\n            'f': \"1.0\",\n        },\n{\n            'v': 0.0,\n            'f': \"0.0\",\n        },\n{\n            'v': 0.0,\n            'f': \"0.0\",\n        },\n{\n            'v': 0.0,\n            'f': \"0.0\",\n        },\n{\n            'v': 1.0,\n            'f': \"1.0\",\n        },\n{\n            'v': 0.0,\n            'f': \"0.0\",\n        },\n{\n            'v': 0.0,\n            'f': \"0.0\",\n        },\n{\n            'v': 0.0,\n            'f': \"0.0\",\n        },\n{\n            'v': 0.0,\n            'f': \"0.0\",\n        },\n{\n            'v': 0.0,\n            'f': \"0.0\",\n        },\n{\n            'v': 0.0,\n            'f': \"0.0\",\n        },\n{\n            'v': 0.0,\n            'f': \"0.0\",\n        },\n{\n            'v': 0.0,\n            'f': \"0.0\",\n        },\n{\n            'v': 0.0,\n            'f': \"0.0\",\n        }]],\n        columns: [[\"string\", \"image_id\"], [\"number\", \"age\"], [\"number\", \"sex_male\"], [\"number\", \"dx_type_consensus\"], [\"number\", \"dx_type_follow_up\"], [\"number\", \"dx_type_histo\"], [\"number\", \"localization_acral\"], [\"number\", \"localization_back\"], [\"number\", \"localization_chest\"], [\"number\", \"localization_ear\"], [\"number\", \"localization_face\"], [\"number\", \"localization_foot\"], [\"number\", \"localization_genital\"], [\"number\", \"localization_hand\"], [\"number\", \"localization_lower extremity\"], [\"number\", \"localization_neck\"], [\"number\", \"localization_scalp\"], [\"number\", \"localization_trunk\"], [\"number\", \"localization_upper extremity\"]],\n        columnOptions: [{\"width\": \"1px\", \"className\": \"index_column\"}],\n        rowsPerPage: 25,\n        helpUrl: \"https://colab.research.google.com/notebooks/data_table.ipynb\",\n        suppressOutputScrolling: true,\n        minimumWidth: undefined,\n      });\n    ",
      "text/html": [
       "<div>\n",
       "<style scoped>\n",
       "    .dataframe tbody tr th:only-of-type {\n",
       "        vertical-align: middle;\n",
       "    }\n",
       "\n",
       "    .dataframe tbody tr th {\n",
       "        vertical-align: top;\n",
       "    }\n",
       "\n",
       "    .dataframe thead th {\n",
       "        text-align: right;\n",
       "    }\n",
       "</style>\n",
       "<table border=\"1\" class=\"dataframe\">\n",
       "  <thead>\n",
       "    <tr style=\"text-align: right;\">\n",
       "      <th></th>\n",
       "      <th>age</th>\n",
       "      <th>sex_male</th>\n",
       "      <th>dx_type_consensus</th>\n",
       "      <th>dx_type_follow_up</th>\n",
       "      <th>dx_type_histo</th>\n",
       "      <th>localization_acral</th>\n",
       "      <th>localization_back</th>\n",
       "      <th>localization_chest</th>\n",
       "      <th>localization_ear</th>\n",
       "      <th>localization_face</th>\n",
       "      <th>localization_foot</th>\n",
       "      <th>localization_genital</th>\n",
       "      <th>localization_hand</th>\n",
       "      <th>localization_lower extremity</th>\n",
       "      <th>localization_neck</th>\n",
       "      <th>localization_scalp</th>\n",
       "      <th>localization_trunk</th>\n",
       "      <th>localization_upper extremity</th>\n",
       "    </tr>\n",
       "    <tr>\n",
       "      <th>image_id</th>\n",
       "      <th></th>\n",
       "      <th></th>\n",
       "      <th></th>\n",
       "      <th></th>\n",
       "      <th></th>\n",
       "      <th></th>\n",
       "      <th></th>\n",
       "      <th></th>\n",
       "      <th></th>\n",
       "      <th></th>\n",
       "      <th></th>\n",
       "      <th></th>\n",
       "      <th></th>\n",
       "      <th></th>\n",
       "      <th></th>\n",
       "      <th></th>\n",
       "      <th></th>\n",
       "      <th></th>\n",
       "    </tr>\n",
       "  </thead>\n",
       "  <tbody>\n",
       "    <tr>\n",
       "      <th>ISIC_0027419.jpg</th>\n",
       "      <td>0.941176</td>\n",
       "      <td>1.0</td>\n",
       "      <td>0.0</td>\n",
       "      <td>0.0</td>\n",
       "      <td>1.0</td>\n",
       "      <td>0.0</td>\n",
       "      <td>0.0</td>\n",
       "      <td>0.0</td>\n",
       "      <td>0.0</td>\n",
       "      <td>0.0</td>\n",
       "      <td>0.0</td>\n",
       "      <td>0.0</td>\n",
       "      <td>0.0</td>\n",
       "      <td>0.0</td>\n",
       "      <td>0.0</td>\n",
       "      <td>1.0</td>\n",
       "      <td>0.0</td>\n",
       "      <td>0.0</td>\n",
       "    </tr>\n",
       "    <tr>\n",
       "      <th>ISIC_0025030.jpg</th>\n",
       "      <td>0.941176</td>\n",
       "      <td>1.0</td>\n",
       "      <td>0.0</td>\n",
       "      <td>0.0</td>\n",
       "      <td>1.0</td>\n",
       "      <td>0.0</td>\n",
       "      <td>0.0</td>\n",
       "      <td>0.0</td>\n",
       "      <td>0.0</td>\n",
       "      <td>0.0</td>\n",
       "      <td>0.0</td>\n",
       "      <td>0.0</td>\n",
       "      <td>0.0</td>\n",
       "      <td>0.0</td>\n",
       "      <td>0.0</td>\n",
       "      <td>1.0</td>\n",
       "      <td>0.0</td>\n",
       "      <td>0.0</td>\n",
       "    </tr>\n",
       "    <tr>\n",
       "      <th>ISIC_0026769.jpg</th>\n",
       "      <td>0.941176</td>\n",
       "      <td>1.0</td>\n",
       "      <td>0.0</td>\n",
       "      <td>0.0</td>\n",
       "      <td>1.0</td>\n",
       "      <td>0.0</td>\n",
       "      <td>0.0</td>\n",
       "      <td>0.0</td>\n",
       "      <td>0.0</td>\n",
       "      <td>0.0</td>\n",
       "      <td>0.0</td>\n",
       "      <td>0.0</td>\n",
       "      <td>0.0</td>\n",
       "      <td>0.0</td>\n",
       "      <td>0.0</td>\n",
       "      <td>1.0</td>\n",
       "      <td>0.0</td>\n",
       "      <td>0.0</td>\n",
       "    </tr>\n",
       "    <tr>\n",
       "      <th>ISIC_0025661.jpg</th>\n",
       "      <td>0.941176</td>\n",
       "      <td>1.0</td>\n",
       "      <td>0.0</td>\n",
       "      <td>0.0</td>\n",
       "      <td>1.0</td>\n",
       "      <td>0.0</td>\n",
       "      <td>0.0</td>\n",
       "      <td>0.0</td>\n",
       "      <td>0.0</td>\n",
       "      <td>0.0</td>\n",
       "      <td>0.0</td>\n",
       "      <td>0.0</td>\n",
       "      <td>0.0</td>\n",
       "      <td>0.0</td>\n",
       "      <td>0.0</td>\n",
       "      <td>1.0</td>\n",
       "      <td>0.0</td>\n",
       "      <td>0.0</td>\n",
       "    </tr>\n",
       "    <tr>\n",
       "      <th>ISIC_0031633.jpg</th>\n",
       "      <td>0.882353</td>\n",
       "      <td>1.0</td>\n",
       "      <td>0.0</td>\n",
       "      <td>0.0</td>\n",
       "      <td>1.0</td>\n",
       "      <td>0.0</td>\n",
       "      <td>0.0</td>\n",
       "      <td>0.0</td>\n",
       "      <td>1.0</td>\n",
       "      <td>0.0</td>\n",
       "      <td>0.0</td>\n",
       "      <td>0.0</td>\n",
       "      <td>0.0</td>\n",
       "      <td>0.0</td>\n",
       "      <td>0.0</td>\n",
       "      <td>0.0</td>\n",
       "      <td>0.0</td>\n",
       "      <td>0.0</td>\n",
       "    </tr>\n",
       "  </tbody>\n",
       "</table>\n",
       "</div>"
      ],
      "text/plain": [
       "                       age  ...  localization_upper extremity\n",
       "image_id                    ...                              \n",
       "ISIC_0027419.jpg  0.941176  ...                           0.0\n",
       "ISIC_0025030.jpg  0.941176  ...                           0.0\n",
       "ISIC_0026769.jpg  0.941176  ...                           0.0\n",
       "ISIC_0025661.jpg  0.941176  ...                           0.0\n",
       "ISIC_0031633.jpg  0.882353  ...                           0.0\n",
       "\n",
       "[5 rows x 18 columns]"
      ]
     },
     "execution_count": 8,
     "metadata": {
      "tags": []
     },
     "output_type": "execute_result"
    }
   ],
   "source": [
    "df_1['image_id'] = df_1['image_id']+'.jpg'\n",
    "X = df_1[['image_id','dx','age','sex','dx_type','localization']]\n",
    "X_aux = pd.get_dummies(X.iloc[:,2:],drop_first=True)\n",
    "from sklearn.preprocessing import MinMaxScaler\n",
    "scaler = MinMaxScaler()\n",
    "scaledX = scaler.fit_transform(X_aux)\n",
    "X_aux = pd.DataFrame(scaledX,columns=X_aux.columns,index=df_1['image_id'])\n",
    "X_aux.head()\n"
   ]
  },
  {
   "cell_type": "code",
   "execution_count": null,
   "metadata": {
    "colab": {
     "base_uri": "https://localhost:8080/"
    },
    "id": "jvQ9b7iSOGax",
    "outputId": "fc7d35f4-2906-4632-ee10-2f2d58e0eaf9"
   },
   "outputs": [
    {
     "name": "stdout",
     "output_type": "stream",
     "text": [
      "(9761, 18)\n",
      "(9761, 6)\n"
     ]
    }
   ],
   "source": [
    "print(X_aux.shape)\n",
    "print(X.shape)"
   ]
  },
  {
   "cell_type": "code",
   "execution_count": null,
   "metadata": {
    "colab": {
     "base_uri": "https://localhost:8080/",
     "height": 188
    },
    "id": "ohubokI4OQtx",
    "outputId": "a507806a-4f9e-4ba9-d5c5-8a8a87f21cbd"
   },
   "outputs": [
    {
     "data": {
      "application/vnd.google.colaboratory.module+javascript": "\n      import \"https://ssl.gstatic.com/colaboratory/data_table/a6224c040fa35dcf/data_table.js\";\n\n      window.createDataTable({\n        data: [[{\n            'v': 0,\n            'f': \"0\",\n        },\n\"ISIC_0027419.jpg\",\n\"bkl\",\n{\n            'v': 80.0,\n            'f': \"80.0\",\n        },\n\"male\",\n\"histo\",\n\"scalp\"],\n [{\n            'v': 1,\n            'f': \"1\",\n        },\n\"ISIC_0025030.jpg\",\n\"bkl\",\n{\n            'v': 80.0,\n            'f': \"80.0\",\n        },\n\"male\",\n\"histo\",\n\"scalp\"],\n [{\n            'v': 2,\n            'f': \"2\",\n        },\n\"ISIC_0026769.jpg\",\n\"bkl\",\n{\n            'v': 80.0,\n            'f': \"80.0\",\n        },\n\"male\",\n\"histo\",\n\"scalp\"],\n [{\n            'v': 3,\n            'f': \"3\",\n        },\n\"ISIC_0025661.jpg\",\n\"bkl\",\n{\n            'v': 80.0,\n            'f': \"80.0\",\n        },\n\"male\",\n\"histo\",\n\"scalp\"],\n [{\n            'v': 4,\n            'f': \"4\",\n        },\n\"ISIC_0031633.jpg\",\n\"bkl\",\n{\n            'v': 75.0,\n            'f': \"75.0\",\n        },\n\"male\",\n\"histo\",\n\"ear\"]],\n        columns: [[\"number\", \"index\"], [\"string\", \"image_id\"], [\"string\", \"dx\"], [\"number\", \"age\"], [\"string\", \"sex\"], [\"string\", \"dx_type\"], [\"string\", \"localization\"]],\n        columnOptions: [{\"width\": \"1px\", \"className\": \"index_column\"}],\n        rowsPerPage: 25,\n        helpUrl: \"https://colab.research.google.com/notebooks/data_table.ipynb\",\n        suppressOutputScrolling: true,\n        minimumWidth: undefined,\n      });\n    ",
      "text/html": [
       "<div>\n",
       "<style scoped>\n",
       "    .dataframe tbody tr th:only-of-type {\n",
       "        vertical-align: middle;\n",
       "    }\n",
       "\n",
       "    .dataframe tbody tr th {\n",
       "        vertical-align: top;\n",
       "    }\n",
       "\n",
       "    .dataframe thead th {\n",
       "        text-align: right;\n",
       "    }\n",
       "</style>\n",
       "<table border=\"1\" class=\"dataframe\">\n",
       "  <thead>\n",
       "    <tr style=\"text-align: right;\">\n",
       "      <th></th>\n",
       "      <th>image_id</th>\n",
       "      <th>dx</th>\n",
       "      <th>age</th>\n",
       "      <th>sex</th>\n",
       "      <th>dx_type</th>\n",
       "      <th>localization</th>\n",
       "    </tr>\n",
       "  </thead>\n",
       "  <tbody>\n",
       "    <tr>\n",
       "      <th>0</th>\n",
       "      <td>ISIC_0027419.jpg</td>\n",
       "      <td>bkl</td>\n",
       "      <td>80.0</td>\n",
       "      <td>male</td>\n",
       "      <td>histo</td>\n",
       "      <td>scalp</td>\n",
       "    </tr>\n",
       "    <tr>\n",
       "      <th>1</th>\n",
       "      <td>ISIC_0025030.jpg</td>\n",
       "      <td>bkl</td>\n",
       "      <td>80.0</td>\n",
       "      <td>male</td>\n",
       "      <td>histo</td>\n",
       "      <td>scalp</td>\n",
       "    </tr>\n",
       "    <tr>\n",
       "      <th>2</th>\n",
       "      <td>ISIC_0026769.jpg</td>\n",
       "      <td>bkl</td>\n",
       "      <td>80.0</td>\n",
       "      <td>male</td>\n",
       "      <td>histo</td>\n",
       "      <td>scalp</td>\n",
       "    </tr>\n",
       "    <tr>\n",
       "      <th>3</th>\n",
       "      <td>ISIC_0025661.jpg</td>\n",
       "      <td>bkl</td>\n",
       "      <td>80.0</td>\n",
       "      <td>male</td>\n",
       "      <td>histo</td>\n",
       "      <td>scalp</td>\n",
       "    </tr>\n",
       "    <tr>\n",
       "      <th>4</th>\n",
       "      <td>ISIC_0031633.jpg</td>\n",
       "      <td>bkl</td>\n",
       "      <td>75.0</td>\n",
       "      <td>male</td>\n",
       "      <td>histo</td>\n",
       "      <td>ear</td>\n",
       "    </tr>\n",
       "  </tbody>\n",
       "</table>\n",
       "</div>"
      ],
      "text/plain": [
       "           image_id   dx   age   sex dx_type localization\n",
       "0  ISIC_0027419.jpg  bkl  80.0  male   histo        scalp\n",
       "1  ISIC_0025030.jpg  bkl  80.0  male   histo        scalp\n",
       "2  ISIC_0026769.jpg  bkl  80.0  male   histo        scalp\n",
       "3  ISIC_0025661.jpg  bkl  80.0  male   histo        scalp\n",
       "4  ISIC_0031633.jpg  bkl  75.0  male   histo          ear"
      ]
     },
     "execution_count": 10,
     "metadata": {
      "tags": []
     },
     "output_type": "execute_result"
    }
   ],
   "source": [
    "X.head()"
   ]
  },
  {
   "cell_type": "code",
   "execution_count": null,
   "metadata": {
    "colab": {
     "base_uri": "https://localhost:8080/",
     "height": 188
    },
    "id": "AXJoqJ8EPMMM",
    "outputId": "b12fc939-ffef-46ac-eb18-05af1cf7b13b"
   },
   "outputs": [
    {
     "data": {
      "application/vnd.google.colaboratory.module+javascript": "\n      import \"https://ssl.gstatic.com/colaboratory/data_table/a6224c040fa35dcf/data_table.js\";\n\n      window.createDataTable({\n        data: [[\"ISIC_0027419.jpg\",\n\"ISIC_0027419.jpg\",\n\"bkl\"],\n [\"ISIC_0025030.jpg\",\n\"ISIC_0025030.jpg\",\n\"bkl\"],\n [\"ISIC_0026769.jpg\",\n\"ISIC_0026769.jpg\",\n\"bkl\"],\n [\"ISIC_0025661.jpg\",\n\"ISIC_0025661.jpg\",\n\"bkl\"],\n [\"ISIC_0031633.jpg\",\n\"ISIC_0031633.jpg\",\n\"bkl\"]],\n        columns: [[\"string\", \"index\"], [\"string\", \"image_id\"], [\"string\", \"dx\"]],\n        columnOptions: [{\"width\": \"1px\", \"className\": \"index_column\"}],\n        rowsPerPage: 25,\n        helpUrl: \"https://colab.research.google.com/notebooks/data_table.ipynb\",\n        suppressOutputScrolling: true,\n        minimumWidth: undefined,\n      });\n    ",
      "text/html": [
       "<div>\n",
       "<style scoped>\n",
       "    .dataframe tbody tr th:only-of-type {\n",
       "        vertical-align: middle;\n",
       "    }\n",
       "\n",
       "    .dataframe tbody tr th {\n",
       "        vertical-align: top;\n",
       "    }\n",
       "\n",
       "    .dataframe thead th {\n",
       "        text-align: right;\n",
       "    }\n",
       "</style>\n",
       "<table border=\"1\" class=\"dataframe\">\n",
       "  <thead>\n",
       "    <tr style=\"text-align: right;\">\n",
       "      <th></th>\n",
       "      <th>image_id</th>\n",
       "      <th>dx</th>\n",
       "    </tr>\n",
       "  </thead>\n",
       "  <tbody>\n",
       "    <tr>\n",
       "      <th>ISIC_0027419.jpg</th>\n",
       "      <td>ISIC_0027419.jpg</td>\n",
       "      <td>bkl</td>\n",
       "    </tr>\n",
       "    <tr>\n",
       "      <th>ISIC_0025030.jpg</th>\n",
       "      <td>ISIC_0025030.jpg</td>\n",
       "      <td>bkl</td>\n",
       "    </tr>\n",
       "    <tr>\n",
       "      <th>ISIC_0026769.jpg</th>\n",
       "      <td>ISIC_0026769.jpg</td>\n",
       "      <td>bkl</td>\n",
       "    </tr>\n",
       "    <tr>\n",
       "      <th>ISIC_0025661.jpg</th>\n",
       "      <td>ISIC_0025661.jpg</td>\n",
       "      <td>bkl</td>\n",
       "    </tr>\n",
       "    <tr>\n",
       "      <th>ISIC_0031633.jpg</th>\n",
       "      <td>ISIC_0031633.jpg</td>\n",
       "      <td>bkl</td>\n",
       "    </tr>\n",
       "  </tbody>\n",
       "</table>\n",
       "</div>"
      ],
      "text/plain": [
       "                          image_id   dx\n",
       "ISIC_0027419.jpg  ISIC_0027419.jpg  bkl\n",
       "ISIC_0025030.jpg  ISIC_0025030.jpg  bkl\n",
       "ISIC_0026769.jpg  ISIC_0026769.jpg  bkl\n",
       "ISIC_0025661.jpg  ISIC_0025661.jpg  bkl\n",
       "ISIC_0031633.jpg  ISIC_0031633.jpg  bkl"
      ]
     },
     "execution_count": 11,
     "metadata": {
      "tags": []
     },
     "output_type": "execute_result"
    }
   ],
   "source": [
    "X_required = X[['image_id','dx']]\n",
    "X_required.index = X_required['image_id'].values\n",
    "X_required.head()"
   ]
  },
  {
   "cell_type": "code",
   "execution_count": null,
   "metadata": {
    "colab": {
     "base_uri": "https://localhost:8080/"
    },
    "id": "txoV6KCrTAUM",
    "outputId": "91d68e4d-c67c-44b7-dcf0-e250fe3934c0"
   },
   "outputs": [
    {
     "data": {
      "text/plain": [
       "(9761, 2)"
      ]
     },
     "execution_count": 12,
     "metadata": {
      "tags": []
     },
     "output_type": "execute_result"
    }
   ],
   "source": [
    "X_required.shape"
   ]
  },
  {
   "cell_type": "code",
   "execution_count": null,
   "metadata": {
    "colab": {
     "base_uri": "https://localhost:8080/"
    },
    "id": "1PQuG4Hs2zOR",
    "outputId": "bacfd337-fef3-4366-fa83-cc3b2a0a15bb"
   },
   "outputs": [
    {
     "data": {
      "text/plain": [
       "(9761, 20)"
      ]
     },
     "execution_count": 13,
     "metadata": {
      "tags": []
     },
     "output_type": "execute_result"
    }
   ],
   "source": [
    "X2 = pd.concat([X_required,X_aux],axis=1,ignore_index=False)\n",
    "X2.shape"
   ]
  },
  {
   "cell_type": "code",
   "execution_count": null,
   "metadata": {
    "colab": {
     "base_uri": "https://localhost:8080/",
     "height": 670
    },
    "id": "BCt_KxWdO5RL",
    "outputId": "2ab770fc-6c29-4500-a07b-3ffb4a0feffc"
   },
   "outputs": [
    {
     "name": "stderr",
     "output_type": "stream",
     "text": [
      "Traceback (most recent call last):\n",
      "  File \"/usr/local/lib/python3.7/dist-packages/google/colab/data_table.py\", line 190, in _repr_javascript_module_\n",
      "    return self._gen_js(self._preprocess_dataframe())\n",
      "  File \"/usr/local/lib/python3.7/dist-packages/google/colab/data_table.py\", line 166, in _preprocess_dataframe\n",
      "    dataframe = dataframe.reset_index()\n",
      "  File \"/usr/local/lib/python3.7/dist-packages/pandas/core/frame.py\", line 4859, in reset_index\n",
      "    new_obj.insert(0, name, level_values)\n",
      "  File \"/usr/local/lib/python3.7/dist-packages/pandas/core/frame.py\", line 3628, in insert\n",
      "    self._mgr.insert(loc, column, value, allow_duplicates=allow_duplicates)\n",
      "  File \"/usr/local/lib/python3.7/dist-packages/pandas/core/internals/managers.py\", line 1186, in insert\n",
      "    raise ValueError(f\"cannot insert {item}, already exists\")\n",
      "ValueError: cannot insert image_id, already exists\n"
     ]
    },
    {
     "data": {
      "text/html": [
       "<div>\n",
       "<style scoped>\n",
       "    .dataframe tbody tr th:only-of-type {\n",
       "        vertical-align: middle;\n",
       "    }\n",
       "\n",
       "    .dataframe tbody tr th {\n",
       "        vertical-align: top;\n",
       "    }\n",
       "\n",
       "    .dataframe thead th {\n",
       "        text-align: right;\n",
       "    }\n",
       "</style>\n",
       "<table border=\"1\" class=\"dataframe\">\n",
       "  <thead>\n",
       "    <tr style=\"text-align: right;\">\n",
       "      <th></th>\n",
       "      <th>image_id</th>\n",
       "      <th>dx</th>\n",
       "      <th>age</th>\n",
       "      <th>sex_male</th>\n",
       "      <th>dx_type_consensus</th>\n",
       "      <th>dx_type_follow_up</th>\n",
       "      <th>dx_type_histo</th>\n",
       "      <th>localization_acral</th>\n",
       "      <th>localization_back</th>\n",
       "      <th>localization_chest</th>\n",
       "      <th>localization_ear</th>\n",
       "      <th>localization_face</th>\n",
       "      <th>localization_foot</th>\n",
       "      <th>localization_genital</th>\n",
       "      <th>localization_hand</th>\n",
       "      <th>localization_lower extremity</th>\n",
       "      <th>localization_neck</th>\n",
       "      <th>localization_scalp</th>\n",
       "      <th>localization_trunk</th>\n",
       "      <th>localization_upper extremity</th>\n",
       "    </tr>\n",
       "    <tr>\n",
       "      <th>image_id</th>\n",
       "      <th></th>\n",
       "      <th></th>\n",
       "      <th></th>\n",
       "      <th></th>\n",
       "      <th></th>\n",
       "      <th></th>\n",
       "      <th></th>\n",
       "      <th></th>\n",
       "      <th></th>\n",
       "      <th></th>\n",
       "      <th></th>\n",
       "      <th></th>\n",
       "      <th></th>\n",
       "      <th></th>\n",
       "      <th></th>\n",
       "      <th></th>\n",
       "      <th></th>\n",
       "      <th></th>\n",
       "      <th></th>\n",
       "      <th></th>\n",
       "    </tr>\n",
       "  </thead>\n",
       "  <tbody>\n",
       "    <tr>\n",
       "      <th>ISIC_0027419.jpg</th>\n",
       "      <td>ISIC_0027419.jpg</td>\n",
       "      <td>bkl</td>\n",
       "      <td>0.941176</td>\n",
       "      <td>1.0</td>\n",
       "      <td>0.0</td>\n",
       "      <td>0.0</td>\n",
       "      <td>1.0</td>\n",
       "      <td>0.0</td>\n",
       "      <td>0.0</td>\n",
       "      <td>0.0</td>\n",
       "      <td>0.0</td>\n",
       "      <td>0.0</td>\n",
       "      <td>0.0</td>\n",
       "      <td>0.0</td>\n",
       "      <td>0.0</td>\n",
       "      <td>0.0</td>\n",
       "      <td>0.0</td>\n",
       "      <td>1.0</td>\n",
       "      <td>0.0</td>\n",
       "      <td>0.0</td>\n",
       "    </tr>\n",
       "    <tr>\n",
       "      <th>ISIC_0025030.jpg</th>\n",
       "      <td>ISIC_0025030.jpg</td>\n",
       "      <td>bkl</td>\n",
       "      <td>0.941176</td>\n",
       "      <td>1.0</td>\n",
       "      <td>0.0</td>\n",
       "      <td>0.0</td>\n",
       "      <td>1.0</td>\n",
       "      <td>0.0</td>\n",
       "      <td>0.0</td>\n",
       "      <td>0.0</td>\n",
       "      <td>0.0</td>\n",
       "      <td>0.0</td>\n",
       "      <td>0.0</td>\n",
       "      <td>0.0</td>\n",
       "      <td>0.0</td>\n",
       "      <td>0.0</td>\n",
       "      <td>0.0</td>\n",
       "      <td>1.0</td>\n",
       "      <td>0.0</td>\n",
       "      <td>0.0</td>\n",
       "    </tr>\n",
       "    <tr>\n",
       "      <th>ISIC_0026769.jpg</th>\n",
       "      <td>ISIC_0026769.jpg</td>\n",
       "      <td>bkl</td>\n",
       "      <td>0.941176</td>\n",
       "      <td>1.0</td>\n",
       "      <td>0.0</td>\n",
       "      <td>0.0</td>\n",
       "      <td>1.0</td>\n",
       "      <td>0.0</td>\n",
       "      <td>0.0</td>\n",
       "      <td>0.0</td>\n",
       "      <td>0.0</td>\n",
       "      <td>0.0</td>\n",
       "      <td>0.0</td>\n",
       "      <td>0.0</td>\n",
       "      <td>0.0</td>\n",
       "      <td>0.0</td>\n",
       "      <td>0.0</td>\n",
       "      <td>1.0</td>\n",
       "      <td>0.0</td>\n",
       "      <td>0.0</td>\n",
       "    </tr>\n",
       "    <tr>\n",
       "      <th>ISIC_0025661.jpg</th>\n",
       "      <td>ISIC_0025661.jpg</td>\n",
       "      <td>bkl</td>\n",
       "      <td>0.941176</td>\n",
       "      <td>1.0</td>\n",
       "      <td>0.0</td>\n",
       "      <td>0.0</td>\n",
       "      <td>1.0</td>\n",
       "      <td>0.0</td>\n",
       "      <td>0.0</td>\n",
       "      <td>0.0</td>\n",
       "      <td>0.0</td>\n",
       "      <td>0.0</td>\n",
       "      <td>0.0</td>\n",
       "      <td>0.0</td>\n",
       "      <td>0.0</td>\n",
       "      <td>0.0</td>\n",
       "      <td>0.0</td>\n",
       "      <td>1.0</td>\n",
       "      <td>0.0</td>\n",
       "      <td>0.0</td>\n",
       "    </tr>\n",
       "    <tr>\n",
       "      <th>ISIC_0031633.jpg</th>\n",
       "      <td>ISIC_0031633.jpg</td>\n",
       "      <td>bkl</td>\n",
       "      <td>0.882353</td>\n",
       "      <td>1.0</td>\n",
       "      <td>0.0</td>\n",
       "      <td>0.0</td>\n",
       "      <td>1.0</td>\n",
       "      <td>0.0</td>\n",
       "      <td>0.0</td>\n",
       "      <td>0.0</td>\n",
       "      <td>1.0</td>\n",
       "      <td>0.0</td>\n",
       "      <td>0.0</td>\n",
       "      <td>0.0</td>\n",
       "      <td>0.0</td>\n",
       "      <td>0.0</td>\n",
       "      <td>0.0</td>\n",
       "      <td>0.0</td>\n",
       "      <td>0.0</td>\n",
       "      <td>0.0</td>\n",
       "    </tr>\n",
       "    <tr>\n",
       "      <th>...</th>\n",
       "      <td>...</td>\n",
       "      <td>...</td>\n",
       "      <td>...</td>\n",
       "      <td>...</td>\n",
       "      <td>...</td>\n",
       "      <td>...</td>\n",
       "      <td>...</td>\n",
       "      <td>...</td>\n",
       "      <td>...</td>\n",
       "      <td>...</td>\n",
       "      <td>...</td>\n",
       "      <td>...</td>\n",
       "      <td>...</td>\n",
       "      <td>...</td>\n",
       "      <td>...</td>\n",
       "      <td>...</td>\n",
       "      <td>...</td>\n",
       "      <td>...</td>\n",
       "      <td>...</td>\n",
       "      <td>...</td>\n",
       "    </tr>\n",
       "    <tr>\n",
       "      <th>ISIC_0033084.jpg</th>\n",
       "      <td>ISIC_0033084.jpg</td>\n",
       "      <td>akiec</td>\n",
       "      <td>0.470588</td>\n",
       "      <td>1.0</td>\n",
       "      <td>0.0</td>\n",
       "      <td>0.0</td>\n",
       "      <td>1.0</td>\n",
       "      <td>0.0</td>\n",
       "      <td>0.0</td>\n",
       "      <td>0.0</td>\n",
       "      <td>0.0</td>\n",
       "      <td>0.0</td>\n",
       "      <td>0.0</td>\n",
       "      <td>0.0</td>\n",
       "      <td>0.0</td>\n",
       "      <td>0.0</td>\n",
       "      <td>0.0</td>\n",
       "      <td>0.0</td>\n",
       "      <td>0.0</td>\n",
       "      <td>0.0</td>\n",
       "    </tr>\n",
       "    <tr>\n",
       "      <th>ISIC_0033550.jpg</th>\n",
       "      <td>ISIC_0033550.jpg</td>\n",
       "      <td>akiec</td>\n",
       "      <td>0.470588</td>\n",
       "      <td>1.0</td>\n",
       "      <td>0.0</td>\n",
       "      <td>0.0</td>\n",
       "      <td>1.0</td>\n",
       "      <td>0.0</td>\n",
       "      <td>0.0</td>\n",
       "      <td>0.0</td>\n",
       "      <td>0.0</td>\n",
       "      <td>0.0</td>\n",
       "      <td>0.0</td>\n",
       "      <td>0.0</td>\n",
       "      <td>0.0</td>\n",
       "      <td>0.0</td>\n",
       "      <td>0.0</td>\n",
       "      <td>0.0</td>\n",
       "      <td>0.0</td>\n",
       "      <td>0.0</td>\n",
       "    </tr>\n",
       "    <tr>\n",
       "      <th>ISIC_0033536.jpg</th>\n",
       "      <td>ISIC_0033536.jpg</td>\n",
       "      <td>akiec</td>\n",
       "      <td>0.470588</td>\n",
       "      <td>1.0</td>\n",
       "      <td>0.0</td>\n",
       "      <td>0.0</td>\n",
       "      <td>1.0</td>\n",
       "      <td>0.0</td>\n",
       "      <td>0.0</td>\n",
       "      <td>0.0</td>\n",
       "      <td>0.0</td>\n",
       "      <td>0.0</td>\n",
       "      <td>0.0</td>\n",
       "      <td>0.0</td>\n",
       "      <td>0.0</td>\n",
       "      <td>0.0</td>\n",
       "      <td>0.0</td>\n",
       "      <td>0.0</td>\n",
       "      <td>0.0</td>\n",
       "      <td>0.0</td>\n",
       "    </tr>\n",
       "    <tr>\n",
       "      <th>ISIC_0032854.jpg</th>\n",
       "      <td>ISIC_0032854.jpg</td>\n",
       "      <td>akiec</td>\n",
       "      <td>0.941176</td>\n",
       "      <td>1.0</td>\n",
       "      <td>0.0</td>\n",
       "      <td>0.0</td>\n",
       "      <td>1.0</td>\n",
       "      <td>0.0</td>\n",
       "      <td>0.0</td>\n",
       "      <td>0.0</td>\n",
       "      <td>0.0</td>\n",
       "      <td>1.0</td>\n",
       "      <td>0.0</td>\n",
       "      <td>0.0</td>\n",
       "      <td>0.0</td>\n",
       "      <td>0.0</td>\n",
       "      <td>0.0</td>\n",
       "      <td>0.0</td>\n",
       "      <td>0.0</td>\n",
       "      <td>0.0</td>\n",
       "    </tr>\n",
       "    <tr>\n",
       "      <th>ISIC_0032258.jpg</th>\n",
       "      <td>ISIC_0032258.jpg</td>\n",
       "      <td>mel</td>\n",
       "      <td>0.823529</td>\n",
       "      <td>0.0</td>\n",
       "      <td>0.0</td>\n",
       "      <td>0.0</td>\n",
       "      <td>1.0</td>\n",
       "      <td>0.0</td>\n",
       "      <td>1.0</td>\n",
       "      <td>0.0</td>\n",
       "      <td>0.0</td>\n",
       "      <td>0.0</td>\n",
       "      <td>0.0</td>\n",
       "      <td>0.0</td>\n",
       "      <td>0.0</td>\n",
       "      <td>0.0</td>\n",
       "      <td>0.0</td>\n",
       "      <td>0.0</td>\n",
       "      <td>0.0</td>\n",
       "      <td>0.0</td>\n",
       "    </tr>\n",
       "  </tbody>\n",
       "</table>\n",
       "<p>9761 rows × 20 columns</p>\n",
       "</div>"
      ],
      "text/plain": [
       "                          image_id  ... localization_upper extremity\n",
       "image_id                            ...                             \n",
       "ISIC_0027419.jpg  ISIC_0027419.jpg  ...                          0.0\n",
       "ISIC_0025030.jpg  ISIC_0025030.jpg  ...                          0.0\n",
       "ISIC_0026769.jpg  ISIC_0026769.jpg  ...                          0.0\n",
       "ISIC_0025661.jpg  ISIC_0025661.jpg  ...                          0.0\n",
       "ISIC_0031633.jpg  ISIC_0031633.jpg  ...                          0.0\n",
       "...                            ...  ...                          ...\n",
       "ISIC_0033084.jpg  ISIC_0033084.jpg  ...                          0.0\n",
       "ISIC_0033550.jpg  ISIC_0033550.jpg  ...                          0.0\n",
       "ISIC_0033536.jpg  ISIC_0033536.jpg  ...                          0.0\n",
       "ISIC_0032854.jpg  ISIC_0032854.jpg  ...                          0.0\n",
       "ISIC_0032258.jpg  ISIC_0032258.jpg  ...                          0.0\n",
       "\n",
       "[9761 rows x 20 columns]"
      ]
     },
     "execution_count": 14,
     "metadata": {
      "tags": []
     },
     "output_type": "execute_result"
    }
   ],
   "source": [
    "X2"
   ]
  },
  {
   "cell_type": "code",
   "execution_count": null,
   "metadata": {
    "colab": {
     "base_uri": "https://localhost:8080/"
    },
    "id": "Y6Xv6e60NNBJ",
    "outputId": "78091928-696e-4cc2-82fd-b9f51d4d8101"
   },
   "outputs": [
    {
     "name": "stdout",
     "output_type": "stream",
     "text": [
      "(9761,)\n",
      "(9761, 20)\n",
      "(9761, 7)\n"
     ]
    }
   ],
   "source": [
    "print(y.shape)\n",
    "print(X2.shape)\n",
    "print(df_1.shape)"
   ]
  },
  {
   "cell_type": "code",
   "execution_count": null,
   "metadata": {
    "colab": {
     "base_uri": "https://localhost:8080/"
    },
    "id": "EsfUiPZSxHyu",
    "outputId": "21393d5e-a424-4f30-a452-bc0f37944838"
   },
   "outputs": [
    {
     "name": "stdout",
     "output_type": "stream",
     "text": [
      "(8784, 20)\n",
      "(977, 20)\n"
     ]
    }
   ],
   "source": [
    "X_train, X_test, y_train, y_test = train_test_split(X2, y,test_size = 0.1, \n",
    "                                                    random_state=1211,\n",
    "                                                    stratify=y)\n",
    "print(X_train.shape)\n",
    "print(X_test.shape)"
   ]
  },
  {
   "cell_type": "code",
   "execution_count": null,
   "metadata": {
    "colab": {
     "base_uri": "https://localhost:8080/",
     "height": 463
    },
    "id": "uI7rsrPjVJbF",
    "outputId": "72a91e93-a4ad-48fd-813f-f1416f25823b"
   },
   "outputs": [
    {
     "name": "stderr",
     "output_type": "stream",
     "text": [
      "Traceback (most recent call last):\n",
      "  File \"/usr/local/lib/python3.7/dist-packages/google/colab/data_table.py\", line 190, in _repr_javascript_module_\n",
      "    return self._gen_js(self._preprocess_dataframe())\n",
      "  File \"/usr/local/lib/python3.7/dist-packages/google/colab/data_table.py\", line 166, in _preprocess_dataframe\n",
      "    dataframe = dataframe.reset_index()\n",
      "  File \"/usr/local/lib/python3.7/dist-packages/pandas/core/frame.py\", line 4859, in reset_index\n",
      "    new_obj.insert(0, name, level_values)\n",
      "  File \"/usr/local/lib/python3.7/dist-packages/pandas/core/frame.py\", line 3628, in insert\n",
      "    self._mgr.insert(loc, column, value, allow_duplicates=allow_duplicates)\n",
      "  File \"/usr/local/lib/python3.7/dist-packages/pandas/core/internals/managers.py\", line 1186, in insert\n",
      "    raise ValueError(f\"cannot insert {item}, already exists\")\n",
      "ValueError: cannot insert image_id, already exists\n"
     ]
    },
    {
     "data": {
      "text/html": [
       "<div>\n",
       "<style scoped>\n",
       "    .dataframe tbody tr th:only-of-type {\n",
       "        vertical-align: middle;\n",
       "    }\n",
       "\n",
       "    .dataframe tbody tr th {\n",
       "        vertical-align: top;\n",
       "    }\n",
       "\n",
       "    .dataframe thead th {\n",
       "        text-align: right;\n",
       "    }\n",
       "</style>\n",
       "<table border=\"1\" class=\"dataframe\">\n",
       "  <thead>\n",
       "    <tr style=\"text-align: right;\">\n",
       "      <th></th>\n",
       "      <th>image_id</th>\n",
       "      <th>dx</th>\n",
       "      <th>age</th>\n",
       "      <th>sex_male</th>\n",
       "      <th>dx_type_consensus</th>\n",
       "      <th>dx_type_follow_up</th>\n",
       "      <th>dx_type_histo</th>\n",
       "      <th>localization_acral</th>\n",
       "      <th>localization_back</th>\n",
       "      <th>localization_chest</th>\n",
       "      <th>localization_ear</th>\n",
       "      <th>localization_face</th>\n",
       "      <th>localization_foot</th>\n",
       "      <th>localization_genital</th>\n",
       "      <th>localization_hand</th>\n",
       "      <th>localization_lower extremity</th>\n",
       "      <th>localization_neck</th>\n",
       "      <th>localization_scalp</th>\n",
       "      <th>localization_trunk</th>\n",
       "      <th>localization_upper extremity</th>\n",
       "    </tr>\n",
       "    <tr>\n",
       "      <th>image_id</th>\n",
       "      <th></th>\n",
       "      <th></th>\n",
       "      <th></th>\n",
       "      <th></th>\n",
       "      <th></th>\n",
       "      <th></th>\n",
       "      <th></th>\n",
       "      <th></th>\n",
       "      <th></th>\n",
       "      <th></th>\n",
       "      <th></th>\n",
       "      <th></th>\n",
       "      <th></th>\n",
       "      <th></th>\n",
       "      <th></th>\n",
       "      <th></th>\n",
       "      <th></th>\n",
       "      <th></th>\n",
       "      <th></th>\n",
       "      <th></th>\n",
       "    </tr>\n",
       "  </thead>\n",
       "  <tbody>\n",
       "    <tr>\n",
       "      <th>ISIC_0029009.jpg</th>\n",
       "      <td>ISIC_0029009.jpg</td>\n",
       "      <td>nv</td>\n",
       "      <td>0.352941</td>\n",
       "      <td>1.0</td>\n",
       "      <td>0.0</td>\n",
       "      <td>1.0</td>\n",
       "      <td>0.0</td>\n",
       "      <td>0.0</td>\n",
       "      <td>0.0</td>\n",
       "      <td>0.0</td>\n",
       "      <td>0.0</td>\n",
       "      <td>0.0</td>\n",
       "      <td>0.0</td>\n",
       "      <td>0.0</td>\n",
       "      <td>0.0</td>\n",
       "      <td>1.0</td>\n",
       "      <td>0.0</td>\n",
       "      <td>0.0</td>\n",
       "      <td>0.0</td>\n",
       "      <td>0.0</td>\n",
       "    </tr>\n",
       "    <tr>\n",
       "      <th>ISIC_0031734.jpg</th>\n",
       "      <td>ISIC_0031734.jpg</td>\n",
       "      <td>nv</td>\n",
       "      <td>0.411765</td>\n",
       "      <td>0.0</td>\n",
       "      <td>0.0</td>\n",
       "      <td>1.0</td>\n",
       "      <td>0.0</td>\n",
       "      <td>0.0</td>\n",
       "      <td>0.0</td>\n",
       "      <td>0.0</td>\n",
       "      <td>0.0</td>\n",
       "      <td>0.0</td>\n",
       "      <td>0.0</td>\n",
       "      <td>0.0</td>\n",
       "      <td>0.0</td>\n",
       "      <td>0.0</td>\n",
       "      <td>0.0</td>\n",
       "      <td>0.0</td>\n",
       "      <td>0.0</td>\n",
       "      <td>0.0</td>\n",
       "    </tr>\n",
       "    <tr>\n",
       "      <th>ISIC_0027788.jpg</th>\n",
       "      <td>ISIC_0027788.jpg</td>\n",
       "      <td>bcc</td>\n",
       "      <td>0.882353</td>\n",
       "      <td>0.0</td>\n",
       "      <td>0.0</td>\n",
       "      <td>0.0</td>\n",
       "      <td>1.0</td>\n",
       "      <td>0.0</td>\n",
       "      <td>1.0</td>\n",
       "      <td>0.0</td>\n",
       "      <td>0.0</td>\n",
       "      <td>0.0</td>\n",
       "      <td>0.0</td>\n",
       "      <td>0.0</td>\n",
       "      <td>0.0</td>\n",
       "      <td>0.0</td>\n",
       "      <td>0.0</td>\n",
       "      <td>0.0</td>\n",
       "      <td>0.0</td>\n",
       "      <td>0.0</td>\n",
       "    </tr>\n",
       "    <tr>\n",
       "      <th>ISIC_0024410.jpg</th>\n",
       "      <td>ISIC_0024410.jpg</td>\n",
       "      <td>mel</td>\n",
       "      <td>0.352941</td>\n",
       "      <td>1.0</td>\n",
       "      <td>0.0</td>\n",
       "      <td>0.0</td>\n",
       "      <td>1.0</td>\n",
       "      <td>0.0</td>\n",
       "      <td>0.0</td>\n",
       "      <td>1.0</td>\n",
       "      <td>0.0</td>\n",
       "      <td>0.0</td>\n",
       "      <td>0.0</td>\n",
       "      <td>0.0</td>\n",
       "      <td>0.0</td>\n",
       "      <td>0.0</td>\n",
       "      <td>0.0</td>\n",
       "      <td>0.0</td>\n",
       "      <td>0.0</td>\n",
       "      <td>0.0</td>\n",
       "    </tr>\n",
       "    <tr>\n",
       "      <th>ISIC_0029441.jpg</th>\n",
       "      <td>ISIC_0029441.jpg</td>\n",
       "      <td>nv</td>\n",
       "      <td>0.529412</td>\n",
       "      <td>1.0</td>\n",
       "      <td>0.0</td>\n",
       "      <td>0.0</td>\n",
       "      <td>1.0</td>\n",
       "      <td>0.0</td>\n",
       "      <td>0.0</td>\n",
       "      <td>0.0</td>\n",
       "      <td>0.0</td>\n",
       "      <td>0.0</td>\n",
       "      <td>0.0</td>\n",
       "      <td>0.0</td>\n",
       "      <td>0.0</td>\n",
       "      <td>1.0</td>\n",
       "      <td>0.0</td>\n",
       "      <td>0.0</td>\n",
       "      <td>0.0</td>\n",
       "      <td>0.0</td>\n",
       "    </tr>\n",
       "  </tbody>\n",
       "</table>\n",
       "</div>"
      ],
      "text/plain": [
       "                          image_id  ... localization_upper extremity\n",
       "image_id                            ...                             \n",
       "ISIC_0029009.jpg  ISIC_0029009.jpg  ...                          0.0\n",
       "ISIC_0031734.jpg  ISIC_0031734.jpg  ...                          0.0\n",
       "ISIC_0027788.jpg  ISIC_0027788.jpg  ...                          0.0\n",
       "ISIC_0024410.jpg  ISIC_0024410.jpg  ...                          0.0\n",
       "ISIC_0029441.jpg  ISIC_0029441.jpg  ...                          0.0\n",
       "\n",
       "[5 rows x 20 columns]"
      ]
     },
     "execution_count": 17,
     "metadata": {
      "tags": []
     },
     "output_type": "execute_result"
    }
   ],
   "source": [
    "X_test.head()"
   ]
  },
  {
   "cell_type": "code",
   "execution_count": null,
   "metadata": {
    "colab": {
     "base_uri": "https://localhost:8080/"
    },
    "id": "ZXy2Q6CqzOjH",
    "outputId": "109902ec-b536-4c6e-e46a-b96166bd3ea3"
   },
   "outputs": [
    {
     "data": {
      "text/plain": [
       "<KerasTensor: shape=(None, 18) dtype=float32 (created by layer 'demog')>"
      ]
     },
     "execution_count": 18,
     "metadata": {
      "tags": []
     },
     "output_type": "execute_result"
    }
   ],
   "source": [
    "from tensorflow.keras import Input,layers\n",
    "shape_inputs = (X_train.shape[1]-2,)\n",
    "demog  = Input(shape = shape_inputs, name='demog')\n",
    "demog"
   ]
  },
  {
   "cell_type": "code",
   "execution_count": null,
   "metadata": {
    "colab": {
     "base_uri": "https://localhost:8080/"
    },
    "id": "VGzSsF38x3RQ",
    "outputId": "e41e75b8-3374-4cce-f219-3e0e18fbf4bd"
   },
   "outputs": [
    {
     "name": "stdout",
     "output_type": "stream",
     "text": [
      "Found 8784 validated image filenames belonging to 7 classes.\n",
      "Found 977 validated image filenames belonging to 7 classes.\n"
     ]
    }
   ],
   "source": [
    "# All images will be rescaled by 1./255.\n",
    "train_datagen = ImageDataGenerator( rescale = 1.0/255. )\n",
    "val_datagen  = ImageDataGenerator( rescale = 1.0/255. )\n",
    "\n",
    "# --------------------\n",
    "# Flow training images in batches of 32 using train_datagen generator\n",
    "# --------------------\n",
    "train_generator = train_datagen.flow_from_dataframe(dataframe=X_train, directory=\"/content/drive/MyDrive/Kaggle Datasets/Skin Cancer MNIST/HAM10000\",\n",
    "                                                    x_col='image_id', y_col='dx',\n",
    "                                                    target_size=(150,150), color_mode='rgb', \n",
    "                                                    class_mode='sparse', batch_size=32, shuffle=False,\n",
    "                                                    seed=2020, save_format='jpg')     \n",
    "# --------------------\n",
    "# Flow validation images in batches of 32 using val_datagen generator\n",
    "# --------------------\n",
    "validation_generator =  val_datagen.flow_from_dataframe(dataframe=X_test, directory=\"/content/drive/MyDrive/Kaggle Datasets/Skin Cancer MNIST/HAM10000\",\n",
    "                                                    x_col='image_id', y_col='dx',\n",
    "                                                    target_size=(150,150), color_mode='rgb', \n",
    "                                                    class_mode='sparse', batch_size=32, shuffle=False,\n",
    "                                                    seed=2020, save_format='jpg')   "
   ]
  },
  {
   "cell_type": "code",
   "execution_count": null,
   "metadata": {
    "colab": {
     "base_uri": "https://localhost:8080/"
    },
    "id": "YMksvAz_I2ag",
    "outputId": "7c1d14ca-5d74-403a-9467-df37eb6e92b3"
   },
   "outputs": [
    {
     "data": {
      "text/plain": [
       "<KerasTensor: shape=(None, 150, 150, 3) dtype=int32 (created by layer 'main_input')>"
      ]
     },
     "execution_count": 20,
     "metadata": {
      "tags": []
     },
     "output_type": "execute_result"
    }
   ],
   "source": [
    "main_input = Input(shape=(150,150,3), dtype='int32', name='main_input')\n",
    "main_input"
   ]
  },
  {
   "cell_type": "code",
   "execution_count": null,
   "metadata": {
    "id": "QHZpbA4o50xA"
   },
   "outputs": [],
   "source": [
    "from tensorflow.keras.applications import InceptionV3\n",
    "pre_trained_model = InceptionV3(input_shape=(150, 150, 3),\n",
    "                                include_top=False,\n",
    "                                weights='imagenet',classes=7)\n"
   ]
  },
  {
   "cell_type": "code",
   "execution_count": null,
   "metadata": {
    "id": "fKWuvpAiCeDP"
   },
   "outputs": [],
   "source": [
    "#pre_trained_model.summary()"
   ]
  },
  {
   "cell_type": "code",
   "execution_count": null,
   "metadata": {
    "colab": {
     "base_uri": "https://localhost:8080/"
    },
    "id": "7LPkq70YBmDi",
    "outputId": "e6012f34-ed97-4fd4-b00d-c059f94e808d"
   },
   "outputs": [
    {
     "name": "stdout",
     "output_type": "stream",
     "text": [
      "last layer output shape:  (None, 3, 3, 2048)\n"
     ]
    }
   ],
   "source": [
    "# freeze the layers\n",
    "for layer in pre_trained_model.layers:\n",
    "    layer.trainable = False\n",
    "\n",
    "last_layer = pre_trained_model.get_layer('mixed10')\n",
    "print('last layer output shape: ', last_layer.output_shape)\n",
    "last_output = last_layer.output"
   ]
  },
  {
   "cell_type": "code",
   "execution_count": null,
   "metadata": {
    "id": "MKEYrmTXCmZQ"
   },
   "outputs": [],
   "source": [
    "# Flatten the output layer to 1 dimension\n",
    "flat_last = layers.Flatten()(last_output)\n"
   ]
  },
  {
   "cell_type": "code",
   "execution_count": null,
   "metadata": {
    "id": "gPMpRN0aF2Gz"
   },
   "outputs": [],
   "source": [
    "# Add a fully connected layer with 1,024 hidden units and ReLU activation\n",
    "added_layer1 = layers.Dense(1024, activation='relu')(flat_last)\n",
    "# Add a fully connected layer with 512 hidden units and ReLU activation\n",
    "added_layer2 = layers.Dense(512, activation='relu')(added_layer1)\n",
    "# Add a final sigmoid layer for classification\n",
    "output = layers.Dense(7, activation='softmax')(added_layer2)\n"
   ]
  },
  {
   "cell_type": "code",
   "execution_count": null,
   "metadata": {
    "id": "DRC1Y6tyIUDp"
   },
   "outputs": [],
   "source": [
    "inputs_train = {'demog': X2.iloc[:,2:].values,'main_input':train_generator}\n",
    "inputs_test = {'demog': X_test.iloc[:,2:],'main_input': validation_generator}\n",
    "model = tf.keras.Model(pre_trained_model.input, output)\n",
    "#tf.keras.utils.plot_model(model,'multi_output_model.png',show_shapes=True)"
   ]
  },
  {
   "cell_type": "code",
   "execution_count": null,
   "metadata": {
    "id": "gL_SQfQuUU0B"
   },
   "outputs": [],
   "source": [
    "model.compile(optimizer=Adam(lr=0.001),\n",
    "              loss='sparse_categorical_crossentropy',\n",
    "              metrics = ['acc'])"
   ]
  },
  {
   "cell_type": "code",
   "execution_count": null,
   "metadata": {
    "colab": {
     "base_uri": "https://localhost:8080/"
    },
    "id": "LZBqJOEuUdDb",
    "outputId": "4bcfbaef-00a9-4817-fbf1-6ea29f55576c"
   },
   "outputs": [
    {
     "name": "stdout",
     "output_type": "stream",
     "text": [
      "Epoch 1/500\n",
      "275/275 - 130s - loss: 1.4604 - acc: 0.6801 - val_loss: 0.8419 - val_acc: 0.7216\n",
      "Epoch 2/500\n",
      "275/275 - 97s - loss: 0.7232 - acc: 0.7490 - val_loss: 0.7727 - val_acc: 0.7359\n",
      "Epoch 3/500\n",
      "275/275 - 97s - loss: 0.5672 - acc: 0.7985 - val_loss: 0.8038 - val_acc: 0.7267\n",
      "Epoch 4/500\n",
      "275/275 - 98s - loss: 0.4386 - acc: 0.8440 - val_loss: 0.9579 - val_acc: 0.7431\n",
      "Epoch 5/500\n",
      "275/275 - 99s - loss: 0.2931 - acc: 0.8966 - val_loss: 0.8584 - val_acc: 0.7462\n",
      "Epoch 6/500\n",
      "275/275 - 98s - loss: 0.2102 - acc: 0.9254 - val_loss: 1.0169 - val_acc: 0.7165\n",
      "Epoch 7/500\n",
      "275/275 - 97s - loss: 0.1639 - acc: 0.9440 - val_loss: 1.0433 - val_acc: 0.7329\n",
      "Epoch 8/500\n",
      "275/275 - 97s - loss: 0.1242 - acc: 0.9581 - val_loss: 1.1059 - val_acc: 0.7206\n",
      "Epoch 9/500\n",
      "275/275 - 96s - loss: 0.0938 - acc: 0.9702 - val_loss: 1.2078 - val_acc: 0.7308\n",
      "Epoch 10/500\n",
      "275/275 - 96s - loss: 0.0938 - acc: 0.9711 - val_loss: 1.2343 - val_acc: 0.7462\n",
      "Epoch 11/500\n",
      "275/275 - 96s - loss: 0.0899 - acc: 0.9705 - val_loss: 1.4956 - val_acc: 0.7339\n",
      "Epoch 12/500\n",
      "275/275 - 96s - loss: 0.0761 - acc: 0.9752 - val_loss: 1.4080 - val_acc: 0.7451\n",
      "Restoring model weights from the end of the best epoch.\n",
      "Epoch 00012: early stopping\n"
     ]
    }
   ],
   "source": [
    "from tensorflow.keras.callbacks import EarlyStopping\n",
    "monitor = EarlyStopping(monitor='val_loss', min_delta=0.001, patience=10, verbose=2, mode='auto',\n",
    "        restore_best_weights=True)\n",
    "history = model.fit(train_generator,validation_data=validation_generator,\n",
    "                     callbacks=[monitor],verbose=2,epochs=500)"
   ]
  },
  {
   "cell_type": "code",
   "execution_count": null,
   "metadata": {
    "colab": {
     "base_uri": "https://localhost:8080/",
     "height": 295
    },
    "id": "R_HuDnFqUgVS",
    "outputId": "8e3849a4-b5f3-427d-d6a1-3626b4dc8ac8"
   },
   "outputs": [
    {
     "data": {
      "image/png": "[encoded data removed]",
      "text/plain": [
       "<Figure size 432x288 with 1 Axes>"
      ]
     },
     "metadata": {
      "needs_background": "light",
      "tags": []
     },
     "output_type": "display_data"
    }
   ],
   "source": [
    "import matplotlib.pyplot as plt\n",
    "plt.plot(history.history['loss'])\n",
    "plt.plot(history.history['val_loss'])\n",
    "plt.title('model loss')\n",
    "plt.ylabel('loss')\n",
    "plt.xlabel('epoch')\n",
    "plt.legend(['train', 'test'], loc='upper right')\n",
    "plt.show()"
   ]
  },
  {
   "cell_type": "code",
   "execution_count": null,
   "metadata": {
    "id": "98CPUpKde2yr"
   },
   "outputs": [],
   "source": [
    "trn_prob = model.predict(train_generator)"
   ]
  },
  {
   "cell_type": "code",
   "execution_count": null,
   "metadata": {
    "colab": {
     "base_uri": "https://localhost:8080/"
    },
    "id": "ORtkE6QixpY8",
    "outputId": "2e90e249-f0b6-4cdf-9e3b-59efa86be571"
   },
   "outputs": [
    {
     "data": {
      "text/plain": [
       "(8784, 7)"
      ]
     },
     "execution_count": 31,
     "metadata": {
      "tags": []
     },
     "output_type": "execute_result"
    }
   ],
   "source": [
    "trn_prob.shape"
   ]
  },
  {
   "cell_type": "code",
   "execution_count": null,
   "metadata": {
    "colab": {
     "base_uri": "https://localhost:8080/"
    },
    "id": "VM3dCV91UkMq",
    "outputId": "8c5f69f1-8c13-450c-cef0-e3a604a72401"
   },
   "outputs": [
    {
     "name": "stdout",
     "output_type": "stream",
     "text": [
      "INFO:tensorflow:Assets written to: /content/drive/MyDrive/Kaggle Datasets/Skin Cancer MNIST/model_22_mar_incep/assets\n"
     ]
    }
   ],
   "source": [
    "tf.keras.models.save_model(model=model, filepath=\"/content/drive/MyDrive/Kaggle Datasets/Skin Cancer MNIST/model_22_mar_incep\")"
   ]
  },
  {
   "cell_type": "code",
   "execution_count": null,
   "metadata": {
    "colab": {
     "base_uri": "https://localhost:8080/"
    },
    "id": "48hg5bwXUsm5",
    "outputId": "97d0b7a8-058a-4140-b19f-5397e12fae4f"
   },
   "outputs": [
    {
     "name": "stdout",
     "output_type": "stream",
     "text": [
      "['akiec' 'bcc' 'bkl' 'df' 'mel' 'nv' 'vasc']\n"
     ]
    }
   ],
   "source": [
    "categories = np.array(df_1[\"dx\"].unique())\n",
    "categories = np.sort(categories)\n",
    "print(categories)"
   ]
  },
  {
   "cell_type": "code",
   "execution_count": null,
   "metadata": {
    "colab": {
     "base_uri": "https://localhost:8080/",
     "height": 202
    },
    "id": "o3QIXuKHx_O9",
    "outputId": "a4282203-c5cd-4af2-f29e-67fd90fce5b2"
   },
   "outputs": [
    {
     "data": {
      "application/vnd.google.colaboratory.module+javascript": "\n      import \"https://ssl.gstatic.com/colaboratory/data_table/a6224c040fa35dcf/data_table.js\";\n\n      window.createDataTable({\n        data: [[\"ISIC_0029509.jpg\",\n{\n            'v': 2.8816324629588053e-05,\n            'f': \"2.8816324629588053e-05\",\n        },\n{\n            'v': 7.251023635035381e-05,\n            'f': \"7.251023635035381e-05\",\n        },\n{\n            'v': 0.007391760125756264,\n            'f': \"0.007391760125756264\",\n        },\n{\n            'v': 6.294723425526172e-05,\n            'f': \"6.294723425526172e-05\",\n        },\n{\n            'v': 0.0003695070918183774,\n            'f': \"0.0003695070918183774\",\n        },\n{\n            'v': 0.9919533133506775,\n            'f': \"0.9919533133506775\",\n        },\n{\n            'v': 0.00012105231144232675,\n            'f': \"0.00012105231144232675\",\n        }],\n [\"ISIC_0033886.jpg\",\n{\n            'v': 0.017985837534070015,\n            'f': \"0.017985837534070015\",\n        },\n{\n            'v': 0.024556690827012062,\n            'f': \"0.024556690827012062\",\n        },\n{\n            'v': 0.19737303256988525,\n            'f': \"0.19737303256988525\",\n        },\n{\n            'v': 0.035288453102111816,\n            'f': \"0.035288453102111816\",\n        },\n{\n            'v': 0.05406362563371658,\n            'f': \"0.05406362563371658\",\n        },\n{\n            'v': 0.6658951640129089,\n            'f': \"0.6658951640129089\",\n        },\n{\n            'v': 0.004837131127715111,\n            'f': \"0.004837131127715111\",\n        }],\n [\"ISIC_0027488.jpg\",\n{\n            'v': 0.00992934312671423,\n            'f': \"0.00992934312671423\",\n        },\n{\n            'v': 0.029940569773316383,\n            'f': \"0.029940569773316383\",\n        },\n{\n            'v': 0.04210193455219269,\n            'f': \"0.04210193455219269\",\n        },\n{\n            'v': 0.17942409217357635,\n            'f': \"0.17942409217357635\",\n        },\n{\n            'v': 0.011522776447236538,\n            'f': \"0.011522776447236538\",\n        },\n{\n            'v': 0.725567638874054,\n            'f': \"0.725567638874054\",\n        },\n{\n            'v': 0.0015136381844058633,\n            'f': \"0.0015136381844058633\",\n        }],\n [\"ISIC_0033144.jpg\",\n{\n            'v': 0.00243195123039186,\n            'f': \"0.00243195123039186\",\n        },\n{\n            'v': 0.005929660517722368,\n            'f': \"0.005929660517722368\",\n        },\n{\n            'v': 0.03600010648369789,\n            'f': \"0.03600010648369789\",\n        },\n{\n            'v': 0.001192342140711844,\n            'f': \"0.001192342140711844\",\n        },\n{\n            'v': 0.1199796199798584,\n            'f': \"0.1199796199798584\",\n        },\n{\n            'v': 0.5183132886886597,\n            'f': \"0.5183132886886597\",\n        },\n{\n            'v': 0.31615304946899414,\n            'f': \"0.31615304946899414\",\n        }],\n [\"ISIC_0024832.jpg\",\n{\n            'v': 0.00047032974543981254,\n            'f': \"0.00047032974543981254\",\n        },\n{\n            'v': 0.0021196131128817797,\n            'f': \"0.0021196131128817797\",\n        },\n{\n            'v': 0.1060626283288002,\n            'f': \"0.1060626283288002\",\n        },\n{\n            'v': 0.00044575927313417196,\n            'f': \"0.00044575927313417196\",\n        },\n{\n            'v': 0.03535443916916847,\n            'f': \"0.03535443916916847\",\n        },\n{\n            'v': 0.8474135994911194,\n            'f': \"0.8474135994911194\",\n        },\n{\n            'v': 0.008133726194500923,\n            'f': \"0.008133726194500923\",\n        }]],\n        columns: [[\"string\", \"image_id\"], [\"number\", \"akiec\"], [\"number\", \"bcc\"], [\"number\", \"bkl\"], [\"number\", \"df\"], [\"number\", \"mel\"], [\"number\", \"nv\"], [\"number\", \"vasc\"]],\n        columnOptions: [{\"width\": \"1px\", \"className\": \"index_column\"}],\n        rowsPerPage: 25,\n        helpUrl: \"https://colab.research.google.com/notebooks/data_table.ipynb\",\n        suppressOutputScrolling: true,\n        minimumWidth: undefined,\n      });\n    ",
      "text/html": [
       "<div>\n",
       "<style scoped>\n",
       "    .dataframe tbody tr th:only-of-type {\n",
       "        vertical-align: middle;\n",
       "    }\n",
       "\n",
       "    .dataframe tbody tr th {\n",
       "        vertical-align: top;\n",
       "    }\n",
       "\n",
       "    .dataframe thead th {\n",
       "        text-align: right;\n",
       "    }\n",
       "</style>\n",
       "<table border=\"1\" class=\"dataframe\">\n",
       "  <thead>\n",
       "    <tr style=\"text-align: right;\">\n",
       "      <th></th>\n",
       "      <th>akiec</th>\n",
       "      <th>bcc</th>\n",
       "      <th>bkl</th>\n",
       "      <th>df</th>\n",
       "      <th>mel</th>\n",
       "      <th>nv</th>\n",
       "      <th>vasc</th>\n",
       "    </tr>\n",
       "    <tr>\n",
       "      <th>image_id</th>\n",
       "      <th></th>\n",
       "      <th></th>\n",
       "      <th></th>\n",
       "      <th></th>\n",
       "      <th></th>\n",
       "      <th></th>\n",
       "      <th></th>\n",
       "    </tr>\n",
       "  </thead>\n",
       "  <tbody>\n",
       "    <tr>\n",
       "      <th>ISIC_0029509.jpg</th>\n",
       "      <td>0.000029</td>\n",
       "      <td>0.000073</td>\n",
       "      <td>0.007392</td>\n",
       "      <td>0.000063</td>\n",
       "      <td>0.000370</td>\n",
       "      <td>0.991953</td>\n",
       "      <td>0.000121</td>\n",
       "    </tr>\n",
       "    <tr>\n",
       "      <th>ISIC_0033886.jpg</th>\n",
       "      <td>0.017986</td>\n",
       "      <td>0.024557</td>\n",
       "      <td>0.197373</td>\n",
       "      <td>0.035288</td>\n",
       "      <td>0.054064</td>\n",
       "      <td>0.665895</td>\n",
       "      <td>0.004837</td>\n",
       "    </tr>\n",
       "    <tr>\n",
       "      <th>ISIC_0027488.jpg</th>\n",
       "      <td>0.009929</td>\n",
       "      <td>0.029941</td>\n",
       "      <td>0.042102</td>\n",
       "      <td>0.179424</td>\n",
       "      <td>0.011523</td>\n",
       "      <td>0.725568</td>\n",
       "      <td>0.001514</td>\n",
       "    </tr>\n",
       "    <tr>\n",
       "      <th>ISIC_0033144.jpg</th>\n",
       "      <td>0.002432</td>\n",
       "      <td>0.005930</td>\n",
       "      <td>0.036000</td>\n",
       "      <td>0.001192</td>\n",
       "      <td>0.119980</td>\n",
       "      <td>0.518313</td>\n",
       "      <td>0.316153</td>\n",
       "    </tr>\n",
       "    <tr>\n",
       "      <th>ISIC_0024832.jpg</th>\n",
       "      <td>0.000470</td>\n",
       "      <td>0.002120</td>\n",
       "      <td>0.106063</td>\n",
       "      <td>0.000446</td>\n",
       "      <td>0.035354</td>\n",
       "      <td>0.847414</td>\n",
       "      <td>0.008134</td>\n",
       "    </tr>\n",
       "  </tbody>\n",
       "</table>\n",
       "</div>"
      ],
      "text/plain": [
       "                     akiec       bcc       bkl  ...       mel        nv      vasc\n",
       "image_id                                        ...                              \n",
       "ISIC_0029509.jpg  0.000029  0.000073  0.007392  ...  0.000370  0.991953  0.000121\n",
       "ISIC_0033886.jpg  0.017986  0.024557  0.197373  ...  0.054064  0.665895  0.004837\n",
       "ISIC_0027488.jpg  0.009929  0.029941  0.042102  ...  0.011523  0.725568  0.001514\n",
       "ISIC_0033144.jpg  0.002432  0.005930  0.036000  ...  0.119980  0.518313  0.316153\n",
       "ISIC_0024832.jpg  0.000470  0.002120  0.106063  ...  0.035354  0.847414  0.008134\n",
       "\n",
       "[5 rows x 7 columns]"
      ]
     },
     "execution_count": 34,
     "metadata": {
      "tags": []
     },
     "output_type": "execute_result"
    }
   ],
   "source": [
    "details_train = X_train.iloc[:,2:]\n",
    "train_prob = pd.DataFrame(trn_prob,index=X_train.index,columns=categories)\n",
    "train_prob.head()"
   ]
  },
  {
   "cell_type": "code",
   "execution_count": null,
   "metadata": {
    "colab": {
     "base_uri": "https://localhost:8080/",
     "height": 262
    },
    "id": "-XOxed7Zy7dn",
    "outputId": "d6429f9e-e1d0-440a-c5b5-a2d02f59389f"
   },
   "outputs": [
    {
     "data": {
      "text/html": [
       "<div>\n",
       "<style scoped>\n",
       "    .dataframe tbody tr th:only-of-type {\n",
       "        vertical-align: middle;\n",
       "    }\n",
       "\n",
       "    .dataframe tbody tr th {\n",
       "        vertical-align: top;\n",
       "    }\n",
       "\n",
       "    .dataframe thead th {\n",
       "        text-align: right;\n",
       "    }\n",
       "</style>\n",
       "<table border=\"1\" class=\"dataframe\">\n",
       "  <thead>\n",
       "    <tr style=\"text-align: right;\">\n",
       "      <th></th>\n",
       "      <th>age</th>\n",
       "      <th>sex_male</th>\n",
       "      <th>dx_type_consensus</th>\n",
       "      <th>dx_type_follow_up</th>\n",
       "      <th>dx_type_histo</th>\n",
       "      <th>localization_acral</th>\n",
       "      <th>localization_back</th>\n",
       "      <th>localization_chest</th>\n",
       "      <th>localization_ear</th>\n",
       "      <th>localization_face</th>\n",
       "      <th>localization_foot</th>\n",
       "      <th>localization_genital</th>\n",
       "      <th>localization_hand</th>\n",
       "      <th>localization_lower extremity</th>\n",
       "      <th>localization_neck</th>\n",
       "      <th>localization_scalp</th>\n",
       "      <th>localization_trunk</th>\n",
       "      <th>localization_upper extremity</th>\n",
       "      <th>akiec</th>\n",
       "      <th>bcc</th>\n",
       "      <th>bkl</th>\n",
       "      <th>df</th>\n",
       "      <th>mel</th>\n",
       "      <th>nv</th>\n",
       "      <th>vasc</th>\n",
       "    </tr>\n",
       "    <tr>\n",
       "      <th>image_id</th>\n",
       "      <th></th>\n",
       "      <th></th>\n",
       "      <th></th>\n",
       "      <th></th>\n",
       "      <th></th>\n",
       "      <th></th>\n",
       "      <th></th>\n",
       "      <th></th>\n",
       "      <th></th>\n",
       "      <th></th>\n",
       "      <th></th>\n",
       "      <th></th>\n",
       "      <th></th>\n",
       "      <th></th>\n",
       "      <th></th>\n",
       "      <th></th>\n",
       "      <th></th>\n",
       "      <th></th>\n",
       "      <th></th>\n",
       "      <th></th>\n",
       "      <th></th>\n",
       "      <th></th>\n",
       "      <th></th>\n",
       "      <th></th>\n",
       "      <th></th>\n",
       "    </tr>\n",
       "  </thead>\n",
       "  <tbody>\n",
       "    <tr>\n",
       "      <th>ISIC_0029509.jpg</th>\n",
       "      <td>0.764706</td>\n",
       "      <td>1.0</td>\n",
       "      <td>0.0</td>\n",
       "      <td>1.0</td>\n",
       "      <td>0.0</td>\n",
       "      <td>0.0</td>\n",
       "      <td>1.0</td>\n",
       "      <td>0.0</td>\n",
       "      <td>0.0</td>\n",
       "      <td>0.0</td>\n",
       "      <td>0.0</td>\n",
       "      <td>0.0</td>\n",
       "      <td>0.0</td>\n",
       "      <td>0.0</td>\n",
       "      <td>0.0</td>\n",
       "      <td>0.0</td>\n",
       "      <td>0.0</td>\n",
       "      <td>0.0</td>\n",
       "      <td>0.000029</td>\n",
       "      <td>0.000073</td>\n",
       "      <td>0.007392</td>\n",
       "      <td>0.000063</td>\n",
       "      <td>0.000370</td>\n",
       "      <td>0.991953</td>\n",
       "      <td>0.000121</td>\n",
       "    </tr>\n",
       "    <tr>\n",
       "      <th>ISIC_0033886.jpg</th>\n",
       "      <td>0.705882</td>\n",
       "      <td>1.0</td>\n",
       "      <td>0.0</td>\n",
       "      <td>0.0</td>\n",
       "      <td>1.0</td>\n",
       "      <td>0.0</td>\n",
       "      <td>0.0</td>\n",
       "      <td>0.0</td>\n",
       "      <td>0.0</td>\n",
       "      <td>0.0</td>\n",
       "      <td>0.0</td>\n",
       "      <td>0.0</td>\n",
       "      <td>0.0</td>\n",
       "      <td>1.0</td>\n",
       "      <td>0.0</td>\n",
       "      <td>0.0</td>\n",
       "      <td>0.0</td>\n",
       "      <td>0.0</td>\n",
       "      <td>0.017986</td>\n",
       "      <td>0.024557</td>\n",
       "      <td>0.197373</td>\n",
       "      <td>0.035288</td>\n",
       "      <td>0.054064</td>\n",
       "      <td>0.665895</td>\n",
       "      <td>0.004837</td>\n",
       "    </tr>\n",
       "    <tr>\n",
       "      <th>ISIC_0027488.jpg</th>\n",
       "      <td>0.529412</td>\n",
       "      <td>1.0</td>\n",
       "      <td>1.0</td>\n",
       "      <td>0.0</td>\n",
       "      <td>0.0</td>\n",
       "      <td>0.0</td>\n",
       "      <td>0.0</td>\n",
       "      <td>0.0</td>\n",
       "      <td>0.0</td>\n",
       "      <td>0.0</td>\n",
       "      <td>0.0</td>\n",
       "      <td>0.0</td>\n",
       "      <td>0.0</td>\n",
       "      <td>1.0</td>\n",
       "      <td>0.0</td>\n",
       "      <td>0.0</td>\n",
       "      <td>0.0</td>\n",
       "      <td>0.0</td>\n",
       "      <td>0.009929</td>\n",
       "      <td>0.029941</td>\n",
       "      <td>0.042102</td>\n",
       "      <td>0.179424</td>\n",
       "      <td>0.011523</td>\n",
       "      <td>0.725568</td>\n",
       "      <td>0.001514</td>\n",
       "    </tr>\n",
       "    <tr>\n",
       "      <th>ISIC_0033144.jpg</th>\n",
       "      <td>1.000000</td>\n",
       "      <td>1.0</td>\n",
       "      <td>1.0</td>\n",
       "      <td>0.0</td>\n",
       "      <td>0.0</td>\n",
       "      <td>0.0</td>\n",
       "      <td>1.0</td>\n",
       "      <td>0.0</td>\n",
       "      <td>0.0</td>\n",
       "      <td>0.0</td>\n",
       "      <td>0.0</td>\n",
       "      <td>0.0</td>\n",
       "      <td>0.0</td>\n",
       "      <td>0.0</td>\n",
       "      <td>0.0</td>\n",
       "      <td>0.0</td>\n",
       "      <td>0.0</td>\n",
       "      <td>0.0</td>\n",
       "      <td>0.002432</td>\n",
       "      <td>0.005930</td>\n",
       "      <td>0.036000</td>\n",
       "      <td>0.001192</td>\n",
       "      <td>0.119980</td>\n",
       "      <td>0.518313</td>\n",
       "      <td>0.316153</td>\n",
       "    </tr>\n",
       "    <tr>\n",
       "      <th>ISIC_0024832.jpg</th>\n",
       "      <td>0.470588</td>\n",
       "      <td>0.0</td>\n",
       "      <td>0.0</td>\n",
       "      <td>0.0</td>\n",
       "      <td>1.0</td>\n",
       "      <td>0.0</td>\n",
       "      <td>0.0</td>\n",
       "      <td>0.0</td>\n",
       "      <td>0.0</td>\n",
       "      <td>1.0</td>\n",
       "      <td>0.0</td>\n",
       "      <td>0.0</td>\n",
       "      <td>0.0</td>\n",
       "      <td>0.0</td>\n",
       "      <td>0.0</td>\n",
       "      <td>0.0</td>\n",
       "      <td>0.0</td>\n",
       "      <td>0.0</td>\n",
       "      <td>0.000470</td>\n",
       "      <td>0.002120</td>\n",
       "      <td>0.106063</td>\n",
       "      <td>0.000446</td>\n",
       "      <td>0.035354</td>\n",
       "      <td>0.847414</td>\n",
       "      <td>0.008134</td>\n",
       "    </tr>\n",
       "  </tbody>\n",
       "</table>\n",
       "</div>"
      ],
      "text/plain": [
       "                       age  sex_male  ...        nv      vasc\n",
       "image_id                              ...                    \n",
       "ISIC_0029509.jpg  0.764706       1.0  ...  0.991953  0.000121\n",
       "ISIC_0033886.jpg  0.705882       1.0  ...  0.665895  0.004837\n",
       "ISIC_0027488.jpg  0.529412       1.0  ...  0.725568  0.001514\n",
       "ISIC_0033144.jpg  1.000000       1.0  ...  0.518313  0.316153\n",
       "ISIC_0024832.jpg  0.470588       0.0  ...  0.847414  0.008134\n",
       "\n",
       "[5 rows x 25 columns]"
      ]
     },
     "execution_count": 35,
     "metadata": {
      "tags": []
     },
     "output_type": "execute_result"
    }
   ],
   "source": [
    "combined_train = pd.concat([details_train,train_prob],axis=1)\n",
    "combined_train.head()"
   ]
  },
  {
   "cell_type": "code",
   "execution_count": null,
   "metadata": {
    "colab": {
     "base_uri": "https://localhost:8080/"
    },
    "id": "Dj4gj-96zTBL",
    "outputId": "8d44a29d-f912-4520-cc13-b58678a9eef5"
   },
   "outputs": [
    {
     "data": {
      "text/plain": [
       "(8784, 25)"
      ]
     },
     "execution_count": 36,
     "metadata": {
      "tags": []
     },
     "output_type": "execute_result"
    }
   ],
   "source": [
    "combined_train.shape"
   ]
  },
  {
   "cell_type": "code",
   "execution_count": null,
   "metadata": {
    "id": "qL4SCTv7zZN_"
   },
   "outputs": [],
   "source": []
  }
 ],
 "metadata": {
  "accelerator": "GPU",
  "colab": {
   "collapsed_sections": [],
   "name": "Skin_MNIST_data.ipynb",
   "provenance": []
  },
  "kernelspec": {
   "display_name": "Python 3 (ipykernel)",
   "language": "python",
   "name": "python3"
  },
  "language_info": {
   "codemirror_mode": {
    "name": "ipython",
    "version": 3
   },
   "file_extension": ".py",
   "mimetype": "text/x-python",
   "name": "python",
   "nbconvert_exporter": "python",
   "pygments_lexer": "ipython3",
   "version": "3.8.18"
  }
 },
 "nbformat": 4,
 "nbformat_minor": 1
}
