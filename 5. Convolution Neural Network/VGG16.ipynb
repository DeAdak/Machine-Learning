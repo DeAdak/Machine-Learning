{
 "cells": [
  {
   "cell_type": "code",
   "execution_count": 1,
   "id": "6fdf9bc3",
   "metadata": {},
   "outputs": [],
   "source": [
    "train_dir = r\"C:\\Users\\R\\Downloads\\Messy vs Clean Room\\train\"\n",
    "validation_dir = r\"C:\\Users\\R\\Downloads\\Messy vs Clean Room\\val\""
   ]
  },
  {
   "cell_type": "code",
   "execution_count": 2,
   "id": "477d45cb",
   "metadata": {},
   "outputs": [],
   "source": [
    "from tensorflow.keras.preprocessing.image import ImageDataGenerator\n",
    "\n",
    "# All images will be rescaled by 1./255.\n",
    "train_datagen = ImageDataGenerator( rescale = 1.0/255. )\n",
    "test_datagen  = ImageDataGenerator( rescale = 1.0/255. )"
   ]
  },
  {
   "cell_type": "code",
   "execution_count": 3,
   "id": "62a02ab3",
   "metadata": {},
   "outputs": [
    {
     "name": "stdout",
     "output_type": "stream",
     "text": [
      "Found 192 images belonging to 2 classes.\n",
      "Found 20 images belonging to 2 classes.\n"
     ]
    }
   ],
   "source": [
    "train_generator = train_datagen.flow_from_directory(\n",
    "    directory=train_dir, target_size=(150, 150), color_mode='rgb', class_mode='binary', batch_size=32, shuffle=True, \n",
    "    seed=2021)\n",
    "validation_generator = test_datagen.flow_from_directory(\n",
    "    directory=validation_dir, target_size=(150, 150), color_mode='rgb', class_mode='binary', batch_size=32, shuffle=True, \n",
    "    seed=2021)\n",
    "#color_mode = grayscale for B/W images"
   ]
  },
  {
   "cell_type": "code",
   "execution_count": 4,
   "id": "aa9b2738",
   "metadata": {},
   "outputs": [],
   "source": [
    "import numpy as np\n",
    "%matplotlib inline\n",
    "import matplotlib.image as mpimg\n",
    "import matplotlib.pyplot as plt\n",
    "import tensorflow as tf"
   ]
  },
  {
   "cell_type": "markdown",
   "id": "170d7204",
   "metadata": {},
   "source": [
    "## VGG16"
   ]
  },
  {
   "cell_type": "code",
   "execution_count": 5,
   "id": "754a3f56",
   "metadata": {},
   "outputs": [],
   "source": [
    "from tensorflow.keras.applications.vgg16 import VGG16\n",
    "pre_trained_model = VGG16(input_shape=(224, 224, 3),include_top=False,\n",
    "                                pooling='max', weights='imagenet')"
   ]
  },
  {
   "cell_type": "code",
   "execution_count": 6,
   "id": "3f9cc142",
   "metadata": {},
   "outputs": [
    {
     "name": "stdout",
     "output_type": "stream",
     "text": [
      "Model: \"vgg16\"\n",
      "_________________________________________________________________\n",
      " Layer (type)                Output Shape              Param #   \n",
      "=================================================================\n",
      " input_1 (InputLayer)        [(None, 224, 224, 3)]     0         \n",
      "                                                                 \n",
      " block1_conv1 (Conv2D)       (None, 224, 224, 64)      1792      \n",
      "                                                                 \n",
      " block1_conv2 (Conv2D)       (None, 224, 224, 64)      36928     \n",
      "                                                                 \n",
      " block1_pool (MaxPooling2D)  (None, 112, 112, 64)      0         \n",
      "                                                                 \n",
      " block2_conv1 (Conv2D)       (None, 112, 112, 128)     73856     \n",
      "                                                                 \n",
      " block2_conv2 (Conv2D)       (None, 112, 112, 128)     147584    \n",
      "                                                                 \n",
      " block2_pool (MaxPooling2D)  (None, 56, 56, 128)       0         \n",
      "                                                                 \n",
      " block3_conv1 (Conv2D)       (None, 56, 56, 256)       295168    \n",
      "                                                                 \n",
      " block3_conv2 (Conv2D)       (None, 56, 56, 256)       590080    \n",
      "                                                                 \n",
      " block3_conv3 (Conv2D)       (None, 56, 56, 256)       590080    \n",
      "                                                                 \n",
      " block3_pool (MaxPooling2D)  (None, 28, 28, 256)       0         \n",
      "                                                                 \n",
      " block4_conv1 (Conv2D)       (None, 28, 28, 512)       1180160   \n",
      "                                                                 \n",
      " block4_conv2 (Conv2D)       (None, 28, 28, 512)       2359808   \n",
      "                                                                 \n",
      " block4_conv3 (Conv2D)       (None, 28, 28, 512)       2359808   \n",
      "                                                                 \n",
      " block4_pool (MaxPooling2D)  (None, 14, 14, 512)       0         \n",
      "                                                                 \n",
      " block5_conv1 (Conv2D)       (None, 14, 14, 512)       2359808   \n",
      "                                                                 \n",
      " block5_conv2 (Conv2D)       (None, 14, 14, 512)       2359808   \n",
      "                                                                 \n",
      " block5_conv3 (Conv2D)       (None, 14, 14, 512)       2359808   \n",
      "                                                                 \n",
      " block5_pool (MaxPooling2D)  (None, 7, 7, 512)         0         \n",
      "                                                                 \n",
      " global_max_pooling2d (Globa  (None, 512)              0         \n",
      " lMaxPooling2D)                                                  \n",
      "                                                                 \n",
      "=================================================================\n",
      "Total params: 14,714,688\n",
      "Trainable params: 14,714,688\n",
      "Non-trainable params: 0\n",
      "_________________________________________________________________\n",
      "None\n"
     ]
    }
   ],
   "source": [
    "print(pre_trained_model.summary())"
   ]
  },
  {
   "cell_type": "code",
   "execution_count": 7,
   "id": "0dec286b",
   "metadata": {},
   "outputs": [
    {
     "name": "stdout",
     "output_type": "stream",
     "text": [
      "last layer output shape:  (None, 512)\n"
     ]
    }
   ],
   "source": [
    "# freeze the layers\n",
    "for layer in pre_trained_model.layers:\n",
    "    layer.trainable = False\n",
    "\n",
    "last_layer = pre_trained_model.get_layer('global_max_pooling2d')\n",
    "print('last layer output shape: ', last_layer.output_shape)\n",
    "last_output = last_layer.output"
   ]
  },
  {
   "cell_type": "code",
   "execution_count": 8,
   "id": "83aa1f35",
   "metadata": {},
   "outputs": [],
   "source": [
    "from tensorflow.keras import layers\n",
    "from tensorflow.keras import Model"
   ]
  },
  {
   "cell_type": "code",
   "execution_count": 9,
   "id": "c5efcff5",
   "metadata": {},
   "outputs": [
    {
     "name": "stdout",
     "output_type": "stream",
     "text": [
      "Model: \"model\"\n",
      "_________________________________________________________________\n",
      " Layer (type)                Output Shape              Param #   \n",
      "=================================================================\n",
      " input_1 (InputLayer)        [(None, 224, 224, 3)]     0         \n",
      "                                                                 \n",
      " block1_conv1 (Conv2D)       (None, 224, 224, 64)      1792      \n",
      "                                                                 \n",
      " block1_conv2 (Conv2D)       (None, 224, 224, 64)      36928     \n",
      "                                                                 \n",
      " block1_pool (MaxPooling2D)  (None, 112, 112, 64)      0         \n",
      "                                                                 \n",
      " block2_conv1 (Conv2D)       (None, 112, 112, 128)     73856     \n",
      "                                                                 \n",
      " block2_conv2 (Conv2D)       (None, 112, 112, 128)     147584    \n",
      "                                                                 \n",
      " block2_pool (MaxPooling2D)  (None, 56, 56, 128)       0         \n",
      "                                                                 \n",
      " block3_conv1 (Conv2D)       (None, 56, 56, 256)       295168    \n",
      "                                                                 \n",
      " block3_conv2 (Conv2D)       (None, 56, 56, 256)       590080    \n",
      "                                                                 \n",
      " block3_conv3 (Conv2D)       (None, 56, 56, 256)       590080    \n",
      "                                                                 \n",
      " block3_pool (MaxPooling2D)  (None, 28, 28, 256)       0         \n",
      "                                                                 \n",
      " block4_conv1 (Conv2D)       (None, 28, 28, 512)       1180160   \n",
      "                                                                 \n",
      " block4_conv2 (Conv2D)       (None, 28, 28, 512)       2359808   \n",
      "                                                                 \n",
      " block4_conv3 (Conv2D)       (None, 28, 28, 512)       2359808   \n",
      "                                                                 \n",
      " block4_pool (MaxPooling2D)  (None, 14, 14, 512)       0         \n",
      "                                                                 \n",
      " block5_conv1 (Conv2D)       (None, 14, 14, 512)       2359808   \n",
      "                                                                 \n",
      " block5_conv2 (Conv2D)       (None, 14, 14, 512)       2359808   \n",
      "                                                                 \n",
      " block5_conv3 (Conv2D)       (None, 14, 14, 512)       2359808   \n",
      "                                                                 \n",
      " block5_pool (MaxPooling2D)  (None, 7, 7, 512)         0         \n",
      "                                                                 \n",
      " global_max_pooling2d (Globa  (None, 512)              0         \n",
      " lMaxPooling2D)                                                  \n",
      "                                                                 \n",
      " dense (Dense)               (None, 256)               131328    \n",
      "                                                                 \n",
      " dense_1 (Dense)             (None, 1)                 257       \n",
      "                                                                 \n",
      "=================================================================\n",
      "Total params: 14,846,273\n",
      "Trainable params: 131,585\n",
      "Non-trainable params: 14,714,688\n",
      "_________________________________________________________________\n",
      "None\n"
     ]
    }
   ],
   "source": [
    "# Add a fully connected layer with 1,024 hidden units and ReLU activation\n",
    "x = tf.keras.layers.Dense(256, activation='relu')(last_output)\n",
    "# Add a final sigmoid layer for classification\n",
    "x = tf.keras.layers.Dense(1, activation='sigmoid')(x)\n",
    "\n",
    "model = Model(pre_trained_model.input, x)\n",
    "print(model.summary())"
   ]
  },
  {
   "cell_type": "code",
   "execution_count": 10,
   "id": "8adcb439",
   "metadata": {},
   "outputs": [
    {
     "name": "stdout",
     "output_type": "stream",
     "text": [
      "Epoch 1/50\n",
      "6/6 - 442s - loss: 0.7245 - accuracy: 0.5990 - val_loss: 0.5076 - val_accuracy: 0.6500 - 442s/epoch - 74s/step\n",
      "Epoch 2/50\n",
      "6/6 - 229s - loss: 0.3936 - accuracy: 0.8177 - val_loss: 0.3945 - val_accuracy: 0.8000 - 229s/epoch - 38s/step\n",
      "Epoch 3/50\n",
      "6/6 - 222s - loss: 0.3150 - accuracy: 0.8906 - val_loss: 0.2356 - val_accuracy: 0.9500 - 222s/epoch - 37s/step\n",
      "Epoch 4/50\n",
      "6/6 - 394s - loss: 0.2289 - accuracy: 0.9323 - val_loss: 0.2127 - val_accuracy: 0.9500 - 394s/epoch - 66s/step\n",
      "Epoch 5/50\n",
      "6/6 - 333s - loss: 0.1868 - accuracy: 0.9531 - val_loss: 0.1765 - val_accuracy: 0.9500 - 333s/epoch - 56s/step\n",
      "Epoch 6/50\n",
      "6/6 - 256s - loss: 0.1603 - accuracy: 0.9583 - val_loss: 0.1685 - val_accuracy: 0.9500 - 256s/epoch - 43s/step\n",
      "Epoch 7/50\n",
      "6/6 - 237s - loss: 0.1381 - accuracy: 0.9635 - val_loss: 0.1526 - val_accuracy: 0.9500 - 237s/epoch - 39s/step\n",
      "Epoch 8/50\n",
      "6/6 - 240s - loss: 0.1270 - accuracy: 0.9479 - val_loss: 0.1491 - val_accuracy: 0.9500 - 240s/epoch - 40s/step\n",
      "Epoch 9/50\n",
      "6/6 - 228s - loss: 0.1061 - accuracy: 0.9635 - val_loss: 0.1503 - val_accuracy: 0.9500 - 228s/epoch - 38s/step\n",
      "Epoch 10/50\n",
      "6/6 - 222s - loss: 0.0908 - accuracy: 0.9740 - val_loss: 0.1211 - val_accuracy: 0.9500 - 222s/epoch - 37s/step\n",
      "Epoch 11/50\n",
      "6/6 - 220s - loss: 0.0759 - accuracy: 0.9844 - val_loss: 0.1338 - val_accuracy: 0.9500 - 220s/epoch - 37s/step\n",
      "Epoch 12/50\n",
      "6/6 - 265s - loss: 0.0721 - accuracy: 0.9896 - val_loss: 0.1078 - val_accuracy: 1.0000 - 265s/epoch - 44s/step\n",
      "Epoch 13/50\n",
      "6/6 - 300s - loss: 0.0626 - accuracy: 0.9896 - val_loss: 0.1110 - val_accuracy: 1.0000 - 300s/epoch - 50s/step\n",
      "Epoch 14/50\n",
      "6/6 - 306s - loss: 0.0562 - accuracy: 0.9948 - val_loss: 0.1065 - val_accuracy: 1.0000 - 306s/epoch - 51s/step\n",
      "Epoch 15/50\n",
      "6/6 - 295s - loss: 0.0545 - accuracy: 0.9948 - val_loss: 0.0916 - val_accuracy: 1.0000 - 295s/epoch - 49s/step\n",
      "Epoch 16/50\n",
      "6/6 - 299s - loss: 0.0384 - accuracy: 1.0000 - val_loss: 0.1174 - val_accuracy: 1.0000 - 299s/epoch - 50s/step\n",
      "Epoch 17/50\n",
      "6/6 - 218s - loss: 0.0357 - accuracy: 1.0000 - val_loss: 0.0830 - val_accuracy: 1.0000 - 218s/epoch - 36s/step\n",
      "Epoch 18/50\n",
      "6/6 - 215s - loss: 0.0339 - accuracy: 1.0000 - val_loss: 0.0847 - val_accuracy: 1.0000 - 215s/epoch - 36s/step\n",
      "Epoch 19/50\n",
      "6/6 - 213s - loss: 0.0346 - accuracy: 1.0000 - val_loss: 0.0916 - val_accuracy: 1.0000 - 213s/epoch - 36s/step\n",
      "Epoch 20/50\n",
      "6/6 - 211s - loss: 0.0262 - accuracy: 1.0000 - val_loss: 0.0726 - val_accuracy: 1.0000 - 211s/epoch - 35s/step\n",
      "Epoch 21/50\n",
      "6/6 - 306s - loss: 0.0220 - accuracy: 1.0000 - val_loss: 0.0844 - val_accuracy: 1.0000 - 306s/epoch - 51s/step\n",
      "Epoch 22/50\n",
      "6/6 - 454s - loss: 0.0208 - accuracy: 1.0000 - val_loss: 0.0748 - val_accuracy: 1.0000 - 454s/epoch - 76s/step\n",
      "Epoch 23/50\n",
      "6/6 - 435s - loss: 0.0182 - accuracy: 1.0000 - val_loss: 0.0687 - val_accuracy: 1.0000 - 435s/epoch - 73s/step\n",
      "Epoch 24/50\n",
      "6/6 - 452s - loss: 0.0169 - accuracy: 1.0000 - val_loss: 0.0698 - val_accuracy: 1.0000 - 452s/epoch - 75s/step\n",
      "Epoch 25/50\n",
      "6/6 - 477s - loss: 0.0157 - accuracy: 1.0000 - val_loss: 0.0722 - val_accuracy: 1.0000 - 477s/epoch - 79s/step\n",
      "Epoch 26/50\n",
      "6/6 - 364s - loss: 0.0142 - accuracy: 1.0000 - val_loss: 0.0610 - val_accuracy: 1.0000 - 364s/epoch - 61s/step\n",
      "Epoch 27/50\n",
      "6/6 - 282s - loss: 0.0132 - accuracy: 1.0000 - val_loss: 0.0624 - val_accuracy: 1.0000 - 282s/epoch - 47s/step\n",
      "Epoch 28/50\n",
      "6/6 - 247s - loss: 0.0120 - accuracy: 1.0000 - val_loss: 0.0657 - val_accuracy: 1.0000 - 247s/epoch - 41s/step\n",
      "Epoch 29/50\n",
      "6/6 - 344s - loss: 0.0114 - accuracy: 1.0000 - val_loss: 0.0573 - val_accuracy: 1.0000 - 344s/epoch - 57s/step\n",
      "Epoch 30/50\n",
      "6/6 - 353s - loss: 0.0107 - accuracy: 1.0000 - val_loss: 0.0588 - val_accuracy: 1.0000 - 353s/epoch - 59s/step\n",
      "Epoch 31/50\n",
      "6/6 - 217s - loss: 0.0096 - accuracy: 1.0000 - val_loss: 0.0532 - val_accuracy: 1.0000 - 217s/epoch - 36s/step\n",
      "Epoch 32/50\n",
      "6/6 - 201s - loss: 0.0091 - accuracy: 1.0000 - val_loss: 0.0545 - val_accuracy: 1.0000 - 201s/epoch - 33s/step\n",
      "Epoch 33/50\n",
      "6/6 - 199s - loss: 0.0085 - accuracy: 1.0000 - val_loss: 0.0535 - val_accuracy: 1.0000 - 199s/epoch - 33s/step\n",
      "Epoch 34/50\n",
      "6/6 - 200s - loss: 0.0079 - accuracy: 1.0000 - val_loss: 0.0526 - val_accuracy: 1.0000 - 200s/epoch - 33s/step\n",
      "Epoch 35/50\n",
      "6/6 - 199s - loss: 0.0075 - accuracy: 1.0000 - val_loss: 0.0508 - val_accuracy: 1.0000 - 199s/epoch - 33s/step\n",
      "Epoch 36/50\n",
      "6/6 - 199s - loss: 0.0070 - accuracy: 1.0000 - val_loss: 0.0482 - val_accuracy: 1.0000 - 199s/epoch - 33s/step\n",
      "Epoch 37/50\n",
      "6/6 - 198s - loss: 0.0066 - accuracy: 1.0000 - val_loss: 0.0481 - val_accuracy: 1.0000 - 198s/epoch - 33s/step\n",
      "Epoch 38/50\n",
      "6/6 - 201s - loss: 0.0063 - accuracy: 1.0000 - val_loss: 0.0481 - val_accuracy: 1.0000 - 201s/epoch - 33s/step\n",
      "Epoch 39/50\n",
      "6/6 - 200s - loss: 0.0061 - accuracy: 1.0000 - val_loss: 0.0459 - val_accuracy: 1.0000 - 200s/epoch - 33s/step\n",
      "Epoch 40/50\n",
      "6/6 - 199s - loss: 0.0057 - accuracy: 1.0000 - val_loss: 0.0488 - val_accuracy: 1.0000 - 199s/epoch - 33s/step\n",
      "Epoch 41/50\n",
      "6/6 - 200s - loss: 0.0053 - accuracy: 1.0000 - val_loss: 0.0448 - val_accuracy: 1.0000 - 200s/epoch - 33s/step\n",
      "Epoch 42/50\n",
      "6/6 - 205s - loss: 0.0051 - accuracy: 1.0000 - val_loss: 0.0423 - val_accuracy: 1.0000 - 205s/epoch - 34s/step\n",
      "Epoch 43/50\n",
      "6/6 - 202s - loss: 0.0049 - accuracy: 1.0000 - val_loss: 0.0455 - val_accuracy: 1.0000 - 202s/epoch - 34s/step\n",
      "Epoch 44/50\n",
      "6/6 - 203s - loss: 0.0046 - accuracy: 1.0000 - val_loss: 0.0429 - val_accuracy: 1.0000 - 203s/epoch - 34s/step\n",
      "Epoch 45/50\n",
      "6/6 - 215s - loss: 0.0044 - accuracy: 1.0000 - val_loss: 0.0428 - val_accuracy: 1.0000 - 215s/epoch - 36s/step\n",
      "Epoch 46/50\n",
      "6/6 - 200s - loss: 0.0042 - accuracy: 1.0000 - val_loss: 0.0401 - val_accuracy: 1.0000 - 200s/epoch - 33s/step\n",
      "Epoch 47/50\n",
      "6/6 - 198s - loss: 0.0040 - accuracy: 1.0000 - val_loss: 0.0410 - val_accuracy: 1.0000 - 198s/epoch - 33s/step\n",
      "Epoch 48/50\n",
      "6/6 - 199s - loss: 0.0038 - accuracy: 1.0000 - val_loss: 0.0412 - val_accuracy: 1.0000 - 199s/epoch - 33s/step\n",
      "Epoch 49/50\n",
      "6/6 - 200s - loss: 0.0036 - accuracy: 1.0000 - val_loss: 0.0402 - val_accuracy: 1.0000 - 200s/epoch - 33s/step\n",
      "Epoch 50/50\n",
      "6/6 - 199s - loss: 0.0035 - accuracy: 1.0000 - val_loss: 0.0391 - val_accuracy: 1.0000 - 199s/epoch - 33s/step\n"
     ]
    }
   ],
   "source": [
    "#EarlyStopping\n",
    "from tensorflow.keras.callbacks import EarlyStopping\n",
    "monitor = EarlyStopping(monitor='val_loss', min_delta=1e-3, patience=5, \n",
    "                        verbose=1, mode='auto',restore_best_weights=True)\n",
    "# compile the model\n",
    "model.compile(optimizer='adam',loss='binary_crossentropy', metrics = ['accuracy'])\n",
    "\n",
    "# train the model (adjust the number of epochs from 1 to improve performance)\n",
    "history = model.fit(train_generator, validation_data=validation_generator,epochs=50,\n",
    "                              verbose=2, callbacks=[monitor])"
   ]
  },
  {
   "cell_type": "code",
   "execution_count": 11,
   "id": "a3f545cc",
   "metadata": {},
   "outputs": [
    {
     "data": {
      "image/png": "[encoded data removed]",
      "text/plain": [
       "<Figure size 640x480 with 1 Axes>"
      ]
     },
     "metadata": {},
     "output_type": "display_data"
    }
   ],
   "source": [
    "plt.plot(history.history['loss'])\n",
    "plt.plot(history.history['val_loss'])\n",
    "plt.title('model loss')\n",
    "plt.ylabel('loss')\n",
    "plt.xlabel('epoch')\n",
    "plt.legend(['train', 'test'], loc='upper right')\n",
    "plt.show()"
   ]
  },
  {
   "cell_type": "code",
   "execution_count": 12,
   "id": "436858db",
   "metadata": {},
   "outputs": [
    {
     "name": "stdout",
     "output_type": "stream",
     "text": [
      "Found 10 images belonging to 1 classes.\n"
     ]
    }
   ],
   "source": [
    "test2_datagen  = ImageDataGenerator( rescale = 1.0/255. )\n",
    "test_dir = r\"C:\\Users\\R\\Downloads\\Messy vs Clean Room\\test\"\n",
    "test_generator =  test2_datagen.flow_from_directory(test_dir, class_mode  = None,\n",
    "                                                    target_size = (150, 150),\n",
    "                                                    shuffle=False)\n"
   ]
  },
  {
   "cell_type": "code",
   "execution_count": 13,
   "id": "9f103d79",
   "metadata": {},
   "outputs": [
    {
     "name": "stdout",
     "output_type": "stream",
     "text": [
      "1/1 [==============================] - 12s 12s/step\n"
     ]
    },
    {
     "data": {
      "text/plain": [
       "['M', 'C', 'M', 'C', 'M', 'M', 'C', 'M', 'M', 'M']"
      ]
     },
     "execution_count": 13,
     "metadata": {},
     "output_type": "execute_result"
    }
   ],
   "source": [
    "y_prob = model.predict(test_generator,callbacks=[monitor])\n",
    "y_pred = [\"M\" if probs > 0.5 else \"C\" for probs in y_prob]\n",
    "y_pred"
   ]
  },
  {
   "cell_type": "code",
   "execution_count": null,
   "id": "4b40ebd6",
   "metadata": {},
   "outputs": [],
   "source": []
  }
 ],
 "metadata": {
  "kernelspec": {
   "display_name": "Python 3 (ipykernel)",
   "language": "python",
   "name": "python3"
  },
  "language_info": {
   "codemirror_mode": {
    "name": "ipython",
    "version": 3
   },
   "file_extension": ".py",
   "mimetype": "text/x-python",
   "name": "python",
   "nbconvert_exporter": "python",
   "pygments_lexer": "ipython3",
   "version": "3.8.18"
  }
 },
 "nbformat": 4,
 "nbformat_minor": 5
}
