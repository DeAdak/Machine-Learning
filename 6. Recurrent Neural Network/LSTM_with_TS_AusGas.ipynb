{
 "cells": [
  {
   "cell_type": "markdown",
   "metadata": {
    "id": "VkIGpehwq1wF"
   },
   "source": [
    "Part 1 - Data Preprocessing"
   ]
  },
  {
   "cell_type": "code",
   "execution_count": 1,
   "metadata": {
    "colab": {
     "base_uri": "https://localhost:8080/"
    },
    "id": "Cc_iZXebMIOP",
    "outputId": "a2566932-4e67-49a7-efaa-b855e1313005"
   },
   "outputs": [
    {
     "name": "stdout",
     "output_type": "stream",
     "text": [
      "Mounted at /content/drive\n"
     ]
    }
   ],
   "source": [
    "from google.colab import drive\n",
    "drive.mount('/content/drive')"
   ]
  },
  {
   "cell_type": "code",
   "execution_count": 2,
   "metadata": {
    "colab": {
     "base_uri": "https://localhost:8080/",
     "height": 206
    },
    "id": "gFqkC13mq1wH",
    "outputId": "f2e21c0a-b24d-4630-d238-6dda4bca5a71"
   },
   "outputs": [
    {
     "data": {
      "text/html": [
       "<div>\n",
       "<style scoped>\n",
       "    .dataframe tbody tr th:only-of-type {\n",
       "        vertical-align: middle;\n",
       "    }\n",
       "\n",
       "    .dataframe tbody tr th {\n",
       "        vertical-align: top;\n",
       "    }\n",
       "\n",
       "    .dataframe thead th {\n",
       "        text-align: right;\n",
       "    }\n",
       "</style>\n",
       "<table border=\"1\" class=\"dataframe\">\n",
       "  <thead>\n",
       "    <tr style=\"text-align: right;\">\n",
       "      <th></th>\n",
       "      <th>Month</th>\n",
       "      <th>GasProd</th>\n",
       "    </tr>\n",
       "  </thead>\n",
       "  <tbody>\n",
       "    <tr>\n",
       "      <th>0</th>\n",
       "      <td>Jan-1956</td>\n",
       "      <td>1709</td>\n",
       "    </tr>\n",
       "    <tr>\n",
       "      <th>1</th>\n",
       "      <td>Feb-1956</td>\n",
       "      <td>1646</td>\n",
       "    </tr>\n",
       "    <tr>\n",
       "      <th>2</th>\n",
       "      <td>Mar-1956</td>\n",
       "      <td>1794</td>\n",
       "    </tr>\n",
       "    <tr>\n",
       "      <th>3</th>\n",
       "      <td>Apr-1956</td>\n",
       "      <td>1878</td>\n",
       "    </tr>\n",
       "    <tr>\n",
       "      <th>4</th>\n",
       "      <td>May-1956</td>\n",
       "      <td>2173</td>\n",
       "    </tr>\n",
       "  </tbody>\n",
       "</table>\n",
       "</div>"
      ],
      "text/plain": [
       "      Month  GasProd\n",
       "0  Jan-1956     1709\n",
       "1  Feb-1956     1646\n",
       "2  Mar-1956     1794\n",
       "3  Apr-1956     1878\n",
       "4  May-1956     2173"
      ]
     },
     "execution_count": 2,
     "metadata": {},
     "output_type": "execute_result"
    }
   ],
   "source": [
    "import numpy as np\n",
    "import matplotlib.pyplot as plt\n",
    "import pandas as pd\n",
    "from sklearn.metrics import mean_squared_error\n",
    "# Importing the training set\n",
    "dataset_ts = pd.read_csv(r'G:\\Ddrive\\PG DBDA\\12 Practical Machine Learning_\\Datasets\\AusGas.csv')\n",
    "\n",
    "dataset_ts.head()"
   ]
  },
  {
   "cell_type": "code",
   "execution_count": 3,
   "metadata": {
    "colab": {
     "base_uri": "https://localhost:8080/"
    },
    "id": "czE6Ogy7q1wJ",
    "outputId": "395fdd1a-a802-4f56-e410-8c02406afc34"
   },
   "outputs": [
    {
     "data": {
      "text/plain": [
       "(476, 2)"
      ]
     },
     "execution_count": 3,
     "metadata": {},
     "output_type": "execute_result"
    }
   ],
   "source": [
    "dataset_ts.shape"
   ]
  },
  {
   "cell_type": "code",
   "execution_count": 4,
   "metadata": {
    "colab": {
     "base_uri": "https://localhost:8080/"
    },
    "id": "lLYqHgfrq1wK",
    "outputId": "1be247a6-831c-4e32-9d6d-aa3d35f8c8cf",
    "scrolled": true
   },
   "outputs": [
    {
     "data": {
      "text/plain": [
       "(450, 2)"
      ]
     },
     "execution_count": 4,
     "metadata": {},
     "output_type": "execute_result"
    }
   ],
   "source": [
    "dataset_train = dataset_ts.iloc[:450,:]\n",
    "dataset_train.shape"
   ]
  },
  {
   "cell_type": "code",
   "execution_count": 5,
   "metadata": {
    "colab": {
     "base_uri": "https://localhost:8080/"
    },
    "id": "yMJAYV4aq1wL",
    "outputId": "73d39f58-bd69-4c1b-958c-2c26914ba990"
   },
   "outputs": [
    {
     "data": {
      "text/plain": [
       "array([1709, 1646, 1794, 1878, 2173], dtype=int64)"
      ]
     },
     "execution_count": 5,
     "metadata": {},
     "output_type": "execute_result"
    }
   ],
   "source": [
    "training_set = dataset_train.iloc[:, 1].values\n",
    "training_set[:5]"
   ]
  },
  {
   "cell_type": "code",
   "execution_count": 6,
   "metadata": {
    "colab": {
     "base_uri": "https://localhost:8080/"
    },
    "id": "yQuYNKbss6eS",
    "outputId": "f9dd417f-403c-4825-c96d-8f85a6ffd0af"
   },
   "outputs": [
    {
     "data": {
      "text/plain": [
       "(450,)"
      ]
     },
     "execution_count": 6,
     "metadata": {},
     "output_type": "execute_result"
    }
   ],
   "source": [
    "training_set.shape"
   ]
  },
  {
   "cell_type": "markdown",
   "metadata": {
    "id": "f4q4mZO4q1wN"
   },
   "source": [
    "Feature Scaling"
   ]
  },
  {
   "cell_type": "code",
   "execution_count": 7,
   "metadata": {
    "id": "Zoej09RLq1wP"
   },
   "outputs": [],
   "source": [
    "training_set = training_set.reshape(-1,1)\n",
    "from sklearn.preprocessing import MinMaxScaler\n",
    "sc = MinMaxScaler(feature_range = (0, 1))\n",
    "training_set_scaled = sc.fit_transform(training_set)"
   ]
  },
  {
   "cell_type": "code",
   "execution_count": 8,
   "metadata": {
    "colab": {
     "base_uri": "https://localhost:8080/"
    },
    "id": "ctTpQW90tCCH",
    "outputId": "ccdf0c29-5869-40d8-c6f2-025ef2166fd6"
   },
   "outputs": [
    {
     "data": {
      "text/plain": [
       "(450, 1)"
      ]
     },
     "execution_count": 8,
     "metadata": {},
     "output_type": "execute_result"
    }
   ],
   "source": [
    "training_set.shape"
   ]
  },
  {
   "cell_type": "code",
   "execution_count": 9,
   "metadata": {
    "colab": {
     "base_uri": "https://localhost:8080/"
    },
    "id": "HGjFUHh_q1wV",
    "outputId": "06d37e59-a7ef-4353-b5d7-fa9a97f9f858"
   },
   "outputs": [
    {
     "data": {
      "text/plain": [
       "array([[0.00103697],\n",
       "       [0.        ],\n",
       "       [0.00243605],\n",
       "       [0.00381868],\n",
       "       [0.00867433]])"
      ]
     },
     "execution_count": 9,
     "metadata": {},
     "output_type": "execute_result"
    }
   ],
   "source": [
    "training_set_scaled[:5]"
   ]
  },
  {
   "cell_type": "markdown",
   "metadata": {
    "id": "dvArwWKNq1wZ"
   },
   "source": [
    "Creating a data structure with timesteps and 1 output"
   ]
  },
  {
   "cell_type": "code",
   "execution_count": 10,
   "metadata": {
    "id": "4d4_UTSFq1wa"
   },
   "outputs": [],
   "source": [
    "timesteps=10\n",
    "trn_size = dataset_train.shape[0]"
   ]
  },
  {
   "cell_type": "code",
   "execution_count": 11,
   "metadata": {
    "colab": {
     "base_uri": "https://localhost:8080/"
    },
    "id": "nJBA0KV3BmbC",
    "outputId": "f5743e13-e898-4420-e0dd-fc04388172a6"
   },
   "outputs": [
    {
     "data": {
      "text/plain": [
       "450"
      ]
     },
     "execution_count": 11,
     "metadata": {},
     "output_type": "execute_result"
    }
   ],
   "source": [
    "trn_size"
   ]
  },
  {
   "cell_type": "code",
   "execution_count": 12,
   "metadata": {
    "id": "UmhBADDtq1wb"
   },
   "outputs": [],
   "source": [
    "X_train = []\n",
    "y_train = []\n",
    "for i in range(timesteps, trn_size):\n",
    "    X_train.append(training_set_scaled[i-timesteps:i, 0])\n",
    "    y_train.append(training_set_scaled[i, 0])\n",
    "X_train, y_train = np.array(X_train), np.array(y_train)\n"
   ]
  },
  {
   "cell_type": "code",
   "execution_count": 13,
   "metadata": {
    "colab": {
     "base_uri": "https://localhost:8080/"
    },
    "id": "dcaYzdbcq1wc",
    "outputId": "07adedb3-7eed-447e-da5b-3413a1d02041"
   },
   "outputs": [
    {
     "data": {
      "text/plain": [
       "(440, 10)"
      ]
     },
     "execution_count": 13,
     "metadata": {},
     "output_type": "execute_result"
    }
   ],
   "source": [
    "X_train.shape"
   ]
  },
  {
   "cell_type": "code",
   "execution_count": 14,
   "metadata": {
    "colab": {
     "base_uri": "https://localhost:8080/"
    },
    "id": "eIzTVa1dq1we",
    "outputId": "2056cd15-8693-41d2-fb80-bd16ff5f45da"
   },
   "outputs": [
    {
     "data": {
      "text/plain": [
       "array([[0.00103697, 0.        , 0.00243605, 0.00381868, 0.00867433,\n",
       "        0.01111038, 0.01352997, 0.01267406, 0.00885538, 0.00781842]])"
      ]
     },
     "execution_count": 14,
     "metadata": {},
     "output_type": "execute_result"
    }
   ],
   "source": [
    "X_train[:1]"
   ]
  },
  {
   "cell_type": "code",
   "execution_count": 15,
   "metadata": {
    "colab": {
     "base_uri": "https://localhost:8080/"
    },
    "id": "VpR06vgjq1wf",
    "outputId": "8dfc58fc-526b-4f85-d5a3-ca5d61e88a3a"
   },
   "outputs": [
    {
     "data": {
      "text/plain": [
       "array([0.0052013])"
      ]
     },
     "execution_count": 15,
     "metadata": {},
     "output_type": "execute_result"
    }
   ],
   "source": [
    "y_train[:1]"
   ]
  },
  {
   "cell_type": "code",
   "execution_count": 16,
   "metadata": {
    "id": "Noogqqt-q1wf"
   },
   "outputs": [],
   "source": [
    "# Reshaping\n",
    "X_train = np.reshape(X_train, (X_train.shape[0], X_train.shape[1], 1))"
   ]
  },
  {
   "cell_type": "code",
   "execution_count": 17,
   "metadata": {
    "colab": {
     "base_uri": "https://localhost:8080/"
    },
    "id": "iiOnFVEgq1wf",
    "outputId": "615bed88-2538-47b2-d5a3-3756e107445a"
   },
   "outputs": [
    {
     "data": {
      "text/plain": [
       "(440, 10, 1)"
      ]
     },
     "execution_count": 17,
     "metadata": {},
     "output_type": "execute_result"
    }
   ],
   "source": [
    "X_train.shape"
   ]
  },
  {
   "cell_type": "markdown",
   "metadata": {
    "id": "SfCsHTW5q1wh"
   },
   "source": [
    "Part 2 - Building the RNN"
   ]
  },
  {
   "cell_type": "code",
   "execution_count": 18,
   "metadata": {
    "id": "Ac1Hh7Hbq1wh"
   },
   "outputs": [],
   "source": [
    "import tensorflow as tf\n",
    "from tensorflow import keras"
   ]
  },
  {
   "cell_type": "code",
   "execution_count": 19,
   "metadata": {
    "colab": {
     "base_uri": "https://localhost:8080/"
    },
    "id": "J1WDhbA-q1wj",
    "outputId": "d5194c2a-dc12-4221-f4c0-2595a8fc5f19"
   },
   "outputs": [
    {
     "data": {
      "text/plain": [
       "(10, 1)"
      ]
     },
     "execution_count": 19,
     "metadata": {},
     "output_type": "execute_result"
    }
   ],
   "source": [
    "(X_train.shape[1],X_train.shape[2])"
   ]
  },
  {
   "cell_type": "markdown",
   "metadata": {
    "id": "5TkDKiPzq1wj"
   },
   "source": [
    "Initialising the RNN"
   ]
  },
  {
   "cell_type": "code",
   "execution_count": 21,
   "metadata": {
    "id": "XMFWbHoffEWA"
   },
   "outputs": [],
   "source": [
    "tf.random.set_seed(seed=2021)\n",
    "model = keras.Sequential([\n",
    "   tf.keras.layers.LSTM(units=100,return_sequences = True, \n",
    "                            input_shape= (X_train.shape[1],X_train.shape[2]) ),\n",
    "   tf.keras.layers.LSTM(units=70,return_sequences = True ) ,\n",
    "   tf.keras.layers.LSTM(units=50 ) ,\n",
    "   tf.keras.layers.Dense(1)                           \n",
    "])\n",
    "model.compile(optimizer = 'adam', loss = 'mean_squared_error')"
   ]
  },
  {
   "cell_type": "markdown",
   "metadata": {
    "id": "3tE1xePWfayy"
   },
   "source": [
    "(Old Syntax) <br>\n",
    "model.add(keras.layers.LSTM(units=100,return_sequences = True, \n",
    "                            input_shape= (X_train.shape[1],X_train.shape[2]) ))\n",
    "model.add(keras.layers.LSTM(units=70,return_sequences = True ))\n",
    "model.add(keras.layers.LSTM(units=50 ))\n",
    "\n",
    "model.add(keras.layers.Dense(1))\n",
    "\n",
    "model.compile(optimizer = 'adam', loss = 'mean_squared_error')"
   ]
  },
  {
   "cell_type": "code",
   "execution_count": 22,
   "metadata": {
    "colab": {
     "base_uri": "https://localhost:8080/"
    },
    "id": "_-dzmh7_q1wl",
    "outputId": "b4fec1cc-4428-47a3-e1af-9230e312b7fd",
    "scrolled": true
   },
   "outputs": [
    {
     "name": "stdout",
     "output_type": "stream",
     "text": [
      "Model: \"sequential\"\n",
      "_________________________________________________________________\n",
      " Layer (type)                Output Shape              Param #   \n",
      "=================================================================\n",
      " lstm (LSTM)                 (None, 10, 100)           40800     \n",
      "                                                                 \n",
      " lstm_1 (LSTM)               (None, 10, 70)            47880     \n",
      "                                                                 \n",
      " lstm_2 (LSTM)               (None, 50)                24200     \n",
      "                                                                 \n",
      " dense (Dense)               (None, 1)                 51        \n",
      "                                                                 \n",
      "=================================================================\n",
      "Total params: 112,931\n",
      "Trainable params: 112,931\n",
      "Non-trainable params: 0\n",
      "_________________________________________________________________\n"
     ]
    }
   ],
   "source": [
    "model.summary()"
   ]
  },
  {
   "cell_type": "markdown",
   "metadata": {
    "id": "Mvols4Ycq1wm"
   },
   "source": [
    "Fitting the RNN to the Training set"
   ]
  },
  {
   "cell_type": "code",
   "execution_count": 23,
   "metadata": {
    "colab": {
     "base_uri": "https://localhost:8080/"
    },
    "id": "5lw0wxMEq1wp",
    "outputId": "63eaebf9-57aa-4233-815c-6047f4b1e8f7"
   },
   "outputs": [
    {
     "name": "stdout",
     "output_type": "stream",
     "text": [
      "Epoch 1/50\n",
      "18/18 [==============================] - 44s 87ms/step - loss: 0.0570\n",
      "Epoch 2/50\n",
      "18/18 [==============================] - 1s 80ms/step - loss: 0.0107\n",
      "Epoch 3/50\n",
      "18/18 [==============================] - 1s 79ms/step - loss: 0.0090\n",
      "Epoch 4/50\n",
      "18/18 [==============================] - 1s 81ms/step - loss: 0.0080\n",
      "Epoch 5/50\n",
      "18/18 [==============================] - 2s 85ms/step - loss: 0.0075\n",
      "Epoch 6/50\n",
      "18/18 [==============================] - 1s 79ms/step - loss: 0.0077\n",
      "Epoch 7/50\n",
      "18/18 [==============================] - 1s 78ms/step - loss: 0.0072\n",
      "Epoch 8/50\n",
      "18/18 [==============================] - 2s 85ms/step - loss: 0.0076\n",
      "Epoch 9/50\n",
      "18/18 [==============================] - 2s 85ms/step - loss: 0.0074\n",
      "Epoch 10/50\n",
      "18/18 [==============================] - 2s 91ms/step - loss: 0.0072\n",
      "Epoch 11/50\n",
      "18/18 [==============================] - 2s 85ms/step - loss: 0.0076\n",
      "Epoch 12/50\n",
      "18/18 [==============================] - 2s 83ms/step - loss: 0.0072\n",
      "Epoch 13/50\n",
      "18/18 [==============================] - 3s 142ms/step - loss: 0.0072\n",
      "Epoch 14/50\n",
      "18/18 [==============================] - 2s 121ms/step - loss: 0.0071\n",
      "Epoch 15/50\n",
      "18/18 [==============================] - 2s 113ms/step - loss: 0.0071\n",
      "Epoch 16/50\n",
      "18/18 [==============================] - 3s 155ms/step - loss: 0.0075\n",
      "Epoch 17/50\n",
      "18/18 [==============================] - 3s 147ms/step - loss: 0.0093\n",
      "Epoch 18/50\n",
      "18/18 [==============================] - 2s 125ms/step - loss: 0.0078\n",
      "Epoch 19/50\n",
      "18/18 [==============================] - 2s 108ms/step - loss: 0.0080\n",
      "Epoch 20/50\n",
      "18/18 [==============================] - 2s 88ms/step - loss: 0.0074\n",
      "Epoch 21/50\n",
      "18/18 [==============================] - 2s 85ms/step - loss: 0.0073\n",
      "Epoch 22/50\n",
      "18/18 [==============================] - 1s 82ms/step - loss: 0.0071\n",
      "Epoch 23/50\n",
      "18/18 [==============================] - 2s 86ms/step - loss: 0.0076\n",
      "Epoch 24/50\n",
      "18/18 [==============================] - 2s 84ms/step - loss: 0.0068\n",
      "Epoch 25/50\n",
      "18/18 [==============================] - 2s 98ms/step - loss: 0.0073\n",
      "Epoch 26/50\n",
      "18/18 [==============================] - 2s 88ms/step - loss: 0.0071\n",
      "Epoch 27/50\n",
      "18/18 [==============================] - 2s 86ms/step - loss: 0.0073\n",
      "Epoch 28/50\n",
      "18/18 [==============================] - 1s 80ms/step - loss: 0.0074\n",
      "Epoch 29/50\n",
      "18/18 [==============================] - 2s 82ms/step - loss: 0.0066\n",
      "Epoch 30/50\n",
      "18/18 [==============================] - 2s 89ms/step - loss: 0.0069\n",
      "Epoch 31/50\n",
      "18/18 [==============================] - 2s 83ms/step - loss: 0.0060\n",
      "Epoch 32/50\n",
      "18/18 [==============================] - 2s 84ms/step - loss: 0.0062\n",
      "Epoch 33/50\n",
      "18/18 [==============================] - 2s 112ms/step - loss: 0.0053\n",
      "Epoch 34/50\n",
      "18/18 [==============================] - 2s 122ms/step - loss: 0.0059\n",
      "Epoch 35/50\n",
      "18/18 [==============================] - 2s 92ms/step - loss: 0.0041\n",
      "Epoch 36/50\n",
      "18/18 [==============================] - 2s 84ms/step - loss: 0.0032\n",
      "Epoch 37/50\n",
      "18/18 [==============================] - 2s 82ms/step - loss: 0.0036\n",
      "Epoch 38/50\n",
      "18/18 [==============================] - 2s 86ms/step - loss: 0.0031\n",
      "Epoch 39/50\n",
      "18/18 [==============================] - 2s 91ms/step - loss: 0.0052\n",
      "Epoch 40/50\n",
      "18/18 [==============================] - 1s 81ms/step - loss: 0.0036\n",
      "Epoch 41/50\n",
      "18/18 [==============================] - 2s 86ms/step - loss: 0.0022\n",
      "Epoch 42/50\n",
      "18/18 [==============================] - 2s 87ms/step - loss: 0.0027\n",
      "Epoch 43/50\n",
      "18/18 [==============================] - 1s 81ms/step - loss: 0.0020\n",
      "Epoch 44/50\n",
      "18/18 [==============================] - 1s 76ms/step - loss: 0.0018\n",
      "Epoch 45/50\n",
      "18/18 [==============================] - 1s 76ms/step - loss: 0.0017\n",
      "Epoch 46/50\n",
      "18/18 [==============================] - 1s 76ms/step - loss: 0.0017\n",
      "Epoch 47/50\n",
      "18/18 [==============================] - 2s 126ms/step - loss: 0.0016\n",
      "Epoch 48/50\n",
      "18/18 [==============================] - 2s 121ms/step - loss: 0.0015\n",
      "Epoch 49/50\n",
      "18/18 [==============================] - 2s 116ms/step - loss: 0.0015\n",
      "Epoch 50/50\n",
      "18/18 [==============================] - 2s 128ms/step - loss: 0.0014\n"
     ]
    },
    {
     "data": {
      "text/plain": [
       "<keras.callbacks.History at 0x28764af8d30>"
      ]
     },
     "execution_count": 23,
     "metadata": {},
     "output_type": "execute_result"
    }
   ],
   "source": [
    "model.fit(X_train, y_train, epochs = 50, batch_size = 25)"
   ]
  },
  {
   "cell_type": "markdown",
   "metadata": {
    "id": "L2U9Qh3Wq1wq"
   },
   "source": [
    "Part 3 - Making the predictions and visualising the results"
   ]
  },
  {
   "cell_type": "code",
   "execution_count": 24,
   "metadata": {
    "colab": {
     "base_uri": "https://localhost:8080/"
    },
    "id": "u5-tDyf8q1wq",
    "outputId": "65a6d318-4b95-41c8-bc1b-6687c2a54f82"
   },
   "outputs": [
    {
     "data": {
      "text/plain": [
       "(26, 2)"
      ]
     },
     "execution_count": 24,
     "metadata": {},
     "output_type": "execute_result"
    }
   ],
   "source": [
    "dataset_test = dataset_ts.iloc[450:,:]\n",
    "dataset_test.shape"
   ]
  },
  {
   "cell_type": "code",
   "execution_count": 25,
   "metadata": {
    "colab": {
     "base_uri": "https://localhost:8080/"
    },
    "id": "es9BpBTaq1wr",
    "outputId": "803d562d-4765-46d9-eb0c-81230813837d"
   },
   "outputs": [
    {
     "data": {
      "text/plain": [
       "array([56807, 54634, 51367, 48073, 46251, 43736, 39975, 40478, 46895,\n",
       "       46147, 55011, 57799, 62450, 63896, 57784, 53231, 50354, 38410,\n",
       "       41600, 41471, 46287, 49013, 56624, 61739, 66600, 60054],\n",
       "      dtype=int64)"
      ]
     },
     "execution_count": 25,
     "metadata": {},
     "output_type": "execute_result"
    }
   ],
   "source": [
    "test_set = dataset_test.iloc[:, 1].values\n",
    "test_set"
   ]
  },
  {
   "cell_type": "code",
   "execution_count": 26,
   "metadata": {
    "colab": {
     "base_uri": "https://localhost:8080/"
    },
    "id": "N-jZoCTHq1wr",
    "outputId": "d3e3a22f-21c1-4b77-bdb4-d6c5cea5d9aa"
   },
   "outputs": [
    {
     "data": {
      "text/plain": [
       "0       1709\n",
       "1       1646\n",
       "2       1794\n",
       "3       1878\n",
       "4       2173\n",
       "       ...  \n",
       "471    49013\n",
       "472    56624\n",
       "473    61739\n",
       "474    66600\n",
       "475    60054\n",
       "Name: GasProd, Length: 476, dtype: int64"
      ]
     },
     "execution_count": 26,
     "metadata": {},
     "output_type": "execute_result"
    }
   ],
   "source": [
    "dataset_total = pd.concat((dataset_train['GasProd'], dataset_test['GasProd']), axis = 0)\n",
    "dataset_total"
   ]
  },
  {
   "cell_type": "code",
   "execution_count": 27,
   "metadata": {
    "colab": {
     "base_uri": "https://localhost:8080/"
    },
    "id": "oERBaeI4q1ws",
    "outputId": "8c6c21f1-3752-45e6-dcb3-5d5650e0ad78"
   },
   "outputs": [
    {
     "data": {
      "text/plain": [
       "36"
      ]
     },
     "execution_count": 27,
     "metadata": {},
     "output_type": "execute_result"
    }
   ],
   "source": [
    "inputs = dataset_total[len(dataset_total) - len(dataset_test) - timesteps:].values\n",
    "inputs = inputs.reshape(-1,1)\n",
    "len(inputs)"
   ]
  },
  {
   "cell_type": "code",
   "execution_count": 28,
   "metadata": {
    "colab": {
     "base_uri": "https://localhost:8080/"
    },
    "id": "iQIBVGzCq1ws",
    "outputId": "778f35f7-2387-4198-b8a4-3a30298692c2"
   },
   "outputs": [
    {
     "data": {
      "text/plain": [
       "(26, 10, 1)"
      ]
     },
     "execution_count": 28,
     "metadata": {},
     "output_type": "execute_result"
    }
   ],
   "source": [
    "inputs = sc.transform(inputs)\n",
    "X_test = []\n",
    "for i in range(timesteps, len(inputs)):\n",
    "    X_test.append(inputs[i-timesteps:i, 0])\n",
    "X_test = np.array(X_test)\n",
    "X_test = np.reshape(X_test, (X_test.shape[0], X_test.shape[1], 1))\n",
    "X_test.shape"
   ]
  },
  {
   "cell_type": "code",
   "execution_count": 29,
   "metadata": {
    "colab": {
     "base_uri": "https://localhost:8080/"
    },
    "id": "kzMib6Mqq1wt",
    "outputId": "48cd843c-c786-40f5-dc7f-893690b8190b"
   },
   "outputs": [
    {
     "name": "stdout",
     "output_type": "stream",
     "text": [
      "1/1 [==============================] - 11s 11s/step\n"
     ]
    },
    {
     "data": {
      "text/plain": [
       "array([[0.9427156 ],\n",
       "       [0.93809116],\n",
       "       [0.8577454 ],\n",
       "       [0.74138826],\n",
       "       [0.635277  ],\n",
       "       [0.5796419 ],\n",
       "       [0.5667931 ],\n",
       "       [0.6040391 ],\n",
       "       [0.6496494 ],\n",
       "       [0.73921716],\n",
       "       [0.80024403],\n",
       "       [0.88214946],\n",
       "       [0.9302533 ],\n",
       "       [0.9473399 ],\n",
       "       [0.9271785 ],\n",
       "       [0.8335094 ],\n",
       "       [0.7190916 ],\n",
       "       [0.6444777 ],\n",
       "       [0.5547533 ],\n",
       "       [0.5398486 ],\n",
       "       [0.6043019 ],\n",
       "       [0.72656065],\n",
       "       [0.8679516 ],\n",
       "       [0.9878268 ],\n",
       "       [1.0288782 ],\n",
       "       [1.0235465 ]], dtype=float32)"
      ]
     },
     "execution_count": 29,
     "metadata": {},
     "output_type": "execute_result"
    }
   ],
   "source": [
    "predicted_values = model.predict(X_test)\n",
    "predicted_values"
   ]
  },
  {
   "cell_type": "code",
   "execution_count": 30,
   "metadata": {
    "colab": {
     "base_uri": "https://localhost:8080/"
    },
    "id": "P9b3IwiAq1wt",
    "outputId": "33a3999f-f545-4eb2-a958-f823a1edd802"
   },
   "outputs": [
    {
     "data": {
      "text/plain": [
       "(26, 1)"
      ]
     },
     "execution_count": 30,
     "metadata": {},
     "output_type": "execute_result"
    }
   ],
   "source": [
    "predicted_values.shape"
   ]
  },
  {
   "cell_type": "code",
   "execution_count": 31,
   "metadata": {
    "colab": {
     "base_uri": "https://localhost:8080/"
    },
    "id": "NRkoTwQqq1wu",
    "outputId": "520e3d2b-c3bd-4411-9656-f323ef279302"
   },
   "outputs": [
    {
     "data": {
      "text/plain": [
       "array([[58919.742],\n",
       "       [58638.79 ],\n",
       "       [53757.465],\n",
       "       [46688.305],\n",
       "       [40241.617],\n",
       "       [36861.562],\n",
       "       [36080.95 ],\n",
       "       [38343.79 ],\n",
       "       [41114.8  ],\n",
       "       [46556.4  ],\n",
       "       [50264.027],\n",
       "       [55240.11 ],\n",
       "       [58162.61 ],\n",
       "       [59200.688],\n",
       "       [57975.805],\n",
       "       [52285.03 ],\n",
       "       [45333.69 ],\n",
       "       [40800.6  ],\n",
       "       [35349.484],\n",
       "       [34443.965],\n",
       "       [38359.76 ],\n",
       "       [45787.465],\n",
       "       [54377.53 ],\n",
       "       [61660.426],\n",
       "       [64154.465],\n",
       "       [63830.54 ]], dtype=float32)"
      ]
     },
     "execution_count": 31,
     "metadata": {},
     "output_type": "execute_result"
    }
   ],
   "source": [
    "predicted_values = sc.inverse_transform(predicted_values)\n",
    "predicted_values"
   ]
  },
  {
   "cell_type": "markdown",
   "metadata": {
    "id": "SLYUimjmq1wu"
   },
   "source": [
    "Visualising the results"
   ]
  },
  {
   "cell_type": "code",
   "execution_count": 32,
   "metadata": {
    "id": "-jiq6WN_q1wv"
   },
   "outputs": [],
   "source": [
    "%matplotlib inline"
   ]
  },
  {
   "cell_type": "code",
   "execution_count": 33,
   "metadata": {
    "colab": {
     "base_uri": "https://localhost:8080/",
     "height": 295
    },
    "id": "yXO1gomDq1wv",
    "outputId": "1f39c2ac-a887-456e-b135-d21a3eef026a"
   },
   "outputs": [
    {
     "data": {
      "image/png": "[encoded data removed]",
      "text/plain": [
       "<Figure size 640x480 with 1 Axes>"
      ]
     },
     "metadata": {},
     "output_type": "display_data"
    }
   ],
   "source": [
    "plt.plot(test_set, color = 'red', label = 'Real Gas Production')\n",
    "plt.plot(predicted_values, color = 'blue', label = 'Predicted Gas Production')\n",
    "plt.title('Gas Production Prediction')\n",
    "plt.xlabel('Time')\n",
    "plt.ylabel('Gas Production')\n",
    "plt.legend()\n",
    "plt.show()"
   ]
  },
  {
   "cell_type": "markdown",
   "metadata": {
    "id": "pB6tA_bDq1wv"
   },
   "source": [
    "Root Mean Square Error"
   ]
  },
  {
   "cell_type": "code",
   "execution_count": 34,
   "metadata": {
    "colab": {
     "base_uri": "https://localhost:8080/"
    },
    "id": "46PFYCRtq1ww",
    "outputId": "35d685e0-1dbd-4d7a-d547-54412c0533d1"
   },
   "outputs": [
    {
     "name": "stdout",
     "output_type": "stream",
     "text": [
      "4174.785094469739\n"
     ]
    }
   ],
   "source": [
    "print(np.sqrt(mean_squared_error(predicted_values,test_set)))"
   ]
  },
  {
   "cell_type": "code",
   "execution_count": null,
   "metadata": {
    "id": "AUciEeruq1ww"
   },
   "outputs": [],
   "source": []
  }
 ],
 "metadata": {
  "accelerator": "GPU",
  "colab": {
   "name": "LSTM with TS - AusGas.ipynb",
   "provenance": []
  },
  "kernelspec": {
   "display_name": "Python 3 (ipykernel)",
   "language": "python",
   "name": "python3"
  },
  "language_info": {
   "codemirror_mode": {
    "name": "ipython",
    "version": 3
   },
   "file_extension": ".py",
   "mimetype": "text/x-python",
   "name": "python",
   "nbconvert_exporter": "python",
   "pygments_lexer": "ipython3",
   "version": "3.8.18"
  }
 },
 "nbformat": 4,
 "nbformat_minor": 1
}
