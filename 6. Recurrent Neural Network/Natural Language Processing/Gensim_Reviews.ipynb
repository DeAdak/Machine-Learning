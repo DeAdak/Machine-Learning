{
  "cells": [
    {
      "cell_type": "code",
      "execution_count": 1,
      "metadata": {
        "id": "-6GJ_XJZaCI4"
      },
      "outputs": [],
      "source": [
        "#!pip install gensim==3.6.0"
      ]
    },
    {
      "cell_type": "code",
      "execution_count": 1,
      "metadata": {
        "colab": {
          "base_uri": "https://localhost:8080/",
          "height": 36
        },
        "id": "KkOncD7ICJcW",
        "outputId": "b779bf69-9f43-41df-b29c-1034b8daa07d"
      },
      "outputs": [
        {
          "name": "stderr",
          "output_type": "stream",
          "text": [
            "c:\\Users\\R\\anaconda3\\lib\\site-packages\\paramiko\\transport.py:219: CryptographyDeprecationWarning: Blowfish has been deprecated\n",
            "  \"class\": algorithms.Blowfish,\n"
          ]
        },
        {
          "data": {
            "text/plain": [
              "'4.3.2'"
            ]
          },
          "execution_count": 1,
          "metadata": {},
          "output_type": "execute_result"
        }
      ],
      "source": [
        "import gensim\n",
        "gensim.__version__"
      ]
    },
    {
      "cell_type": "code",
      "execution_count": 3,
      "metadata": {
        "colab": {
          "base_uri": "https://localhost:8080/"
        },
        "id": "c-NKqjA9Ym3w",
        "outputId": "0d507953-c3c5-4932-cda4-8d5578e770b0"
      },
      "outputs": [
        {
          "name": "stdout",
          "output_type": "stream",
          "text": [
            "Drive already mounted at /content/drive; to attempt to forcibly remount, call drive.mount(\"/content/drive\", force_remount=True).\n"
          ]
        }
      ],
      "source": [
        "from google.colab import drive\n",
        "drive.mount('/content/drive')"
      ]
    },
    {
      "cell_type": "code",
      "execution_count": 2,
      "metadata": {
        "id": "SfKopLFUaYaN"
      },
      "outputs": [],
      "source": [
        "import os\n",
        "os.chdir(r\"G:\\Ddrive\\PG DBDA\\12 Practical Machine Learning_\\Datasets\")"
      ]
    },
    {
      "cell_type": "code",
      "execution_count": 3,
      "metadata": {
        "id": "QsHphri7alc0"
      },
      "outputs": [],
      "source": [
        "import numpy as np\n",
        "import re\n",
        "import pandas as pd\n",
        "from nltk.corpus import stopwords\n",
        "from gensim.models import  Word2Vec"
      ]
    },
    {
      "cell_type": "code",
      "execution_count": 4,
      "metadata": {
        "id": "seOMxR8SaxVd"
      },
      "outputs": [],
      "source": [
        "dataset = pd.read_csv('Restaurant_Reviews.tsv', delimiter = '\\t')"
      ]
    },
    {
      "cell_type": "code",
      "execution_count": 5,
      "metadata": {
        "colab": {
          "base_uri": "https://localhost:8080/",
          "height": 206
        },
        "id": "DnOPA_ISNtDK",
        "outputId": "557aa16e-6dea-4cfa-e60f-133056d8f622"
      },
      "outputs": [
        {
          "data": {
            "text/html": [
              "<div>\n",
              "<style scoped>\n",
              "    .dataframe tbody tr th:only-of-type {\n",
              "        vertical-align: middle;\n",
              "    }\n",
              "\n",
              "    .dataframe tbody tr th {\n",
              "        vertical-align: top;\n",
              "    }\n",
              "\n",
              "    .dataframe thead th {\n",
              "        text-align: right;\n",
              "    }\n",
              "</style>\n",
              "<table border=\"1\" class=\"dataframe\">\n",
              "  <thead>\n",
              "    <tr style=\"text-align: right;\">\n",
              "      <th></th>\n",
              "      <th>Review</th>\n",
              "      <th>Liked</th>\n",
              "    </tr>\n",
              "  </thead>\n",
              "  <tbody>\n",
              "    <tr>\n",
              "      <th>0</th>\n",
              "      <td>Wow... Loved this place.</td>\n",
              "      <td>1</td>\n",
              "    </tr>\n",
              "    <tr>\n",
              "      <th>1</th>\n",
              "      <td>Crust is not good.</td>\n",
              "      <td>0</td>\n",
              "    </tr>\n",
              "    <tr>\n",
              "      <th>2</th>\n",
              "      <td>Not tasty and the texture was just nasty.</td>\n",
              "      <td>0</td>\n",
              "    </tr>\n",
              "    <tr>\n",
              "      <th>3</th>\n",
              "      <td>Stopped by during the late May bank holiday of...</td>\n",
              "      <td>1</td>\n",
              "    </tr>\n",
              "    <tr>\n",
              "      <th>4</th>\n",
              "      <td>The selection on the menu was great and so wer...</td>\n",
              "      <td>1</td>\n",
              "    </tr>\n",
              "  </tbody>\n",
              "</table>\n",
              "</div>"
            ],
            "text/plain": [
              "                                              Review  Liked\n",
              "0                           Wow... Loved this place.      1\n",
              "1                                 Crust is not good.      0\n",
              "2          Not tasty and the texture was just nasty.      0\n",
              "3  Stopped by during the late May bank holiday of...      1\n",
              "4  The selection on the menu was great and so wer...      1"
            ]
          },
          "execution_count": 5,
          "metadata": {},
          "output_type": "execute_result"
        }
      ],
      "source": [
        "dataset.head()"
      ]
    },
    {
      "cell_type": "code",
      "execution_count": 6,
      "metadata": {
        "id": "BMUdO52Daz7p"
      },
      "outputs": [],
      "source": [
        "################### Replacing Apostrophe to Word #################\n",
        "def decontracted(phrase):\n",
        "    # specific\n",
        "    phrase = re.sub(r\"won\\'t\", \"will not\", phrase)\n",
        "    phrase = re.sub(r\"can\\'t\", \"can not\", phrase)\n",
        "    phrase = re.sub(r\"don\\'t\", \"do not\", phrase)\n",
        "    # general\n",
        "    phrase = re.sub(r\"n\\'t\", \" not\", phrase)\n",
        "    phrase = re.sub(r\"\\'re\", \" are\", phrase)\n",
        "    phrase = re.sub(r\"\\'s\", \" is\", phrase)\n",
        "    phrase = re.sub(r\"\\'d\", \" would\", phrase)\n",
        "    phrase = re.sub(r\"\\'ll\", \" will\", phrase)\n",
        "    phrase = re.sub(r\"\\'t\", \" not\", phrase)\n",
        "    phrase = re.sub(r\"\\'ve\", \" have\", phrase)\n",
        "    phrase = re.sub(r\"\\'m\", \" am\", phrase)\n",
        "    return phrase\n",
        "###################################################################"
      ]
    },
    {
      "cell_type": "code",
      "execution_count": 7,
      "metadata": {
        "id": "htHzYQJba81x"
      },
      "outputs": [],
      "source": [
        "corpus = []\n",
        "for i in range(0, dataset.shape[0]):\n",
        "    review = dataset['Review'][i]\n",
        "    review = decontracted(review)    \n",
        "    review = re.sub('[^a-zA-Z]', ' ', review)\n",
        "    review = review.lower()\n",
        "#    ps = PorterStemmer()\n",
        "    review = review.split()\n",
        "#    review = [word for word in review if not word in set(stops)]\n",
        "#    review = ' '.join(review)\n",
        "#    review = [review]\n",
        "    corpus.append(review)"
      ]
    },
    {
      "cell_type": "code",
      "execution_count": 8,
      "metadata": {
        "colab": {
          "base_uri": "https://localhost:8080/"
        },
        "id": "MrCCYZP7OL_C",
        "outputId": "2df7891e-7fef-4362-b08b-660338bed242"
      },
      "outputs": [
        {
          "data": {
            "text/plain": [
              "1000"
            ]
          },
          "execution_count": 8,
          "metadata": {},
          "output_type": "execute_result"
        }
      ],
      "source": [
        "len(corpus)"
      ]
    },
    {
      "cell_type": "code",
      "execution_count": 9,
      "metadata": {
        "colab": {
          "base_uri": "https://localhost:8080/"
        },
        "id": "59RVHRK6FztX",
        "outputId": "b0e51403-1ed7-4f5d-e4a6-49cada3faae8"
      },
      "outputs": [
        {
          "data": {
            "text/plain": [
              "[['wow', 'loved', 'this', 'place'],\n",
              " ['crust', 'is', 'not', 'good'],\n",
              " ['not', 'tasty', 'and', 'the', 'texture', 'was', 'just', 'nasty']]"
            ]
          },
          "execution_count": 9,
          "metadata": {},
          "output_type": "execute_result"
        }
      ],
      "source": [
        "corpus[:3]"
      ]
    },
    {
      "cell_type": "markdown",
      "metadata": {
        "id": "lQQr-KsTbYe6"
      },
      "source": [
        "CBOW: sg = 0\n",
        "Skip-Gram: sg = 1"
      ]
    },
    {
      "cell_type": "code",
      "execution_count": 10,
      "metadata": {
        "id": "91FeES40bUN0"
      },
      "outputs": [],
      "source": [
        "model_r =  Word2Vec(corpus, min_count=1,sg=1)"
      ]
    },
    {
      "cell_type": "code",
      "execution_count": 16,
      "metadata": {},
      "outputs": [
        {
          "data": {
            "text/plain": [
              "['wow', 'loved', 'this', 'place']"
            ]
          },
          "execution_count": 16,
          "metadata": {},
          "output_type": "execute_result"
        }
      ],
      "source": [
        "corpus[0]"
      ]
    },
    {
      "cell_type": "code",
      "execution_count": 19,
      "metadata": {},
      "outputs": [
        {
          "data": {
            "text/plain": [
              "array([-8.40492696e-02,  6.14943057e-02,  4.05316129e-02, -3.56965624e-02,\n",
              "        5.85879572e-02, -2.07569838e-01,  4.63620126e-02,  2.75008410e-01,\n",
              "       -8.40563625e-02, -1.17607683e-01, -1.98912174e-02, -2.27591276e-01,\n",
              "       -3.71454731e-02,  1.73301045e-02,  1.23314913e-02, -4.97213602e-02,\n",
              "        3.29901502e-02, -1.26803085e-01, -4.96878773e-02, -2.94826627e-01,\n",
              "        3.59003134e-02,  2.90672970e-03,  1.43896520e-01, -1.28127038e-01,\n",
              "       -2.55204830e-03,  6.48752153e-02, -1.11470848e-01, -2.92315688e-02,\n",
              "       -1.44359201e-01,  9.02592763e-03,  1.71152800e-01, -4.00243420e-03,\n",
              "        5.83990365e-02, -1.48053333e-01, -8.35967362e-02,  1.52561933e-01,\n",
              "       -2.72447884e-04, -3.95296812e-02, -1.21733382e-01, -1.81834728e-01,\n",
              "        5.49599975e-02, -7.66438544e-02, -2.94804387e-02, -9.80762392e-03,\n",
              "        1.20021507e-01, -7.74494708e-02, -1.25559002e-01, -5.46433702e-02,\n",
              "        2.62534013e-03,  1.60979033e-01,  6.18162826e-02, -1.43262997e-01,\n",
              "       -9.72725637e-03, -3.08376402e-02, -9.75934789e-02,  2.80920938e-02,\n",
              "       -2.99817440e-03, -2.72640865e-03, -1.81506366e-01,  2.07356317e-03,\n",
              "       -5.48563257e-05,  6.35723118e-03,  3.85564864e-02, -2.99275992e-03,\n",
              "       -1.48606136e-01,  1.43179983e-01,  6.56071827e-02,  1.05633214e-01,\n",
              "       -1.37359157e-01,  1.46677762e-01, -6.85606897e-02,  1.02200724e-01,\n",
              "        1.13115504e-01,  3.90552357e-03,  1.21312276e-01,  3.52361463e-02,\n",
              "        1.20160752e-03, -3.73249538e-02, -8.84532705e-02,  7.72472285e-03,\n",
              "       -9.88348052e-02, -4.58418131e-02, -1.55428395e-01,  1.85722828e-01,\n",
              "       -7.55712092e-02, -1.80247016e-02,  5.90124801e-02,  1.37828380e-01,\n",
              "        7.96304643e-02,  8.80986638e-03,  1.47320345e-01,  4.88282666e-02,\n",
              "        8.32425207e-02,  1.65809579e-02,  2.25102335e-01,  9.25797820e-02,\n",
              "        7.04323351e-02, -6.97642863e-02,  1.60092581e-02, -7.89047703e-02],\n",
              "      dtype=float32)"
            ]
          },
          "execution_count": 19,
          "metadata": {},
          "output_type": "execute_result"
        }
      ],
      "source": [
        "row_means = np.mean(model_r.wv[corpus[0]],axis=0)\n",
        "row_means"
      ]
    },
    {
      "cell_type": "code",
      "execution_count": 20,
      "metadata": {
        "colab": {
          "base_uri": "https://localhost:8080/"
        },
        "id": "T5VxV-NoblXK",
        "outputId": "231d58f1-9ed0-4b70-bb04-45490346b385"
      },
      "outputs": [],
      "source": [
        "means = []\n",
        "for i in corpus :\n",
        "    row_means = np.mean(model_r.wv[i],axis=0)\n",
        "    means.append(row_means)\n",
        "means = np.array(means) \n",
        "\n",
        "X = means\n",
        "y = dataset.iloc[:, 1]"
      ]
    },
    {
      "cell_type": "code",
      "execution_count": 21,
      "metadata": {
        "colab": {
          "base_uri": "https://localhost:8080/"
        },
        "id": "eioGC1w5btA6",
        "outputId": "f48de820-faa1-401d-f300-40827836f186"
      },
      "outputs": [
        {
          "data": {
            "text/plain": [
              "(1000, 100)"
            ]
          },
          "execution_count": 21,
          "metadata": {},
          "output_type": "execute_result"
        }
      ],
      "source": [
        "X.shape"
      ]
    },
    {
      "cell_type": "code",
      "execution_count": 27,
      "metadata": {
        "colab": {
          "base_uri": "https://localhost:8080/"
        },
        "id": "jEL_BV3jsJBi",
        "outputId": "5162efd1-1d92-456a-ce9f-ce8d93032f66"
      },
      "outputs": [
        {
          "data": {
            "text/plain": [
              "array([[ 0.04053161, -0.03569656,  0.05858796],\n",
              "       [ 0.04598686, -0.0301181 ,  0.05939537],\n",
              "       [ 0.05270773, -0.03188234,  0.06066221],\n",
              "       ...,\n",
              "       [ 0.04916504, -0.04132613,  0.07506542],\n",
              "       [ 0.04665598, -0.03999413,  0.06812572],\n",
              "       [ 0.04741128, -0.03419282,  0.06046919]], dtype=float32)"
            ]
          },
          "execution_count": 27,
          "metadata": {},
          "output_type": "execute_result"
        }
      ],
      "source": [
        "X[:,2:5]"
      ]
    },
    {
      "cell_type": "code",
      "execution_count": 28,
      "metadata": {
        "colab": {
          "base_uri": "https://localhost:8080/"
        },
        "id": "0x-OFwRBbu2i",
        "outputId": "2a9aa763-dcb9-45b5-ef86-074330c0a5c6"
      },
      "outputs": [
        {
          "data": {
            "text/plain": [
              "(1000,)"
            ]
          },
          "execution_count": 28,
          "metadata": {},
          "output_type": "execute_result"
        }
      ],
      "source": [
        "y.shape"
      ]
    },
    {
      "cell_type": "code",
      "execution_count": 32,
      "metadata": {
        "colab": {
          "base_uri": "https://localhost:8080/"
        },
        "id": "47c2C1sSbz5V",
        "outputId": "18e5eec8-88b5-4ee1-8cef-7ee7992f5a88"
      },
      "outputs": [
        {
          "name": "stderr",
          "output_type": "stream",
          "text": [
            "[Parallel(n_jobs=1)]: Done  49 tasks      | elapsed:    2.5s\n"
          ]
        },
        {
          "data": {
            "text/html": [
              "<style>#sk-container-id-4 {color: black;}#sk-container-id-4 pre{padding: 0;}#sk-container-id-4 div.sk-toggleable {background-color: white;}#sk-container-id-4 label.sk-toggleable__label {cursor: pointer;display: block;width: 100%;margin-bottom: 0;padding: 0.3em;box-sizing: border-box;text-align: center;}#sk-container-id-4 label.sk-toggleable__label-arrow:before {content: \"▸\";float: left;margin-right: 0.25em;color: #696969;}#sk-container-id-4 label.sk-toggleable__label-arrow:hover:before {color: black;}#sk-container-id-4 div.sk-estimator:hover label.sk-toggleable__label-arrow:before {color: black;}#sk-container-id-4 div.sk-toggleable__content {max-height: 0;max-width: 0;overflow: hidden;text-align: left;background-color: #f0f8ff;}#sk-container-id-4 div.sk-toggleable__content pre {margin: 0.2em;color: black;border-radius: 0.25em;background-color: #f0f8ff;}#sk-container-id-4 input.sk-toggleable__control:checked~div.sk-toggleable__content {max-height: 200px;max-width: 100%;overflow: auto;}#sk-container-id-4 input.sk-toggleable__control:checked~label.sk-toggleable__label-arrow:before {content: \"▾\";}#sk-container-id-4 div.sk-estimator input.sk-toggleable__control:checked~label.sk-toggleable__label {background-color: #d4ebff;}#sk-container-id-4 div.sk-label input.sk-toggleable__control:checked~label.sk-toggleable__label {background-color: #d4ebff;}#sk-container-id-4 input.sk-hidden--visually {border: 0;clip: rect(1px 1px 1px 1px);clip: rect(1px, 1px, 1px, 1px);height: 1px;margin: -1px;overflow: hidden;padding: 0;position: absolute;width: 1px;}#sk-container-id-4 div.sk-estimator {font-family: monospace;background-color: #f0f8ff;border: 1px dotted black;border-radius: 0.25em;box-sizing: border-box;margin-bottom: 0.5em;}#sk-container-id-4 div.sk-estimator:hover {background-color: #d4ebff;}#sk-container-id-4 div.sk-parallel-item::after {content: \"\";width: 100%;border-bottom: 1px solid gray;flex-grow: 1;}#sk-container-id-4 div.sk-label:hover label.sk-toggleable__label {background-color: #d4ebff;}#sk-container-id-4 div.sk-serial::before {content: \"\";position: absolute;border-left: 1px solid gray;box-sizing: border-box;top: 0;bottom: 0;left: 50%;z-index: 0;}#sk-container-id-4 div.sk-serial {display: flex;flex-direction: column;align-items: center;background-color: white;padding-right: 0.2em;padding-left: 0.2em;position: relative;}#sk-container-id-4 div.sk-item {position: relative;z-index: 1;}#sk-container-id-4 div.sk-parallel {display: flex;align-items: stretch;justify-content: center;background-color: white;position: relative;}#sk-container-id-4 div.sk-item::before, #sk-container-id-4 div.sk-parallel-item::before {content: \"\";position: absolute;border-left: 1px solid gray;box-sizing: border-box;top: 0;bottom: 0;left: 50%;z-index: -1;}#sk-container-id-4 div.sk-parallel-item {display: flex;flex-direction: column;z-index: 1;position: relative;background-color: white;}#sk-container-id-4 div.sk-parallel-item:first-child::after {align-self: flex-end;width: 50%;}#sk-container-id-4 div.sk-parallel-item:last-child::after {align-self: flex-start;width: 50%;}#sk-container-id-4 div.sk-parallel-item:only-child::after {width: 0;}#sk-container-id-4 div.sk-dashed-wrapped {border: 1px dashed gray;margin: 0 0.4em 0.5em 0.4em;box-sizing: border-box;padding-bottom: 0.4em;background-color: white;}#sk-container-id-4 div.sk-label label {font-family: monospace;font-weight: bold;display: inline-block;line-height: 1.2em;}#sk-container-id-4 div.sk-label-container {text-align: center;}#sk-container-id-4 div.sk-container {/* jupyter's `normalize.less` sets `[hidden] { display: none; }` but bootstrap.min.css set `[hidden] { display: none !important; }` so we also need the `!important` here to be able to override the default hidden behavior on the sphinx rendered scikit-learn.org. See: https://github.com/scikit-learn/scikit-learn/issues/21755 */display: inline-block !important;position: relative;}#sk-container-id-4 div.sk-text-repr-fallback {display: none;}</style><div id=\"sk-container-id-4\" class=\"sk-top-container\"><div class=\"sk-text-repr-fallback\"><pre>RandomForestClassifier(oob_score=True, random_state=2021, verbose=1)</pre><b>In a Jupyter environment, please rerun this cell to show the HTML representation or trust the notebook. <br />On GitHub, the HTML representation is unable to render, please try loading this page with nbviewer.org.</b></div><div class=\"sk-container\" hidden><div class=\"sk-item\"><div class=\"sk-estimator sk-toggleable\"><input class=\"sk-toggleable__control sk-hidden--visually\" id=\"sk-estimator-id-4\" type=\"checkbox\" checked><label for=\"sk-estimator-id-4\" class=\"sk-toggleable__label sk-toggleable__label-arrow\">RandomForestClassifier</label><div class=\"sk-toggleable__content\"><pre>RandomForestClassifier(oob_score=True, random_state=2021, verbose=1)</pre></div></div></div></div></div>"
            ],
            "text/plain": [
              "RandomForestClassifier(oob_score=True, random_state=2021, verbose=1)"
            ]
          },
          "execution_count": 32,
          "metadata": {},
          "output_type": "execute_result"
        }
      ],
      "source": [
        "from sklearn.model_selection import train_test_split \n",
        "from sklearn.metrics import confusion_matrix\n",
        "from sklearn.metrics import classification_report, accuracy_score\n",
        "\n",
        "\n",
        "X_train, X_test, y_train, y_test = train_test_split(X, y,test_size = 0.3, \n",
        "                                                    random_state=2021,\n",
        "                                                    stratify=y)\n",
        "\n",
        "from sklearn.ensemble import RandomForestClassifier\n",
        "model_rf = RandomForestClassifier(random_state=2021,oob_score=True,verbose=1)\n",
        "model_rf.fit( X_train , y_train )"
      ]
    },
    {
      "cell_type": "markdown",
      "metadata": {
        "id": "YxizNzpUb9nY"
      },
      "source": [
        "**Model Evaluation**\n"
      ]
    },
    {
      "cell_type": "code",
      "execution_count": 30,
      "metadata": {
        "colab": {
          "base_uri": "https://localhost:8080/"
        },
        "id": "djEfF_4xb24y",
        "outputId": "d917b9f0-fdcd-4f2a-cb9b-7ff2ac2048c6"
      },
      "outputs": [
        {
          "name": "stdout",
          "output_type": "stream",
          "text": [
            "[[93 57]\n",
            " [62 88]]\n",
            "              precision    recall  f1-score   support\n",
            "\n",
            "           0       0.60      0.62      0.61       150\n",
            "           1       0.61      0.59      0.60       150\n",
            "\n",
            "    accuracy                           0.60       300\n",
            "   macro avg       0.60      0.60      0.60       300\n",
            "weighted avg       0.60      0.60      0.60       300\n",
            "\n",
            "0.6033333333333334\n"
          ]
        }
      ],
      "source": [
        "y_pred = model_rf.predict(X_test)\n",
        "\n",
        "print(confusion_matrix(y_test, y_pred))\n",
        "print(classification_report(y_test, y_pred))\n",
        "print(accuracy_score(y_test, y_pred))"
      ]
    },
    {
      "cell_type": "code",
      "execution_count": null,
      "metadata": {
        "id": "qr3xm6E0cCii"
      },
      "outputs": [],
      "source": []
    }
  ],
  "metadata": {
    "colab": {
      "name": "Gensim_Reviews.ipynb",
      "provenance": []
    },
    "kernelspec": {
      "display_name": "Python 3",
      "name": "python3"
    },
    "language_info": {
      "codemirror_mode": {
        "name": "ipython",
        "version": 3
      },
      "file_extension": ".py",
      "mimetype": "text/x-python",
      "name": "python",
      "nbconvert_exporter": "python",
      "pygments_lexer": "ipython3",
      "version": "3.8.18"
    }
  },
  "nbformat": 4,
  "nbformat_minor": 0
}
