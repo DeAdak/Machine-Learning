{
  "nbformat": 4,
  "nbformat_minor": 0,
  "metadata": {
    "colab": {
      "name": "NLP - Pretrained Word2Vec.ipynb",
      "provenance": []
    },
    "kernelspec": {
      "name": "python3",
      "display_name": "Python 3"
    }
  },
  "cells": [
    {
      "cell_type": "code",
      "metadata": {
        "colab": {
          "base_uri": "https://localhost:8080/"
        },
        "id": "pj1HF1t38_sD",
        "outputId": "a573cc60-f661-438e-c67b-1cfb67570dad"
      },
      "source": [
        "from google.colab import drive\n",
        "drive.mount('/content/drive')"
      ],
      "execution_count": null,
      "outputs": [
        {
          "output_type": "stream",
          "name": "stdout",
          "text": [
            "Mounted at /content/drive\n"
          ]
        }
      ]
    },
    {
      "cell_type": "code",
      "metadata": {
        "id": "Rfqpb_6Xu2-o"
      },
      "source": [
        "import os\n",
        "os.chdir(\"/content/drive/My Drive/NLP\")"
      ],
      "execution_count": null,
      "outputs": []
    },
    {
      "cell_type": "code",
      "metadata": {
        "id": "GmRLoN6kSD3C"
      },
      "source": [
        "from gensim.models import KeyedVectors\n",
        "filename = 'GoogleNews-vectors-negative300.bin'\n",
        "model = KeyedVectors.load_word2vec_format(filename, binary=True)"
      ],
      "execution_count": null,
      "outputs": []
    },
    {
      "cell_type": "code",
      "metadata": {
        "id": "DEAHpVhH6kdQ",
        "colab": {
          "base_uri": "https://localhost:8080/"
        },
        "outputId": "80d355b6-7aeb-42cc-8e66-d83c8d5d1e6b"
      },
      "source": [
        "type(model)"
      ],
      "execution_count": null,
      "outputs": [
        {
          "output_type": "execute_result",
          "data": {
            "text/plain": [
              "gensim.models.keyedvectors.Word2VecKeyedVectors"
            ]
          },
          "metadata": {},
          "execution_count": 4
        }
      ]
    },
    {
      "cell_type": "code",
      "metadata": {
        "id": "TbIdcH6CcPkt",
        "colab": {
          "base_uri": "https://localhost:8080/"
        },
        "outputId": "5574e7a5-978f-4e97-a871-9d6f85535d83"
      },
      "source": [
        "result = model.word_vec(\"tea\")\n",
        "print(result)"
      ],
      "execution_count": null,
      "outputs": [
        {
          "output_type": "stream",
          "name": "stdout",
          "text": [
            "[-2.08984375e-01  1.30859375e-01 -4.95605469e-02  3.32031250e-01\n",
            "  8.15429688e-02  1.09863281e-01  6.07910156e-02 -2.06054688e-01\n",
            " -1.31835938e-01  1.17675781e-01  1.00097656e-01 -3.67187500e-01\n",
            "  2.12890625e-01  2.92968750e-01 -2.92968750e-01  1.39160156e-02\n",
            " -1.16699219e-01  1.58203125e-01  1.37695312e-01 -1.93359375e-01\n",
            " -2.00195312e-01  1.12304688e-01  2.86865234e-02 -2.31445312e-01\n",
            " -6.44531250e-02  5.46875000e-01 -3.61328125e-01  7.27539062e-02\n",
            "  1.69921875e-01 -7.71484375e-02  5.63964844e-02 -2.04101562e-01\n",
            " -2.20703125e-01  2.31933594e-02 -3.00781250e-01 -1.51367188e-01\n",
            " -2.47070312e-01 -3.26171875e-01  1.99890137e-03 -5.05371094e-02\n",
            " -1.03027344e-01 -1.88476562e-01  3.33984375e-01 -9.27734375e-03\n",
            " -2.63671875e-01 -1.65039062e-01 -4.00390625e-01 -1.34765625e-01\n",
            "  6.83593750e-02  1.06811523e-02 -1.66015625e-01  1.72851562e-01\n",
            " -3.51562500e-02 -9.13085938e-02  3.11279297e-02 -1.93359375e-01\n",
            " -6.25610352e-03  3.95507812e-02  1.39648438e-01 -4.96093750e-01\n",
            "  8.83789062e-02  2.43164062e-01 -3.08593750e-01 -1.36718750e-01\n",
            "  8.15429688e-02 -3.39355469e-02 -1.24511719e-01 -9.03320312e-02\n",
            "  3.45703125e-01 -1.32446289e-02  2.45117188e-01  1.31835938e-01\n",
            "  3.80859375e-01 -2.41210938e-01 -1.91650391e-02 -7.27539062e-02\n",
            " -1.67968750e-01  1.19628906e-01 -7.86132812e-02 -2.11914062e-01\n",
            "  1.56250000e-01 -1.01074219e-01 -8.78906250e-02 -8.15429688e-02\n",
            " -1.04492188e-01 -8.74023438e-02  1.66015625e-01  1.74804688e-01\n",
            "  1.25976562e-01  1.37695312e-01 -1.02050781e-01  4.22363281e-02\n",
            "  1.04980469e-01 -9.17968750e-02 -2.40234375e-01  1.66992188e-01\n",
            " -9.81445312e-02 -1.47460938e-01 -5.71289062e-02  4.10156250e-02\n",
            " -2.73437500e-01 -3.88671875e-01  1.67236328e-02  2.94921875e-01\n",
            " -1.24023438e-01  7.47070312e-02  2.10937500e-01 -4.24804688e-02\n",
            "  1.90429688e-01 -1.50390625e-01 -1.62109375e-01 -9.13085938e-02\n",
            " -3.00781250e-01 -4.58984375e-02  1.54296875e-01 -2.40234375e-01\n",
            "  5.83496094e-02 -1.45507812e-01  8.05664062e-02  2.08984375e-01\n",
            " -1.68457031e-02  3.51562500e-01  4.96093750e-01 -9.17968750e-02\n",
            " -3.90625000e-02  2.96875000e-01  1.53320312e-01 -6.49414062e-02\n",
            "  3.14453125e-01 -1.27929688e-01  1.57226562e-01  1.12792969e-01\n",
            "  1.65039062e-01  2.88085938e-02 -1.91406250e-01  2.51953125e-01\n",
            "  1.23901367e-02  1.84570312e-01 -2.46093750e-01 -1.66015625e-01\n",
            " -1.47460938e-01 -8.78906250e-03 -1.97265625e-01 -1.46484375e-01\n",
            "  3.36914062e-02 -8.05664062e-02  1.48315430e-02  2.44140625e-02\n",
            " -1.19140625e-01 -1.87500000e-01  2.96875000e-01 -1.15234375e-01\n",
            " -1.66015625e-01 -1.22070312e-01  1.58203125e-01 -1.42578125e-01\n",
            " -3.17382812e-02 -3.67187500e-01 -1.86523438e-01 -9.52148438e-02\n",
            " -3.84765625e-01 -5.44433594e-02  2.30468750e-01  4.39453125e-01\n",
            " -1.50390625e-01 -2.33398438e-01  2.41210938e-01  9.21630859e-03\n",
            "  1.40991211e-02  1.98242188e-01 -1.87500000e-01  3.37890625e-01\n",
            "  2.35351562e-01 -2.42187500e-01 -1.91406250e-01 -3.86718750e-01\n",
            " -1.25976562e-01 -1.03515625e-01 -1.73339844e-02 -2.35351562e-01\n",
            "  1.33666992e-02 -2.79296875e-01 -3.08593750e-01  8.64257812e-02\n",
            "  2.05078125e-01  1.56250000e-02  1.34887695e-02 -1.98974609e-02\n",
            "  4.34570312e-02 -4.46777344e-02 -2.59765625e-01  1.39648438e-01\n",
            " -1.48437500e-01  2.55126953e-02  1.75781250e-01  1.25000000e-01\n",
            "  2.17285156e-02 -6.83593750e-02  3.19824219e-02 -1.27929688e-01\n",
            " -1.25000000e-01 -1.61132812e-01  1.23535156e-01 -1.11328125e-01\n",
            " -4.76074219e-02  1.07288361e-04  3.73046875e-01  2.89062500e-01\n",
            "  1.13525391e-02 -2.19726562e-01 -3.76953125e-01 -1.86767578e-02\n",
            " -8.15429688e-02 -1.65039062e-01  1.55029297e-02 -3.18359375e-01\n",
            " -3.37890625e-01 -1.27929688e-01  1.56250000e-01  8.59375000e-02\n",
            "  2.69531250e-01  3.05175781e-04  3.61328125e-02 -5.17578125e-02\n",
            "  1.33789062e-01 -1.29882812e-01 -1.69677734e-02 -2.16796875e-01\n",
            "  2.14843750e-01  1.47460938e-01 -2.29492188e-02  8.44726562e-02\n",
            " -2.65625000e-01  2.67578125e-01 -1.55273438e-01 -6.98242188e-02\n",
            "  3.12500000e-01 -1.61132812e-01  1.10351562e-01 -8.49609375e-02\n",
            "  2.73437500e-01  5.46875000e-02  3.78906250e-01  2.00195312e-01\n",
            " -1.23046875e-01  6.64062500e-02  4.46777344e-02  2.50000000e-01\n",
            "  1.25976562e-01 -2.23632812e-01 -1.93359375e-01  2.78320312e-02\n",
            "  2.75390625e-01 -1.57165527e-03 -2.81982422e-02 -2.69531250e-01\n",
            " -2.38281250e-01 -1.15203857e-03 -2.87109375e-01 -1.86523438e-01\n",
            " -3.20312500e-01 -1.06811523e-02 -2.36328125e-01  3.16406250e-01\n",
            " -1.60156250e-01 -1.91406250e-01 -1.20117188e-01  3.85742188e-02\n",
            " -7.03125000e-02 -9.57031250e-02  1.52343750e-01  2.26562500e-01\n",
            "  1.95312500e-02 -8.93554688e-02  2.09960938e-01 -7.76367188e-02\n",
            " -7.08007812e-02 -5.42968750e-01 -1.96533203e-02  2.06298828e-02\n",
            "  2.57812500e-01 -1.75781250e-01  1.66992188e-01 -1.11328125e-01\n",
            " -2.06054688e-01 -7.32421875e-02 -8.05664062e-02  4.95605469e-02\n",
            " -2.55859375e-01  5.03906250e-01  8.10546875e-02 -2.91015625e-01\n",
            "  3.04687500e-01 -2.21679688e-01 -1.28906250e-01 -1.88476562e-01\n",
            "  3.75976562e-02  3.53515625e-01  7.17773438e-02  3.37890625e-01]\n"
          ]
        }
      ]
    },
    {
      "cell_type": "code",
      "metadata": {
        "id": "CN36Kv0_2kKv",
        "colab": {
          "base_uri": "https://localhost:8080/"
        },
        "outputId": "1aa43c7e-5efa-4689-cca3-feae31a52db3"
      },
      "source": [
        "result.shape"
      ],
      "execution_count": null,
      "outputs": [
        {
          "output_type": "execute_result",
          "data": {
            "text/plain": [
              "(300,)"
            ]
          },
          "metadata": {},
          "execution_count": 9
        }
      ]
    },
    {
      "cell_type": "code",
      "metadata": {
        "id": "Sb47bEiSksZi",
        "colab": {
          "base_uri": "https://localhost:8080/"
        },
        "outputId": "c2e7d781-e68b-4b0b-9ba5-e55ea0450067"
      },
      "source": [
        "result = model.most_similar('reliance',topn=5)\n",
        "print(result)"
      ],
      "execution_count": null,
      "outputs": [
        {
          "output_type": "stream",
          "name": "stdout",
          "text": [
            "[('dependence', 0.772757887840271), ('reliant', 0.6154083609580994), ('relying', 0.6135295033454895), ('overdependence', 0.6113319396972656), ('dependency', 0.5983496904373169)]\n"
          ]
        }
      ]
    },
    {
      "cell_type": "code",
      "metadata": {
        "id": "ZWNOBOTZVRzx",
        "colab": {
          "base_uri": "https://localhost:8080/"
        },
        "outputId": "81b1e1b1-38af-4aa8-ac08-75117feefa10"
      },
      "source": [
        "result = model.similarity('reliance','dependence')\n",
        "print(result)"
      ],
      "execution_count": null,
      "outputs": [
        {
          "output_type": "stream",
          "name": "stdout",
          "text": [
            "0.7727579\n"
          ]
        }
      ]
    },
    {
      "cell_type": "code",
      "metadata": {
        "id": "RFbXTjFRlK-d",
        "colab": {
          "base_uri": "https://localhost:8080/"
        },
        "outputId": "a0d0d582-dd4c-4d24-abc9-0fdb9160862f"
      },
      "source": [
        "result = model.similarity('reliance','independence')\n",
        "print(result)"
      ],
      "execution_count": null,
      "outputs": [
        {
          "output_type": "stream",
          "name": "stdout",
          "text": [
            "0.22009572\n"
          ]
        }
      ]
    },
    {
      "cell_type": "code",
      "metadata": {
        "id": "gCA8l0XylVcM",
        "colab": {
          "base_uri": "https://localhost:8080/"
        },
        "outputId": "664ba354-536e-45fd-b5c0-2eb5357f8bc0"
      },
      "source": [
        "result = model.similarity('woman','queen')\n",
        "print(result)"
      ],
      "execution_count": null,
      "outputs": [
        {
          "output_type": "stream",
          "name": "stdout",
          "text": [
            "0.31618136\n"
          ]
        }
      ]
    },
    {
      "cell_type": "code",
      "metadata": {
        "colab": {
          "base_uri": "https://localhost:8080/"
        },
        "id": "Djl2FGpGo-ZU",
        "outputId": "a704428e-56ee-4f6f-b1fb-32fff9c37230"
      },
      "source": [
        "result = model.similarity('woman','lady')\n",
        "print(result)"
      ],
      "execution_count": null,
      "outputs": [
        {
          "output_type": "stream",
          "name": "stdout",
          "text": [
            "0.62887865\n"
          ]
        }
      ]
    },
    {
      "cell_type": "code",
      "metadata": {
        "id": "9g0IZFX6vDfG",
        "colab": {
          "base_uri": "https://localhost:8080/"
        },
        "outputId": "78275c50-550f-49df-a988-66c8f8372528"
      },
      "source": [
        "result = model.most_similar(positive=['woman', 'boy'], negative=['man'], topn=1)\n",
        "print(result)"
      ],
      "execution_count": null,
      "outputs": [
        {
          "output_type": "stream",
          "name": "stdout",
          "text": [
            "[('girl', 0.8881361484527588)]\n"
          ]
        }
      ]
    },
    {
      "cell_type": "code",
      "metadata": {
        "id": "PUkPmrpqvFA3",
        "colab": {
          "base_uri": "https://localhost:8080/"
        },
        "outputId": "96a02c44-15b8-4bf3-946e-4e2d1f2d2fe2"
      },
      "source": [
        "result = model.most_similar(positive=['woman', 'king'], negative=['man'], topn=5)\n",
        "print(result)"
      ],
      "execution_count": null,
      "outputs": [
        {
          "output_type": "stream",
          "name": "stdout",
          "text": [
            "[('queen', 0.7118192911148071), ('monarch', 0.6189674139022827), ('princess', 0.5902431011199951), ('crown_prince', 0.5499460697174072), ('prince', 0.5377321243286133)]\n"
          ]
        }
      ]
    },
    {
      "cell_type": "code",
      "metadata": {
        "id": "k8MWy1F0X60E",
        "colab": {
          "base_uri": "https://localhost:8080/"
        },
        "outputId": "30ae2991-51a3-4412-93ca-7fe4e4ee785f"
      },
      "source": [
        "result = model.most_similar(positive=['child', 'cattle'], negative=['human'], topn=1)\n",
        "print(result)"
      ],
      "execution_count": null,
      "outputs": [
        {
          "output_type": "stream",
          "name": "stdout",
          "text": [
            "[('calves', 0.5428147315979004)]\n"
          ]
        }
      ]
    },
    {
      "cell_type": "code",
      "metadata": {
        "id": "mKYsM_YcXBdD",
        "colab": {
          "base_uri": "https://localhost:8080/"
        },
        "outputId": "62350766-02c3-400f-bead-359354969988"
      },
      "source": [
        "result = model.most_similar('fantastic',topn=3)\n",
        "print(result)"
      ],
      "execution_count": null,
      "outputs": [
        {
          "output_type": "stream",
          "name": "stdout",
          "text": [
            "[('terrific', 0.8317593932151794), ('wonderful', 0.8047919273376465), ('great', 0.7935211658477783)]\n"
          ]
        }
      ]
    },
    {
      "cell_type": "code",
      "metadata": {
        "id": "bMYH-V4ZcnHY",
        "colab": {
          "base_uri": "https://localhost:8080/"
        },
        "outputId": "56e88866-e9b0-4260-bf4d-6488f187d072"
      },
      "source": [
        "result = model.most_similar('phenomenal',topn=3)\n",
        "print(result)"
      ],
      "execution_count": null,
      "outputs": [
        {
          "output_type": "stream",
          "name": "stdout",
          "text": [
            "[('incredible', 0.7799631953239441), ('amazing', 0.7642048597335815), ('fantastic', 0.7392951846122742)]\n"
          ]
        }
      ]
    },
    {
      "cell_type": "code",
      "metadata": {
        "id": "pkeOTr5BbA37",
        "colab": {
          "base_uri": "https://localhost:8080/"
        },
        "outputId": "3c4b2a32-23e7-4c21-bbfa-3fc57801ec01"
      },
      "source": [
        "result = model.similarity('lunch','dinner')\n",
        "print(result)"
      ],
      "execution_count": null,
      "outputs": [
        {
          "output_type": "stream",
          "name": "stdout",
          "text": [
            "0.68157035\n"
          ]
        }
      ]
    },
    {
      "cell_type": "code",
      "metadata": {
        "id": "Xxtw7tA3bhu1",
        "colab": {
          "base_uri": "https://localhost:8080/"
        },
        "outputId": "bd34eae4-8992-4865-e6ba-942f6b305b12"
      },
      "source": [
        "result = model.similarity('lunch','cook')\n",
        "print(result)"
      ],
      "execution_count": null,
      "outputs": [
        {
          "output_type": "stream",
          "name": "stdout",
          "text": [
            "0.35912475\n"
          ]
        }
      ]
    },
    {
      "cell_type": "code",
      "metadata": {
        "id": "3DPMqRwjiOZE",
        "colab": {
          "base_uri": "https://localhost:8080/"
        },
        "outputId": "a5571dc3-6cb1-45a2-bc2c-603b1e205f05"
      },
      "source": [
        "result = model.similarity('soft','hard')\n",
        "print(result)"
      ],
      "execution_count": null,
      "outputs": [
        {
          "output_type": "stream",
          "name": "stdout",
          "text": [
            "0.31624037\n"
          ]
        }
      ]
    },
    {
      "cell_type": "code",
      "metadata": {
        "id": "upgk5PmVjMTT",
        "colab": {
          "base_uri": "https://localhost:8080/"
        },
        "outputId": "07d7bd92-4930-4284-ca7d-5e3223f77b69"
      },
      "source": [
        "result = model.similarity('pizza','cheese')\n",
        "print(result)"
      ],
      "execution_count": null,
      "outputs": [
        {
          "output_type": "stream",
          "name": "stdout",
          "text": [
            "0.47083578\n"
          ]
        }
      ]
    },
    {
      "cell_type": "code",
      "metadata": {
        "id": "akk1jMnKZ5FI",
        "colab": {
          "base_uri": "https://localhost:8080/"
        },
        "outputId": "131830f2-693f-4dab-9aba-d25ddeeb683c"
      },
      "source": [
        "result = model.similarity('tiger','cat')\n",
        "print(result)"
      ],
      "execution_count": null,
      "outputs": [
        {
          "output_type": "stream",
          "name": "stdout",
          "text": [
            "0.5172962\n"
          ]
        }
      ]
    },
    {
      "cell_type": "code",
      "metadata": {
        "id": "7JbaaP0_csC9",
        "colab": {
          "base_uri": "https://localhost:8080/"
        },
        "outputId": "59957508-d660-46ac-db4f-4bcbf42c4b07"
      },
      "source": [
        "result = model.wmdistance('tiger','cat')\n",
        "print(result)"
      ],
      "execution_count": null,
      "outputs": [
        {
          "output_type": "stream",
          "name": "stdout",
          "text": [
            "2.439730227965307\n"
          ]
        }
      ]
    },
    {
      "cell_type": "code",
      "metadata": {
        "id": "uFtbWwpmdKNW",
        "colab": {
          "base_uri": "https://localhost:8080/"
        },
        "outputId": "715bd6cb-512f-435d-8aa6-634656689387"
      },
      "source": [
        "result = model.similarity('tiger','lion')\n",
        "print(result)"
      ],
      "execution_count": null,
      "outputs": [
        {
          "output_type": "stream",
          "name": "stdout",
          "text": [
            "0.5121041\n"
          ]
        }
      ]
    },
    {
      "cell_type": "code",
      "metadata": {
        "id": "6LhptmV4Z-gg",
        "colab": {
          "base_uri": "https://localhost:8080/"
        },
        "outputId": "ccd8c2f8-0f07-4d92-81ad-95e2e7069728"
      },
      "source": [
        "result = model.wmdistance('lioness','lion')\n",
        "print(result)"
      ],
      "execution_count": null,
      "outputs": [
        {
          "output_type": "stream",
          "name": "stdout",
          "text": [
            "1.2077177551383156\n"
          ]
        }
      ]
    },
    {
      "cell_type": "code",
      "metadata": {
        "id": "AWvFafu70osp",
        "colab": {
          "base_uri": "https://localhost:8080/"
        },
        "outputId": "0a2f1cb0-43da-42d1-f777-09d562bacdfb"
      },
      "source": [
        "result = model.wmdistance('lion','cow')\n",
        "print(result)"
      ],
      "execution_count": null,
      "outputs": [
        {
          "output_type": "stream",
          "name": "stdout",
          "text": [
            "1.9931940170335567\n"
          ]
        }
      ]
    }
  ]
}