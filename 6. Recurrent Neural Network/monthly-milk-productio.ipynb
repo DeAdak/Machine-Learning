{
 "cells": [
  {
   "cell_type": "code",
   "execution_count": 39,
   "id": "d439865b",
   "metadata": {},
   "outputs": [
    {
     "data": {
      "text/html": [
       "<div>\n",
       "<style scoped>\n",
       "    .dataframe tbody tr th:only-of-type {\n",
       "        vertical-align: middle;\n",
       "    }\n",
       "\n",
       "    .dataframe tbody tr th {\n",
       "        vertical-align: top;\n",
       "    }\n",
       "\n",
       "    .dataframe thead th {\n",
       "        text-align: right;\n",
       "    }\n",
       "</style>\n",
       "<table border=\"1\" class=\"dataframe\">\n",
       "  <thead>\n",
       "    <tr style=\"text-align: right;\">\n",
       "      <th></th>\n",
       "      <th>Month</th>\n",
       "      <th>Milk</th>\n",
       "    </tr>\n",
       "  </thead>\n",
       "  <tbody>\n",
       "    <tr>\n",
       "      <th>0</th>\n",
       "      <td>1962-01</td>\n",
       "      <td>589</td>\n",
       "    </tr>\n",
       "    <tr>\n",
       "      <th>1</th>\n",
       "      <td>1962-02</td>\n",
       "      <td>561</td>\n",
       "    </tr>\n",
       "    <tr>\n",
       "      <th>2</th>\n",
       "      <td>1962-03</td>\n",
       "      <td>640</td>\n",
       "    </tr>\n",
       "    <tr>\n",
       "      <th>3</th>\n",
       "      <td>1962-04</td>\n",
       "      <td>656</td>\n",
       "    </tr>\n",
       "    <tr>\n",
       "      <th>4</th>\n",
       "      <td>1962-05</td>\n",
       "      <td>727</td>\n",
       "    </tr>\n",
       "  </tbody>\n",
       "</table>\n",
       "</div>"
      ],
      "text/plain": [
       "     Month  Milk\n",
       "0  1962-01   589\n",
       "1  1962-02   561\n",
       "2  1962-03   640\n",
       "3  1962-04   656\n",
       "4  1962-05   727"
      ]
     },
     "execution_count": 39,
     "metadata": {},
     "output_type": "execute_result"
    }
   ],
   "source": [
    "import numpy as np\n",
    "import matplotlib.pyplot as plt\n",
    "import pandas as pd\n",
    "from sklearn.metrics import mean_squared_error\n",
    "# Importing the training set\n",
    "dataset_ts = pd.read_csv(r'G:\\Ddrive\\PG DBDA\\12 Practical Machine Learning_\\Datasets\\monthly-milk-production-pounds-p.csv')\n",
    "\n",
    "dataset_ts.head()"
   ]
  },
  {
   "cell_type": "code",
   "execution_count": 40,
   "id": "bf3b35dc",
   "metadata": {},
   "outputs": [
    {
     "data": {
      "text/plain": [
       "(168, 2)"
      ]
     },
     "execution_count": 40,
     "metadata": {},
     "output_type": "execute_result"
    }
   ],
   "source": [
    "dataset_ts.shape"
   ]
  },
  {
   "cell_type": "code",
   "execution_count": 41,
   "id": "12cf12ca",
   "metadata": {},
   "outputs": [
    {
     "data": {
      "text/plain": [
       "(156, 2)"
      ]
     },
     "execution_count": 41,
     "metadata": {},
     "output_type": "execute_result"
    }
   ],
   "source": [
    "dataset_train = dataset_ts.iloc[:-12,:]\n",
    "dataset_train.shape"
   ]
  },
  {
   "cell_type": "code",
   "execution_count": 42,
   "id": "35f92a27",
   "metadata": {},
   "outputs": [
    {
     "data": {
      "text/plain": [
       "array([589, 561, 640, 656, 727], dtype=int64)"
      ]
     },
     "execution_count": 42,
     "metadata": {},
     "output_type": "execute_result"
    }
   ],
   "source": [
    "training_set = dataset_train.iloc[:, 1].values\n",
    "training_set[:5]"
   ]
  },
  {
   "cell_type": "code",
   "execution_count": 43,
   "id": "4168a575",
   "metadata": {},
   "outputs": [
    {
     "data": {
      "text/plain": [
       "(156,)"
      ]
     },
     "execution_count": 43,
     "metadata": {},
     "output_type": "execute_result"
    }
   ],
   "source": [
    "training_set.shape"
   ]
  },
  {
   "cell_type": "code",
   "execution_count": 44,
   "id": "d32119b6",
   "metadata": {},
   "outputs": [],
   "source": [
    "training_set = training_set.reshape(-1,1)\n",
    "from sklearn.preprocessing import MinMaxScaler\n",
    "sc = MinMaxScaler(feature_range = (0, 1))\n",
    "training_set_scaled = sc.fit_transform(training_set)"
   ]
  },
  {
   "cell_type": "code",
   "execution_count": 45,
   "id": "1dd68684",
   "metadata": {},
   "outputs": [
    {
     "data": {
      "text/plain": [
       "(156, 1)"
      ]
     },
     "execution_count": 45,
     "metadata": {},
     "output_type": "execute_result"
    }
   ],
   "source": [
    "training_set.shape"
   ]
  },
  {
   "cell_type": "code",
   "execution_count": 46,
   "id": "6b5465ed",
   "metadata": {},
   "outputs": [
    {
     "data": {
      "text/plain": [
       "array([[0.08653846],\n",
       "       [0.01923077],\n",
       "       [0.20913462],\n",
       "       [0.24759615],\n",
       "       [0.41826923]])"
      ]
     },
     "execution_count": 46,
     "metadata": {},
     "output_type": "execute_result"
    }
   ],
   "source": [
    "training_set_scaled[:5]"
   ]
  },
  {
   "cell_type": "code",
   "execution_count": 47,
   "id": "c36dda7d",
   "metadata": {},
   "outputs": [],
   "source": [
    "timesteps=12\n",
    "trn_size = dataset_train.shape[0]"
   ]
  },
  {
   "cell_type": "code",
   "execution_count": 48,
   "id": "45b41d75",
   "metadata": {},
   "outputs": [
    {
     "data": {
      "text/plain": [
       "156"
      ]
     },
     "execution_count": 48,
     "metadata": {},
     "output_type": "execute_result"
    }
   ],
   "source": [
    "trn_size"
   ]
  },
  {
   "cell_type": "code",
   "execution_count": 49,
   "id": "732771dd",
   "metadata": {},
   "outputs": [],
   "source": [
    "X_train = []\n",
    "y_train = []\n",
    "for i in range(timesteps, trn_size):\n",
    "    X_train.append(training_set_scaled[i-timesteps:i, 0])\n",
    "    y_train.append(training_set_scaled[i, 0])\n",
    "X_train, y_train = np.array(X_train), np.array(y_train)"
   ]
  },
  {
   "cell_type": "code",
   "execution_count": 50,
   "id": "6c722e35",
   "metadata": {},
   "outputs": [
    {
     "data": {
      "text/plain": [
       "(144, 12)"
      ]
     },
     "execution_count": 50,
     "metadata": {},
     "output_type": "execute_result"
    }
   ],
   "source": [
    "X_train.shape"
   ]
  },
  {
   "cell_type": "code",
   "execution_count": 51,
   "id": "516670c9",
   "metadata": {},
   "outputs": [
    {
     "data": {
      "text/plain": [
       "array([[0.08653846, 0.01923077, 0.20913462, 0.24759615, 0.41826923,\n",
       "        0.34615385, 0.20913462, 0.11057692, 0.03605769, 0.05769231,\n",
       "        0.        , 0.06971154]])"
      ]
     },
     "execution_count": 51,
     "metadata": {},
     "output_type": "execute_result"
    }
   ],
   "source": [
    "X_train[:1]"
   ]
  },
  {
   "cell_type": "code",
   "execution_count": 52,
   "id": "f1de9003",
   "metadata": {},
   "outputs": [
    {
     "data": {
      "text/plain": [
       "array([0.11298077])"
      ]
     },
     "execution_count": 52,
     "metadata": {},
     "output_type": "execute_result"
    }
   ],
   "source": [
    "y_train[:1]"
   ]
  },
  {
   "cell_type": "code",
   "execution_count": 53,
   "id": "5d678933",
   "metadata": {},
   "outputs": [],
   "source": [
    "# Reshaping\n",
    "X_train = np.reshape(X_train, (X_train.shape[0], X_train.shape[1], 1))"
   ]
  },
  {
   "cell_type": "code",
   "execution_count": 54,
   "id": "3b866076",
   "metadata": {},
   "outputs": [
    {
     "data": {
      "text/plain": [
       "(144, 12, 1)"
      ]
     },
     "execution_count": 54,
     "metadata": {},
     "output_type": "execute_result"
    }
   ],
   "source": [
    "X_train.shape"
   ]
  },
  {
   "cell_type": "code",
   "execution_count": 55,
   "id": "42a3f9f9",
   "metadata": {},
   "outputs": [],
   "source": [
    "import tensorflow as tf\n",
    "from tensorflow import keras"
   ]
  },
  {
   "cell_type": "code",
   "execution_count": 56,
   "id": "cb88615f",
   "metadata": {},
   "outputs": [
    {
     "data": {
      "text/plain": [
       "(12, 1)"
      ]
     },
     "execution_count": 56,
     "metadata": {},
     "output_type": "execute_result"
    }
   ],
   "source": [
    "(X_train.shape[1],X_train.shape[2])"
   ]
  },
  {
   "cell_type": "code",
   "execution_count": 57,
   "id": "19267c07",
   "metadata": {},
   "outputs": [],
   "source": [
    "tf.random.set_seed(seed=2021)\n",
    "model = keras.Sequential([\n",
    "   tf.keras.layers.LSTM(units=100,return_sequences = True, \n",
    "                            input_shape= (X_train.shape[1],X_train.shape[2]) ),\n",
    "   tf.keras.layers.LSTM(units=70,return_sequences = True ) ,\n",
    "   tf.keras.layers.LSTM(units=50 ) ,\n",
    "   tf.keras.layers.Dense(1)                           \n",
    "])\n",
    "model.compile(optimizer = 'adam', loss = 'mean_squared_error')"
   ]
  },
  {
   "cell_type": "code",
   "execution_count": 58,
   "id": "b55546a1",
   "metadata": {},
   "outputs": [
    {
     "name": "stdout",
     "output_type": "stream",
     "text": [
      "Model: \"sequential_1\"\n",
      "_________________________________________________________________\n",
      " Layer (type)                Output Shape              Param #   \n",
      "=================================================================\n",
      " lstm_3 (LSTM)               (None, 12, 100)           40800     \n",
      "                                                                 \n",
      " lstm_4 (LSTM)               (None, 12, 70)            47880     \n",
      "                                                                 \n",
      " lstm_5 (LSTM)               (None, 50)                24200     \n",
      "                                                                 \n",
      " dense_1 (Dense)             (None, 1)                 51        \n",
      "                                                                 \n",
      "=================================================================\n",
      "Total params: 112,931\n",
      "Trainable params: 112,931\n",
      "Non-trainable params: 0\n",
      "_________________________________________________________________\n"
     ]
    }
   ],
   "source": [
    "model.summary()"
   ]
  },
  {
   "cell_type": "code",
   "execution_count": 59,
   "id": "76dbaba6",
   "metadata": {},
   "outputs": [
    {
     "name": "stdout",
     "output_type": "stream",
     "text": [
      "Epoch 1/50\n",
      "6/6 [==============================] - 31s 67ms/step - loss: 0.2171\n",
      "Epoch 2/50\n",
      "6/6 [==============================] - 0s 67ms/step - loss: 0.0529\n",
      "Epoch 3/50\n",
      "6/6 [==============================] - 0s 56ms/step - loss: 0.0310\n",
      "Epoch 4/50\n",
      "6/6 [==============================] - 0s 56ms/step - loss: 0.0358\n",
      "Epoch 5/50\n",
      "6/6 [==============================] - 0s 56ms/step - loss: 0.0259\n",
      "Epoch 6/50\n",
      "6/6 [==============================] - 0s 56ms/step - loss: 0.0270\n",
      "Epoch 7/50\n",
      "6/6 [==============================] - 0s 56ms/step - loss: 0.0250\n",
      "Epoch 8/50\n",
      "6/6 [==============================] - 0s 56ms/step - loss: 0.0240\n",
      "Epoch 9/50\n",
      "6/6 [==============================] - 0s 56ms/step - loss: 0.0235\n",
      "Epoch 10/50\n",
      "6/6 [==============================] - 0s 59ms/step - loss: 0.0227\n",
      "Epoch 11/50\n",
      "6/6 [==============================] - 0s 63ms/step - loss: 0.0222\n",
      "Epoch 12/50\n",
      "6/6 [==============================] - 0s 56ms/step - loss: 0.0220\n",
      "Epoch 13/50\n",
      "6/6 [==============================] - 0s 56ms/step - loss: 0.0214\n",
      "Epoch 14/50\n",
      "6/6 [==============================] - 0s 58ms/step - loss: 0.0211\n",
      "Epoch 15/50\n",
      "6/6 [==============================] - 0s 57ms/step - loss: 0.0204\n",
      "Epoch 16/50\n",
      "6/6 [==============================] - 0s 56ms/step - loss: 0.0207\n",
      "Epoch 17/50\n",
      "6/6 [==============================] - 0s 56ms/step - loss: 0.0196\n",
      "Epoch 18/50\n",
      "6/6 [==============================] - 0s 57ms/step - loss: 0.0190\n",
      "Epoch 19/50\n",
      "6/6 [==============================] - 0s 56ms/step - loss: 0.0179\n",
      "Epoch 20/50\n",
      "6/6 [==============================] - 0s 56ms/step - loss: 0.0177\n",
      "Epoch 21/50\n",
      "6/6 [==============================] - 0s 56ms/step - loss: 0.0168\n",
      "Epoch 22/50\n",
      "6/6 [==============================] - 0s 56ms/step - loss: 0.0159\n",
      "Epoch 23/50\n",
      "6/6 [==============================] - 0s 56ms/step - loss: 0.0149\n",
      "Epoch 24/50\n",
      "6/6 [==============================] - 0s 57ms/step - loss: 0.0147\n",
      "Epoch 25/50\n",
      "6/6 [==============================] - 0s 56ms/step - loss: 0.0145\n",
      "Epoch 26/50\n",
      "6/6 [==============================] - 0s 56ms/step - loss: 0.0143\n",
      "Epoch 27/50\n",
      "6/6 [==============================] - 0s 56ms/step - loss: 0.0145\n",
      "Epoch 28/50\n",
      "6/6 [==============================] - 1s 82ms/step - loss: 0.0146\n",
      "Epoch 29/50\n",
      "6/6 [==============================] - 0s 62ms/step - loss: 0.0124\n",
      "Epoch 30/50\n",
      "6/6 [==============================] - 0s 58ms/step - loss: 0.0105\n",
      "Epoch 31/50\n",
      "6/6 [==============================] - 0s 68ms/step - loss: 0.0105\n",
      "Epoch 32/50\n",
      "6/6 [==============================] - 0s 56ms/step - loss: 0.0089\n",
      "Epoch 33/50\n",
      "6/6 [==============================] - 0s 56ms/step - loss: 0.0074\n",
      "Epoch 34/50\n",
      "6/6 [==============================] - 0s 56ms/step - loss: 0.0076\n",
      "Epoch 35/50\n",
      "6/6 [==============================] - 0s 56ms/step - loss: 0.0066\n",
      "Epoch 36/50\n",
      "6/6 [==============================] - 0s 57ms/step - loss: 0.0055\n",
      "Epoch 37/50\n",
      "6/6 [==============================] - 0s 57ms/step - loss: 0.0075\n",
      "Epoch 38/50\n",
      "6/6 [==============================] - 0s 56ms/step - loss: 0.0071\n",
      "Epoch 39/50\n",
      "6/6 [==============================] - 0s 56ms/step - loss: 0.0046\n",
      "Epoch 40/50\n",
      "6/6 [==============================] - 0s 56ms/step - loss: 0.0053\n",
      "Epoch 41/50\n",
      "6/6 [==============================] - 0s 57ms/step - loss: 0.0043\n",
      "Epoch 42/50\n",
      "6/6 [==============================] - 0s 57ms/step - loss: 0.0046\n",
      "Epoch 43/50\n",
      "6/6 [==============================] - 0s 57ms/step - loss: 0.0077\n",
      "Epoch 44/50\n",
      "6/6 [==============================] - 0s 57ms/step - loss: 0.0052\n",
      "Epoch 45/50\n",
      "6/6 [==============================] - 0s 57ms/step - loss: 0.0048\n",
      "Epoch 46/50\n",
      "6/6 [==============================] - 0s 56ms/step - loss: 0.0065\n",
      "Epoch 47/50\n",
      "6/6 [==============================] - 0s 59ms/step - loss: 0.0070\n",
      "Epoch 48/50\n",
      "6/6 [==============================] - 0s 57ms/step - loss: 0.0080\n",
      "Epoch 49/50\n",
      "6/6 [==============================] - 0s 56ms/step - loss: 0.0052\n",
      "Epoch 50/50\n",
      "6/6 [==============================] - 0s 58ms/step - loss: 0.0049\n"
     ]
    },
    {
     "data": {
      "text/plain": [
       "<keras.callbacks.History at 0x2070809bc40>"
      ]
     },
     "execution_count": 59,
     "metadata": {},
     "output_type": "execute_result"
    }
   ],
   "source": [
    "model.fit(X_train, y_train, epochs = 50, batch_size = 25)"
   ]
  },
  {
   "cell_type": "code",
   "execution_count": 60,
   "id": "ec23272e",
   "metadata": {},
   "outputs": [
    {
     "data": {
      "text/plain": [
       "(12, 2)"
      ]
     },
     "execution_count": 60,
     "metadata": {},
     "output_type": "execute_result"
    }
   ],
   "source": [
    "dataset_test = dataset_ts.iloc[-12:,:]\n",
    "dataset_test.shape"
   ]
  },
  {
   "cell_type": "code",
   "execution_count": 61,
   "id": "03cc8fa1",
   "metadata": {},
   "outputs": [
    {
     "data": {
      "text/plain": [
       "array([834, 782, 892, 903, 966, 937, 896, 858, 817, 827, 797, 843],\n",
       "      dtype=int64)"
      ]
     },
     "execution_count": 61,
     "metadata": {},
     "output_type": "execute_result"
    }
   ],
   "source": [
    "test_set = dataset_test.iloc[:, 1].values\n",
    "test_set"
   ]
  },
  {
   "cell_type": "code",
   "execution_count": 62,
   "id": "e614d7a9",
   "metadata": {},
   "outputs": [
    {
     "data": {
      "text/plain": [
       "0      589\n",
       "1      561\n",
       "2      640\n",
       "3      656\n",
       "4      727\n",
       "      ... \n",
       "163    858\n",
       "164    817\n",
       "165    827\n",
       "166    797\n",
       "167    843\n",
       "Name: Milk, Length: 168, dtype: int64"
      ]
     },
     "execution_count": 62,
     "metadata": {},
     "output_type": "execute_result"
    }
   ],
   "source": [
    "dataset_total = pd.concat((dataset_train['Milk'], dataset_test['Milk']), axis = 0)\n",
    "dataset_total"
   ]
  },
  {
   "cell_type": "code",
   "execution_count": 63,
   "id": "6d983707",
   "metadata": {},
   "outputs": [
    {
     "data": {
      "text/plain": [
       "24"
      ]
     },
     "execution_count": 63,
     "metadata": {},
     "output_type": "execute_result"
    }
   ],
   "source": [
    "inputs = dataset_total[len(dataset_total) - len(dataset_test) - timesteps:].values\n",
    "inputs = inputs.reshape(-1,1)\n",
    "len(inputs)"
   ]
  },
  {
   "cell_type": "code",
   "execution_count": 64,
   "id": "a6caa9f1",
   "metadata": {},
   "outputs": [
    {
     "data": {
      "text/plain": [
       "(12, 12, 1)"
      ]
     },
     "execution_count": 64,
     "metadata": {},
     "output_type": "execute_result"
    }
   ],
   "source": [
    "inputs = sc.transform(inputs)\n",
    "X_test = []\n",
    "for i in range(timesteps, len(inputs)):\n",
    "    X_test.append(inputs[i-timesteps:i, 0])\n",
    "X_test = np.array(X_test)\n",
    "X_test = np.reshape(X_test, (X_test.shape[0], X_test.shape[1], 1))\n",
    "X_test.shape"
   ]
  },
  {
   "cell_type": "code",
   "execution_count": 65,
   "id": "d93c22d9",
   "metadata": {},
   "outputs": [
    {
     "name": "stdout",
     "output_type": "stream",
     "text": [
      "1/1 [==============================] - 6s 6s/step\n"
     ]
    },
    {
     "data": {
      "text/plain": [
       "array([[0.6085314 ],\n",
       "       [0.6246715 ],\n",
       "       [0.7521448 ],\n",
       "       [0.80520505],\n",
       "       [0.8649386 ],\n",
       "       [0.8476037 ],\n",
       "       [0.79941654],\n",
       "       [0.73081833],\n",
       "       [0.6545519 ],\n",
       "       [0.618601  ],\n",
       "       [0.5778108 ],\n",
       "       [0.61196846]], dtype=float32)"
      ]
     },
     "execution_count": 65,
     "metadata": {},
     "output_type": "execute_result"
    }
   ],
   "source": [
    "predicted_values = model.predict(X_test)\n",
    "predicted_values"
   ]
  },
  {
   "cell_type": "code",
   "execution_count": 66,
   "id": "417eede9",
   "metadata": {},
   "outputs": [
    {
     "data": {
      "text/plain": [
       "(12, 1)"
      ]
     },
     "execution_count": 66,
     "metadata": {},
     "output_type": "execute_result"
    }
   ],
   "source": [
    "predicted_values.shape"
   ]
  },
  {
   "cell_type": "code",
   "execution_count": 67,
   "id": "0ab89b60",
   "metadata": {},
   "outputs": [
    {
     "data": {
      "text/plain": [
       "array([[806.14905],\n",
       "       [812.86334],\n",
       "       [865.8922 ],\n",
       "       [887.96533],\n",
       "       [912.8145 ],\n",
       "       [905.60315],\n",
       "       [885.55725],\n",
       "       [857.0204 ],\n",
       "       [825.2936 ],\n",
       "       [810.338  ],\n",
       "       [793.3693 ],\n",
       "       [807.57886]], dtype=float32)"
      ]
     },
     "execution_count": 67,
     "metadata": {},
     "output_type": "execute_result"
    }
   ],
   "source": [
    "predicted_values = sc.inverse_transform(predicted_values)\n",
    "predicted_values"
   ]
  },
  {
   "cell_type": "code",
   "execution_count": 68,
   "id": "90cd23fa",
   "metadata": {},
   "outputs": [
    {
     "data": {
      "image/png": "[encoded data removed]",
      "text/plain": [
       "<Figure size 640x480 with 1 Axes>"
      ]
     },
     "metadata": {},
     "output_type": "display_data"
    }
   ],
   "source": [
    "%matplotlib inline\n",
    "plt.plot(test_set, color = 'red', label = 'Real Milk Production')\n",
    "plt.plot(predicted_values, color = 'blue', label = 'Predicted Milk Production')\n",
    "plt.title('Milk Production Prediction')\n",
    "plt.xlabel('Time')\n",
    "plt.ylabel('Milk Production')\n",
    "plt.legend()\n",
    "plt.show()"
   ]
  },
  {
   "cell_type": "code",
   "execution_count": 69,
   "id": "d0ba6aea",
   "metadata": {},
   "outputs": [
    {
     "name": "stdout",
     "output_type": "stream",
     "text": [
      "26.100115710506604\n"
     ]
    }
   ],
   "source": [
    "print(np.sqrt(mean_squared_error(predicted_values,test_set)))"
   ]
  },
  {
   "cell_type": "code",
   "execution_count": 70,
   "id": "c16ede55",
   "metadata": {},
   "outputs": [
    {
     "data": {
      "text/plain": [
       "43.36701641476088"
      ]
     },
     "execution_count": 70,
     "metadata": {},
     "output_type": "execute_result"
    }
   ],
   "source": []
  }
 ],
 "metadata": {
  "kernelspec": {
   "display_name": "Python 3 (ipykernel)",
   "language": "python",
   "name": "python3"
  },
  "language_info": {
   "codemirror_mode": {
    "name": "ipython",
    "version": 3
   },
   "file_extension": ".py",
   "mimetype": "text/x-python",
   "name": "python",
   "nbconvert_exporter": "python",
   "pygments_lexer": "ipython3",
   "version": "3.8.18"
  }
 },
 "nbformat": 4,
 "nbformat_minor": 5
}
